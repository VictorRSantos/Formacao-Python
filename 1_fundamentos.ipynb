{
  "nbformat": 4,
  "nbformat_minor": 0,
  "metadata": {
    "colab": {
      "provenance": [],
      "toc_visible": true,
      "authorship_tag": "ABX9TyO6C0txKyVV+5YxF65BSqnf",
      "include_colab_link": true
    },
    "kernelspec": {
      "name": "python3",
      "display_name": "Python 3"
    },
    "language_info": {
      "name": "python"
    }
  },
  "cells": [
    {
      "cell_type": "markdown",
      "metadata": {
        "id": "view-in-github",
        "colab_type": "text"
      },
      "source": [
        "<a href=\"https://colab.research.google.com/github/VictorRSantos/Formacao-Python/blob/main/1_fundamentos.ipynb\" target=\"_parent\"><img src=\"https://colab.research.google.com/assets/colab-badge.svg\" alt=\"Open In Colab\"/></a>"
      ]
    },
    {
      "cell_type": "markdown",
      "source": [
        "# Formação Python"
      ],
      "metadata": {
        "id": "1OVIjAfq153R"
      }
    },
    {
      "cell_type": "markdown",
      "source": [
        "## 1.Fundamentos\n"
      ],
      "metadata": {
        "id": "9hGyTWBM2Hd5"
      }
    },
    {
      "cell_type": "markdown",
      "source": [
        "### Comentários e Método Print"
      ],
      "metadata": {
        "id": "gP-SSWkr4oVQ"
      }
    },
    {
      "cell_type": "code",
      "source": [
        "# isto é um comentário\n",
        "# isto é outro comentário\n",
        "print(\"olá mundo\") # isto é um comentário"
      ],
      "metadata": {
        "colab": {
          "base_uri": "https://localhost:8080/"
        },
        "id": "MoEyij4ey9nN",
        "outputId": "51a578be-d4ed-411f-df7f-cf1bb343e42c"
      },
      "execution_count": null,
      "outputs": [
        {
          "output_type": "stream",
          "name": "stdout",
          "text": [
            "olá mundo\n"
          ]
        }
      ]
    },
    {
      "cell_type": "code",
      "source": [
        "''' Este é um comentário\n",
        "o comentário continua aqui\n",
        "aqui ainda continua\n",
        "e aqui termina '''"
      ],
      "metadata": {
        "colab": {
          "base_uri": "https://localhost:8080/",
          "height": 35
        },
        "id": "0r6sNxqVzVCU",
        "outputId": "e0b00077-731e-457f-9fb4-41a031acf3df"
      },
      "execution_count": null,
      "outputs": [
        {
          "output_type": "execute_result",
          "data": {
            "text/plain": [
              "' Este é um comentário\\no comentário continua aqui\\naqui ainda continua\\ne aqui termina '"
            ],
            "application/vnd.google.colaboratory.intrinsic+json": {
              "type": "string"
            }
          },
          "metadata": {},
          "execution_count": 3
        }
      ]
    },
    {
      "cell_type": "code",
      "source": [
        "print('olá mundo')\n",
        "print(10)\n",
        "print(20.5)"
      ],
      "metadata": {
        "colab": {
          "base_uri": "https://localhost:8080/"
        },
        "id": "AtAMbmBBze2I",
        "outputId": "7675717a-4469-43c6-a2be-54ea3b8af97a"
      },
      "execution_count": null,
      "outputs": [
        {
          "output_type": "stream",
          "name": "stdout",
          "text": [
            "olá mundo\n",
            "10\n",
            "20.5\n"
          ]
        }
      ]
    },
    {
      "cell_type": "code",
      "source": [
        "print(\"Maça\", 20, 30.4)"
      ],
      "metadata": {
        "colab": {
          "base_uri": "https://localhost:8080/"
        },
        "id": "zTTu4cGezspg",
        "outputId": "7f102472-f5a3-4831-d304-5f6ef9ed2bcc"
      },
      "execution_count": null,
      "outputs": [
        {
          "output_type": "stream",
          "name": "stdout",
          "text": [
            "Maça 20 30.4\n"
          ]
        }
      ]
    },
    {
      "cell_type": "code",
      "source": [
        "print(\"Maça\",\"Pera\", \"Uva\", sep= ' - ')"
      ],
      "metadata": {
        "colab": {
          "base_uri": "https://localhost:8080/"
        },
        "id": "8p8drqbbz6LY",
        "outputId": "40da7240-c2f8-4915-cc64-d02349779dd2"
      },
      "execution_count": null,
      "outputs": [
        {
          "output_type": "stream",
          "name": "stdout",
          "text": [
            "Maça - Pera - Uva\n"
          ]
        }
      ]
    },
    {
      "cell_type": "code",
      "source": [
        "print(\"Maça\", \"Pera\", end = \" Fim\")"
      ],
      "metadata": {
        "colab": {
          "base_uri": "https://localhost:8080/"
        },
        "id": "hUJyPmB_0DVV",
        "outputId": "8cade349-2187-419a-b6c7-bc0194828759"
      },
      "execution_count": null,
      "outputs": [
        {
          "output_type": "stream",
          "name": "stdout",
          "text": [
            "Maça Pera Fim"
          ]
        }
      ]
    },
    {
      "cell_type": "code",
      "source": [
        "print(\"Este é um texto longo, \\n eu quero quebrar a linha\")"
      ],
      "metadata": {
        "colab": {
          "base_uri": "https://localhost:8080/"
        },
        "id": "phd14NBk0JbB",
        "outputId": "285826b2-7412-4614-8724-197c9bb5e4b5"
      },
      "execution_count": null,
      "outputs": [
        {
          "output_type": "stream",
          "name": "stdout",
          "text": [
            "Este é um texto longo, \n",
            " eu quero quebrar a linha\n"
          ]
        }
      ]
    },
    {
      "cell_type": "code",
      "source": [
        "print(\"Maça\", \"Pera\", sep = \"\\n\")"
      ],
      "metadata": {
        "colab": {
          "base_uri": "https://localhost:8080/"
        },
        "id": "afjZnIPL0xaZ",
        "outputId": "bb082bcb-4ef2-4ff1-9b83-018d7462925e"
      },
      "execution_count": null,
      "outputs": [
        {
          "output_type": "stream",
          "name": "stdout",
          "text": [
            "Maça\n",
            "Pera\n"
          ]
        }
      ]
    },
    {
      "cell_type": "code",
      "source": [
        "print(\"A pontuação total de %s foi %s pontos\" % (\"Fernando\",\"10\"))"
      ],
      "metadata": {
        "colab": {
          "base_uri": "https://localhost:8080/"
        },
        "id": "lMSLcw2-02VJ",
        "outputId": "9baa676b-8c12-407c-a3ab-3c58d0be4d3b"
      },
      "execution_count": null,
      "outputs": [
        {
          "output_type": "stream",
          "name": "stdout",
          "text": [
            "A pontuação total de Fernando foi 10 pontos\n"
          ]
        }
      ]
    },
    {
      "cell_type": "code",
      "source": [
        "print(\"A pontuação total de {} foi {} pontos\".format(\"Fernando\", \"10\"))"
      ],
      "metadata": {
        "colab": {
          "base_uri": "https://localhost:8080/"
        },
        "id": "bhHjBRia1Gtx",
        "outputId": "6494e0c9-f3cc-4697-c822-cc807e261cd6"
      },
      "execution_count": null,
      "outputs": [
        {
          "output_type": "stream",
          "name": "stdout",
          "text": [
            "A pontuação total de Fernando foi 10 pontos\n"
          ]
        }
      ]
    },
    {
      "cell_type": "code",
      "source": [
        "print(\"A pontuação total de \" + \"Fernando\" + \" foi\" + \" 10 \" + \"pontos\")"
      ],
      "metadata": {
        "colab": {
          "base_uri": "https://localhost:8080/"
        },
        "id": "9eZwwhuo1aj1",
        "outputId": "557baefc-a3dd-4f5d-a6ec-2292c8cddf73"
      },
      "execution_count": null,
      "outputs": [
        {
          "output_type": "stream",
          "name": "stdout",
          "text": [
            "A pontuação total de Fernando foi 10 pontos\n"
          ]
        }
      ]
    },
    {
      "cell_type": "markdown",
      "source": [
        "#### Atividades\n",
        "\n",
        "1 - Realize o print do seu nome completo, sua idade e sua altura utilizando um print para cada valor.\n",
        "\n",
        "2 - Realize o print do seu nome completo, sua idade, e sua altura utilizando apenas um print para todos valores.\n",
        "\n",
        "3 - Realize o print de 3 números de sua escolha em mesmo print, mas separados pelo caractere '-'."
      ],
      "metadata": {
        "id": "JYeCku974vpi"
      }
    },
    {
      "cell_type": "code",
      "source": [
        "# 1 - Realize o print do seu nome completo, sua idade e sua altura utilizando um print para cada valor.\n",
        "print(\"Nome Completo: Goku Santos\")\n",
        "print(\"Idade: 40\")\n",
        "print(\"Altura: 1.91\")"
      ],
      "metadata": {
        "id": "JiMywDdY1zUh",
        "colab": {
          "base_uri": "https://localhost:8080/"
        },
        "outputId": "8ef0c3d8-81c6-4f6d-8353-6aff0c7c8711"
      },
      "execution_count": null,
      "outputs": [
        {
          "output_type": "stream",
          "name": "stdout",
          "text": [
            "Nome Completo: Goku Santos\n",
            "Idade: 40\n",
            "Altura: 1.91\n"
          ]
        }
      ]
    },
    {
      "cell_type": "code",
      "source": [
        "# 2 - Realize o print do seu nome completo, sua idade, e sua altura utilizando apenas um print para todos valores.\n",
        "print(\"Nome Completo: {}, Idade: {}, Altura: {}\".format(\"Goku Santos\", \"40\", 1.91))\n"
      ],
      "metadata": {
        "colab": {
          "base_uri": "https://localhost:8080/"
        },
        "id": "LNOgMLhI6BGK",
        "outputId": "96bfb71c-bcee-4ca9-cb27-e5a25a3ced1d"
      },
      "execution_count": null,
      "outputs": [
        {
          "output_type": "stream",
          "name": "stdout",
          "text": [
            "Nome Completo: Goku Santos, Idade: 40, Altura: 1.91\n"
          ]
        }
      ]
    },
    {
      "cell_type": "code",
      "source": [
        "# 3 - Realize o print de 3 números de sua escolha em mesmo print, mas separados pelo caractere '-'.\n",
        "print(\"03\",\"17\",\"15\", sep = \"-\")"
      ],
      "metadata": {
        "colab": {
          "base_uri": "https://localhost:8080/"
        },
        "id": "iODQ9JqG6p_S",
        "outputId": "7cf4f28d-d8a5-49ec-b443-157b596b1adf"
      },
      "execution_count": null,
      "outputs": [
        {
          "output_type": "stream",
          "name": "stdout",
          "text": [
            "03-17-15\n"
          ]
        }
      ]
    },
    {
      "cell_type": "code",
      "source": [],
      "metadata": {
        "id": "CzBbhH8a69dX"
      },
      "execution_count": null,
      "outputs": []
    },
    {
      "cell_type": "markdown",
      "source": [
        "### Variáveis"
      ],
      "metadata": {
        "id": "q2kGEJln7rHK"
      }
    },
    {
      "cell_type": "code",
      "source": [
        "_numero = 1\n",
        "Numero = 2\n",
        "numero = 3\n",
        "numero123 = 4\n",
        "print(_numero, Numero, numero, numero123)"
      ],
      "metadata": {
        "id": "Uy1lB-sf94zp",
        "outputId": "a90e716d-20f8-4590-9cee-c27eef39eb71",
        "colab": {
          "base_uri": "https://localhost:8080/"
        }
      },
      "execution_count": 1,
      "outputs": [
        {
          "output_type": "stream",
          "name": "stdout",
          "text": [
            "1 2 3 4\n"
          ]
        }
      ]
    },
    {
      "cell_type": "code",
      "source": [
        "numero = 10\n",
        "print(numero)\n",
        "numero = 20\n",
        "print(numero)"
      ],
      "metadata": {
        "id": "sidAs8eO-aEG",
        "outputId": "153ef43d-c8cc-4777-9db6-01cd85fe045f",
        "colab": {
          "base_uri": "https://localhost:8080/"
        }
      },
      "execution_count": 2,
      "outputs": [
        {
          "output_type": "stream",
          "name": "stdout",
          "text": [
            "10\n",
            "20\n"
          ]
        }
      ]
    },
    {
      "cell_type": "code",
      "source": [
        "texto = 'Olá mundo'\n",
        "print(texto)"
      ],
      "metadata": {
        "id": "J1bK9BX6-iFp",
        "outputId": "96416a75-2aa1-4620-81c2-87683299732a",
        "colab": {
          "base_uri": "https://localhost:8080/"
        }
      },
      "execution_count": 3,
      "outputs": [
        {
          "output_type": "stream",
          "name": "stdout",
          "text": [
            "Olá mundo\n"
          ]
        }
      ]
    },
    {
      "cell_type": "markdown",
      "source": [
        "### Tipos Primitivos"
      ],
      "metadata": {
        "id": "z9Hmdt4D-ygO"
      }
    },
    {
      "cell_type": "code",
      "source": [
        "variavel = None\n",
        "print(variavel)"
      ],
      "metadata": {
        "id": "ZZu1pdTi-pjN",
        "outputId": "f06de850-8fde-4a57-f7d7-bb9d544446c9",
        "colab": {
          "base_uri": "https://localhost:8080/"
        }
      },
      "execution_count": 4,
      "outputs": [
        {
          "output_type": "stream",
          "name": "stdout",
          "text": [
            "None\n"
          ]
        }
      ]
    },
    {
      "cell_type": "code",
      "source": [
        "inteiro = 10\n",
        "print(inteiro)"
      ],
      "metadata": {
        "id": "kU_5S7Oa-6Kd",
        "outputId": "ef4bb46b-7dde-4f60-bf95-73c954339a5c",
        "colab": {
          "base_uri": "https://localhost:8080/"
        }
      },
      "execution_count": 5,
      "outputs": [
        {
          "output_type": "stream",
          "name": "stdout",
          "text": [
            "10\n"
          ]
        }
      ]
    },
    {
      "cell_type": "code",
      "source": [
        "decimal = 1.53\n",
        "print(decimal)"
      ],
      "metadata": {
        "id": "ffCVpxPr-_XC",
        "outputId": "c6cc0151-50ba-460f-ad31-3bde755bd451",
        "colab": {
          "base_uri": "https://localhost:8080/"
        }
      },
      "execution_count": 6,
      "outputs": [
        {
          "output_type": "stream",
          "name": "stdout",
          "text": [
            "1.53\n"
          ]
        }
      ]
    },
    {
      "cell_type": "code",
      "source": [
        "texto = \"olá, isto é um texto\"\n",
        "print(texto)"
      ],
      "metadata": {
        "id": "Z77TXCEa_COl",
        "outputId": "07a864d6-37a6-47c2-8f56-fcdc6b1104ca",
        "colab": {
          "base_uri": "https://localhost:8080/"
        }
      },
      "execution_count": 8,
      "outputs": [
        {
          "output_type": "stream",
          "name": "stdout",
          "text": [
            "olá, isto é um texto\n"
          ]
        }
      ]
    },
    {
      "cell_type": "code",
      "source": [
        "var = True\n",
        "print(var)\n",
        "var = False\n",
        "print(var)"
      ],
      "metadata": {
        "id": "Wp8XbgS8_Jva",
        "outputId": "741e2b0f-ea38-4fc6-9997-34c6b594fe45",
        "colab": {
          "base_uri": "https://localhost:8080/"
        }
      },
      "execution_count": 9,
      "outputs": [
        {
          "output_type": "stream",
          "name": "stdout",
          "text": [
            "True\n",
            "False\n"
          ]
        }
      ]
    },
    {
      "cell_type": "code",
      "source": [
        "var1 = 10\n",
        "var2 = var1\n",
        "print(var2)"
      ],
      "metadata": {
        "id": "SSmKUUuS_P6O",
        "outputId": "05d941cc-060d-438a-cb83-afcaffdc5a6b",
        "colab": {
          "base_uri": "https://localhost:8080/"
        }
      },
      "execution_count": 10,
      "outputs": [
        {
          "output_type": "stream",
          "name": "stdout",
          "text": [
            "10\n"
          ]
        }
      ]
    },
    {
      "cell_type": "code",
      "source": [
        "var = None\n",
        "print(var)\n",
        "var = 1\n",
        "print(var)\n",
        "var = \"Texto\"\n",
        "print(var)"
      ],
      "metadata": {
        "id": "ZKbem6zD_W8C",
        "outputId": "4aaad673-a412-4a47-82d3-26c02378b8cb",
        "colab": {
          "base_uri": "https://localhost:8080/"
        }
      },
      "execution_count": 12,
      "outputs": [
        {
          "output_type": "stream",
          "name": "stdout",
          "text": [
            "None\n",
            "1\n",
            "Texto\n"
          ]
        }
      ]
    },
    {
      "cell_type": "code",
      "source": [
        "saldoBancario = 100 # Pascal Case\n",
        "SaldoBancario = 100 # Camel Case\n",
        "saldo_bancario = 100 # Snake Case"
      ],
      "metadata": {
        "id": "z1LzKc-t_iMe"
      },
      "execution_count": 13,
      "outputs": []
    },
    {
      "cell_type": "markdown",
      "source": [
        "#### Atividades\n",
        "1 - Crie uma variável de cada tipo e ponha algum valor escolhido. Em seguida, printe todos esses valores.\n",
        "\n",
        "2 - Crie variáves para guardar seu nome, cpf e uma que indique se você está casado, em seguida printe esses valores separadamente, mas não esqueça de printar junto o que eles significam."
      ],
      "metadata": {
        "id": "gN5jrrdf_6XA"
      }
    },
    {
      "cell_type": "code",
      "source": [
        "# 1 - Crie uma variável de cada tipo e ponha algum valor escolhido. Em seguida, printe todos esses valores.\n",
        "inteiro = 10\n",
        "decimal = 9.87\n",
        "boolean = True\n",
        "string = 'Texto'\n",
        "print(inteiro)\n",
        "print(decimal)\n",
        "print(boolean)\n",
        "print(string)"
      ],
      "metadata": {
        "id": "aqk3Z4i__3BH",
        "outputId": "c02d7e35-53df-4d70-afde-108b0e8c4f09",
        "colab": {
          "base_uri": "https://localhost:8080/"
        }
      },
      "execution_count": 14,
      "outputs": [
        {
          "output_type": "stream",
          "name": "stdout",
          "text": [
            "10\n",
            "9.87\n",
            "True\n",
            "Texto\n"
          ]
        }
      ]
    },
    {
      "cell_type": "code",
      "source": [
        "# 2 - Crie variáves para guardar seu nome, cpf e uma que indique se você está casado,\n",
        "# em seguida printe esses valores separadamente, mas não esqueça de printar junto o que eles significam.\n",
        "nome = 'Silva Sauro'\n",
        "cpf = '444.333.455-55'\n",
        "casado = True\n",
        "print(nome)\n",
        "print(cpf)\n",
        "print(casado)\n",
        "\n",
        "print(\"\\nNome:\", nome)\n",
        "print(\"CPF:\", cpf)\n",
        "print(\"Casado:\", casado)\n",
        "\n",
        "\n"
      ],
      "metadata": {
        "id": "H481HM-LBRSz",
        "outputId": "e3879fd0-da14-4f73-998d-063025d55d76",
        "colab": {
          "base_uri": "https://localhost:8080/"
        }
      },
      "execution_count": 18,
      "outputs": [
        {
          "output_type": "stream",
          "name": "stdout",
          "text": [
            "Silva Sauro\n",
            "444.333.455-55\n",
            "True\n",
            "\n",
            "Nome: Silva Sauro\n",
            "CPF: 444.333.455-55\n",
            "Casado: True\n"
          ]
        }
      ]
    },
    {
      "cell_type": "markdown",
      "source": [
        "### Formatação\n",
        "\n",
        "%s - Texto\n",
        "\n",
        "%d - inteiro\n",
        "\n",
        "%f - real"
      ],
      "metadata": {
        "id": "KtCcO9R8B0ij"
      }
    },
    {
      "cell_type": "code",
      "source": [
        "nome = \"Carolina\"\n",
        "texto_formatado = \"O nome dela é %s \" % (nome)\n",
        "print(texto_formatado)"
      ],
      "metadata": {
        "id": "QSGp0X4pBkQP",
        "outputId": "a4736ce9-49b7-4206-afb2-155fb4d68bfa",
        "colab": {
          "base_uri": "https://localhost:8080/"
        }
      },
      "execution_count": 19,
      "outputs": [
        {
          "output_type": "stream",
          "name": "stdout",
          "text": [
            "O nome dela é Carolina \n"
          ]
        }
      ]
    },
    {
      "cell_type": "code",
      "source": [
        "nome = \"Rodrigo\"\n",
        "idade = 23\n",
        "altura = 1.73\n",
        "texto = \"Meu nome é %s. tenho %d anos e tenho %f metros de altura\" % (nome, idade, altura)\n",
        "print(texto)\n"
      ],
      "metadata": {
        "id": "Mf9h6XhCCPnI",
        "outputId": "0e17ddf9-8f60-404e-c86c-ccc4da0e6447",
        "colab": {
          "base_uri": "https://localhost:8080/"
        }
      },
      "execution_count": 20,
      "outputs": [
        {
          "output_type": "stream",
          "name": "stdout",
          "text": [
            "Meu nome é Rodrigo. tenho 23 anos e tenho 1.730000 metros de altura\n"
          ]
        }
      ]
    },
    {
      "cell_type": "code",
      "source": [
        "numero_gigante = 1.123456789\n",
        "print(\"Número gigante formatado: %.2f\" % (numero_gigante))"
      ],
      "metadata": {
        "id": "etyzOMq1Cz_B",
        "outputId": "f5e3c6e9-47aa-461b-c9a9-cac75a2e3812",
        "colab": {
          "base_uri": "https://localhost:8080/"
        }
      },
      "execution_count": 21,
      "outputs": [
        {
          "output_type": "stream",
          "name": "stdout",
          "text": [
            "Número gigante formatado: 1.12\n"
          ]
        }
      ]
    },
    {
      "cell_type": "code",
      "source": [
        "valor = True\n",
        "print(\"Valor é %s\" % (valor))\n",
        "print(\"Valor é %d\" % (valor))"
      ],
      "metadata": {
        "id": "bTqwrBOBDJBU",
        "outputId": "ef728fb6-d064-4125-9112-b033ac234145",
        "colab": {
          "base_uri": "https://localhost:8080/"
        }
      },
      "execution_count": 23,
      "outputs": [
        {
          "output_type": "stream",
          "name": "stdout",
          "text": [
            "Valor é True\n",
            "Valor é 1\n"
          ]
        }
      ]
    },
    {
      "cell_type": "code",
      "source": [
        "decimal = 23.4566\n",
        "print(\"A parte inteira é %d\" % (decimal))"
      ],
      "metadata": {
        "id": "rpYBOQGrDdU5",
        "outputId": "86ed1ce7-ba43-48a0-b031-af3354eb12dd",
        "colab": {
          "base_uri": "https://localhost:8080/"
        }
      },
      "execution_count": 24,
      "outputs": [
        {
          "output_type": "stream",
          "name": "stdout",
          "text": [
            "A parte inteira é 23\n"
          ]
        }
      ]
    },
    {
      "cell_type": "markdown",
      "source": [
        "### Formatação com Caracteres Especiais\n"
      ],
      "metadata": {
        "id": "r_-QnLTnD5kX"
      }
    },
    {
      "cell_type": "code",
      "source": [
        "texto = \"Olá, assim que se quebra uma linha, \\n\\tentendeu como quebra a linha?\\n\\t\\tfim\"\n",
        "print(texto)"
      ],
      "metadata": {
        "id": "xspyj9O-DwUk",
        "outputId": "495005f0-b6e2-4744-b915-bb2fc6859bf4",
        "colab": {
          "base_uri": "https://localhost:8080/"
        }
      },
      "execution_count": 28,
      "outputs": [
        {
          "output_type": "stream",
          "name": "stdout",
          "text": [
            "Olá, assim que se quebra uma linha, \n",
            "\tentendeu como quebra a linha?\n",
            "\t\tfim\n"
          ]
        }
      ]
    },
    {
      "cell_type": "code",
      "source": [
        "texto = 'Deixa a \\'palavra\\' entre aspas'\n",
        "print(texto)"
      ],
      "metadata": {
        "id": "A6SIPG0GEmwO",
        "outputId": "3103af4b-d714-4ba2-8055-82705ade900e",
        "colab": {
          "base_uri": "https://localhost:8080/"
        }
      },
      "execution_count": 29,
      "outputs": [
        {
          "output_type": "stream",
          "name": "stdout",
          "text": [
            "Deixa a 'palavra' entre aspas\n"
          ]
        }
      ]
    },
    {
      "cell_type": "markdown",
      "source": [
        "#### Atividades\n",
        "1 - Escreva e formate a data em que você nasceu no formato dia/mês/ano. Não esqueça de criar 3 variáveis para guardar o dia, mês e ano.\n",
        "Exemplo Saida:\n",
        "Eu Nasci em xx/x/xxxx\n",
        "\n",
        "2 - Escreva e formate a hora e minuto atual. Não esqueça de criar duas variáveis para guardar a hora é minuto.\n",
        "Exemplo Saida:\n",
        "Agora são 22 horas e 37 minutos\n",
        "\n",
        "3 - Escreva um programa que contêm o número PI, que deve ter o valor exato de 3.14159265359. Agora formate esse número para ter apenas cinco casas decimais.\n",
        "Exemplo Saída:\n",
        "O PI é 3.14159"
      ],
      "metadata": {
        "id": "hixPs2d-Fie2"
      }
    },
    {
      "cell_type": "code",
      "source": [
        "# 1 - Escreva e formate a data em que você nasceu no formato dia/mês/ano. Não esqueça de criar 3 variáveis para guardar o dia, mês e ano.\n",
        "dia, mes, ano = 10, 5, 1995\n",
        "data_nascimento = 'Eu nasci em %d/%d/%d' % (dia, mes, ano)\n",
        "print(data_nascimento)"
      ],
      "metadata": {
        "id": "3VtLVQN5FQIf",
        "outputId": "cbba1fc2-b5bb-41e1-9264-8493a30c6ea3",
        "colab": {
          "base_uri": "https://localhost:8080/"
        }
      },
      "execution_count": 41,
      "outputs": [
        {
          "output_type": "stream",
          "name": "stdout",
          "text": [
            "Eu nasci em 10/5/1995\n"
          ]
        }
      ]
    },
    {
      "cell_type": "code",
      "source": [
        "# 2 - Escreva e formate a hora e minuto atual. Não esqueça de criar duas variáveis para guardar a hora é minuto.\n",
        "hora, minutos = 22, 57\n",
        "hora_atual = \"Agora são %d horas e %d minutos\" % (hora, minutos)\n",
        "print(hora_atual)"
      ],
      "metadata": {
        "id": "ZAiwT-_SGqms",
        "outputId": "9a53d797-6484-4d28-a902-0d76801d641e",
        "colab": {
          "base_uri": "https://localhost:8080/"
        }
      },
      "execution_count": 42,
      "outputs": [
        {
          "output_type": "stream",
          "name": "stdout",
          "text": [
            "Agora são 22 horas e 57 minutos\n"
          ]
        }
      ]
    },
    {
      "cell_type": "code",
      "source": [
        "# 3 - Escreva um programa que contêm o número PI, que deve ter o valor exato de 3.14159265359. Agora formate esse número para ter apenas cinco casas decimais.\n",
        "pi = 3.14159265359\n",
        "pi_formatado = \"O PI é normalmente exibido com %.5f\" % (pi)\n",
        "print(pi_formatado)"
      ],
      "metadata": {
        "id": "8KjE8XfRIBrV",
        "outputId": "9467cfa4-de5b-47e9-f3c6-0bb155d50d87",
        "colab": {
          "base_uri": "https://localhost:8080/"
        }
      },
      "execution_count": 43,
      "outputs": [
        {
          "output_type": "stream",
          "name": "stdout",
          "text": [
            "O PI é normalmente exibido com 3.14159\n"
          ]
        }
      ]
    },
    {
      "cell_type": "code",
      "source": [],
      "metadata": {
        "id": "kUrPBee_Iu-R"
      },
      "execution_count": null,
      "outputs": []
    }
  ]
}