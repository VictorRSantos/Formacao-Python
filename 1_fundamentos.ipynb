{
  "nbformat": 4,
  "nbformat_minor": 0,
  "metadata": {
    "colab": {
      "provenance": [],
      "toc_visible": true,
      "collapsed_sections": [
        "JYeCku974vpi",
        "xU0v7G2Yi6EL",
        "OeaXWqOQrs2G",
        "mXw7mtRXiNBA"
      ],
      "authorship_tag": "ABX9TyPMAkbdvohPXSv0uPqm6qEv",
      "include_colab_link": true
    },
    "kernelspec": {
      "name": "python3",
      "display_name": "Python 3"
    },
    "language_info": {
      "name": "python"
    }
  },
  "cells": [
    {
      "cell_type": "markdown",
      "metadata": {
        "id": "view-in-github",
        "colab_type": "text"
      },
      "source": [
        "<a href=\"https://colab.research.google.com/github/VictorRSantos/Formacao-Python/blob/main/1_fundamentos.ipynb\" target=\"_parent\"><img src=\"https://colab.research.google.com/assets/colab-badge.svg\" alt=\"Open In Colab\"/></a>"
      ]
    },
    {
      "cell_type": "markdown",
      "source": [
        "# Formação Python"
      ],
      "metadata": {
        "id": "1OVIjAfq153R"
      }
    },
    {
      "cell_type": "markdown",
      "source": [
        "## 1.Fundamentos\n"
      ],
      "metadata": {
        "id": "9hGyTWBM2Hd5"
      }
    },
    {
      "cell_type": "markdown",
      "source": [
        "### Comentários e Método Print"
      ],
      "metadata": {
        "id": "gP-SSWkr4oVQ"
      }
    },
    {
      "cell_type": "code",
      "source": [
        "# isto é um comentário\n",
        "# isto é outro comentário\n",
        "print(\"olá mundo\") # isto é um comentário"
      ],
      "metadata": {
        "colab": {
          "base_uri": "https://localhost:8080/"
        },
        "id": "MoEyij4ey9nN",
        "outputId": "51a578be-d4ed-411f-df7f-cf1bb343e42c"
      },
      "execution_count": null,
      "outputs": [
        {
          "output_type": "stream",
          "name": "stdout",
          "text": [
            "olá mundo\n"
          ]
        }
      ]
    },
    {
      "cell_type": "code",
      "source": [
        "''' Este é um comentário\n",
        "o comentário continua aqui\n",
        "aqui ainda continua\n",
        "e aqui termina '''"
      ],
      "metadata": {
        "colab": {
          "base_uri": "https://localhost:8080/",
          "height": 35
        },
        "id": "0r6sNxqVzVCU",
        "outputId": "e0b00077-731e-457f-9fb4-41a031acf3df"
      },
      "execution_count": null,
      "outputs": [
        {
          "output_type": "execute_result",
          "data": {
            "text/plain": [
              "' Este é um comentário\\no comentário continua aqui\\naqui ainda continua\\ne aqui termina '"
            ],
            "application/vnd.google.colaboratory.intrinsic+json": {
              "type": "string"
            }
          },
          "metadata": {},
          "execution_count": 3
        }
      ]
    },
    {
      "cell_type": "code",
      "source": [
        "print('olá mundo')\n",
        "print(10)\n",
        "print(20.5)"
      ],
      "metadata": {
        "colab": {
          "base_uri": "https://localhost:8080/"
        },
        "id": "AtAMbmBBze2I",
        "outputId": "7675717a-4469-43c6-a2be-54ea3b8af97a"
      },
      "execution_count": null,
      "outputs": [
        {
          "output_type": "stream",
          "name": "stdout",
          "text": [
            "olá mundo\n",
            "10\n",
            "20.5\n"
          ]
        }
      ]
    },
    {
      "cell_type": "code",
      "source": [
        "print(\"Maça\", 20, 30.4)"
      ],
      "metadata": {
        "colab": {
          "base_uri": "https://localhost:8080/"
        },
        "id": "zTTu4cGezspg",
        "outputId": "7f102472-f5a3-4831-d304-5f6ef9ed2bcc"
      },
      "execution_count": null,
      "outputs": [
        {
          "output_type": "stream",
          "name": "stdout",
          "text": [
            "Maça 20 30.4\n"
          ]
        }
      ]
    },
    {
      "cell_type": "code",
      "source": [
        "print(\"Maça\",\"Pera\", \"Uva\", sep= ' - ')"
      ],
      "metadata": {
        "colab": {
          "base_uri": "https://localhost:8080/"
        },
        "id": "8p8drqbbz6LY",
        "outputId": "40da7240-c2f8-4915-cc64-d02349779dd2"
      },
      "execution_count": null,
      "outputs": [
        {
          "output_type": "stream",
          "name": "stdout",
          "text": [
            "Maça - Pera - Uva\n"
          ]
        }
      ]
    },
    {
      "cell_type": "code",
      "source": [
        "print(\"Maça\", \"Pera\", end = \" Fim\")"
      ],
      "metadata": {
        "colab": {
          "base_uri": "https://localhost:8080/"
        },
        "id": "hUJyPmB_0DVV",
        "outputId": "8cade349-2187-419a-b6c7-bc0194828759"
      },
      "execution_count": null,
      "outputs": [
        {
          "output_type": "stream",
          "name": "stdout",
          "text": [
            "Maça Pera Fim"
          ]
        }
      ]
    },
    {
      "cell_type": "code",
      "source": [
        "print(\"Este é um texto longo, \\n eu quero quebrar a linha\")"
      ],
      "metadata": {
        "colab": {
          "base_uri": "https://localhost:8080/"
        },
        "id": "phd14NBk0JbB",
        "outputId": "285826b2-7412-4614-8724-197c9bb5e4b5"
      },
      "execution_count": null,
      "outputs": [
        {
          "output_type": "stream",
          "name": "stdout",
          "text": [
            "Este é um texto longo, \n",
            " eu quero quebrar a linha\n"
          ]
        }
      ]
    },
    {
      "cell_type": "code",
      "source": [
        "print(\"Maça\", \"Pera\", sep = \"\\n\")"
      ],
      "metadata": {
        "colab": {
          "base_uri": "https://localhost:8080/"
        },
        "id": "afjZnIPL0xaZ",
        "outputId": "bb082bcb-4ef2-4ff1-9b83-018d7462925e"
      },
      "execution_count": null,
      "outputs": [
        {
          "output_type": "stream",
          "name": "stdout",
          "text": [
            "Maça\n",
            "Pera\n"
          ]
        }
      ]
    },
    {
      "cell_type": "code",
      "source": [
        "print(\"A pontuação total de %s foi %s pontos\" % (\"Fernando\",\"10\"))"
      ],
      "metadata": {
        "colab": {
          "base_uri": "https://localhost:8080/"
        },
        "id": "lMSLcw2-02VJ",
        "outputId": "9baa676b-8c12-407c-a3ab-3c58d0be4d3b"
      },
      "execution_count": null,
      "outputs": [
        {
          "output_type": "stream",
          "name": "stdout",
          "text": [
            "A pontuação total de Fernando foi 10 pontos\n"
          ]
        }
      ]
    },
    {
      "cell_type": "code",
      "source": [
        "print(\"A pontuação total de {} foi {} pontos\".format(\"Fernando\", \"10\"))"
      ],
      "metadata": {
        "colab": {
          "base_uri": "https://localhost:8080/"
        },
        "id": "bhHjBRia1Gtx",
        "outputId": "6494e0c9-f3cc-4697-c822-cc807e261cd6"
      },
      "execution_count": null,
      "outputs": [
        {
          "output_type": "stream",
          "name": "stdout",
          "text": [
            "A pontuação total de Fernando foi 10 pontos\n"
          ]
        }
      ]
    },
    {
      "cell_type": "code",
      "source": [
        "print(\"A pontuação total de \" + \"Fernando\" + \" foi\" + \" 10 \" + \"pontos\")"
      ],
      "metadata": {
        "colab": {
          "base_uri": "https://localhost:8080/"
        },
        "id": "9eZwwhuo1aj1",
        "outputId": "557baefc-a3dd-4f5d-a6ec-2292c8cddf73"
      },
      "execution_count": null,
      "outputs": [
        {
          "output_type": "stream",
          "name": "stdout",
          "text": [
            "A pontuação total de Fernando foi 10 pontos\n"
          ]
        }
      ]
    },
    {
      "cell_type": "markdown",
      "source": [
        "### Atividades\n",
        "\n",
        "1 - Realize o print do seu nome completo, sua idade e sua altura utilizando um print para cada valor.\n",
        "\n",
        "2 - Realize o print do seu nome completo, sua idade, e sua altura utilizando apenas um print para todos valores.\n",
        "\n",
        "3 - Realize o print de 3 números de sua escolha em mesmo print, mas separados pelo caractere '-'."
      ],
      "metadata": {
        "id": "JYeCku974vpi"
      }
    },
    {
      "cell_type": "code",
      "source": [
        "# 1 - Realize o print do seu nome completo, sua idade e sua altura utilizando um print para cada valor.\n",
        "print(\"Nome Completo: Goku Santos\")\n",
        "print(\"Idade: 40\")\n",
        "print(\"Altura: 1.91\")"
      ],
      "metadata": {
        "id": "JiMywDdY1zUh",
        "colab": {
          "base_uri": "https://localhost:8080/"
        },
        "outputId": "8ef0c3d8-81c6-4f6d-8353-6aff0c7c8711"
      },
      "execution_count": null,
      "outputs": [
        {
          "output_type": "stream",
          "name": "stdout",
          "text": [
            "Nome Completo: Goku Santos\n",
            "Idade: 40\n",
            "Altura: 1.91\n"
          ]
        }
      ]
    },
    {
      "cell_type": "code",
      "source": [
        "# 2 - Realize o print do seu nome completo, sua idade, e sua altura utilizando apenas um print para todos valores.\n",
        "print(\"Nome Completo: {}, Idade: {}, Altura: {}\".format(\"Goku Santos\", \"40\", 1.91))\n"
      ],
      "metadata": {
        "colab": {
          "base_uri": "https://localhost:8080/"
        },
        "id": "LNOgMLhI6BGK",
        "outputId": "96bfb71c-bcee-4ca9-cb27-e5a25a3ced1d"
      },
      "execution_count": null,
      "outputs": [
        {
          "output_type": "stream",
          "name": "stdout",
          "text": [
            "Nome Completo: Goku Santos, Idade: 40, Altura: 1.91\n"
          ]
        }
      ]
    },
    {
      "cell_type": "code",
      "source": [
        "# 3 - Realize o print de 3 números de sua escolha em mesmo print, mas separados pelo caractere '-'.\n",
        "print(\"03\",\"17\",\"15\", sep = \"-\")"
      ],
      "metadata": {
        "colab": {
          "base_uri": "https://localhost:8080/"
        },
        "id": "iODQ9JqG6p_S",
        "outputId": "7cf4f28d-d8a5-49ec-b443-157b596b1adf"
      },
      "execution_count": null,
      "outputs": [
        {
          "output_type": "stream",
          "name": "stdout",
          "text": [
            "03-17-15\n"
          ]
        }
      ]
    },
    {
      "cell_type": "markdown",
      "source": [
        "### Variáveis\n"
      ],
      "metadata": {
        "id": "xU0v7G2Yi6EL"
      }
    },
    {
      "cell_type": "code",
      "source": [
        "_numero = 1\n",
        "Numero = 2\n",
        "numero = 3\n",
        "numero123 = 4\n",
        "\n",
        "print(_numero, Numero, numero, numero123)"
      ],
      "metadata": {
        "id": "CzBbhH8a69dX",
        "colab": {
          "base_uri": "https://localhost:8080/"
        },
        "outputId": "242cbc9e-e3ec-4e14-f72e-d29516bb160b"
      },
      "execution_count": null,
      "outputs": [
        {
          "output_type": "stream",
          "name": "stdout",
          "text": [
            "1 2 3 4\n"
          ]
        }
      ]
    },
    {
      "cell_type": "code",
      "source": [
        "numero = 10\n",
        "print(numero)\n",
        "numero =20\n",
        "print(numero)"
      ],
      "metadata": {
        "colab": {
          "base_uri": "https://localhost:8080/"
        },
        "id": "24Yzkjpdlkoq",
        "outputId": "40e92567-e828-4eaf-b31d-eaa23c48d830"
      },
      "execution_count": null,
      "outputs": [
        {
          "output_type": "stream",
          "name": "stdout",
          "text": [
            "10\n",
            "20\n"
          ]
        }
      ]
    },
    {
      "cell_type": "code",
      "source": [
        "texto = 'Olá mundo!'\n",
        "print(texto)"
      ],
      "metadata": {
        "colab": {
          "base_uri": "https://localhost:8080/"
        },
        "id": "w-gti5nYl11x",
        "outputId": "1b756717-efc7-4068-8a0d-83619c8a821b"
      },
      "execution_count": null,
      "outputs": [
        {
          "output_type": "stream",
          "name": "stdout",
          "text": [
            "Olá mundo!\n"
          ]
        }
      ]
    },
    {
      "cell_type": "markdown",
      "source": [
        "### Tipos Primitivos\n"
      ],
      "metadata": {
        "id": "dJzCuR_SmQF0"
      }
    },
    {
      "cell_type": "code",
      "source": [
        "variavel = None\n",
        "print(variavel)"
      ],
      "metadata": {
        "colab": {
          "base_uri": "https://localhost:8080/"
        },
        "id": "N-YSCxl4mJMf",
        "outputId": "f1b05558-9386-4661-b3ef-bb01c4120317"
      },
      "execution_count": null,
      "outputs": [
        {
          "output_type": "stream",
          "name": "stdout",
          "text": [
            "None\n"
          ]
        }
      ]
    },
    {
      "cell_type": "code",
      "source": [
        "inteiro = 10\n",
        "print(inteiro)"
      ],
      "metadata": {
        "colab": {
          "base_uri": "https://localhost:8080/"
        },
        "id": "XvJPRxqpmk-m",
        "outputId": "b0354728-b1ab-4207-94f2-221e78259671"
      },
      "execution_count": null,
      "outputs": [
        {
          "output_type": "stream",
          "name": "stdout",
          "text": [
            "10\n"
          ]
        }
      ]
    },
    {
      "cell_type": "code",
      "source": [
        "decimal = 1.53\n",
        "print(decimal)"
      ],
      "metadata": {
        "colab": {
          "base_uri": "https://localhost:8080/"
        },
        "id": "vrClHED6mqOq",
        "outputId": "af277bb9-4a58-459d-8b47-53676c0c7c33"
      },
      "execution_count": null,
      "outputs": [
        {
          "output_type": "stream",
          "name": "stdout",
          "text": [
            "1.53\n"
          ]
        }
      ]
    },
    {
      "cell_type": "code",
      "source": [
        "texto = \"Olá, isto é um texto\"\n",
        "print(texto)"
      ],
      "metadata": {
        "colab": {
          "base_uri": "https://localhost:8080/"
        },
        "id": "JgAfQTRbmuA2",
        "outputId": "488248cd-2284-4c14-d163-80f793a37e89"
      },
      "execution_count": null,
      "outputs": [
        {
          "output_type": "stream",
          "name": "stdout",
          "text": [
            "Olá, isto é um texto\n"
          ]
        }
      ]
    },
    {
      "cell_type": "code",
      "source": [
        "var = True\n",
        "print(var)\n",
        "var = False\n",
        "print(var)"
      ],
      "metadata": {
        "colab": {
          "base_uri": "https://localhost:8080/"
        },
        "id": "rGKx-kf6m0zS",
        "outputId": "e073c604-f881-4acf-dcc3-ae3feed8ce0c"
      },
      "execution_count": null,
      "outputs": [
        {
          "output_type": "stream",
          "name": "stdout",
          "text": [
            "True\n",
            "False\n"
          ]
        }
      ]
    },
    {
      "cell_type": "code",
      "source": [
        "var1 = 10\n",
        "var2 = var1\n",
        "print(var2)"
      ],
      "metadata": {
        "colab": {
          "base_uri": "https://localhost:8080/"
        },
        "id": "UaAPzLaRm-RW",
        "outputId": "dedb6dc5-0129-49ee-b383-501e94865e2f"
      },
      "execution_count": null,
      "outputs": [
        {
          "output_type": "stream",
          "name": "stdout",
          "text": [
            "10\n"
          ]
        }
      ]
    },
    {
      "cell_type": "code",
      "source": [
        "var = None\n",
        "print(var)\n",
        "var = 1\n",
        "print(var)\n",
        "var = \"Texto\"\n",
        "print(var)"
      ],
      "metadata": {
        "colab": {
          "base_uri": "https://localhost:8080/"
        },
        "id": "LukF3LupnGtK",
        "outputId": "e8242572-7668-45b2-f909-89a26048cba2"
      },
      "execution_count": null,
      "outputs": [
        {
          "output_type": "stream",
          "name": "stdout",
          "text": [
            "None\n",
            "1\n",
            "Texto\n"
          ]
        }
      ]
    },
    {
      "cell_type": "code",
      "source": [
        "saldoBancario = 100 # Pascal Case\n",
        "SaldoBancario = 100 # Camel Case\n",
        "saldo_bancario = 100 # Snake case"
      ],
      "metadata": {
        "id": "BZqxTQienK3f"
      },
      "execution_count": null,
      "outputs": []
    },
    {
      "cell_type": "markdown",
      "source": [
        "### Atividades\n",
        "\n",
        "1 - Crie uma variável de cada tipo e ponha algum valor escolhido. Em seguida, printe todos esses valores\n",
        "\n",
        "2 - Crie variáveis para guardar seu nome, CPF e uma que indique se você está casado, em seguida printe esses valores separadamente, mas não esqueça de printar junto o que eles significam."
      ],
      "metadata": {
        "id": "pYPSUfP_oOSS"
      }
    },
    {
      "cell_type": "code",
      "source": [
        "# 1 - Crie uma variável de cada tipo e ponha algum valor escolhido. Em seguida, printe todos esses valores\n",
        "inteiro = 10\n",
        "decimal = 3.1415\n",
        "texto = 'Texto'\n",
        "logico = True\n",
        "\n",
        "print(\"Inteiro:{}, Decimal:{}, Texto:{}, Logico:{}\".format(inteiro, decimal, texto, logico))"
      ],
      "metadata": {
        "colab": {
          "base_uri": "https://localhost:8080/"
        },
        "id": "5v3tbbXQoR4s",
        "outputId": "26caa3de-3491-4161-cd44-d8181ee3c44c"
      },
      "execution_count": null,
      "outputs": [
        {
          "output_type": "stream",
          "name": "stdout",
          "text": [
            "Inteiro:10, Decimal:3.1415, Texto:Texto, Logico:True\n"
          ]
        }
      ]
    },
    {
      "cell_type": "code",
      "source": [
        "# 2 - Crie variáveis para guardar seu nome, CPF e uma que indique se você está casado, em seguida printe esses valores separadamente,\n",
        "# mas não esqueça de printar junto o que eles significam.\n",
        "nome_completo = \"Teste de Python da Silva\"\n",
        "print(nome_completo)\n",
        "cpf = \"222.333.444-55\"\n",
        "print(cpf)\n",
        "casado = True\n",
        "print(casado)\n",
        "\n",
        "print(\"\\n\\nNome Completo:{}\\nCPF:{}\\ncasado:{}\".format(nome_completo, cpf, casado))\n"
      ],
      "metadata": {
        "colab": {
          "base_uri": "https://localhost:8080/"
        },
        "id": "zizWK9X9pego",
        "outputId": "dc9cd25d-99cf-40b6-dcec-7cbe0e2e4696"
      },
      "execution_count": null,
      "outputs": [
        {
          "output_type": "stream",
          "name": "stdout",
          "text": [
            "Teste de Python da Silva\n",
            "222.333.444-55\n",
            "True\n",
            "\n",
            "\n",
            "Nome Completo:Teste de Python da Silva\n",
            "CPF:222.333.444-55\n",
            "casado:True\n"
          ]
        }
      ]
    },
    {
      "cell_type": "markdown",
      "source": [
        "### Formatação\n",
        "%s - texto\n",
        "\n",
        "%d - inteiro\n",
        "\n",
        "%f - real"
      ],
      "metadata": {
        "id": "OeaXWqOQrs2G"
      }
    },
    {
      "cell_type": "code",
      "source": [
        "nome = \"Carolina\"\n",
        "texto_formatado = \"O nome dela é %s \" % (nome)\n",
        "\n",
        "print(texto_formatado)"
      ],
      "metadata": {
        "colab": {
          "base_uri": "https://localhost:8080/"
        },
        "id": "1swIufZ8qO8q",
        "outputId": "591577a6-48f4-479b-a93b-9cce48c856d8"
      },
      "execution_count": null,
      "outputs": [
        {
          "output_type": "stream",
          "name": "stdout",
          "text": [
            "O nome dela é Carolina \n"
          ]
        }
      ]
    },
    {
      "cell_type": "code",
      "source": [
        "nome = \"Rodrigo\"\n",
        "idade = 23\n",
        "altura = 1.73\n",
        "texto = \"Meu nome é %s. tenho %d anos e tenho %f metros de altura\" % (nome, idade, altura)\n",
        "print(texto)"
      ],
      "metadata": {
        "colab": {
          "base_uri": "https://localhost:8080/"
        },
        "id": "2c_rbN04sese",
        "outputId": "f1118c9a-7204-43b7-cf14-ba05ef9c00d9"
      },
      "execution_count": null,
      "outputs": [
        {
          "output_type": "stream",
          "name": "stdout",
          "text": [
            "Meu nome é Rodrigo. tenho 23 anos e tenho 1.730000 metros de altura\n"
          ]
        }
      ]
    },
    {
      "cell_type": "code",
      "source": [
        "numero_gigante = 1.123456789\n",
        "print(\"Número gigante formatado: %.2f\" % (numero_gigante))"
      ],
      "metadata": {
        "colab": {
          "base_uri": "https://localhost:8080/"
        },
        "id": "ucuWn_b6sf2u",
        "outputId": "87e2a93b-0bd2-4cf4-dfe0-6ad7f84fe57f"
      },
      "execution_count": null,
      "outputs": [
        {
          "output_type": "stream",
          "name": "stdout",
          "text": [
            "Número gigante formatado: 1.12\n"
          ]
        }
      ]
    },
    {
      "cell_type": "code",
      "source": [
        "valor = True\n",
        "print(\"Valor é %s\" % (valor))\n",
        "print(\"Valor é %d\" % (valor))"
      ],
      "metadata": {
        "colab": {
          "base_uri": "https://localhost:8080/"
        },
        "id": "sOZBJSTGsok-",
        "outputId": "c4241e23-3c96-476d-ae3e-0643d5cec283"
      },
      "execution_count": null,
      "outputs": [
        {
          "output_type": "stream",
          "name": "stdout",
          "text": [
            "Valor é True\n",
            "Valor é 1\n"
          ]
        }
      ]
    },
    {
      "cell_type": "code",
      "source": [
        "decimal = 23.4566\n",
        "print(\"A parte inteira é %d\" % (decimal))"
      ],
      "metadata": {
        "colab": {
          "base_uri": "https://localhost:8080/"
        },
        "id": "7lvSQDY3srsQ",
        "outputId": "e11561e7-9dc9-4561-83d5-3e2d86918dc8"
      },
      "execution_count": null,
      "outputs": [
        {
          "output_type": "stream",
          "name": "stdout",
          "text": [
            "A parte inteira é 23\n"
          ]
        }
      ]
    },
    {
      "cell_type": "markdown",
      "source": [
        "### Formatação com Caracteres Especiais"
      ],
      "metadata": {
        "id": "inUCXFsYsvOh"
      }
    },
    {
      "cell_type": "code",
      "source": [
        "texto = \"Olá, assim que se quebra uma linha, \\n\\tentendeu como quebra a linha?\\n\\t\\tfim\"\n",
        "print(texto)"
      ],
      "metadata": {
        "colab": {
          "base_uri": "https://localhost:8080/"
        },
        "id": "UM4XU7UNsyq6",
        "outputId": "44467db0-0b12-4c2d-ab97-307e42447f81"
      },
      "execution_count": null,
      "outputs": [
        {
          "output_type": "stream",
          "name": "stdout",
          "text": [
            "Olá, assim que se quebra uma linha, \n",
            "\tentendeu como quebra a linha?\n",
            "\t\tfim\n"
          ]
        }
      ]
    },
    {
      "cell_type": "code",
      "source": [
        "texto = 'Deixa a \\'palavra\\' entre aspas'\n",
        "print(texto)"
      ],
      "metadata": {
        "colab": {
          "base_uri": "https://localhost:8080/"
        },
        "id": "6gMTK6uBs7Wt",
        "outputId": "d56b49c2-5bfa-4d5a-8a31-98c0938819d1"
      },
      "execution_count": null,
      "outputs": [
        {
          "output_type": "stream",
          "name": "stdout",
          "text": [
            "Deixa a 'palavra' entre aspas\n"
          ]
        }
      ]
    },
    {
      "cell_type": "markdown",
      "source": [
        "### Atividades\n",
        "1 - Escreva e formate a data em que você nasceu no formato dia/mês/ano. Não esqueça de criar 3 variáveis para guardar o dia, mês e ano. Exemplo Saida: Eu Nasci em xx/x/xxxx\n",
        "\n",
        "2 - Escreva e formate a hora e minuto atual. Não esqueça de criar duas variáveis para guardar a hora é minuto. Exemplo Saida: Agora são 22 horas e 37 minutos\n",
        "\n",
        "3 - Escreva um programa que contêm o número PI, que deve ter o valor exato de 3.14159265359. Agora formate esse número para ter apenas cinco casas decimais. Exemplo Saída: O PI é 3.14159"
      ],
      "metadata": {
        "id": "1W4t2vbCs-06"
      }
    },
    {
      "cell_type": "code",
      "source": [
        "# 1 - Escreva e formate a data em que você nasceu no formato dia/mês/ano. Não esqueça de criar 3 variáveis para guardar o dia, mês e ano.\n",
        "dia, mes, ano = 10, 5, 1995\n",
        "data_nascimento = 'Eu nasci em %d/%d/%d' % (dia, mes, ano)\n",
        "print(data_nascimento)"
      ],
      "metadata": {
        "colab": {
          "base_uri": "https://localhost:8080/"
        },
        "id": "b2-DdkfttE3N",
        "outputId": "198e1918-ddf2-46d2-b2cb-9dc6b5cec273"
      },
      "execution_count": null,
      "outputs": [
        {
          "output_type": "stream",
          "name": "stdout",
          "text": [
            "Eu nasci em 10/5/1995\n"
          ]
        }
      ]
    },
    {
      "cell_type": "code",
      "source": [
        "# 2 - Escreva e formate a hora e minuto atual. Não esqueça de criar duas variáveis para guardar a hora é minuto.\n",
        "hora, minutos = 22, 57\n",
        "hora_atual = \"Agora são %d horas e %d minutos\" % (hora, minutos)\n",
        "print(hora_atual)"
      ],
      "metadata": {
        "colab": {
          "base_uri": "https://localhost:8080/"
        },
        "id": "zDLkmskEtGKQ",
        "outputId": "8233dce9-8734-4d8c-f69d-3e495bcbfc9b"
      },
      "execution_count": null,
      "outputs": [
        {
          "output_type": "stream",
          "name": "stdout",
          "text": [
            "Agora são 22 horas e 57 minutos\n"
          ]
        }
      ]
    },
    {
      "cell_type": "code",
      "source": [
        "# 3 - Escreva um programa que contêm o número PI, que deve ter o valor exato de 3.14159265359. Agora formate esse número para ter apenas cinco casas decimais.\n",
        "pi = 3.14159265359\n",
        "pi_formatado = \"O PI é normalmente exibido com %.5f\" % (pi)\n",
        "print(pi_formatado)"
      ],
      "metadata": {
        "colab": {
          "base_uri": "https://localhost:8080/"
        },
        "id": "OzAaJpxMtGeP",
        "outputId": "d1545350-ad45-4533-cff9-83fa3817950b"
      },
      "execution_count": null,
      "outputs": [
        {
          "output_type": "stream",
          "name": "stdout",
          "text": [
            "O PI é normalmente exibido com 3.14159\n"
          ]
        }
      ]
    },
    {
      "cell_type": "markdown",
      "source": [
        "### Operádores Aritméticos"
      ],
      "metadata": {
        "id": "mXw7mtRXiNBA"
      }
    },
    {
      "cell_type": "code",
      "source": [
        "print(10 + 20)"
      ],
      "metadata": {
        "id": "aElCEadxsec4",
        "colab": {
          "base_uri": "https://localhost:8080/"
        },
        "outputId": "d62251c0-7237-4a59-f2f4-564330cd0718"
      },
      "execution_count": null,
      "outputs": [
        {
          "output_type": "stream",
          "name": "stdout",
          "text": [
            "30\n"
          ]
        }
      ]
    },
    {
      "cell_type": "code",
      "source": [
        "numero = 10 + 10.5\n",
        "print(numero)"
      ],
      "metadata": {
        "colab": {
          "base_uri": "https://localhost:8080/"
        },
        "id": "eep36h-_inqd",
        "outputId": "51c880bc-aad3-489c-97b7-51cc53a92654"
      },
      "execution_count": null,
      "outputs": [
        {
          "output_type": "stream",
          "name": "stdout",
          "text": [
            "20.5\n"
          ]
        }
      ]
    },
    {
      "cell_type": "code",
      "source": [
        "outro_numero = 30 + numero\n",
        "print(outro_numero)"
      ],
      "metadata": {
        "colab": {
          "base_uri": "https://localhost:8080/"
        },
        "id": "EVN9HZSpisnH",
        "outputId": "eb0a5db3-1849-4686-8d6a-8cfe4f8581a7"
      },
      "execution_count": null,
      "outputs": [
        {
          "output_type": "stream",
          "name": "stdout",
          "text": [
            "50.5\n"
          ]
        }
      ]
    },
    {
      "cell_type": "code",
      "source": [
        "numero = 20 - 10\n",
        "print(numero)\n"
      ],
      "metadata": {
        "colab": {
          "base_uri": "https://localhost:8080/"
        },
        "id": "mEYYP7Nlix00",
        "outputId": "b4e09c9e-6cb2-49e8-8b3c-8976ece927f7"
      },
      "execution_count": null,
      "outputs": [
        {
          "output_type": "stream",
          "name": "stdout",
          "text": [
            "10\n"
          ]
        }
      ]
    },
    {
      "cell_type": "code",
      "source": [
        "numero = 10 * 2\n",
        "print(numero)"
      ],
      "metadata": {
        "colab": {
          "base_uri": "https://localhost:8080/"
        },
        "id": "DETvMzNWi2oP",
        "outputId": "0f24e328-f114-42d5-ee8c-963cb5fe81a7"
      },
      "execution_count": null,
      "outputs": [
        {
          "output_type": "stream",
          "name": "stdout",
          "text": [
            "20\n"
          ]
        }
      ]
    },
    {
      "cell_type": "code",
      "source": [
        "numero = 10 / 3\n",
        "print(numero)"
      ],
      "metadata": {
        "colab": {
          "base_uri": "https://localhost:8080/"
        },
        "id": "5yMfrPwSi6c3",
        "outputId": "e934dbec-e2fb-4d9e-cf99-c0a8253fa6a0"
      },
      "execution_count": null,
      "outputs": [
        {
          "output_type": "stream",
          "name": "stdout",
          "text": [
            "3.3333333333333335\n"
          ]
        }
      ]
    },
    {
      "cell_type": "code",
      "source": [
        "numero = 10 // 3\n",
        "print(numero)"
      ],
      "metadata": {
        "colab": {
          "base_uri": "https://localhost:8080/"
        },
        "id": "SJLvCbl9i-Sj",
        "outputId": "465bbfcb-9235-48b5-f21a-f385df22b8dd"
      },
      "execution_count": null,
      "outputs": [
        {
          "output_type": "stream",
          "name": "stdout",
          "text": [
            "3\n"
          ]
        }
      ]
    },
    {
      "cell_type": "code",
      "source": [
        "numero = 2 ** 4\n",
        "print(numero)"
      ],
      "metadata": {
        "colab": {
          "base_uri": "https://localhost:8080/"
        },
        "id": "VGwRPux5jK-7",
        "outputId": "1fed4a34-73fa-472a-8feb-c7ea29531d9f"
      },
      "execution_count": null,
      "outputs": [
        {
          "output_type": "stream",
          "name": "stdout",
          "text": [
            "16\n"
          ]
        }
      ]
    },
    {
      "cell_type": "code",
      "source": [
        "numero = 4 % 3\n",
        "print(numero)"
      ],
      "metadata": {
        "colab": {
          "base_uri": "https://localhost:8080/"
        },
        "id": "oLkflWoQjSN7",
        "outputId": "53048941-6e96-4cf1-f97f-24d810b2804d"
      },
      "execution_count": null,
      "outputs": [
        {
          "output_type": "stream",
          "name": "stdout",
          "text": [
            "1\n"
          ]
        }
      ]
    },
    {
      "cell_type": "markdown",
      "source": [
        "### Exemplo de ordem de prioridade"
      ],
      "metadata": {
        "id": "Mq5iqO1tj8jg"
      }
    },
    {
      "cell_type": "code",
      "source": [
        "numero1 = 10 * 2 + 1\n",
        "print(numero1)"
      ],
      "metadata": {
        "colab": {
          "base_uri": "https://localhost:8080/"
        },
        "id": "5CnRU2ncjbY3",
        "outputId": "8f12b4b1-90a7-46b0-d379-3fe15357ae61"
      },
      "execution_count": null,
      "outputs": [
        {
          "output_type": "stream",
          "name": "stdout",
          "text": [
            "21\n"
          ]
        }
      ]
    },
    {
      "cell_type": "code",
      "source": [
        "numero1 = 10 * (2 + 1)\n",
        "print(numero1)"
      ],
      "metadata": {
        "colab": {
          "base_uri": "https://localhost:8080/"
        },
        "id": "gvAXmHe_kK0f",
        "outputId": "729c3e6f-2cff-4a55-b9ea-3f467dedaa0f"
      },
      "execution_count": null,
      "outputs": [
        {
          "output_type": "stream",
          "name": "stdout",
          "text": [
            "30\n"
          ]
        }
      ]
    },
    {
      "cell_type": "code",
      "source": [
        "numero1 = 3 * 3 - 9\n",
        "print(numero1)"
      ],
      "metadata": {
        "colab": {
          "base_uri": "https://localhost:8080/"
        },
        "id": "I7HOdSrvkPem",
        "outputId": "b161bd33-40d8-40d4-9a80-b91225601f87"
      },
      "execution_count": null,
      "outputs": [
        {
          "output_type": "stream",
          "name": "stdout",
          "text": [
            "0\n"
          ]
        }
      ]
    },
    {
      "cell_type": "code",
      "source": [
        "numero1 = 3 * (3 - 9)\n",
        "print(numero1)"
      ],
      "metadata": {
        "colab": {
          "base_uri": "https://localhost:8080/"
        },
        "id": "1gJDYxEDkZe6",
        "outputId": "ac0c0d75-1e21-4265-f115-0e30cb0f57b0"
      },
      "execution_count": null,
      "outputs": [
        {
          "output_type": "stream",
          "name": "stdout",
          "text": [
            "-18\n"
          ]
        }
      ]
    },
    {
      "cell_type": "code",
      "source": [
        "nume1 = 20\n",
        "nume2 = 40\n",
        "nume3 = 60\n",
        "resultado = nume1 + nume2 + nume3\n",
        "print(resultado)"
      ],
      "metadata": {
        "colab": {
          "base_uri": "https://localhost:8080/"
        },
        "id": "38-pBbTgkdsH",
        "outputId": "59d2a99c-5894-4f17-b101-6c7bc6ab1940"
      },
      "execution_count": null,
      "outputs": [
        {
          "output_type": "stream",
          "name": "stdout",
          "text": [
            "120\n"
          ]
        }
      ]
    },
    {
      "cell_type": "code",
      "source": [
        "resultado = resultado * 2\n",
        "print(resultado)"
      ],
      "metadata": {
        "colab": {
          "base_uri": "https://localhost:8080/"
        },
        "id": "okobWwYDkuAL",
        "outputId": "43577aef-7c93-4f0d-a249-abd1db12abd1"
      },
      "execution_count": null,
      "outputs": [
        {
          "output_type": "stream",
          "name": "stdout",
          "text": [
            "240\n"
          ]
        }
      ]
    },
    {
      "cell_type": "code",
      "source": [
        "a = 1\n",
        "a += 1\n",
        "print(a)"
      ],
      "metadata": {
        "colab": {
          "base_uri": "https://localhost:8080/"
        },
        "id": "FmgfvZuUkxeH",
        "outputId": "d411e59b-c040-4a10-b6f0-23ddbb33d65a"
      },
      "execution_count": null,
      "outputs": [
        {
          "output_type": "stream",
          "name": "stdout",
          "text": [
            "2\n"
          ]
        }
      ]
    },
    {
      "cell_type": "markdown",
      "source": [
        "### Atividades\n",
        "1 - Crie um programa que possui duas variáveis, uma recebe o ano em que estamos e a outra o ano em que você nasceu. Em seguida subtraia ambas para receber uma estimativa de quantos anos você tem. Mostre esse valor na saída do programa.\n",
        "\n",
        "2 - Crie um programa que faz a média aritmética entre três números. Estes números devem ser salvo em uma variável. Mostre esse valor na saída do programa.\n",
        "\n",
        "3 - Crie um programa que calcule o IMC (índice de massa corporal).\n",
        "O IMC é dado pelo peso em KG divido pela altura em metros elevado ao quadrado. Salvar esses valores em uma variável. Mostre esse valor na saída do programa.\n",
        "\n",
        "4 - (Desafio) - Você tem um determinado números de ovos de páscoa para dividir entre um determinado número de pessoas (duas variáveis iniciais). Determine quantos ovos ficarao por pessoa e quantos ovos sobrarao pois não puderam ser divido igualmente. Lembre o número de ovos por pessoa é um número inteiro."
      ],
      "metadata": {
        "id": "4r9f0Ru-lBjg"
      }
    },
    {
      "cell_type": "code",
      "source": [
        "# 1 - Crie um programa que possui duas variáveis, uma recebe o ano em que estamos e a outra o ano em que você nasceu.\n",
        "# Em seguida subtraia ambas para receber uma estimativa de quantos anos você tem. Mostre esse valor na saída do programa.\n",
        "\n",
        "ano_atual = 2023\n",
        "ano_nascimento = 1983\n",
        "idade = ano_atual - ano_nascimento\n",
        "print(\"Sua idade é %d\" % (idade))\n"
      ],
      "metadata": {
        "colab": {
          "base_uri": "https://localhost:8080/"
        },
        "id": "AqmbFKc-k5z3",
        "outputId": "171cb246-19a7-44e0-dbd8-3a38c008be72"
      },
      "execution_count": null,
      "outputs": [
        {
          "output_type": "stream",
          "name": "stdout",
          "text": [
            "Sua idade é 40\n"
          ]
        }
      ]
    },
    {
      "cell_type": "code",
      "source": [
        "# 2 - Crie um programa que faz a média aritmética entre três números.\n",
        "# Estes números devem ser salvo em uma variável. Mostre esse valor na saída do programa.\n",
        "\n",
        "numero1 = 5\n",
        "numero2 = 8\n",
        "numero3 = 10\n",
        "media = (numero1 + numero2 + numero3) / 3\n",
        "print(\"Média aritmética é %.2f\" % (media))"
      ],
      "metadata": {
        "colab": {
          "base_uri": "https://localhost:8080/"
        },
        "id": "_-Q_5NHblkUk",
        "outputId": "23983e06-f40e-4241-b617-69dfc3fc2914"
      },
      "execution_count": null,
      "outputs": [
        {
          "output_type": "stream",
          "name": "stdout",
          "text": [
            "Média aritmética é 7.67\n"
          ]
        }
      ]
    },
    {
      "cell_type": "code",
      "source": [
        "# 3 - Crie um programa que calcule o IMC (índice de massa corporal).\n",
        "# O IMC é dado pelo peso em KG divido pela altura em metros elevado ao quadrado.\n",
        "# Salvar esses valores em uma variável. Mostre esse valor na saída do programa.\n",
        "\n",
        "peso = 144\n",
        "altura = 1.91\n",
        "imc = peso // altura ** 2\n",
        "print('Seu IMC é %.2f' % (imc))"
      ],
      "metadata": {
        "colab": {
          "base_uri": "https://localhost:8080/"
        },
        "id": "g9Uc68TRmn7X",
        "outputId": "c9c8e67c-28e7-4067-fb37-b0bd346acf77"
      },
      "execution_count": null,
      "outputs": [
        {
          "output_type": "stream",
          "name": "stdout",
          "text": [
            "Seu IMC é 39.00\n"
          ]
        }
      ]
    },
    {
      "cell_type": "code",
      "source": [
        "# 4 - (Desafio) Você tem um determinado números de ovos de páscoa para dividir entre um determinado número de pessoas (duas variáveis iniciais).\n",
        "# Determine quantos ovos ficarao por pessoa e quantos ovos sobrarao pois não puderam ser divido igualmente.\n",
        "# Lembre o número de ovos por pessoa é um número inteiro.\n",
        "\n",
        "quantidade_ovos = 56\n",
        "quantidade_pessoas = 3\n",
        "print(\"Tenho inicialmente %d ovos para %d pessoas\" % (quantidade_ovos, quantidade_pessoas))\n",
        "\n",
        "total_ovos_por_pessoa =  quantidade_ovos // quantidade_pessoas\n",
        "sobraram_total_ovos = quantidade_ovos % quantidade_pessoas\n",
        "\n",
        "print(\"Cada uma das %d pessoas terá %d ovo(s) \" % (quantidade_pessoas, total_ovos_por_pessoa))\n",
        "print(\"Restou %d ovo(s) que não puderam ser divididos\" % (sobraram_total_ovos))\n"
      ],
      "metadata": {
        "colab": {
          "base_uri": "https://localhost:8080/"
        },
        "id": "eiKVY4GknlCD",
        "outputId": "fe71945b-41ac-4082-8de0-f362a803d681"
      },
      "execution_count": null,
      "outputs": [
        {
          "output_type": "stream",
          "name": "stdout",
          "text": [
            "Tenho inicialmente 56 ovos para 3 pessoas\n",
            "Cada uma das 3 pessoas terá 18 ovo(s) \n",
            "Restou 2 ovo(s) que não puderam ser divididos\n"
          ]
        }
      ]
    },
    {
      "cell_type": "markdown",
      "source": [
        "### Operadores Lógicos\n"
      ],
      "metadata": {
        "id": "L01CNa7A9sJp"
      }
    },
    {
      "cell_type": "code",
      "source": [
        "resultado1 = True and False\n",
        "print(resultado1)"
      ],
      "metadata": {
        "id": "zhi8yEfmpVF3",
        "outputId": "0d1f1d8b-5591-4e55-a6d9-3fc36da5a7cd",
        "colab": {
          "base_uri": "https://localhost:8080/"
        }
      },
      "execution_count": 1,
      "outputs": [
        {
          "output_type": "stream",
          "name": "stdout",
          "text": [
            "False\n"
          ]
        }
      ]
    },
    {
      "cell_type": "code",
      "source": [
        "resultado2 = True and True\n",
        "print(resultado1)"
      ],
      "metadata": {
        "id": "bue8i9mX-j1Y",
        "outputId": "6ba5d3e6-04a6-487b-c76d-8d69bbd14d8b",
        "colab": {
          "base_uri": "https://localhost:8080/"
        }
      },
      "execution_count": 2,
      "outputs": [
        {
          "output_type": "stream",
          "name": "stdout",
          "text": [
            "False\n"
          ]
        }
      ]
    },
    {
      "cell_type": "code",
      "source": [
        "var1 = True\n",
        "var2 = False\n",
        "var3 = False\n",
        "print(var1 and var2 and var3)"
      ],
      "metadata": {
        "id": "fmmtqsIn-soj",
        "outputId": "35dccffe-c863-4f97-f9ba-6c9289a4e409",
        "colab": {
          "base_uri": "https://localhost:8080/"
        }
      },
      "execution_count": 3,
      "outputs": [
        {
          "output_type": "stream",
          "name": "stdout",
          "text": [
            "False\n"
          ]
        }
      ]
    },
    {
      "cell_type": "code",
      "source": [
        "clima_bom = True\n",
        "estou_disposto = True\n",
        "vou_ao_mercado = clima_bom and estou_disposto\n",
        "print(\"Vou ao mercado? \", vou_ao_mercado)"
      ],
      "metadata": {
        "id": "pxH4GMlP-0a0",
        "outputId": "877f07d7-bbfb-4b3d-8d6e-c59917895c67",
        "colab": {
          "base_uri": "https://localhost:8080/"
        }
      },
      "execution_count": 5,
      "outputs": [
        {
          "output_type": "stream",
          "name": "stdout",
          "text": [
            "Vou ao mercado?  True\n"
          ]
        }
      ]
    },
    {
      "cell_type": "code",
      "source": [
        "resultado = True or False\n",
        "print(resultado)"
      ],
      "metadata": {
        "id": "gUd2nsHQ_Kfn",
        "outputId": "f0c0b1c4-baae-47cf-fd48-ff1fbac9a405",
        "colab": {
          "base_uri": "https://localhost:8080/"
        }
      },
      "execution_count": 6,
      "outputs": [
        {
          "output_type": "stream",
          "name": "stdout",
          "text": [
            "True\n"
          ]
        }
      ]
    },
    {
      "cell_type": "code",
      "source": [
        "resultado = True or True\n",
        "print(resultado)"
      ],
      "metadata": {
        "id": "dA35_YGD_e8D",
        "outputId": "728e83c4-0ab1-460a-cdf9-8da181a2ad8d",
        "colab": {
          "base_uri": "https://localhost:8080/"
        }
      },
      "execution_count": 7,
      "outputs": [
        {
          "output_type": "stream",
          "name": "stdout",
          "text": [
            "True\n"
          ]
        }
      ]
    },
    {
      "cell_type": "code",
      "source": [
        "resultado = False or False\n",
        "print(resultado)"
      ],
      "metadata": {
        "id": "rTnYOwlf_gmb",
        "outputId": "08d21a61-ee65-4ecc-b3c0-714aad240f08",
        "colab": {
          "base_uri": "https://localhost:8080/"
        }
      },
      "execution_count": 8,
      "outputs": [
        {
          "output_type": "stream",
          "name": "stdout",
          "text": [
            "False\n"
          ]
        }
      ]
    },
    {
      "cell_type": "code",
      "source": [
        "sei_programar = True\n",
        "sei_investir = True\n",
        "ganho_bom_salario = sei_programar or sei_investir\n",
        "print(\"Terei um bom salário? \", ganho_bom_salario)"
      ],
      "metadata": {
        "id": "YDrgwN4y_kSv",
        "outputId": "b2e73794-3528-4146-981a-771fe30ff3a9",
        "colab": {
          "base_uri": "https://localhost:8080/"
        }
      },
      "execution_count": 9,
      "outputs": [
        {
          "output_type": "stream",
          "name": "stdout",
          "text": [
            "Terei um bom salário?  True\n"
          ]
        }
      ]
    },
    {
      "cell_type": "code",
      "source": [
        "resultado = True\n",
        "print(not resultado)"
      ],
      "metadata": {
        "id": "TinLQtyg_0gf",
        "outputId": "6ded7440-5e86-490d-e378-6535922bda51",
        "colab": {
          "base_uri": "https://localhost:8080/"
        }
      },
      "execution_count": 10,
      "outputs": [
        {
          "output_type": "stream",
          "name": "stdout",
          "text": [
            "False\n"
          ]
        }
      ]
    },
    {
      "cell_type": "code",
      "source": [
        "resultado = False\n",
        "print(not resultado)"
      ],
      "metadata": {
        "id": "FulJBecY_9qi",
        "outputId": "cc4179ed-0e23-49c7-ee4b-d35cec309851",
        "colab": {
          "base_uri": "https://localhost:8080/"
        }
      },
      "execution_count": 11,
      "outputs": [
        {
          "output_type": "stream",
          "name": "stdout",
          "text": [
            "True\n"
          ]
        }
      ]
    },
    {
      "cell_type": "code",
      "source": [
        "porta_aberta = True\n",
        "tem_chave = False\n",
        "print(\"Estou tracando? \", not porta_aberta and not tem_chave)"
      ],
      "metadata": {
        "id": "SX5MKMgNAABG",
        "outputId": "26888565-ece5-4512-a703-c4e8636c2466",
        "colab": {
          "base_uri": "https://localhost:8080/"
        }
      },
      "execution_count": 13,
      "outputs": [
        {
          "output_type": "stream",
          "name": "stdout",
          "text": [
            "Estou tracando?  False\n"
          ]
        }
      ]
    },
    {
      "cell_type": "code",
      "source": [
        "# Prioridade\n",
        "# NOT, AND, OR\n",
        "\n",
        "bool1 = True or False and True\n",
        "print(bool1)\n",
        "\n",
        "bool2 = True or not False\n",
        "print(bool2)\n",
        "\n",
        "bool3 = True and not (True or False)\n",
        "print(bool3)"
      ],
      "metadata": {
        "id": "5cq2m-rrAUCk",
        "outputId": "00f0c6c9-9b6a-4193-bd46-3d46e371bfe7",
        "colab": {
          "base_uri": "https://localhost:8080/"
        }
      },
      "execution_count": 16,
      "outputs": [
        {
          "output_type": "stream",
          "name": "stdout",
          "text": [
            "True\n",
            "True\n",
            "False\n"
          ]
        }
      ]
    },
    {
      "cell_type": "markdown",
      "source": [
        "### Atividades\n",
        "\n",
        "1.   Crie um programa que diga \"se você precisa ir ao mercado\". Você precisa ir ao mercado se \"faltar comida\" ou \"se for sábado\". Mostre na saída do programa o valor lógico, indicando sim ou não.\n",
        "2.   Crie um programa que responda \"se você pode atravessar a rua\" na faixa de pedestres. Você pode atravessar a rua se o \"sinal estiver vermelho\" e \"se não houver nenhum carro vindo da direita\" E \"nem da esquerda\". Altere as variáveis para verificar se o programa esta correto. Mostre na saída do programa o valor lógico.\n",
        "3.   Agora faça a mesma coisa que o exercício anterior, mas desta vez você está com pressa e para atravessar a rua basta que o sinal esteja vermelho \"OU\" que não venha carro da esquerda e direita. Altere as variáveis para verificar a resposta em comparação com ao exercício anterior. Mostre na saída do programa o valor lógico.\n",
        "\n",
        "\n"
      ],
      "metadata": {
        "id": "qRYLIuVVBSC_"
      }
    },
    {
      "cell_type": "code",
      "source": [
        "# 1. Crie um programa que diga \"se você precisa ir ao mercado\".\n",
        "# Você precisa ir ao mercado se \"faltar comida\" ou \"se for sábado\".\n",
        "# Mostre na saída do programa o valor lógico, indicando sim ou não.\n",
        "falta_comida = True\n",
        "sabado = False\n",
        "vou_ao_mercado = falta_comida or sabado\n",
        "print(\"Preciso ir ao mercado? \", vou_ao_mercado)"
      ],
      "metadata": {
        "id": "qA7v-_x0AsrI",
        "outputId": "d31f1406-f53a-44cb-a90b-92f45fbdd1ef",
        "colab": {
          "base_uri": "https://localhost:8080/"
        }
      },
      "execution_count": 25,
      "outputs": [
        {
          "output_type": "stream",
          "name": "stdout",
          "text": [
            "Preciso ir ao mercado?  True\n"
          ]
        }
      ]
    },
    {
      "cell_type": "code",
      "source": [
        "# 2. Crie um programa que responda \"se você pode atravessar a rua\" na faixa de pedestres.\n",
        "# Você pode atravessar a rua se o \"sinal estiver vermelho\" e \"se não houver nenhum carro vindo da direita\" e \"nem da esquerda\".\n",
        "# Altere as variáveis para verificar se o programa esta correto. Mostre na saída do programa o valor lógico.\n",
        "\n",
        "sinal_vermelho = True\n",
        "carro_vindo_da_direta = False\n",
        "carro_vindo_da_esquerda = False\n",
        "pode_atravessar = sinal_vermelho and not carro_vindo_da_direta  and  not carro_vindo_da_esquerda\n",
        "print(\"Posso atravessar a rua? \", pode_atravessar)"
      ],
      "metadata": {
        "id": "QHid_--2CEhQ",
        "outputId": "43661757-4972-427f-ae6a-addf08e3a3f9",
        "colab": {
          "base_uri": "https://localhost:8080/"
        }
      },
      "execution_count": 27,
      "outputs": [
        {
          "output_type": "stream",
          "name": "stdout",
          "text": [
            "Posso atravessar a rua?  True\n"
          ]
        }
      ]
    },
    {
      "cell_type": "code",
      "source": [
        "# 3. Agora faça a mesma coisa que o exercício anterior, mas desta vez você está com pressa e para atravessar\n",
        "# a rua basta que o sinal esteja vermelho \"OU\" que não venha carro da esquerda e direita.\n",
        "# Altere as variáveis para verificar a resposta em comparação com ao exercício anterior. Mostre na saída do programa o valor lógico.\n",
        "\n",
        "sinal_vermelho = True\n",
        "carro_vindo_da_direta = False\n",
        "carro_vindo_da_esquerda = False\n",
        "atravessar = sinal_vermelho or not carro_vindo_da_direta  or not carro_vindo_da_esquerda\n",
        "print(\"Posso atravessar a rua? \", atravessar)\n"
      ],
      "metadata": {
        "id": "Bl4lDRZHDS9a",
        "outputId": "44275560-0e39-4776-8c33-56e3d2dff34d",
        "colab": {
          "base_uri": "https://localhost:8080/"
        }
      },
      "execution_count": 28,
      "outputs": [
        {
          "output_type": "stream",
          "name": "stdout",
          "text": [
            "Posso atravessar a rua?  True\n"
          ]
        }
      ]
    },
    {
      "cell_type": "code",
      "source": [],
      "metadata": {
        "id": "cxfC9RmRERe2"
      },
      "execution_count": null,
      "outputs": []
    }
  ]
}