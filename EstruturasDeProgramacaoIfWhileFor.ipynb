{
  "nbformat": 4,
  "nbformat_minor": 0,
  "metadata": {
    "colab": {
      "provenance": [],
      "toc_visible": true,
      "authorship_tag": "ABX9TyMPcujSz3tBKrxKiwF5Oe7E",
      "include_colab_link": true
    },
    "kernelspec": {
      "name": "python3",
      "display_name": "Python 3"
    },
    "language_info": {
      "name": "python"
    }
  },
  "cells": [
    {
      "cell_type": "markdown",
      "metadata": {
        "id": "view-in-github",
        "colab_type": "text"
      },
      "source": [
        "<a href=\"https://colab.research.google.com/github/VictorRSantos/Formacao-Python/blob/main/EstruturasDeProgramacaoIfWhileFor.ipynb\" target=\"_parent\"><img src=\"https://colab.research.google.com/assets/colab-badge.svg\" alt=\"Open In Colab\"/></a>"
      ]
    },
    {
      "cell_type": "markdown",
      "source": [
        "### Fundamentos da Estrutura\n",
        "\n"
      ],
      "metadata": {
        "id": "uo-w1QqhoGrV"
      }
    },
    {
      "cell_type": "markdown",
      "source": [
        "#### IF"
      ],
      "metadata": {
        "id": "K0FY9r-2swZV"
      }
    },
    {
      "cell_type": "code",
      "execution_count": null,
      "metadata": {
        "colab": {
          "base_uri": "https://localhost:8080/"
        },
        "id": "or3sY3uzn82G",
        "outputId": "40292210-33a7-4463-baf9-41ffecf370ff"
      },
      "outputs": [
        {
          "output_type": "stream",
          "name": "stdout",
          "text": [
            "Isto está fora dos ifs\n",
            "Este código vai ser executado\n",
            "Isto está fora dos ifs\n",
            "Isto está fora dos ifs\n"
          ]
        }
      ],
      "source": [
        "print(\"Isto está fora dos ifs\")\n",
        "if(True):\n",
        "  print(\"Este código vai ser executado\")\n",
        "\n",
        "print(\"Isto está fora dos ifs\")\n",
        "\n",
        "if(False):\n",
        "  print(\"Este código não vai ser executado\")\n",
        "\n",
        "print(\"Isto está fora dos ifs\")\n"
      ]
    },
    {
      "cell_type": "code",
      "source": [
        "if(True):\n",
        "  pass"
      ],
      "metadata": {
        "id": "aUD6DXFzpIrL"
      },
      "execution_count": null,
      "outputs": []
    },
    {
      "cell_type": "code",
      "source": [
        "valor1 = 10\n",
        "valor2 = 10\n",
        "sao_iguais = (valor1 == valor2)\n",
        "if(sao_iguais):\n",
        "  print(\"São iguais\")\n",
        "\n"
      ],
      "metadata": {
        "colab": {
          "base_uri": "https://localhost:8080/"
        },
        "id": "QVmr0ZaZpTPC",
        "outputId": "4427f517-17c1-4b5d-ca35-24d10800c015"
      },
      "execution_count": null,
      "outputs": [
        {
          "output_type": "stream",
          "name": "stdout",
          "text": [
            "Não são iguais\n"
          ]
        }
      ]
    },
    {
      "cell_type": "code",
      "source": [
        "valor1 = 10\n",
        "valor2 = 10\n",
        "if(valor1 == valor2): print(\"São iguais\")"
      ],
      "metadata": {
        "colab": {
          "base_uri": "https://localhost:8080/"
        },
        "id": "Cfb-XwnPplQm",
        "outputId": "85bb2bdb-9c6b-4356-d116-579f0bae9f2b"
      },
      "execution_count": null,
      "outputs": [
        {
          "output_type": "stream",
          "name": "stdout",
          "text": [
            "São iguais\n"
          ]
        }
      ]
    },
    {
      "cell_type": "code",
      "source": [
        "if(10 != 20):\n",
        "  print(\"São diferentes 1\")\n",
        "\n",
        "if(10 != 10):\n",
        "  print(\"São diferentes 2\")\n",
        "\n",
        "if(\"olá\" != \"alo\"):\n",
        "  print(\"São diferentes 3\")"
      ],
      "metadata": {
        "colab": {
          "base_uri": "https://localhost:8080/"
        },
        "id": "L0PFCEb9p6s5",
        "outputId": "9d65b6b1-2f0e-4ffe-d994-7ed566d8605a"
      },
      "execution_count": null,
      "outputs": [
        {
          "output_type": "stream",
          "name": "stdout",
          "text": [
            "São diferentes 1\n",
            "São diferentes 3\n"
          ]
        }
      ]
    },
    {
      "cell_type": "code",
      "source": [
        "nome = input(\"Digite seu nome\")\n",
        "if \"a\" in nome :\n",
        "  print(\"Possui a letra \\'a\\'\")"
      ],
      "metadata": {
        "colab": {
          "base_uri": "https://localhost:8080/"
        },
        "id": "L0QGlU-XqKEJ",
        "outputId": "cee2998f-d011-4798-f33a-8c1e68c077d7"
      },
      "execution_count": null,
      "outputs": [
        {
          "output_type": "stream",
          "name": "stdout",
          "text": [
            "Digite seu nometesta\n",
            "Possui a letra 'a'\n"
          ]
        }
      ]
    },
    {
      "cell_type": "code",
      "source": [
        "nome = input(\"Digite seu nome: \")\n",
        "possui_vogal = (\"a\" in nome) or (\"e\" in nome) or (\"i\" in nome) or (\"o\" in nome) or (\"u\" in nome)\n",
        "if possui_vogal :\n",
        "  print(\"Possui alguma vogal\")"
      ],
      "metadata": {
        "colab": {
          "base_uri": "https://localhost:8080/"
        },
        "id": "_pFKVX0fqdQ3",
        "outputId": "b6c0c8ae-7ca6-4fb9-9448-38ba973efdc5"
      },
      "execution_count": null,
      "outputs": [
        {
          "output_type": "stream",
          "name": "stdout",
          "text": [
            "Digite seu nome: Victor\n",
            "Possui alguma vogal\n"
          ]
        }
      ]
    },
    {
      "cell_type": "markdown",
      "source": [
        "#### ELSE"
      ],
      "metadata": {
        "id": "aEcs4C-dso75"
      }
    },
    {
      "cell_type": "code",
      "source": [
        "numero = 5\n",
        "if numero >= 10 :\n",
        "  print(\"É maior ou igual que 10\")\n",
        "  print(\"-----------------------\")\n",
        "else :\n",
        "  print(\"É menor que 10\")\n",
        "  print(\"**************\")\n",
        "print(\"FIM\")"
      ],
      "metadata": {
        "colab": {
          "base_uri": "https://localhost:8080/"
        },
        "id": "HFzzr2WdqxeS",
        "outputId": "e9b06081-0484-4059-c5c4-1e657dac06ef"
      },
      "execution_count": null,
      "outputs": [
        {
          "output_type": "stream",
          "name": "stdout",
          "text": [
            "É menor que 10\n",
            "**************\n",
            "FIM\n"
          ]
        }
      ]
    },
    {
      "cell_type": "code",
      "source": [
        "numero = 10\n",
        "if numero % 2 == 0 :\n",
        "  print(\"É par\")\n",
        "else :\n",
        "  print(\"É impar\")"
      ],
      "metadata": {
        "colab": {
          "base_uri": "https://localhost:8080/"
        },
        "id": "HHRAgdqYrIut",
        "outputId": "a311cb1b-1290-42c3-c577-278b0c93faaa"
      },
      "execution_count": null,
      "outputs": [
        {
          "output_type": "stream",
          "name": "stdout",
          "text": [
            "É par\n"
          ]
        }
      ]
    },
    {
      "cell_type": "code",
      "source": [
        "valor = 11\n",
        "if valor >= 0 and valor < 10 :\n",
        "  print(valor)\n",
        "else :\n",
        "  print(\"Valor não aceito\")"
      ],
      "metadata": {
        "colab": {
          "base_uri": "https://localhost:8080/"
        },
        "id": "84gsGDFLr8UN",
        "outputId": "a37968a6-464f-4fa3-e1f3-b50b6f1b0dc8"
      },
      "execution_count": null,
      "outputs": [
        {
          "output_type": "stream",
          "name": "stdout",
          "text": [
            "Valor não aceito\n"
          ]
        }
      ]
    },
    {
      "cell_type": "code",
      "source": [
        "texto = \"a\"\n",
        "if len(texto) == 1:\n",
        "  print(\"Tem 1 caractere\")\n",
        "else :\n",
        "  print(\"não tem um caractere\")"
      ],
      "metadata": {
        "colab": {
          "base_uri": "https://localhost:8080/"
        },
        "id": "tnrZHfdXsQMb",
        "outputId": "813935c3-3154-4708-95c9-b0df59e624bc"
      },
      "execution_count": null,
      "outputs": [
        {
          "output_type": "stream",
          "name": "stdout",
          "text": [
            "Tem 1 caractere\n"
          ]
        }
      ]
    },
    {
      "cell_type": "markdown",
      "source": [
        "#### Aninhando ifs"
      ],
      "metadata": {
        "id": "HTbJfw2Xs1iQ"
      }
    },
    {
      "cell_type": "code",
      "source": [
        "numero = 1\n",
        "if numero == 1 or numero == 0 :\n",
        "  print(\"É 1 ou 0\")"
      ],
      "metadata": {
        "colab": {
          "base_uri": "https://localhost:8080/"
        },
        "id": "gXZSG-neshvu",
        "outputId": "6aed7577-7909-40e0-9953-f67d228350fc"
      },
      "execution_count": null,
      "outputs": [
        {
          "output_type": "stream",
          "name": "stdout",
          "text": [
            "É 1 ou 0\n"
          ]
        }
      ]
    },
    {
      "cell_type": "code",
      "source": [
        "numero = -10\n",
        "condicao = numero > 10 or numero < -10\n",
        "if condicao :\n",
        "  print(\"Absolutamente maior que 10\")"
      ],
      "metadata": {
        "id": "H-ebv1kqtCgr"
      },
      "execution_count": null,
      "outputs": []
    },
    {
      "cell_type": "code",
      "source": [
        "numero = 10\n",
        "if numero > 0 :\n",
        "  print(\"Número é maior que zero\")\n",
        "  if numero > 10 :\n",
        "    print(\"Número é maior que dez\")"
      ],
      "metadata": {
        "colab": {
          "base_uri": "https://localhost:8080/"
        },
        "id": "RizTcgRVtZiQ",
        "outputId": "86a0eb43-7a05-4662-d9ed-62dd9643cea3"
      },
      "execution_count": null,
      "outputs": [
        {
          "output_type": "stream",
          "name": "stdout",
          "text": [
            "Número é maior que zero\n"
          ]
        }
      ]
    },
    {
      "cell_type": "code",
      "source": [
        "numero = 9\n",
        "if numero < 10:\n",
        "  print(\"Menor que 10\")\n",
        "elif numero < 100 :\n",
        "  print(\"Menos que 100\")\n",
        "elif numero <= 1000 :\n",
        "  print(\"Menor ou igual a 1000\")\n",
        "else :\n",
        "  print(\"Nenhuma anterior\")"
      ],
      "metadata": {
        "colab": {
          "base_uri": "https://localhost:8080/"
        },
        "id": "9NPZe09atlcI",
        "outputId": "848fa152-ce8f-4d51-887c-7133f6257004"
      },
      "execution_count": null,
      "outputs": [
        {
          "output_type": "stream",
          "name": "stdout",
          "text": [
            "Menor que 10\n"
          ]
        }
      ]
    },
    {
      "cell_type": "code",
      "source": [
        "texto = 'b'\n",
        "if texto == 'a' :\n",
        "  print(\"É vogal a\")\n",
        "elif texto == 'e' :\n",
        "  print(\"É vogal e\")\n",
        "elif texto == 'i' :\n",
        "  print(\"É vogal i\")\n",
        "elif texto == 'o' :\n",
        "  print(\"É vogal o\")\n",
        "elif texto == 'u' :\n",
        "  print(\"É vogal\")\n",
        "else :\n",
        "  print(\"É consoante\")\n"
      ],
      "metadata": {
        "colab": {
          "base_uri": "https://localhost:8080/"
        },
        "id": "fwH4M2F8uaj5",
        "outputId": "74429c19-5f78-4fa1-9e6b-9b4b194aab5b"
      },
      "execution_count": null,
      "outputs": [
        {
          "output_type": "stream",
          "name": "stdout",
          "text": [
            "É consoante\n"
          ]
        }
      ]
    },
    {
      "cell_type": "code",
      "source": [
        "numero = 10\n",
        "resultado = \"PAR\" if numero % 2 == 0 else \"IMPAR\"\n",
        "print(resultado)"
      ],
      "metadata": {
        "colab": {
          "base_uri": "https://localhost:8080/"
        },
        "id": "-cgBcqWfu6W1",
        "outputId": "cae13577-277b-4515-d23c-51813d318a06"
      },
      "execution_count": null,
      "outputs": [
        {
          "output_type": "stream",
          "name": "stdout",
          "text": [
            "PAR\n"
          ]
        }
      ]
    },
    {
      "cell_type": "code",
      "source": [
        "numero = 2\n",
        "resultado = \"Um\" if numero == 1 else \"Dois\" if numero == 2 else \"Três\"\n",
        "print(resultado)"
      ],
      "metadata": {
        "colab": {
          "base_uri": "https://localhost:8080/"
        },
        "id": "BIUKqcBTvKq8",
        "outputId": "905ec8eb-a046-40a9-bb59-c2531326f105"
      },
      "execution_count": null,
      "outputs": [
        {
          "output_type": "stream",
          "name": "stdout",
          "text": [
            "Dois\n"
          ]
        }
      ]
    },
    {
      "cell_type": "markdown",
      "source": [
        "### Atividades\n",
        "\n",
        "1 - Crie um programa que receba o seu saldo bancário e o quanto você deve. Em seguida o programa deve dizer se você tem saldo positivo ou negativo\n",
        "\n",
        "2 - Crie um programa que possui uma variável que guarde seu CPF e que guarde uma senha de sua escolha. Em seguida receba por input uma senha do usuário. Caso a senha recebida seja a correta mostre o CPF, caso não diga que a senha está incorreta.\n",
        "\n",
        "3 - Crie um programa que fale sobre sua idade. As regras são a seguinte, você deve receber por input sua idade, se você tiver até três anos printe que é um bebe, qate 13 anos uma criança, ate 18 anos adolescente, até 65 adulto. Em nenhum deste casos é um idoso.\n",
        "\n",
        "4 - Crie um programa que receba dois números, e também receba do usuário a operação que deve ser feita, as possibilidades são soma(+), subtração(-), divisão(/) e multiplicação(*). Realize a operação escolhida sobre os dois números."
      ],
      "metadata": {
        "id": "JhvSdoZpwb8u"
      }
    },
    {
      "cell_type": "code",
      "source": [
        "# 1 - Crie um programa que receba o seu saldo bancário e o quanto você deve.\n",
        "# Em seguida o programa deve dizer se você tem saldo positivo ou negativo\n",
        "saldo = input(\"Digite seu saldo R$: \")\n",
        "divida = input(\"Digite o valor que deve R$: \")\n",
        "saldo_total = float(saldo) - float(divida)\n",
        "resultado = \"Positivo\" if saldo_total >= 0 else \"Negativo\"\n",
        "print(resultado)"
      ],
      "metadata": {
        "colab": {
          "base_uri": "https://localhost:8080/"
        },
        "id": "BF2xcszqwfI2",
        "outputId": "bd96ef15-ae40-4c19-d27b-bbb6c0a12bba"
      },
      "execution_count": null,
      "outputs": [
        {
          "output_type": "stream",
          "name": "stdout",
          "text": [
            "Digite seu saldo R$: 10\n",
            "Digite o valor que deve R$: 50\n",
            "Negativo\n"
          ]
        }
      ]
    },
    {
      "cell_type": "code",
      "source": [
        "# 2 - Crie um programa que possui uma variável que guarde seu CPF e que guarde uma senha de sua escolha.\n",
        "# Em seguida receba por input uma senha do usuário.\n",
        "# Caso a senha recebida seja a correta mostre o CPF, caso não diga que a senha está incorreta.\n",
        "\n",
        "cpf = \"111.222.333-55\"\n",
        "senha = \"123456\"\n",
        "\n",
        "senha_usuario = input(\"Entre com sua senha: \")\n",
        "\n",
        "if senha_usuario == senha :\n",
        "  print(\"Seu CPF:\", cpf)\n",
        "else:\n",
        "  print(\"Senha está incorreta\")\n",
        "\n"
      ],
      "metadata": {
        "colab": {
          "base_uri": "https://localhost:8080/"
        },
        "id": "cO0T_SU3vjIV",
        "outputId": "1d74b499-741e-4e7b-e3b6-9a5f4863049b"
      },
      "execution_count": null,
      "outputs": [
        {
          "output_type": "stream",
          "name": "stdout",
          "text": [
            "Entre com sua senha: 123456\n",
            "Seu CPF: 111.222.333-55\n"
          ]
        }
      ]
    },
    {
      "cell_type": "code",
      "source": [
        "# 3 - Crie um programa que fale sobre sua idade.\n",
        "# As regras são a seguinte, você deve receber por input sua idade,\n",
        "# se você tiver até três anos printe que é um bebe,\n",
        "# ate 13 anos uma criança, ate 18 anos adolescente, até 65 adulto.\n",
        "# Em nenhum deste casos é um idoso.\n",
        "\n",
        "idade = int(input(\"Digite sua idade: \"))\n",
        "if idade <= 3:\n",
        "  print(\"Você é um bebê.\")\n",
        "elif idade <= 13 :\n",
        "  print(\"Você é uma criança\")\n",
        "elif idade <= 18 :\n",
        "  print(\"Você é um adolescente\")\n",
        "elif idade <= 65 :\n",
        "  print(\"Você é um adulto\")\n",
        "else :\n",
        "  print(\"Você é um idoso\")"
      ],
      "metadata": {
        "colab": {
          "base_uri": "https://localhost:8080/"
        },
        "id": "Iujl53WLyv46",
        "outputId": "c8acb842-dfa4-411e-ebe7-34af1bd5e5bc"
      },
      "execution_count": null,
      "outputs": [
        {
          "output_type": "stream",
          "name": "stdout",
          "text": [
            "Digite sua idade: 88\n",
            "Você é um idoso\n"
          ]
        }
      ]
    },
    {
      "cell_type": "code",
      "source": [
        "# 4 - Crie um programa que receba dois números,\n",
        "# e também receba do usuário a operação que deve ser feita,\n",
        "# as possibilidades são soma(+), subtração(-), divisão(/) e multiplicação(*).\n",
        "# Realize a operação escolhida sobre os dois números.\n",
        "operacao = input(\"Escolha operação matemática \\'+\\',\\'-\\',\\'/\\',\\'*\\'\")\n",
        "valor1 = float(input(\"Digite o primeiro valor: \"))\n",
        "valor2 = float(input(\"Digite o segundo valor: \"))\n",
        "if operacao == \"+\":\n",
        "  print(\"Soma %d + %d = %d\" % (valor1, valor2, valor1 + valor2))\n",
        "elif operacao == \"-\":\n",
        "  print(\"Soma %d - %d = %d\" % (valor1, valor2, valor1 - valor2))\n",
        "elif operacao == \"/\":\n",
        "  print(\"Soma %d / %d = %d\" % (valor1, valor2, valor1 / valor2))\n",
        "elif operacao == \"*\":\n",
        "  print(\"Soma %d * %d = %d\" % (valor1, valor2, valor1 * valor2))\n",
        "else:\n",
        "  print(\"Operação inválida.\")"
      ],
      "metadata": {
        "colab": {
          "base_uri": "https://localhost:8080/"
        },
        "id": "w23w40tX0aqM",
        "outputId": "8a87d9a2-a404-4dde-d750-96abe7f24112"
      },
      "execution_count": null,
      "outputs": [
        {
          "output_type": "stream",
          "name": "stdout",
          "text": [
            "Escolha operação matemática '+','-','/','*'+\n",
            "Digite o primeiro valor: 10\n",
            "Digite o segundo valor: 20\n",
            "Soma 10 + 20 = 30\n"
          ]
        }
      ]
    },
    {
      "cell_type": "markdown",
      "source": [
        "### While"
      ],
      "metadata": {
        "id": "fGZpV6ddRd5z"
      }
    },
    {
      "cell_type": "code",
      "source": [
        "while(True):\n",
        "  print(\"Isso não vai parar\")"
      ],
      "metadata": {
        "id": "E49tRtDw1_1J"
      },
      "execution_count": null,
      "outputs": []
    },
    {
      "cell_type": "code",
      "source": [
        "interacao = 10\n",
        "while(interacao > 0):\n",
        "  print(interacao)\n",
        "  interacao -= 1\n",
        "\n",
        "print(\"Encerrou!\")"
      ],
      "metadata": {
        "id": "yMPTGTFkRu0Y",
        "outputId": "56cee7e4-d6de-4a44-aa63-731bdeeae732",
        "colab": {
          "base_uri": "https://localhost:8080/"
        }
      },
      "execution_count": null,
      "outputs": [
        {
          "output_type": "stream",
          "name": "stdout",
          "text": [
            "10\n",
            "9\n",
            "8\n",
            "7\n",
            "6\n",
            "5\n",
            "4\n",
            "3\n",
            "2\n",
            "1\n",
            "Encerrou!\n"
          ]
        }
      ]
    },
    {
      "cell_type": "code",
      "source": [
        "indice = 10\n",
        "print(\"Programa começou\")\n",
        "while(indice >= 2):\n",
        "  resto = (indice % 2)\n",
        "  if resto == 0:\n",
        "    print(\"O número %d é par \" % (indice) )\n",
        "  else:\n",
        "    print(\"O número %d é impar\" % (indice))\n",
        "  indice -= 1\n",
        "\n",
        "print(\"Programa finalizou\")\n",
        "\n"
      ],
      "metadata": {
        "id": "YgVlz9tNSHeU",
        "outputId": "09419bf9-63ff-4dc8-830b-22c51d2b3fc5",
        "colab": {
          "base_uri": "https://localhost:8080/"
        }
      },
      "execution_count": null,
      "outputs": [
        {
          "output_type": "stream",
          "name": "stdout",
          "text": [
            "Programa começou\n",
            "O número 10 é par \n",
            "O número 9 é impar\n",
            "O número 8 é par \n",
            "O número 7 é impar\n",
            "O número 6 é par \n",
            "O número 5 é impar\n",
            "O número 4 é par \n",
            "O número 3 é impar\n",
            "O número 2 é par \n",
            "Programa finalizou\n"
          ]
        }
      ]
    },
    {
      "cell_type": "code",
      "source": [
        "soma = 0\n",
        "numeros_lidos = 0\n",
        "\n",
        "while(numeros_lidos < 5):\n",
        "  num = float(input(\"Digite um valor: \"))\n",
        "  soma += num\n",
        "  numeros_lidos += 1\n",
        "\n",
        "print(\"Soma é %.2f \" % (soma))"
      ],
      "metadata": {
        "id": "3UUnb2weTAZV",
        "outputId": "49300593-544e-4e35-9837-ae7b288837ec",
        "colab": {
          "base_uri": "https://localhost:8080/"
        }
      },
      "execution_count": null,
      "outputs": [
        {
          "output_type": "stream",
          "name": "stdout",
          "text": [
            "Digite um valor: 10\n",
            "Digite um valor: 12.5\n",
            "Digite um valor: 20\n",
            "Digite um valor: 30\n",
            "Digite um valor: 40\n",
            "Soma é 112.50 \n"
          ]
        }
      ]
    },
    {
      "cell_type": "code",
      "source": [
        "texto = \"Olá 123 _\"\n",
        "indice = 0\n",
        "while(indice < len(texto)):\n",
        "  print(texto[indice])\n",
        "  indice += 1"
      ],
      "metadata": {
        "id": "wxECjaaPUYzj",
        "outputId": "896289db-414d-437f-801b-8cb089b617e5",
        "colab": {
          "base_uri": "https://localhost:8080/"
        }
      },
      "execution_count": null,
      "outputs": [
        {
          "output_type": "stream",
          "name": "stdout",
          "text": [
            "O\n",
            "l\n",
            "á\n",
            " \n",
            "1\n",
            "2\n",
            "3\n",
            " \n",
            "_\n"
          ]
        }
      ]
    },
    {
      "cell_type": "code",
      "source": [
        "num_atual = 0\n",
        "while(True):\n",
        "  if(num_atual == 5):\n",
        "    break\n",
        "  print(num_atual)\n",
        "  num_atual += 1\n",
        "\n",
        "print(\"Encerrou\")"
      ],
      "metadata": {
        "id": "UoKR6LmtUtI2",
        "outputId": "9d65c8c8-fc0f-4b72-d568-d0c319cfd06a",
        "colab": {
          "base_uri": "https://localhost:8080/"
        }
      },
      "execution_count": null,
      "outputs": [
        {
          "output_type": "stream",
          "name": "stdout",
          "text": [
            "0\n",
            "1\n",
            "2\n",
            "3\n",
            "4\n",
            "Encerrou\n"
          ]
        }
      ]
    },
    {
      "cell_type": "code",
      "source": [
        "num_atual = 0\n",
        "while(num_atual < 10):\n",
        "  num_atual += 1\n",
        "  if(num_atual == 7):\n",
        "    continue\n",
        "  print(num_atual)\n",
        "print(\"Encerrou\")\n"
      ],
      "metadata": {
        "id": "PgWzUuTyVZAa",
        "outputId": "89b17371-8a50-47df-bbdc-38e1e5468b31",
        "colab": {
          "base_uri": "https://localhost:8080/"
        }
      },
      "execution_count": null,
      "outputs": [
        {
          "output_type": "stream",
          "name": "stdout",
          "text": [
            "1\n",
            "2\n",
            "3\n",
            "4\n",
            "5\n",
            "6\n",
            "8\n",
            "9\n",
            "10\n",
            "Encerrou\n"
          ]
        }
      ]
    },
    {
      "cell_type": "markdown",
      "source": [
        "### Atividades\n",
        "\n",
        "1 - Crie um programa que receba 5 números e retorne a média aritmética entre esses números.\n",
        "\n",
        "2 - Crie um programa que receba 5 números, realiza a soma destes números, mas caso um destes números seja negativo não considere ele na soma\n",
        "\n",
        "3 - Crie um programa que receba um número arbitrário(definido pelo usuário) de números que serão lidos e retorne a soma de todos eles.\n",
        "\n",
        "4 - Percorra os números de 2 até 10 e diga se o número é par ou impar.\n",
        "\n",
        "5 - Crie um programa que receba como input um string. Em seguida percorra a string e diga quantos espaços em branco essa string tem"
      ],
      "metadata": {
        "id": "91h_lIEsbOBn"
      }
    },
    {
      "cell_type": "code",
      "source": [
        "# 1 - Crie um programa que receba 5 números e retorne a média aritmética entre esses números.\n",
        "\n",
        "numeros = 0\n",
        "soma_valor = 0\n",
        "\n",
        "while(numeros < 5):\n",
        "  valor = float(input(\"Digite um valor: \"))\n",
        "  soma_valor += valor\n",
        "  numeros += 1\n",
        "\n",
        "media = soma_valor / numeros\n",
        "print(\"A média é %.2f\" % (media))\n"
      ],
      "metadata": {
        "id": "gHfFnFPyVtVO",
        "outputId": "6939eb99-524c-40b5-8528-532bc29ea1b4",
        "colab": {
          "base_uri": "https://localhost:8080/"
        }
      },
      "execution_count": null,
      "outputs": [
        {
          "output_type": "stream",
          "name": "stdout",
          "text": [
            "Digite um valor: 10\n",
            "Digite um valor: 10\n",
            "Digite um valor: 10\n",
            "Digite um valor: 10\n",
            "Digite um valor: 10\n",
            "A média entre esses números é :  10.0\n"
          ]
        }
      ]
    },
    {
      "cell_type": "code",
      "source": [
        "# 2 - Crie um programa que receba 5 números, realiza a soma destes números,\n",
        "# mas caso um destes números seja negativo não considere ele na soma\n",
        "\n",
        "numeros = 0\n",
        "soma_valor = 0\n",
        "while(numeros < 5):\n",
        "  valor = float(input(\"Insira um valor: \"))\n",
        "  numeros += 1\n",
        "  if(valor >= 0):\n",
        "    soma_valor += valor\n",
        "\n",
        "print(\"Soma dos valores positivos é %.2f\" % (soma_valor))\n"
      ],
      "metadata": {
        "id": "MJ8OBGVGcfOY",
        "outputId": "96cea504-b47f-4e52-a72a-e27e59b9c8ce",
        "colab": {
          "base_uri": "https://localhost:8080/"
        }
      },
      "execution_count": null,
      "outputs": [
        {
          "output_type": "stream",
          "name": "stdout",
          "text": [
            "Insira um valor: 10\n",
            "Insira um valor: 10\n",
            "Insira um valor: 10\n",
            "Insira um valor: 0\n",
            "Insira um valor: -10\n",
            "Soma dos valores positivos é:  30.0\n"
          ]
        }
      ]
    },
    {
      "cell_type": "code",
      "source": [
        "# 3 - Crie um programa que receba um número arbitrário(definido pelo usuário)\n",
        "# de números que serão lidos e retorne a soma de todos eles.\n",
        "numeros_lidos = int(input(\"Digite quantos números serão lidos:\"))\n",
        "\n",
        "numeros = 0\n",
        "soma_valores = 0\n",
        "\n",
        "while(numeros < numeros_lidos):\n",
        "  valor = float(input(\"Insira um valor: \"))\n",
        "  soma_valores += valor\n",
        "  numeros += 1\n",
        "print(\"Soma dos valores positivos é %.2f\" % (soma_valor))\n"
      ],
      "metadata": {
        "id": "mRe5Xi7yeUbw",
        "outputId": "42085c88-5ca4-4c52-af9e-19aaa182fcb3",
        "colab": {
          "base_uri": "https://localhost:8080/"
        }
      },
      "execution_count": null,
      "outputs": [
        {
          "output_type": "stream",
          "name": "stdout",
          "text": [
            "Digite quantos números serão lidos:3\n",
            "Insira um valor: 100\n",
            "Insira um valor: 20\n",
            "Insira um valor: 10\n",
            "Soma dos valores positivos é 30.00\n"
          ]
        }
      ]
    },
    {
      "cell_type": "code",
      "source": [
        "# 4 - Percorra os números de 2 até 10 e diga se o número é par ou impar.\n",
        "numeros = 2\n",
        "while(numeros <= 10):\n",
        "  resto = (numeros % 2)\n",
        "  if(resto == 0):\n",
        "    print(\"Número %s é par\" % (numeros))\n",
        "  else:\n",
        "    print(\"Número %s é impar\" % (numeros))\n",
        "  numeros += 1"
      ],
      "metadata": {
        "id": "StO57ZuogbSu",
        "outputId": "afce1768-adf7-48d9-b080-4dd32cc8f8e8",
        "colab": {
          "base_uri": "https://localhost:8080/"
        }
      },
      "execution_count": null,
      "outputs": [
        {
          "output_type": "stream",
          "name": "stdout",
          "text": [
            "Número 2 é par\n",
            "Número 3 é impar\n",
            "Número 4 é par\n",
            "Número 5 é impar\n",
            "Número 6 é par\n",
            "Número 7 é impar\n",
            "Número 8 é par\n",
            "Número 9 é impar\n",
            "Número 10 é par\n"
          ]
        }
      ]
    },
    {
      "cell_type": "code",
      "source": [
        "# 5 - Crie um programa que receba como input um string.\n",
        "# Em seguida percorra a string e diga quantos espaços em branco essa string tem.\n",
        "\n",
        "string = input(\"Digite um texto: \")\n",
        "indice = 0\n",
        "num_vazio = 0\n",
        "while(indice < len(string)):\n",
        "  if(string[indice] == \" \"):\n",
        "    num_vazio += 1\n",
        "  indice += 1\n",
        "print(\"Número de espaço no texto é de %d \" % (num_vazio))\n"
      ],
      "metadata": {
        "id": "irMSv664hxcc",
        "outputId": "491a8adc-6280-4c78-beb1-67250d599a70",
        "colab": {
          "base_uri": "https://localhost:8080/"
        }
      },
      "execution_count": null,
      "outputs": [
        {
          "output_type": "stream",
          "name": "stdout",
          "text": [
            "Digite um texto: Victor Rodrigues dos Santos\n",
            "Número de espaço no texto é de 3 \n"
          ]
        }
      ]
    },
    {
      "cell_type": "markdown",
      "source": [
        "### FOR"
      ],
      "metadata": {
        "id": "bEoXCaAMUkmB"
      }
    },
    {
      "cell_type": "code",
      "source": [
        "for x in range(10):\n",
        "  print(x)"
      ],
      "metadata": {
        "id": "A_SBLK2zlzjq",
        "outputId": "d3530b10-63c4-4575-95f1-e10b858163b4",
        "colab": {
          "base_uri": "https://localhost:8080/"
        }
      },
      "execution_count": 1,
      "outputs": [
        {
          "output_type": "stream",
          "name": "stdout",
          "text": [
            "0\n",
            "1\n",
            "2\n",
            "3\n",
            "4\n",
            "5\n",
            "6\n",
            "7\n",
            "8\n",
            "9\n"
          ]
        }
      ]
    },
    {
      "cell_type": "code",
      "source": [
        "for x in range(5,10):\n",
        "  print(x)"
      ],
      "metadata": {
        "id": "FokhXEZ1Vgqd",
        "outputId": "d5afae74-e4ff-44c0-ff62-d800799256ab",
        "colab": {
          "base_uri": "https://localhost:8080/"
        }
      },
      "execution_count": 2,
      "outputs": [
        {
          "output_type": "stream",
          "name": "stdout",
          "text": [
            "5\n",
            "6\n",
            "7\n",
            "8\n",
            "9\n"
          ]
        }
      ]
    },
    {
      "cell_type": "code",
      "source": [
        "for x in range(5, 20, 5):\n",
        "  print(x)"
      ],
      "metadata": {
        "id": "omrspTD0V615",
        "outputId": "45191283-6018-4b81-ef42-b48cc94799fd",
        "colab": {
          "base_uri": "https://localhost:8080/"
        }
      },
      "execution_count": 3,
      "outputs": [
        {
          "output_type": "stream",
          "name": "stdout",
          "text": [
            "5\n",
            "10\n",
            "15\n"
          ]
        }
      ]
    },
    {
      "cell_type": "code",
      "source": [
        "for x in range(20,5,-5):\n",
        "  print(x)"
      ],
      "metadata": {
        "id": "hWxVB7aGV_se",
        "outputId": "2de8a619-1a07-4e59-9501-4a0adc49ca92",
        "colab": {
          "base_uri": "https://localhost:8080/"
        }
      },
      "execution_count": 4,
      "outputs": [
        {
          "output_type": "stream",
          "name": "stdout",
          "text": [
            "20\n",
            "15\n",
            "10\n"
          ]
        }
      ]
    },
    {
      "cell_type": "code",
      "source": [
        "texto = \"123456789\"\n",
        "for x in range(0, len(texto)):\n",
        "  print(texto[x])"
      ],
      "metadata": {
        "id": "OmSAf8eIWMh1",
        "outputId": "47c7f9a4-8644-4e1e-93ae-5918af79543b",
        "colab": {
          "base_uri": "https://localhost:8080/"
        }
      },
      "execution_count": 5,
      "outputs": [
        {
          "output_type": "stream",
          "name": "stdout",
          "text": [
            "1\n",
            "2\n",
            "3\n",
            "4\n",
            "5\n",
            "6\n",
            "7\n",
            "8\n",
            "9\n"
          ]
        }
      ]
    },
    {
      "cell_type": "code",
      "source": [
        "letra = input(\"Digite uma letra: \")\n",
        "\n",
        "if (len(letra) != 1):\n",
        "  print(\"Precisa ter 1 digito\")\n",
        "else:\n",
        "  texto = input(\"Digite um texto: \")\n",
        "  for i in range(0, len(texto)):\n",
        "    if letra == texto[i]:\n",
        "      print(\"Encontrei a letra %s na posição %d \" % (letra, i))"
      ],
      "metadata": {
        "id": "lgRlf15sWWnN",
        "outputId": "a61d1941-3351-47df-afd3-ca9e30f240fe",
        "colab": {
          "base_uri": "https://localhost:8080/"
        }
      },
      "execution_count": 8,
      "outputs": [
        {
          "output_type": "stream",
          "name": "stdout",
          "text": [
            "Digite uma letra: i\n",
            "Digite um texto: Victor\n",
            "Encontrei a letra i na posição 1 \n"
          ]
        }
      ]
    },
    {
      "cell_type": "code",
      "source": [
        "texto = \"Olá, eu sou iterável\"\n",
        "for x in texto:\n",
        "  print(x)"
      ],
      "metadata": {
        "id": "Sx8Oq1gEXOdH",
        "outputId": "c721560c-9ef6-4714-d570-1da3b67bc222",
        "colab": {
          "base_uri": "https://localhost:8080/"
        }
      },
      "execution_count": 9,
      "outputs": [
        {
          "output_type": "stream",
          "name": "stdout",
          "text": [
            "O\n",
            "l\n",
            "á\n",
            ",\n",
            " \n",
            "e\n",
            "u\n",
            " \n",
            "s\n",
            "o\n",
            "u\n",
            " \n",
            "i\n",
            "t\n",
            "e\n",
            "r\n",
            "á\n",
            "v\n",
            "e\n",
            "l\n"
          ]
        }
      ]
    },
    {
      "cell_type": "code",
      "source": [
        "for x in range(0,3):\n",
        "  for y in range(0,5):\n",
        "    print(x,y)"
      ],
      "metadata": {
        "id": "fwkiLca-XmEG",
        "outputId": "4cdbb103-c683-418b-c89f-d4e73162b660",
        "colab": {
          "base_uri": "https://localhost:8080/"
        }
      },
      "execution_count": 10,
      "outputs": [
        {
          "output_type": "stream",
          "name": "stdout",
          "text": [
            "0 0\n",
            "0 1\n",
            "0 2\n",
            "0 3\n",
            "0 4\n",
            "1 0\n",
            "1 1\n",
            "1 2\n",
            "1 3\n",
            "1 4\n",
            "2 0\n",
            "2 1\n",
            "2 2\n",
            "2 3\n",
            "2 4\n"
          ]
        }
      ]
    },
    {
      "cell_type": "code",
      "source": [
        "for x in range(1, 11):\n",
        "  print(\"--------------------------\")\n",
        "  for y in range(1,11):\n",
        "    print(\"%d X %d = %d\" % (x,y, x*y))"
      ],
      "metadata": {
        "id": "zxcQN-lJXyEv",
        "outputId": "a2c3e167-339f-4d3d-9c6b-e50bc4d4463d",
        "colab": {
          "base_uri": "https://localhost:8080/"
        }
      },
      "execution_count": 12,
      "outputs": [
        {
          "output_type": "stream",
          "name": "stdout",
          "text": [
            "--------------------------\n",
            "1 X 1 = 1\n",
            "1 X 2 = 2\n",
            "1 X 3 = 3\n",
            "1 X 4 = 4\n",
            "1 X 5 = 5\n",
            "1 X 6 = 6\n",
            "1 X 7 = 7\n",
            "1 X 8 = 8\n",
            "1 X 9 = 9\n",
            "1 X 10 = 10\n",
            "--------------------------\n",
            "2 X 1 = 2\n",
            "2 X 2 = 4\n",
            "2 X 3 = 6\n",
            "2 X 4 = 8\n",
            "2 X 5 = 10\n",
            "2 X 6 = 12\n",
            "2 X 7 = 14\n",
            "2 X 8 = 16\n",
            "2 X 9 = 18\n",
            "2 X 10 = 20\n",
            "--------------------------\n",
            "3 X 1 = 3\n",
            "3 X 2 = 6\n",
            "3 X 3 = 9\n",
            "3 X 4 = 12\n",
            "3 X 5 = 15\n",
            "3 X 6 = 18\n",
            "3 X 7 = 21\n",
            "3 X 8 = 24\n",
            "3 X 9 = 27\n",
            "3 X 10 = 30\n",
            "--------------------------\n",
            "4 X 1 = 4\n",
            "4 X 2 = 8\n",
            "4 X 3 = 12\n",
            "4 X 4 = 16\n",
            "4 X 5 = 20\n",
            "4 X 6 = 24\n",
            "4 X 7 = 28\n",
            "4 X 8 = 32\n",
            "4 X 9 = 36\n",
            "4 X 10 = 40\n",
            "--------------------------\n",
            "5 X 1 = 5\n",
            "5 X 2 = 10\n",
            "5 X 3 = 15\n",
            "5 X 4 = 20\n",
            "5 X 5 = 25\n",
            "5 X 6 = 30\n",
            "5 X 7 = 35\n",
            "5 X 8 = 40\n",
            "5 X 9 = 45\n",
            "5 X 10 = 50\n",
            "--------------------------\n",
            "6 X 1 = 6\n",
            "6 X 2 = 12\n",
            "6 X 3 = 18\n",
            "6 X 4 = 24\n",
            "6 X 5 = 30\n",
            "6 X 6 = 36\n",
            "6 X 7 = 42\n",
            "6 X 8 = 48\n",
            "6 X 9 = 54\n",
            "6 X 10 = 60\n",
            "--------------------------\n",
            "7 X 1 = 7\n",
            "7 X 2 = 14\n",
            "7 X 3 = 21\n",
            "7 X 4 = 28\n",
            "7 X 5 = 35\n",
            "7 X 6 = 42\n",
            "7 X 7 = 49\n",
            "7 X 8 = 56\n",
            "7 X 9 = 63\n",
            "7 X 10 = 70\n",
            "--------------------------\n",
            "8 X 1 = 8\n",
            "8 X 2 = 16\n",
            "8 X 3 = 24\n",
            "8 X 4 = 32\n",
            "8 X 5 = 40\n",
            "8 X 6 = 48\n",
            "8 X 7 = 56\n",
            "8 X 8 = 64\n",
            "8 X 9 = 72\n",
            "8 X 10 = 80\n",
            "--------------------------\n",
            "9 X 1 = 9\n",
            "9 X 2 = 18\n",
            "9 X 3 = 27\n",
            "9 X 4 = 36\n",
            "9 X 5 = 45\n",
            "9 X 6 = 54\n",
            "9 X 7 = 63\n",
            "9 X 8 = 72\n",
            "9 X 9 = 81\n",
            "9 X 10 = 90\n",
            "--------------------------\n",
            "10 X 1 = 10\n",
            "10 X 2 = 20\n",
            "10 X 3 = 30\n",
            "10 X 4 = 40\n",
            "10 X 5 = 50\n",
            "10 X 6 = 60\n",
            "10 X 7 = 70\n",
            "10 X 8 = 80\n",
            "10 X 9 = 90\n",
            "10 X 10 = 100\n"
          ]
        }
      ]
    },
    {
      "cell_type": "markdown",
      "source": [
        "### Atividades\n",
        "1 - Crie um programa que receba uma string por input e conte caracteres ela têm, não leve em conta caracteres de espaço. Você não deve usar o len().\n",
        "\n",
        "2 - Crie um programa que faça o calculo do fatorial de um número. O fatorial a se calculado deve ser recebido por input.\n",
        "\n",
        "3 - Crie um programa que leia uma quantidade arbitraria de textos e concatene eles numa string única.\n",
        "\n",
        "4 - Cria um programa que printe a tabuada da divisão de um número lido por input.\n",
        "\n",
        "5 - (Desafio) - Crie um programa que percorra os números de 3 até 30 e diga o número é primo ou não."
      ],
      "metadata": {
        "id": "Sugu_wX9YeLz"
      }
    },
    {
      "cell_type": "code",
      "source": [
        "#1 - Crie um programa que receba uma string por input e conte caracteres ela têm,\n",
        "# não leve em conta caracteres de espaço. Você não deve usar o len().\n",
        "\n",
        "texto = input(\"Digite um texto: \")\n",
        "count = 0\n",
        "for x in texto:\n",
        "  if x != \" \":\n",
        "    count += 1\n",
        "print(\"Tem %s caracteres\" % (count))\n",
        "\n"
      ],
      "metadata": {
        "id": "A7Ot9NodYR4P",
        "outputId": "3880fefe-c2f7-4b93-c415-59543dc1ef72",
        "colab": {
          "base_uri": "https://localhost:8080/"
        }
      },
      "execution_count": 50,
      "outputs": [
        {
          "output_type": "stream",
          "name": "stdout",
          "text": [
            "Digite um texto: dddd\n",
            "Tem 4 caracteres\n"
          ]
        }
      ]
    },
    {
      "cell_type": "code",
      "source": [
        "# 2 - Crie um programa que faça o calculo do fatorial de um número.\n",
        "# O fatorial a se calculado deve ser recebido por input.\n",
        "\n",
        "fatorial = int(input(\"Digite o fatorial desejado: \"))\n",
        "resultado = 1\n",
        "\n",
        "for i in range(1, fatorial+1):\n",
        "  resultado *= i\n",
        "\n",
        "print(\"O Fatorial de %d é %d \" % (fatorial, resultado))\n"
      ],
      "metadata": {
        "id": "eeT_VfvTbNRv",
        "outputId": "309923d1-1261-4c59-a54a-9510ff5d4198",
        "colab": {
          "base_uri": "https://localhost:8080/"
        }
      },
      "execution_count": 54,
      "outputs": [
        {
          "output_type": "stream",
          "name": "stdout",
          "text": [
            "Digite o fatorial desejado: 10\n",
            "O Fatorial de 10 é 3628800 \n"
          ]
        }
      ]
    },
    {
      "cell_type": "code",
      "source": [
        "# 3 - Crie um programa que leia uma quantidade arbitraria de textos e concatene eles numa string única.\n",
        "numero_de_leituras = int(input(\"Digite o número de textos que serão lidos: \"))\n",
        "texto_total = \"\"\n",
        "\n",
        "for i in range(numero_de_leituras):\n",
        "  texto_total += input(\"Digite um texto: \")\n",
        "print(\"Texto completo: \", texto_total )"
      ],
      "metadata": {
        "id": "idf4ceGkcl9o",
        "outputId": "d4a3e960-50b9-40fb-c7f2-77eceddb67be",
        "colab": {
          "base_uri": "https://localhost:8080/"
        }
      },
      "execution_count": 56,
      "outputs": [
        {
          "output_type": "stream",
          "name": "stdout",
          "text": [
            "Digite o número de textos que serão lidos: 3\n",
            "Digite um texto: este e o primero\n",
            "Digite um texto: este e o segundo\n",
            "Digite um texto: este e o terceiro\n",
            "Texto completo:  este e o primeroeste e o segundoeste e o terceiro\n"
          ]
        }
      ]
    },
    {
      "cell_type": "code",
      "source": [
        "# 4 - Cria um programa que printe a tabuada da divisão de um número lido por input.\n",
        "tabuada = int(input(\"Entre com o número da tabuada: \"))\n",
        "for x in range(1, 11):\n",
        "    print(\"%d / %d = %f\" % (x, tabuada, x / tabuada))\n"
      ],
      "metadata": {
        "id": "sJmXW0M4eXx9",
        "outputId": "0a23ac6f-6cce-4901-e1f5-263aa6bb884b",
        "colab": {
          "base_uri": "https://localhost:8080/"
        }
      },
      "execution_count": 60,
      "outputs": [
        {
          "output_type": "stream",
          "name": "stdout",
          "text": [
            "Entre com o número da tabuada: 4\n",
            "1 / 4 = 0.250000\n",
            "2 / 4 = 0.500000\n",
            "3 / 4 = 0.750000\n",
            "4 / 4 = 1.000000\n",
            "5 / 4 = 1.250000\n",
            "6 / 4 = 1.500000\n",
            "7 / 4 = 1.750000\n",
            "8 / 4 = 2.000000\n",
            "9 / 4 = 2.250000\n",
            "10 / 4 = 2.500000\n"
          ]
        }
      ]
    },
    {
      "cell_type": "code",
      "source": [
        "# 5 - (Desafio) - Crie um programa que percorra os números de 3 até 30 e diga o número é primo ou não.\n",
        "\n",
        "for numero in range(3, 31):\n",
        "  e_primo = True\n",
        "  for num_teste in range(2, numero):\n",
        "    if (numero % num_teste == 0):\n",
        "      e_primo = False\n",
        "      break\n",
        "\n",
        "  if (e_primo):\n",
        "    print(\"O número %d é primo \" % (numero))\n",
        "  else:\n",
        "    print(\"O número %d não é primo \" % (numero))"
      ],
      "metadata": {
        "id": "c7EpJjmCfk-3",
        "outputId": "7e27b18b-8db5-44d6-8ff2-a21e54f8b6ae",
        "colab": {
          "base_uri": "https://localhost:8080/"
        }
      },
      "execution_count": 62,
      "outputs": [
        {
          "output_type": "stream",
          "name": "stdout",
          "text": [
            "O número 3 é primo \n",
            "O número 4 não é primo \n",
            "O número 5 é primo \n",
            "O número 6 não é primo \n",
            "O número 7 é primo \n",
            "O número 8 não é primo \n",
            "O número 9 não é primo \n",
            "O número 10 não é primo \n",
            "O número 11 é primo \n",
            "O número 12 não é primo \n",
            "O número 13 é primo \n",
            "O número 14 não é primo \n",
            "O número 15 não é primo \n",
            "O número 16 não é primo \n",
            "O número 17 é primo \n",
            "O número 18 não é primo \n",
            "O número 19 é primo \n",
            "O número 20 não é primo \n",
            "O número 21 não é primo \n",
            "O número 22 não é primo \n",
            "O número 23 é primo \n",
            "O número 24 não é primo \n",
            "O número 25 não é primo \n",
            "O número 26 não é primo \n",
            "O número 27 não é primo \n",
            "O número 28 não é primo \n",
            "O número 29 é primo \n",
            "O número 30 não é primo \n"
          ]
        }
      ]
    },
    {
      "cell_type": "code",
      "source": [],
      "metadata": {
        "id": "C3AHq5UBgV6Y"
      },
      "execution_count": null,
      "outputs": []
    }
  ]
}