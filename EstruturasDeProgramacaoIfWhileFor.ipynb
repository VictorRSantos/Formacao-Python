{
  "nbformat": 4,
  "nbformat_minor": 0,
  "metadata": {
    "colab": {
      "provenance": [],
      "toc_visible": true,
      "authorship_tag": "ABX9TyO9sNFozey6cBj7SMXAEAso",
      "include_colab_link": true
    },
    "kernelspec": {
      "name": "python3",
      "display_name": "Python 3"
    },
    "language_info": {
      "name": "python"
    }
  },
  "cells": [
    {
      "cell_type": "markdown",
      "metadata": {
        "id": "view-in-github",
        "colab_type": "text"
      },
      "source": [
        "<a href=\"https://colab.research.google.com/github/VictorRSantos/Formacao-Python/blob/main/EstruturasDeProgramacaoIfWhileFor.ipynb\" target=\"_parent\"><img src=\"https://colab.research.google.com/assets/colab-badge.svg\" alt=\"Open In Colab\"/></a>"
      ]
    },
    {
      "cell_type": "markdown",
      "source": [
        "### Fundamentos da Estrutura\n",
        "\n"
      ],
      "metadata": {
        "id": "uo-w1QqhoGrV"
      }
    },
    {
      "cell_type": "markdown",
      "source": [
        "#### IF"
      ],
      "metadata": {
        "id": "K0FY9r-2swZV"
      }
    },
    {
      "cell_type": "code",
      "execution_count": null,
      "metadata": {
        "colab": {
          "base_uri": "https://localhost:8080/"
        },
        "id": "or3sY3uzn82G",
        "outputId": "40292210-33a7-4463-baf9-41ffecf370ff"
      },
      "outputs": [
        {
          "output_type": "stream",
          "name": "stdout",
          "text": [
            "Isto está fora dos ifs\n",
            "Este código vai ser executado\n",
            "Isto está fora dos ifs\n",
            "Isto está fora dos ifs\n"
          ]
        }
      ],
      "source": [
        "print(\"Isto está fora dos ifs\")\n",
        "if(True):\n",
        "  print(\"Este código vai ser executado\")\n",
        "\n",
        "print(\"Isto está fora dos ifs\")\n",
        "\n",
        "if(False):\n",
        "  print(\"Este código não vai ser executado\")\n",
        "\n",
        "print(\"Isto está fora dos ifs\")\n"
      ]
    },
    {
      "cell_type": "code",
      "source": [
        "if(True):\n",
        "  pass"
      ],
      "metadata": {
        "id": "aUD6DXFzpIrL"
      },
      "execution_count": null,
      "outputs": []
    },
    {
      "cell_type": "code",
      "source": [
        "valor1 = 10\n",
        "valor2 = 10\n",
        "sao_iguais = (valor1 == valor2)\n",
        "if(sao_iguais):\n",
        "  print(\"São iguais\")\n",
        "\n"
      ],
      "metadata": {
        "colab": {
          "base_uri": "https://localhost:8080/"
        },
        "id": "QVmr0ZaZpTPC",
        "outputId": "4427f517-17c1-4b5d-ca35-24d10800c015"
      },
      "execution_count": null,
      "outputs": [
        {
          "output_type": "stream",
          "name": "stdout",
          "text": [
            "Não são iguais\n"
          ]
        }
      ]
    },
    {
      "cell_type": "code",
      "source": [
        "valor1 = 10\n",
        "valor2 = 10\n",
        "if(valor1 == valor2): print(\"São iguais\")"
      ],
      "metadata": {
        "colab": {
          "base_uri": "https://localhost:8080/"
        },
        "id": "Cfb-XwnPplQm",
        "outputId": "85bb2bdb-9c6b-4356-d116-579f0bae9f2b"
      },
      "execution_count": null,
      "outputs": [
        {
          "output_type": "stream",
          "name": "stdout",
          "text": [
            "São iguais\n"
          ]
        }
      ]
    },
    {
      "cell_type": "code",
      "source": [
        "if(10 != 20):\n",
        "  print(\"São diferentes 1\")\n",
        "\n",
        "if(10 != 10):\n",
        "  print(\"São diferentes 2\")\n",
        "\n",
        "if(\"olá\" != \"alo\"):\n",
        "  print(\"São diferentes 3\")"
      ],
      "metadata": {
        "colab": {
          "base_uri": "https://localhost:8080/"
        },
        "id": "L0PFCEb9p6s5",
        "outputId": "9d65b6b1-2f0e-4ffe-d994-7ed566d8605a"
      },
      "execution_count": null,
      "outputs": [
        {
          "output_type": "stream",
          "name": "stdout",
          "text": [
            "São diferentes 1\n",
            "São diferentes 3\n"
          ]
        }
      ]
    },
    {
      "cell_type": "code",
      "source": [
        "nome = input(\"Digite seu nome\")\n",
        "if \"a\" in nome :\n",
        "  print(\"Possui a letra \\'a\\'\")"
      ],
      "metadata": {
        "colab": {
          "base_uri": "https://localhost:8080/"
        },
        "id": "L0QGlU-XqKEJ",
        "outputId": "cee2998f-d011-4798-f33a-8c1e68c077d7"
      },
      "execution_count": null,
      "outputs": [
        {
          "output_type": "stream",
          "name": "stdout",
          "text": [
            "Digite seu nometesta\n",
            "Possui a letra 'a'\n"
          ]
        }
      ]
    },
    {
      "cell_type": "code",
      "source": [
        "nome = input(\"Digite seu nome: \")\n",
        "possui_vogal = (\"a\" in nome) or (\"e\" in nome) or (\"i\" in nome) or (\"o\" in nome) or (\"u\" in nome)\n",
        "if possui_vogal :\n",
        "  print(\"Possui alguma vogal\")"
      ],
      "metadata": {
        "colab": {
          "base_uri": "https://localhost:8080/"
        },
        "id": "_pFKVX0fqdQ3",
        "outputId": "b6c0c8ae-7ca6-4fb9-9448-38ba973efdc5"
      },
      "execution_count": null,
      "outputs": [
        {
          "output_type": "stream",
          "name": "stdout",
          "text": [
            "Digite seu nome: Victor\n",
            "Possui alguma vogal\n"
          ]
        }
      ]
    },
    {
      "cell_type": "markdown",
      "source": [
        "#### ELSE"
      ],
      "metadata": {
        "id": "aEcs4C-dso75"
      }
    },
    {
      "cell_type": "code",
      "source": [
        "numero = 5\n",
        "if numero >= 10 :\n",
        "  print(\"É maior ou igual que 10\")\n",
        "  print(\"-----------------------\")\n",
        "else :\n",
        "  print(\"É menor que 10\")\n",
        "  print(\"**************\")\n",
        "print(\"FIM\")"
      ],
      "metadata": {
        "colab": {
          "base_uri": "https://localhost:8080/"
        },
        "id": "HFzzr2WdqxeS",
        "outputId": "e9b06081-0484-4059-c5c4-1e657dac06ef"
      },
      "execution_count": null,
      "outputs": [
        {
          "output_type": "stream",
          "name": "stdout",
          "text": [
            "É menor que 10\n",
            "**************\n",
            "FIM\n"
          ]
        }
      ]
    },
    {
      "cell_type": "code",
      "source": [
        "numero = 10\n",
        "if numero % 2 == 0 :\n",
        "  print(\"É par\")\n",
        "else :\n",
        "  print(\"É impar\")"
      ],
      "metadata": {
        "colab": {
          "base_uri": "https://localhost:8080/"
        },
        "id": "HHRAgdqYrIut",
        "outputId": "a311cb1b-1290-42c3-c577-278b0c93faaa"
      },
      "execution_count": null,
      "outputs": [
        {
          "output_type": "stream",
          "name": "stdout",
          "text": [
            "É par\n"
          ]
        }
      ]
    },
    {
      "cell_type": "code",
      "source": [
        "valor = 11\n",
        "if valor >= 0 and valor < 10 :\n",
        "  print(valor)\n",
        "else :\n",
        "  print(\"Valor não aceito\")"
      ],
      "metadata": {
        "colab": {
          "base_uri": "https://localhost:8080/"
        },
        "id": "84gsGDFLr8UN",
        "outputId": "a37968a6-464f-4fa3-e1f3-b50b6f1b0dc8"
      },
      "execution_count": null,
      "outputs": [
        {
          "output_type": "stream",
          "name": "stdout",
          "text": [
            "Valor não aceito\n"
          ]
        }
      ]
    },
    {
      "cell_type": "code",
      "source": [
        "texto = \"a\"\n",
        "if len(texto) == 1:\n",
        "  print(\"Tem 1 caractere\")\n",
        "else :\n",
        "  print(\"não tem um caractere\")"
      ],
      "metadata": {
        "colab": {
          "base_uri": "https://localhost:8080/"
        },
        "id": "tnrZHfdXsQMb",
        "outputId": "813935c3-3154-4708-95c9-b0df59e624bc"
      },
      "execution_count": null,
      "outputs": [
        {
          "output_type": "stream",
          "name": "stdout",
          "text": [
            "Tem 1 caractere\n"
          ]
        }
      ]
    },
    {
      "cell_type": "markdown",
      "source": [
        "#### Aninhando ifs"
      ],
      "metadata": {
        "id": "HTbJfw2Xs1iQ"
      }
    },
    {
      "cell_type": "code",
      "source": [
        "numero = 1\n",
        "if numero == 1 or numero == 0 :\n",
        "  print(\"É 1 ou 0\")"
      ],
      "metadata": {
        "colab": {
          "base_uri": "https://localhost:8080/"
        },
        "id": "gXZSG-neshvu",
        "outputId": "6aed7577-7909-40e0-9953-f67d228350fc"
      },
      "execution_count": null,
      "outputs": [
        {
          "output_type": "stream",
          "name": "stdout",
          "text": [
            "É 1 ou 0\n"
          ]
        }
      ]
    },
    {
      "cell_type": "code",
      "source": [
        "numero = -10\n",
        "condicao = numero > 10 or numero < -10\n",
        "if condicao :\n",
        "  print(\"Absolutamente maior que 10\")"
      ],
      "metadata": {
        "id": "H-ebv1kqtCgr"
      },
      "execution_count": null,
      "outputs": []
    },
    {
      "cell_type": "code",
      "source": [
        "numero = 10\n",
        "if numero > 0 :\n",
        "  print(\"Número é maior que zero\")\n",
        "  if numero > 10 :\n",
        "    print(\"Número é maior que dez\")"
      ],
      "metadata": {
        "colab": {
          "base_uri": "https://localhost:8080/"
        },
        "id": "RizTcgRVtZiQ",
        "outputId": "86a0eb43-7a05-4662-d9ed-62dd9643cea3"
      },
      "execution_count": null,
      "outputs": [
        {
          "output_type": "stream",
          "name": "stdout",
          "text": [
            "Número é maior que zero\n"
          ]
        }
      ]
    },
    {
      "cell_type": "code",
      "source": [
        "numero = 9\n",
        "if numero < 10:\n",
        "  print(\"Menor que 10\")\n",
        "elif numero < 100 :\n",
        "  print(\"Menos que 100\")\n",
        "elif numero <= 1000 :\n",
        "  print(\"Menor ou igual a 1000\")\n",
        "else :\n",
        "  print(\"Nenhuma anterior\")"
      ],
      "metadata": {
        "colab": {
          "base_uri": "https://localhost:8080/"
        },
        "id": "9NPZe09atlcI",
        "outputId": "848fa152-ce8f-4d51-887c-7133f6257004"
      },
      "execution_count": null,
      "outputs": [
        {
          "output_type": "stream",
          "name": "stdout",
          "text": [
            "Menor que 10\n"
          ]
        }
      ]
    },
    {
      "cell_type": "code",
      "source": [
        "texto = 'b'\n",
        "if texto == 'a' :\n",
        "  print(\"É vogal a\")\n",
        "elif texto == 'e' :\n",
        "  print(\"É vogal e\")\n",
        "elif texto == 'i' :\n",
        "  print(\"É vogal i\")\n",
        "elif texto == 'o' :\n",
        "  print(\"É vogal o\")\n",
        "elif texto == 'u' :\n",
        "  print(\"É vogal\")\n",
        "else :\n",
        "  print(\"É consoante\")\n"
      ],
      "metadata": {
        "colab": {
          "base_uri": "https://localhost:8080/"
        },
        "id": "fwH4M2F8uaj5",
        "outputId": "74429c19-5f78-4fa1-9e6b-9b4b194aab5b"
      },
      "execution_count": null,
      "outputs": [
        {
          "output_type": "stream",
          "name": "stdout",
          "text": [
            "É consoante\n"
          ]
        }
      ]
    },
    {
      "cell_type": "code",
      "source": [
        "numero = 10\n",
        "resultado = \"PAR\" if numero % 2 == 0 else \"IMPAR\"\n",
        "print(resultado)"
      ],
      "metadata": {
        "colab": {
          "base_uri": "https://localhost:8080/"
        },
        "id": "-cgBcqWfu6W1",
        "outputId": "cae13577-277b-4515-d23c-51813d318a06"
      },
      "execution_count": null,
      "outputs": [
        {
          "output_type": "stream",
          "name": "stdout",
          "text": [
            "PAR\n"
          ]
        }
      ]
    },
    {
      "cell_type": "code",
      "source": [
        "numero = 2\n",
        "resultado = \"Um\" if numero == 1 else \"Dois\" if numero == 2 else \"Três\"\n",
        "print(resultado)"
      ],
      "metadata": {
        "colab": {
          "base_uri": "https://localhost:8080/"
        },
        "id": "BIUKqcBTvKq8",
        "outputId": "905ec8eb-a046-40a9-bb59-c2531326f105"
      },
      "execution_count": null,
      "outputs": [
        {
          "output_type": "stream",
          "name": "stdout",
          "text": [
            "Dois\n"
          ]
        }
      ]
    },
    {
      "cell_type": "markdown",
      "source": [
        "### Atividades\n",
        "\n",
        "1 - Crie um programa que receba o seu saldo bancário e o quanto você deve. Em seguida o programa deve dizer se você tem saldo positivo ou negativo\n",
        "\n",
        "2 - Crie um programa que possui uma variável que guarde seu CPF e que guarde uma senha de sua escolha. Em seguida receba por input uma senha do usuário. Caso a senha recebida seja a correta mostre o CPF, caso não diga que a senha está incorreta.\n",
        "\n",
        "3 - Crie um programa que fale sobre sua idade. As regras são a seguinte, você deve receber por input sua idade, se você tiver até três anos printe que é um bebe, qate 13 anos uma criança, ate 18 anos adolescente, até 65 adulto. Em nenhum deste casos é um idoso.\n",
        "\n",
        "4 - Crie um programa que receba dois números, e também receba do usuário a operação que deve ser feita, as possibilidades são soma(+), subtração(-), divisão(/) e multiplicação(*). Realize a operação escolhida sobre os dois números."
      ],
      "metadata": {
        "id": "JhvSdoZpwb8u"
      }
    },
    {
      "cell_type": "code",
      "source": [
        "# 1 - Crie um programa que receba o seu saldo bancário e o quanto você deve.\n",
        "# Em seguida o programa deve dizer se você tem saldo positivo ou negativo\n",
        "saldo = input(\"Digite seu saldo R$: \")\n",
        "divida = input(\"Digite o valor que deve R$: \")\n",
        "saldo_total = float(saldo) - float(divida)\n",
        "resultado = \"Positivo\" if saldo_total >= 0 else \"Negativo\"\n",
        "print(resultado)"
      ],
      "metadata": {
        "colab": {
          "base_uri": "https://localhost:8080/"
        },
        "id": "BF2xcszqwfI2",
        "outputId": "bd96ef15-ae40-4c19-d27b-bbb6c0a12bba"
      },
      "execution_count": null,
      "outputs": [
        {
          "output_type": "stream",
          "name": "stdout",
          "text": [
            "Digite seu saldo R$: 10\n",
            "Digite o valor que deve R$: 50\n",
            "Negativo\n"
          ]
        }
      ]
    },
    {
      "cell_type": "code",
      "source": [
        "# 2 - Crie um programa que possui uma variável que guarde seu CPF e que guarde uma senha de sua escolha.\n",
        "# Em seguida receba por input uma senha do usuário.\n",
        "# Caso a senha recebida seja a correta mostre o CPF, caso não diga que a senha está incorreta.\n",
        "\n",
        "cpf = \"111.222.333-55\"\n",
        "senha = \"123456\"\n",
        "\n",
        "senha_usuario = input(\"Entre com sua senha: \")\n",
        "\n",
        "if senha_usuario == senha :\n",
        "  print(\"Seu CPF:\", cpf)\n",
        "else:\n",
        "  print(\"Senha está incorreta\")\n",
        "\n"
      ],
      "metadata": {
        "colab": {
          "base_uri": "https://localhost:8080/"
        },
        "id": "cO0T_SU3vjIV",
        "outputId": "1d74b499-741e-4e7b-e3b6-9a5f4863049b"
      },
      "execution_count": null,
      "outputs": [
        {
          "output_type": "stream",
          "name": "stdout",
          "text": [
            "Entre com sua senha: 123456\n",
            "Seu CPF: 111.222.333-55\n"
          ]
        }
      ]
    },
    {
      "cell_type": "code",
      "source": [
        "# 3 - Crie um programa que fale sobre sua idade.\n",
        "# As regras são a seguinte, você deve receber por input sua idade,\n",
        "# se você tiver até três anos printe que é um bebe,\n",
        "# ate 13 anos uma criança, ate 18 anos adolescente, até 65 adulto.\n",
        "# Em nenhum deste casos é um idoso.\n",
        "\n",
        "idade = int(input(\"Digite sua idade: \"))\n",
        "if idade <= 3:\n",
        "  print(\"Você é um bebê.\")\n",
        "elif idade <= 13 :\n",
        "  print(\"Você é uma criança\")\n",
        "elif idade <= 18 :\n",
        "  print(\"Você é um adolescente\")\n",
        "elif idade <= 65 :\n",
        "  print(\"Você é um adulto\")\n",
        "else :\n",
        "  print(\"Você é um idoso\")"
      ],
      "metadata": {
        "colab": {
          "base_uri": "https://localhost:8080/"
        },
        "id": "Iujl53WLyv46",
        "outputId": "c8acb842-dfa4-411e-ebe7-34af1bd5e5bc"
      },
      "execution_count": null,
      "outputs": [
        {
          "output_type": "stream",
          "name": "stdout",
          "text": [
            "Digite sua idade: 88\n",
            "Você é um idoso\n"
          ]
        }
      ]
    },
    {
      "cell_type": "code",
      "source": [
        "# 4 - Crie um programa que receba dois números,\n",
        "# e também receba do usuário a operação que deve ser feita,\n",
        "# as possibilidades são soma(+), subtração(-), divisão(/) e multiplicação(*).\n",
        "# Realize a operação escolhida sobre os dois números.\n",
        "operacao = input(\"Escolha operação matemática \\'+\\',\\'-\\',\\'/\\',\\'*\\'\")\n",
        "valor1 = float(input(\"Digite o primeiro valor: \"))\n",
        "valor2 = float(input(\"Digite o segundo valor: \"))\n",
        "if operacao == \"+\":\n",
        "  print(\"Soma %d + %d = %d\" % (valor1, valor2, valor1 + valor2))\n",
        "elif operacao == \"-\":\n",
        "  print(\"Soma %d - %d = %d\" % (valor1, valor2, valor1 - valor2))\n",
        "elif operacao == \"/\":\n",
        "  print(\"Soma %d / %d = %d\" % (valor1, valor2, valor1 / valor2))\n",
        "elif operacao == \"*\":\n",
        "  print(\"Soma %d * %d = %d\" % (valor1, valor2, valor1 * valor2))\n",
        "else:\n",
        "  print(\"Operação inválida.\")"
      ],
      "metadata": {
        "colab": {
          "base_uri": "https://localhost:8080/"
        },
        "id": "w23w40tX0aqM",
        "outputId": "8a87d9a2-a404-4dde-d750-96abe7f24112"
      },
      "execution_count": null,
      "outputs": [
        {
          "output_type": "stream",
          "name": "stdout",
          "text": [
            "Escolha operação matemática '+','-','/','*'+\n",
            "Digite o primeiro valor: 10\n",
            "Digite o segundo valor: 20\n",
            "Soma 10 + 20 = 30\n"
          ]
        }
      ]
    },
    {
      "cell_type": "markdown",
      "source": [
        "### Laços Whle"
      ],
      "metadata": {
        "id": "fGZpV6ddRd5z"
      }
    },
    {
      "cell_type": "code",
      "source": [
        "while(True):\n",
        "  print(\"Isso não vai parar\")"
      ],
      "metadata": {
        "id": "E49tRtDw1_1J"
      },
      "execution_count": null,
      "outputs": []
    },
    {
      "cell_type": "code",
      "source": [
        "interacao = 10\n",
        "while(interacao > 0):\n",
        "  print(interacao)\n",
        "  interacao -= 1\n",
        "\n",
        "print(\"Encerrou!\")"
      ],
      "metadata": {
        "id": "yMPTGTFkRu0Y",
        "outputId": "56cee7e4-d6de-4a44-aa63-731bdeeae732",
        "colab": {
          "base_uri": "https://localhost:8080/"
        }
      },
      "execution_count": 5,
      "outputs": [
        {
          "output_type": "stream",
          "name": "stdout",
          "text": [
            "10\n",
            "9\n",
            "8\n",
            "7\n",
            "6\n",
            "5\n",
            "4\n",
            "3\n",
            "2\n",
            "1\n",
            "Encerrou!\n"
          ]
        }
      ]
    },
    {
      "cell_type": "code",
      "source": [
        "indice = 10\n",
        "print(\"Programa começou\")\n",
        "while(indice >= 2):\n",
        "  resto = (indice % 2)\n",
        "  if resto == 0:\n",
        "    print(\"O número %d é par \" % (indice) )\n",
        "  else:\n",
        "    print(\"O número %d é impar\" % (indice))\n",
        "  indice -= 1\n",
        "\n",
        "print(\"Programa finalizou\")\n",
        "\n"
      ],
      "metadata": {
        "id": "YgVlz9tNSHeU",
        "outputId": "09419bf9-63ff-4dc8-830b-22c51d2b3fc5",
        "colab": {
          "base_uri": "https://localhost:8080/"
        }
      },
      "execution_count": 7,
      "outputs": [
        {
          "output_type": "stream",
          "name": "stdout",
          "text": [
            "Programa começou\n",
            "O número 10 é par \n",
            "O número 9 é impar\n",
            "O número 8 é par \n",
            "O número 7 é impar\n",
            "O número 6 é par \n",
            "O número 5 é impar\n",
            "O número 4 é par \n",
            "O número 3 é impar\n",
            "O número 2 é par \n",
            "Programa finalizou\n"
          ]
        }
      ]
    },
    {
      "cell_type": "code",
      "source": [
        "soma = 0\n",
        "numeros_lidos = 0\n",
        "\n",
        "while(numeros_lidos < 5):\n",
        "  num = float(input(\"Digite um valor: \"))\n",
        "  soma += num\n",
        "  numeros_lidos += 1\n",
        "\n",
        "print(\"Soma é %.2f \" % (soma))"
      ],
      "metadata": {
        "id": "3UUnb2weTAZV",
        "outputId": "49300593-544e-4e35-9837-ae7b288837ec",
        "colab": {
          "base_uri": "https://localhost:8080/"
        }
      },
      "execution_count": 8,
      "outputs": [
        {
          "output_type": "stream",
          "name": "stdout",
          "text": [
            "Digite um valor: 10\n",
            "Digite um valor: 12.5\n",
            "Digite um valor: 20\n",
            "Digite um valor: 30\n",
            "Digite um valor: 40\n",
            "Soma é 112.50 \n"
          ]
        }
      ]
    },
    {
      "cell_type": "code",
      "source": [
        "texto = \"Olá 123 _\"\n",
        "indice = 0\n",
        "while(indice < len(texto)):\n",
        "  print(texto[indice])\n",
        "  indice += 1"
      ],
      "metadata": {
        "id": "wxECjaaPUYzj",
        "outputId": "896289db-414d-437f-801b-8cb089b617e5",
        "colab": {
          "base_uri": "https://localhost:8080/"
        }
      },
      "execution_count": 9,
      "outputs": [
        {
          "output_type": "stream",
          "name": "stdout",
          "text": [
            "O\n",
            "l\n",
            "á\n",
            " \n",
            "1\n",
            "2\n",
            "3\n",
            " \n",
            "_\n"
          ]
        }
      ]
    },
    {
      "cell_type": "code",
      "source": [
        "num_atual = 0\n",
        "while(True):\n",
        "  if(num_atual == 5):\n",
        "    break\n",
        "  print(num_atual)\n",
        "  num_atual += 1\n",
        "\n",
        "print(\"Encerrou\")"
      ],
      "metadata": {
        "id": "UoKR6LmtUtI2",
        "outputId": "9d65c8c8-fc0f-4b72-d568-d0c319cfd06a",
        "colab": {
          "base_uri": "https://localhost:8080/"
        }
      },
      "execution_count": 10,
      "outputs": [
        {
          "output_type": "stream",
          "name": "stdout",
          "text": [
            "0\n",
            "1\n",
            "2\n",
            "3\n",
            "4\n",
            "Encerrou\n"
          ]
        }
      ]
    },
    {
      "cell_type": "code",
      "source": [
        "num_atual = 0\n",
        "while(num_atual < 10):\n",
        "  num_atual += 1\n",
        "  if(num_atual == 7):\n",
        "    continue\n",
        "  print(num_atual)\n",
        "print(\"Encerrou\")\n"
      ],
      "metadata": {
        "id": "PgWzUuTyVZAa",
        "outputId": "89b17371-8a50-47df-bbdc-38e1e5468b31",
        "colab": {
          "base_uri": "https://localhost:8080/"
        }
      },
      "execution_count": 12,
      "outputs": [
        {
          "output_type": "stream",
          "name": "stdout",
          "text": [
            "1\n",
            "2\n",
            "3\n",
            "4\n",
            "5\n",
            "6\n",
            "8\n",
            "9\n",
            "10\n",
            "Encerrou\n"
          ]
        }
      ]
    },
    {
      "cell_type": "code",
      "source": [],
      "metadata": {
        "id": "gHfFnFPyVtVO"
      },
      "execution_count": null,
      "outputs": []
    }
  ]
}