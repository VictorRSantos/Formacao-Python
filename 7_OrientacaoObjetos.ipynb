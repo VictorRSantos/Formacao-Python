{
  "nbformat": 4,
  "nbformat_minor": 0,
  "metadata": {
    "colab": {
      "provenance": [],
      "collapsed_sections": [
        "VjRNGKlXoRJR"
      ],
      "authorship_tag": "ABX9TyNhXTh8lTILFvIEEjcouKay",
      "include_colab_link": true
    },
    "kernelspec": {
      "name": "python3",
      "display_name": "Python 3"
    },
    "language_info": {
      "name": "python"
    }
  },
  "cells": [
    {
      "cell_type": "markdown",
      "metadata": {
        "id": "view-in-github",
        "colab_type": "text"
      },
      "source": [
        "<a href=\"https://colab.research.google.com/github/VictorRSantos/Formacao-Python/blob/main/7_OrientacaoObjetos.ipynb\" target=\"_parent\"><img src=\"https://colab.research.google.com/assets/colab-badge.svg\" alt=\"Open In Colab\"/></a>"
      ]
    },
    {
      "cell_type": "markdown",
      "source": [
        "# Orientação a Objetos"
      ],
      "metadata": {
        "id": "TPsbyS0yoGzS"
      }
    },
    {
      "cell_type": "markdown",
      "source": [
        "### Propriedades de Objetos"
      ],
      "metadata": {
        "id": "VjRNGKlXoRJR"
      }
    },
    {
      "cell_type": "code",
      "execution_count": 1,
      "metadata": {
        "colab": {
          "base_uri": "https://localhost:8080/"
        },
        "id": "QoWexsnLnwO5",
        "outputId": "23c27047-6be7-4e80-b67b-046ceea71e0f"
      },
      "outputs": [
        {
          "output_type": "stream",
          "name": "stdout",
          "text": [
            "<class '__main__.Teste'>\n"
          ]
        }
      ],
      "source": [
        "class Teste:\n",
        "  pass\n",
        "\n",
        "minha_classe = Teste()\n",
        "print(type(minha_classe))"
      ]
    },
    {
      "cell_type": "code",
      "source": [
        "class NossaClasse:\n",
        "  def __init__(self): # Construtor Padrão\n",
        "    print(\"Eu existo\")\n",
        "\n",
        "var = NossaClasse()\n",
        "print(type(var))"
      ],
      "metadata": {
        "colab": {
          "base_uri": "https://localhost:8080/"
        },
        "id": "NPJ_TGXMn-OZ",
        "outputId": "e0ecb7c8-77b4-4f02-8f88-55bb8e4d6256"
      },
      "execution_count": 2,
      "outputs": [
        {
          "output_type": "stream",
          "name": "stdout",
          "text": [
            "Eu existo\n",
            "<class '__main__.NossaClasse'>\n"
          ]
        }
      ]
    },
    {
      "cell_type": "code",
      "source": [
        "class Pessoa:\n",
        "  def __init__(self, nome, idade):\n",
        "    self.nome = nome\n",
        "    self.idade = idade\n",
        "    print(\"Pessoa com nome %s e idade %d criada\" % (nome, idade))\n",
        "\n",
        "pessoa1 = Pessoa(\"Victor\", 42)\n",
        "pessoa2 = Pessoa(\"Kucas\", 21)\n",
        "\n",
        "print(pessoa1.nome)\n",
        "print(pessoa2.idade)"
      ],
      "metadata": {
        "colab": {
          "base_uri": "https://localhost:8080/"
        },
        "id": "opFEuegwo_cd",
        "outputId": "364212dd-96fd-46d4-a553-37f53bb694cc"
      },
      "execution_count": 6,
      "outputs": [
        {
          "output_type": "stream",
          "name": "stdout",
          "text": [
            "Pessoa com nome Victor e idade 42 criada\n",
            "Pessoa com nome Kucas e idade 21 criada\n",
            "Victor\n",
            "21\n"
          ]
        }
      ]
    },
    {
      "cell_type": "code",
      "source": [
        "class Pessoa:\n",
        "  def __init__(self, nome, idade):\n",
        "    self.nome = nome\n",
        "    self.idade = idade\n",
        "    print(\"Pessoa com nome %s e idade %d criada\" % (nome, idade))\n",
        "\n",
        "pessoa1 = Pessoa(\"Victor\", 42)\n",
        "pessoa1.nome = \"Marcelo\"\n",
        "print(pessoa1.nome)\n"
      ],
      "metadata": {
        "colab": {
          "base_uri": "https://localhost:8080/"
        },
        "id": "a8H1-s6xp5rE",
        "outputId": "c9365f1b-dcf8-4069-8465-118b61efa94c"
      },
      "execution_count": 8,
      "outputs": [
        {
          "output_type": "stream",
          "name": "stdout",
          "text": [
            "Pessoa com nome Victor e idade 42 criada\n",
            "Marcelo\n"
          ]
        }
      ]
    },
    {
      "cell_type": "code",
      "source": [
        "class Pessoa:\n",
        "  especie = \"Homo Sapiens\"\n",
        "  def __init__(self, nome, idade):\n",
        "    self.nome =  nome\n",
        "    self.idade = idade\n",
        "    print(f\"Pessoa com nome {nome} e idade {idade} criada\")\n",
        "\n",
        "pessoa1 = Pessoa(\"Rodrigo\", 34)\n",
        "pessoa2 = Pessoa(\"Lucas\", 21)\n",
        "\n",
        "print(pessoa1.especie)\n",
        "print(pessoa2.especie)"
      ],
      "metadata": {
        "colab": {
          "base_uri": "https://localhost:8080/"
        },
        "id": "bJgeoxoGqJLv",
        "outputId": "320bc157-7746-44a5-e397-631d30fd60e5"
      },
      "execution_count": 9,
      "outputs": [
        {
          "output_type": "stream",
          "name": "stdout",
          "text": [
            "Pessoa com nome Rodrigo e idade 34 criada\n",
            "Pessoa com nome Lucas e idade 21 criada\n",
            "Homo Sapiens\n",
            "Homo Sapiens\n"
          ]
        }
      ]
    },
    {
      "cell_type": "code",
      "source": [
        "class Pessoa:\n",
        "  especie = \"Homo Sapiens\"\n",
        "  num_pessoas = 0\n",
        "  def __init__(self, nome, idade):\n",
        "    self.nome =  nome\n",
        "    self.idade = idade\n",
        "    Pessoa.num_pessoas += 1\n",
        "\n",
        "pessoa1 = Pessoa(\"Victor\", 42)\n",
        "print(Pessoa.num_pessoas)\n",
        "pessoa2 = Pessoa(\"Kucas\", 21)\n",
        "print(Pessoa.num_pessoas)\n",
        "pessoa2 = Pessoa(\"Maria\", 22)\n",
        "print(Pessoa.num_pessoas)\n",
        "\n"
      ],
      "metadata": {
        "colab": {
          "base_uri": "https://localhost:8080/"
        },
        "id": "UxeSzDUzq7J0",
        "outputId": "aa10a237-11d1-44ee-8933-ed0dc052c6b3"
      },
      "execution_count": 11,
      "outputs": [
        {
          "output_type": "stream",
          "name": "stdout",
          "text": [
            "1\n",
            "2\n",
            "3\n"
          ]
        }
      ]
    },
    {
      "cell_type": "markdown",
      "source": [
        "### Funções de Objetos"
      ],
      "metadata": {
        "id": "8io2D0iMobuR"
      }
    },
    {
      "cell_type": "markdown",
      "source": [],
      "metadata": {
        "id": "opy7_l2Fo0fF"
      }
    },
    {
      "cell_type": "code",
      "source": [
        "class Pessoa:\n",
        "  def __init__(self, nome, idade):\n",
        "    self.nome =  nome\n",
        "    self.idade = idade\n",
        "  def print_nome(self):\n",
        "    print(f\"Meu nome é {self.nome}\")\n",
        "\n",
        "pessoa1 = Pessoa(\"Victor\", 34)\n",
        "pessoa2 = Pessoa(\"Maria\", 22)\n",
        "\n",
        "pessoa1.print_nome()\n",
        "pessoa2.print_nome()"
      ],
      "metadata": {
        "colab": {
          "base_uri": "https://localhost:8080/"
        },
        "id": "9ynoS8rNrgBq",
        "outputId": "5301739f-9fe7-4c87-fba6-e4256819d2f6"
      },
      "execution_count": 13,
      "outputs": [
        {
          "output_type": "stream",
          "name": "stdout",
          "text": [
            "Meu nome é Victor\n",
            "Meu nome é Maria\n"
          ]
        }
      ]
    },
    {
      "cell_type": "code",
      "source": [
        "class Pessoa:\n",
        "  def __init__(self, nome, idade):\n",
        "    self.nome =  nome\n",
        "    self.idade = idade\n",
        "\n",
        "  def print_string(self, nome):\n",
        "    print(f\"Meu nome é {nome}\")\n",
        "\n",
        "  def print_nome(self):\n",
        "    self.print_string(self.nome)\n",
        "\n",
        "pessoa1 = Pessoa(\"Victor\", 34)\n",
        "pessoa2 = Pessoa(\"Maria\", 22)\n",
        "\n",
        "pessoa1.print_nome()\n",
        "pessoa2.print_nome()"
      ],
      "metadata": {
        "colab": {
          "base_uri": "https://localhost:8080/"
        },
        "id": "Ida79yL2sbf9",
        "outputId": "318ddf1b-02ec-4f16-9991-b8a9c89185d4"
      },
      "execution_count": 14,
      "outputs": [
        {
          "output_type": "stream",
          "name": "stdout",
          "text": [
            "Meu nome é Victor\n",
            "Meu nome é Maria\n"
          ]
        }
      ]
    },
    {
      "cell_type": "code",
      "source": [
        "class Pessoa:\n",
        "  def __init__(self, nome):\n",
        "    self.nome =  nome\n",
        "\n",
        "  def insere_idade(self, idade):\n",
        "    self.idade = idade\n",
        "\n",
        "victor = Pessoa(\"Victor\")\n",
        "victor.insere_idade(42)\n",
        "\n",
        "print(victor.idade)\n",
        "\n",
        ""
      ],
      "metadata": {
        "colab": {
          "base_uri": "https://localhost:8080/"
        },
        "id": "M8WYtfN4s5t5",
        "outputId": "3e02d5c3-afff-4ef4-bdcf-818e87dd513a"
      },
      "execution_count": 15,
      "outputs": [
        {
          "output_type": "stream",
          "name": "stdout",
          "text": [
            "42\n"
          ]
        }
      ]
    }
  ]
}