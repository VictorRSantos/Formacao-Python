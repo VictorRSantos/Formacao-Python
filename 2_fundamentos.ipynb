{
  "nbformat": 4,
  "nbformat_minor": 0,
  "metadata": {
    "colab": {
      "provenance": [],
      "toc_visible": true,
      "collapsed_sections": [
        "JYeCku974vpi",
        "xU0v7G2Yi6EL",
        "OeaXWqOQrs2G",
        "mXw7mtRXiNBA"
      ],
      "authorship_tag": "ABX9TyOkiV215B63SGx4vHTGoP45",
      "include_colab_link": true
    },
    "kernelspec": {
      "name": "python3",
      "display_name": "Python 3"
    },
    "language_info": {
      "name": "python"
    }
  },
  "cells": [
    {
      "cell_type": "markdown",
      "metadata": {
        "id": "view-in-github",
        "colab_type": "text"
      },
      "source": [
        "<a href=\"https://colab.research.google.com/github/VictorRSantos/Formacao-Python/blob/main/1_fundamentos.ipynb\" target=\"_parent\"><img src=\"https://colab.research.google.com/assets/colab-badge.svg\" alt=\"Open In Colab\"/></a>"
      ]
    },
    {
      "cell_type": "markdown",
      "source": [
        "# Formação Python"
      ],
      "metadata": {
        "id": "1OVIjAfq153R"
      }
    },
    {
      "cell_type": "markdown",
      "source": [
        "## 1.Fundamentos\n"
      ],
      "metadata": {
        "id": "9hGyTWBM2Hd5"
      }
    },
    {
      "cell_type": "markdown",
      "source": [
        "### Comentários e Método Print"
      ],
      "metadata": {
        "id": "gP-SSWkr4oVQ"
      }
    },
    {
      "cell_type": "code",
      "source": [
        "# isto é um comentário\n",
        "# isto é outro comentário\n",
        "print(\"olá mundo\") # isto é um comentário"
      ],
      "metadata": {
        "colab": {
          "base_uri": "https://localhost:8080/"
        },
        "id": "MoEyij4ey9nN",
        "outputId": "51a578be-d4ed-411f-df7f-cf1bb343e42c"
      },
      "execution_count": null,
      "outputs": [
        {
          "output_type": "stream",
          "name": "stdout",
          "text": [
            "olá mundo\n"
          ]
        }
      ]
    },
    {
      "cell_type": "code",
      "source": [
        "''' Este é um comentário\n",
        "o comentário continua aqui\n",
        "aqui ainda continua\n",
        "e aqui termina '''"
      ],
      "metadata": {
        "colab": {
          "base_uri": "https://localhost:8080/",
          "height": 35
        },
        "id": "0r6sNxqVzVCU",
        "outputId": "e0b00077-731e-457f-9fb4-41a031acf3df"
      },
      "execution_count": null,
      "outputs": [
        {
          "output_type": "execute_result",
          "data": {
            "text/plain": [
              "' Este é um comentário\\no comentário continua aqui\\naqui ainda continua\\ne aqui termina '"
            ],
            "application/vnd.google.colaboratory.intrinsic+json": {
              "type": "string"
            }
          },
          "metadata": {},
          "execution_count": 3
        }
      ]
    },
    {
      "cell_type": "code",
      "source": [
        "print('olá mundo')\n",
        "print(10)\n",
        "print(20.5)"
      ],
      "metadata": {
        "colab": {
          "base_uri": "https://localhost:8080/"
        },
        "id": "AtAMbmBBze2I",
        "outputId": "7675717a-4469-43c6-a2be-54ea3b8af97a"
      },
      "execution_count": null,
      "outputs": [
        {
          "output_type": "stream",
          "name": "stdout",
          "text": [
            "olá mundo\n",
            "10\n",
            "20.5\n"
          ]
        }
      ]
    },
    {
      "cell_type": "code",
      "source": [
        "print(\"Maça\", 20, 30.4)"
      ],
      "metadata": {
        "colab": {
          "base_uri": "https://localhost:8080/"
        },
        "id": "zTTu4cGezspg",
        "outputId": "7f102472-f5a3-4831-d304-5f6ef9ed2bcc"
      },
      "execution_count": null,
      "outputs": [
        {
          "output_type": "stream",
          "name": "stdout",
          "text": [
            "Maça 20 30.4\n"
          ]
        }
      ]
    },
    {
      "cell_type": "code",
      "source": [
        "print(\"Maça\",\"Pera\", \"Uva\", sep= ' - ')"
      ],
      "metadata": {
        "colab": {
          "base_uri": "https://localhost:8080/"
        },
        "id": "8p8drqbbz6LY",
        "outputId": "40da7240-c2f8-4915-cc64-d02349779dd2"
      },
      "execution_count": null,
      "outputs": [
        {
          "output_type": "stream",
          "name": "stdout",
          "text": [
            "Maça - Pera - Uva\n"
          ]
        }
      ]
    },
    {
      "cell_type": "code",
      "source": [
        "print(\"Maça\", \"Pera\", end = \" Fim\")"
      ],
      "metadata": {
        "colab": {
          "base_uri": "https://localhost:8080/"
        },
        "id": "hUJyPmB_0DVV",
        "outputId": "8cade349-2187-419a-b6c7-bc0194828759"
      },
      "execution_count": null,
      "outputs": [
        {
          "output_type": "stream",
          "name": "stdout",
          "text": [
            "Maça Pera Fim"
          ]
        }
      ]
    },
    {
      "cell_type": "code",
      "source": [
        "print(\"Este é um texto longo, \\n eu quero quebrar a linha\")"
      ],
      "metadata": {
        "colab": {
          "base_uri": "https://localhost:8080/"
        },
        "id": "phd14NBk0JbB",
        "outputId": "285826b2-7412-4614-8724-197c9bb5e4b5"
      },
      "execution_count": null,
      "outputs": [
        {
          "output_type": "stream",
          "name": "stdout",
          "text": [
            "Este é um texto longo, \n",
            " eu quero quebrar a linha\n"
          ]
        }
      ]
    },
    {
      "cell_type": "code",
      "source": [
        "print(\"Maça\", \"Pera\", sep = \"\\n\")"
      ],
      "metadata": {
        "colab": {
          "base_uri": "https://localhost:8080/"
        },
        "id": "afjZnIPL0xaZ",
        "outputId": "bb082bcb-4ef2-4ff1-9b83-018d7462925e"
      },
      "execution_count": null,
      "outputs": [
        {
          "output_type": "stream",
          "name": "stdout",
          "text": [
            "Maça\n",
            "Pera\n"
          ]
        }
      ]
    },
    {
      "cell_type": "code",
      "source": [
        "print(\"A pontuação total de %s foi %s pontos\" % (\"Fernando\",\"10\"))"
      ],
      "metadata": {
        "colab": {
          "base_uri": "https://localhost:8080/"
        },
        "id": "lMSLcw2-02VJ",
        "outputId": "9baa676b-8c12-407c-a3ab-3c58d0be4d3b"
      },
      "execution_count": null,
      "outputs": [
        {
          "output_type": "stream",
          "name": "stdout",
          "text": [
            "A pontuação total de Fernando foi 10 pontos\n"
          ]
        }
      ]
    },
    {
      "cell_type": "code",
      "source": [
        "print(\"A pontuação total de {} foi {} pontos\".format(\"Fernando\", \"10\"))"
      ],
      "metadata": {
        "colab": {
          "base_uri": "https://localhost:8080/"
        },
        "id": "bhHjBRia1Gtx",
        "outputId": "6494e0c9-f3cc-4697-c822-cc807e261cd6"
      },
      "execution_count": null,
      "outputs": [
        {
          "output_type": "stream",
          "name": "stdout",
          "text": [
            "A pontuação total de Fernando foi 10 pontos\n"
          ]
        }
      ]
    },
    {
      "cell_type": "code",
      "source": [
        "print(\"A pontuação total de \" + \"Fernando\" + \" foi\" + \" 10 \" + \"pontos\")"
      ],
      "metadata": {
        "colab": {
          "base_uri": "https://localhost:8080/"
        },
        "id": "9eZwwhuo1aj1",
        "outputId": "557baefc-a3dd-4f5d-a6ec-2292c8cddf73"
      },
      "execution_count": null,
      "outputs": [
        {
          "output_type": "stream",
          "name": "stdout",
          "text": [
            "A pontuação total de Fernando foi 10 pontos\n"
          ]
        }
      ]
    },
    {
      "cell_type": "markdown",
      "source": [
        "### Atividades\n",
        "\n",
        "1 - Realize o print do seu nome completo, sua idade e sua altura utilizando um print para cada valor.\n",
        "\n",
        "2 - Realize o print do seu nome completo, sua idade, e sua altura utilizando apenas um print para todos valores.\n",
        "\n",
        "3 - Realize o print de 3 números de sua escolha em mesmo print, mas separados pelo caractere '-'."
      ],
      "metadata": {
        "id": "JYeCku974vpi"
      }
    },
    {
      "cell_type": "code",
      "source": [
        "# 1 - Realize o print do seu nome completo, sua idade e sua altura utilizando um print para cada valor.\n",
        "print(\"Nome Completo: Goku Santos\")\n",
        "print(\"Idade: 40\")\n",
        "print(\"Altura: 1.91\")"
      ],
      "metadata": {
        "id": "JiMywDdY1zUh",
        "colab": {
          "base_uri": "https://localhost:8080/"
        },
        "outputId": "8ef0c3d8-81c6-4f6d-8353-6aff0c7c8711"
      },
      "execution_count": null,
      "outputs": [
        {
          "output_type": "stream",
          "name": "stdout",
          "text": [
            "Nome Completo: Goku Santos\n",
            "Idade: 40\n",
            "Altura: 1.91\n"
          ]
        }
      ]
    },
    {
      "cell_type": "code",
      "source": [
        "# 2 - Realize o print do seu nome completo, sua idade, e sua altura utilizando apenas um print para todos valores.\n",
        "print(\"Nome Completo: {}, Idade: {}, Altura: {}\".format(\"Goku Santos\", \"40\", 1.91))\n"
      ],
      "metadata": {
        "colab": {
          "base_uri": "https://localhost:8080/"
        },
        "id": "LNOgMLhI6BGK",
        "outputId": "96bfb71c-bcee-4ca9-cb27-e5a25a3ced1d"
      },
      "execution_count": null,
      "outputs": [
        {
          "output_type": "stream",
          "name": "stdout",
          "text": [
            "Nome Completo: Goku Santos, Idade: 40, Altura: 1.91\n"
          ]
        }
      ]
    },
    {
      "cell_type": "code",
      "source": [
        "# 3 - Realize o print de 3 números de sua escolha em mesmo print, mas separados pelo caractere '-'.\n",
        "print(\"03\",\"17\",\"15\", sep = \"-\")"
      ],
      "metadata": {
        "colab": {
          "base_uri": "https://localhost:8080/"
        },
        "id": "iODQ9JqG6p_S",
        "outputId": "7cf4f28d-d8a5-49ec-b443-157b596b1adf"
      },
      "execution_count": null,
      "outputs": [
        {
          "output_type": "stream",
          "name": "stdout",
          "text": [
            "03-17-15\n"
          ]
        }
      ]
    },
    {
      "cell_type": "markdown",
      "source": [
        "### Variáveis\n"
      ],
      "metadata": {
        "id": "xU0v7G2Yi6EL"
      }
    },
    {
      "cell_type": "code",
      "source": [
        "_numero = 1\n",
        "Numero = 2\n",
        "numero = 3\n",
        "numero123 = 4\n",
        "\n",
        "print(_numero, Numero, numero, numero123)"
      ],
      "metadata": {
        "id": "CzBbhH8a69dX",
        "colab": {
          "base_uri": "https://localhost:8080/"
        },
        "outputId": "242cbc9e-e3ec-4e14-f72e-d29516bb160b"
      },
      "execution_count": null,
      "outputs": [
        {
          "output_type": "stream",
          "name": "stdout",
          "text": [
            "1 2 3 4\n"
          ]
        }
      ]
    },
    {
      "cell_type": "code",
      "source": [
        "numero = 10\n",
        "print(numero)\n",
        "numero =20\n",
        "print(numero)"
      ],
      "metadata": {
        "colab": {
          "base_uri": "https://localhost:8080/"
        },
        "id": "24Yzkjpdlkoq",
        "outputId": "40e92567-e828-4eaf-b31d-eaa23c48d830"
      },
      "execution_count": null,
      "outputs": [
        {
          "output_type": "stream",
          "name": "stdout",
          "text": [
            "10\n",
            "20\n"
          ]
        }
      ]
    },
    {
      "cell_type": "code",
      "source": [
        "texto = 'Olá mundo!'\n",
        "print(texto)"
      ],
      "metadata": {
        "colab": {
          "base_uri": "https://localhost:8080/"
        },
        "id": "w-gti5nYl11x",
        "outputId": "1b756717-efc7-4068-8a0d-83619c8a821b"
      },
      "execution_count": null,
      "outputs": [
        {
          "output_type": "stream",
          "name": "stdout",
          "text": [
            "Olá mundo!\n"
          ]
        }
      ]
    },
    {
      "cell_type": "markdown",
      "source": [
        "### Tipos Primitivos\n"
      ],
      "metadata": {
        "id": "dJzCuR_SmQF0"
      }
    },
    {
      "cell_type": "code",
      "source": [
        "variavel = None\n",
        "print(variavel)"
      ],
      "metadata": {
        "colab": {
          "base_uri": "https://localhost:8080/"
        },
        "id": "N-YSCxl4mJMf",
        "outputId": "f1b05558-9386-4661-b3ef-bb01c4120317"
      },
      "execution_count": null,
      "outputs": [
        {
          "output_type": "stream",
          "name": "stdout",
          "text": [
            "None\n"
          ]
        }
      ]
    },
    {
      "cell_type": "code",
      "source": [
        "inteiro = 10\n",
        "print(inteiro)"
      ],
      "metadata": {
        "colab": {
          "base_uri": "https://localhost:8080/"
        },
        "id": "XvJPRxqpmk-m",
        "outputId": "b0354728-b1ab-4207-94f2-221e78259671"
      },
      "execution_count": null,
      "outputs": [
        {
          "output_type": "stream",
          "name": "stdout",
          "text": [
            "10\n"
          ]
        }
      ]
    },
    {
      "cell_type": "code",
      "source": [
        "decimal = 1.53\n",
        "print(decimal)"
      ],
      "metadata": {
        "colab": {
          "base_uri": "https://localhost:8080/"
        },
        "id": "vrClHED6mqOq",
        "outputId": "af277bb9-4a58-459d-8b47-53676c0c7c33"
      },
      "execution_count": null,
      "outputs": [
        {
          "output_type": "stream",
          "name": "stdout",
          "text": [
            "1.53\n"
          ]
        }
      ]
    },
    {
      "cell_type": "code",
      "source": [
        "texto = \"Olá, isto é um texto\"\n",
        "print(texto)"
      ],
      "metadata": {
        "colab": {
          "base_uri": "https://localhost:8080/"
        },
        "id": "JgAfQTRbmuA2",
        "outputId": "488248cd-2284-4c14-d163-80f793a37e89"
      },
      "execution_count": null,
      "outputs": [
        {
          "output_type": "stream",
          "name": "stdout",
          "text": [
            "Olá, isto é um texto\n"
          ]
        }
      ]
    },
    {
      "cell_type": "code",
      "source": [
        "var = True\n",
        "print(var)\n",
        "var = False\n",
        "print(var)"
      ],
      "metadata": {
        "colab": {
          "base_uri": "https://localhost:8080/"
        },
        "id": "rGKx-kf6m0zS",
        "outputId": "e073c604-f881-4acf-dcc3-ae3feed8ce0c"
      },
      "execution_count": null,
      "outputs": [
        {
          "output_type": "stream",
          "name": "stdout",
          "text": [
            "True\n",
            "False\n"
          ]
        }
      ]
    },
    {
      "cell_type": "code",
      "source": [
        "var1 = 10\n",
        "var2 = var1\n",
        "print(var2)"
      ],
      "metadata": {
        "colab": {
          "base_uri": "https://localhost:8080/"
        },
        "id": "UaAPzLaRm-RW",
        "outputId": "dedb6dc5-0129-49ee-b383-501e94865e2f"
      },
      "execution_count": null,
      "outputs": [
        {
          "output_type": "stream",
          "name": "stdout",
          "text": [
            "10\n"
          ]
        }
      ]
    },
    {
      "cell_type": "code",
      "source": [
        "var = None\n",
        "print(var)\n",
        "var = 1\n",
        "print(var)\n",
        "var = \"Texto\"\n",
        "print(var)"
      ],
      "metadata": {
        "colab": {
          "base_uri": "https://localhost:8080/"
        },
        "id": "LukF3LupnGtK",
        "outputId": "e8242572-7668-45b2-f909-89a26048cba2"
      },
      "execution_count": null,
      "outputs": [
        {
          "output_type": "stream",
          "name": "stdout",
          "text": [
            "None\n",
            "1\n",
            "Texto\n"
          ]
        }
      ]
    },
    {
      "cell_type": "code",
      "source": [
        "saldoBancario = 100 # Pascal Case\n",
        "SaldoBancario = 100 # Camel Case\n",
        "saldo_bancario = 100 # Snake case"
      ],
      "metadata": {
        "id": "BZqxTQienK3f"
      },
      "execution_count": null,
      "outputs": []
    },
    {
      "cell_type": "markdown",
      "source": [
        "### Atividades\n",
        "\n",
        "1 - Crie uma variável de cada tipo e ponha algum valor escolhido. Em seguida, printe todos esses valores\n",
        "\n",
        "2 - Crie variáveis para guardar seu nome, CPF e uma que indique se você está casado, em seguida printe esses valores separadamente, mas não esqueça de printar junto o que eles significam."
      ],
      "metadata": {
        "id": "pYPSUfP_oOSS"
      }
    },
    {
      "cell_type": "code",
      "source": [
        "# 1 - Crie uma variável de cada tipo e ponha algum valor escolhido. Em seguida, printe todos esses valores\n",
        "inteiro = 10\n",
        "decimal = 3.1415\n",
        "texto = 'Texto'\n",
        "logico = True\n",
        "\n",
        "print(\"Inteiro:{}, Decimal:{}, Texto:{}, Logico:{}\".format(inteiro, decimal, texto, logico))"
      ],
      "metadata": {
        "colab": {
          "base_uri": "https://localhost:8080/"
        },
        "id": "5v3tbbXQoR4s",
        "outputId": "26caa3de-3491-4161-cd44-d8181ee3c44c"
      },
      "execution_count": null,
      "outputs": [
        {
          "output_type": "stream",
          "name": "stdout",
          "text": [
            "Inteiro:10, Decimal:3.1415, Texto:Texto, Logico:True\n"
          ]
        }
      ]
    },
    {
      "cell_type": "code",
      "source": [
        "# 2 - Crie variáveis para guardar seu nome, CPF e uma que indique se você está casado, em seguida printe esses valores separadamente,\n",
        "# mas não esqueça de printar junto o que eles significam.\n",
        "nome_completo = \"Teste de Python da Silva\"\n",
        "print(nome_completo)\n",
        "cpf = \"222.333.444-55\"\n",
        "print(cpf)\n",
        "casado = True\n",
        "print(casado)\n",
        "\n",
        "print(\"\\n\\nNome Completo:{}\\nCPF:{}\\ncasado:{}\".format(nome_completo, cpf, casado))\n"
      ],
      "metadata": {
        "colab": {
          "base_uri": "https://localhost:8080/"
        },
        "id": "zizWK9X9pego",
        "outputId": "dc9cd25d-99cf-40b6-dcec-7cbe0e2e4696"
      },
      "execution_count": null,
      "outputs": [
        {
          "output_type": "stream",
          "name": "stdout",
          "text": [
            "Teste de Python da Silva\n",
            "222.333.444-55\n",
            "True\n",
            "\n",
            "\n",
            "Nome Completo:Teste de Python da Silva\n",
            "CPF:222.333.444-55\n",
            "casado:True\n"
          ]
        }
      ]
    },
    {
      "cell_type": "markdown",
      "source": [
        "### Formatação\n",
        "%s - texto\n",
        "\n",
        "%d - inteiro\n",
        "\n",
        "%f - real"
      ],
      "metadata": {
        "id": "OeaXWqOQrs2G"
      }
    },
    {
      "cell_type": "code",
      "source": [
        "nome = \"Carolina\"\n",
        "texto_formatado = \"O nome dela é %s \" % (nome)\n",
        "\n",
        "print(texto_formatado)"
      ],
      "metadata": {
        "colab": {
          "base_uri": "https://localhost:8080/"
        },
        "id": "1swIufZ8qO8q",
        "outputId": "591577a6-48f4-479b-a93b-9cce48c856d8"
      },
      "execution_count": null,
      "outputs": [
        {
          "output_type": "stream",
          "name": "stdout",
          "text": [
            "O nome dela é Carolina \n"
          ]
        }
      ]
    },
    {
      "cell_type": "code",
      "source": [
        "nome = \"Rodrigo\"\n",
        "idade = 23\n",
        "altura = 1.73\n",
        "texto = \"Meu nome é %s. tenho %d anos e tenho %f metros de altura\" % (nome, idade, altura)\n",
        "print(texto)"
      ],
      "metadata": {
        "colab": {
          "base_uri": "https://localhost:8080/"
        },
        "id": "2c_rbN04sese",
        "outputId": "f1118c9a-7204-43b7-cf14-ba05ef9c00d9"
      },
      "execution_count": null,
      "outputs": [
        {
          "output_type": "stream",
          "name": "stdout",
          "text": [
            "Meu nome é Rodrigo. tenho 23 anos e tenho 1.730000 metros de altura\n"
          ]
        }
      ]
    },
    {
      "cell_type": "code",
      "source": [
        "numero_gigante = 1.123456789\n",
        "print(\"Número gigante formatado: %.2f\" % (numero_gigante))"
      ],
      "metadata": {
        "colab": {
          "base_uri": "https://localhost:8080/"
        },
        "id": "ucuWn_b6sf2u",
        "outputId": "87e2a93b-0bd2-4cf4-dfe0-6ad7f84fe57f"
      },
      "execution_count": null,
      "outputs": [
        {
          "output_type": "stream",
          "name": "stdout",
          "text": [
            "Número gigante formatado: 1.12\n"
          ]
        }
      ]
    },
    {
      "cell_type": "code",
      "source": [
        "valor = True\n",
        "print(\"Valor é %s\" % (valor))\n",
        "print(\"Valor é %d\" % (valor))"
      ],
      "metadata": {
        "colab": {
          "base_uri": "https://localhost:8080/"
        },
        "id": "sOZBJSTGsok-",
        "outputId": "c4241e23-3c96-476d-ae3e-0643d5cec283"
      },
      "execution_count": null,
      "outputs": [
        {
          "output_type": "stream",
          "name": "stdout",
          "text": [
            "Valor é True\n",
            "Valor é 1\n"
          ]
        }
      ]
    },
    {
      "cell_type": "code",
      "source": [
        "decimal = 23.4566\n",
        "print(\"A parte inteira é %d\" % (decimal))"
      ],
      "metadata": {
        "colab": {
          "base_uri": "https://localhost:8080/"
        },
        "id": "7lvSQDY3srsQ",
        "outputId": "e11561e7-9dc9-4561-83d5-3e2d86918dc8"
      },
      "execution_count": null,
      "outputs": [
        {
          "output_type": "stream",
          "name": "stdout",
          "text": [
            "A parte inteira é 23\n"
          ]
        }
      ]
    },
    {
      "cell_type": "markdown",
      "source": [
        "### Formatação com Caracteres Especiais"
      ],
      "metadata": {
        "id": "inUCXFsYsvOh"
      }
    },
    {
      "cell_type": "code",
      "source": [
        "texto = \"Olá, assim que se quebra uma linha, \\n\\tentendeu como quebra a linha?\\n\\t\\tfim\"\n",
        "print(texto)"
      ],
      "metadata": {
        "colab": {
          "base_uri": "https://localhost:8080/"
        },
        "id": "UM4XU7UNsyq6",
        "outputId": "44467db0-0b12-4c2d-ab97-307e42447f81"
      },
      "execution_count": null,
      "outputs": [
        {
          "output_type": "stream",
          "name": "stdout",
          "text": [
            "Olá, assim que se quebra uma linha, \n",
            "\tentendeu como quebra a linha?\n",
            "\t\tfim\n"
          ]
        }
      ]
    },
    {
      "cell_type": "code",
      "source": [
        "texto = 'Deixa a \\'palavra\\' entre aspas'\n",
        "print(texto)"
      ],
      "metadata": {
        "colab": {
          "base_uri": "https://localhost:8080/"
        },
        "id": "6gMTK6uBs7Wt",
        "outputId": "d56b49c2-5bfa-4d5a-8a31-98c0938819d1"
      },
      "execution_count": null,
      "outputs": [
        {
          "output_type": "stream",
          "name": "stdout",
          "text": [
            "Deixa a 'palavra' entre aspas\n"
          ]
        }
      ]
    },
    {
      "cell_type": "markdown",
      "source": [
        "### Atividades\n",
        "1 - Escreva e formate a data em que você nasceu no formato dia/mês/ano. Não esqueça de criar 3 variáveis para guardar o dia, mês e ano. Exemplo Saida: Eu Nasci em xx/x/xxxx\n",
        "\n",
        "2 - Escreva e formate a hora e minuto atual. Não esqueça de criar duas variáveis para guardar a hora é minuto. Exemplo Saida: Agora são 22 horas e 37 minutos\n",
        "\n",
        "3 - Escreva um programa que contêm o número PI, que deve ter o valor exato de 3.14159265359. Agora formate esse número para ter apenas cinco casas decimais. Exemplo Saída: O PI é 3.14159"
      ],
      "metadata": {
        "id": "1W4t2vbCs-06"
      }
    },
    {
      "cell_type": "code",
      "source": [
        "# 1 - Escreva e formate a data em que você nasceu no formato dia/mês/ano. Não esqueça de criar 3 variáveis para guardar o dia, mês e ano.\n",
        "dia, mes, ano = 10, 5, 1995\n",
        "data_nascimento = 'Eu nasci em %d/%d/%d' % (dia, mes, ano)\n",
        "print(data_nascimento)"
      ],
      "metadata": {
        "colab": {
          "base_uri": "https://localhost:8080/"
        },
        "id": "b2-DdkfttE3N",
        "outputId": "198e1918-ddf2-46d2-b2cb-9dc6b5cec273"
      },
      "execution_count": null,
      "outputs": [
        {
          "output_type": "stream",
          "name": "stdout",
          "text": [
            "Eu nasci em 10/5/1995\n"
          ]
        }
      ]
    },
    {
      "cell_type": "code",
      "source": [
        "# 2 - Escreva e formate a hora e minuto atual. Não esqueça de criar duas variáveis para guardar a hora é minuto.\n",
        "hora, minutos = 22, 57\n",
        "hora_atual = \"Agora são %d horas e %d minutos\" % (hora, minutos)\n",
        "print(hora_atual)"
      ],
      "metadata": {
        "colab": {
          "base_uri": "https://localhost:8080/"
        },
        "id": "zDLkmskEtGKQ",
        "outputId": "8233dce9-8734-4d8c-f69d-3e495bcbfc9b"
      },
      "execution_count": null,
      "outputs": [
        {
          "output_type": "stream",
          "name": "stdout",
          "text": [
            "Agora são 22 horas e 57 minutos\n"
          ]
        }
      ]
    },
    {
      "cell_type": "code",
      "source": [
        "# 3 - Escreva um programa que contêm o número PI, que deve ter o valor exato de 3.14159265359. Agora formate esse número para ter apenas cinco casas decimais.\n",
        "pi = 3.14159265359\n",
        "pi_formatado = \"O PI é normalmente exibido com %.5f\" % (pi)\n",
        "print(pi_formatado)"
      ],
      "metadata": {
        "colab": {
          "base_uri": "https://localhost:8080/"
        },
        "id": "OzAaJpxMtGeP",
        "outputId": "d1545350-ad45-4533-cff9-83fa3817950b"
      },
      "execution_count": null,
      "outputs": [
        {
          "output_type": "stream",
          "name": "stdout",
          "text": [
            "O PI é normalmente exibido com 3.14159\n"
          ]
        }
      ]
    },
    {
      "cell_type": "markdown",
      "source": [
        "### Operádores Aritméticos"
      ],
      "metadata": {
        "id": "mXw7mtRXiNBA"
      }
    },
    {
      "cell_type": "code",
      "source": [
        "print(10 + 20)"
      ],
      "metadata": {
        "id": "aElCEadxsec4",
        "colab": {
          "base_uri": "https://localhost:8080/"
        },
        "outputId": "d62251c0-7237-4a59-f2f4-564330cd0718"
      },
      "execution_count": null,
      "outputs": [
        {
          "output_type": "stream",
          "name": "stdout",
          "text": [
            "30\n"
          ]
        }
      ]
    },
    {
      "cell_type": "code",
      "source": [
        "numero = 10 + 10.5\n",
        "print(numero)"
      ],
      "metadata": {
        "colab": {
          "base_uri": "https://localhost:8080/"
        },
        "id": "eep36h-_inqd",
        "outputId": "51c880bc-aad3-489c-97b7-51cc53a92654"
      },
      "execution_count": null,
      "outputs": [
        {
          "output_type": "stream",
          "name": "stdout",
          "text": [
            "20.5\n"
          ]
        }
      ]
    },
    {
      "cell_type": "code",
      "source": [
        "outro_numero = 30 + numero\n",
        "print(outro_numero)"
      ],
      "metadata": {
        "colab": {
          "base_uri": "https://localhost:8080/"
        },
        "id": "EVN9HZSpisnH",
        "outputId": "eb0a5db3-1849-4686-8d6a-8cfe4f8581a7"
      },
      "execution_count": null,
      "outputs": [
        {
          "output_type": "stream",
          "name": "stdout",
          "text": [
            "50.5\n"
          ]
        }
      ]
    },
    {
      "cell_type": "code",
      "source": [
        "numero = 20 - 10\n",
        "print(numero)\n"
      ],
      "metadata": {
        "colab": {
          "base_uri": "https://localhost:8080/"
        },
        "id": "mEYYP7Nlix00",
        "outputId": "b4e09c9e-6cb2-49e8-8b3c-8976ece927f7"
      },
      "execution_count": null,
      "outputs": [
        {
          "output_type": "stream",
          "name": "stdout",
          "text": [
            "10\n"
          ]
        }
      ]
    },
    {
      "cell_type": "code",
      "source": [
        "numero = 10 * 2\n",
        "print(numero)"
      ],
      "metadata": {
        "colab": {
          "base_uri": "https://localhost:8080/"
        },
        "id": "DETvMzNWi2oP",
        "outputId": "0f24e328-f114-42d5-ee8c-963cb5fe81a7"
      },
      "execution_count": null,
      "outputs": [
        {
          "output_type": "stream",
          "name": "stdout",
          "text": [
            "20\n"
          ]
        }
      ]
    },
    {
      "cell_type": "code",
      "source": [
        "numero = 10 / 3\n",
        "print(numero)"
      ],
      "metadata": {
        "colab": {
          "base_uri": "https://localhost:8080/"
        },
        "id": "5yMfrPwSi6c3",
        "outputId": "e934dbec-e2fb-4d9e-cf99-c0a8253fa6a0"
      },
      "execution_count": null,
      "outputs": [
        {
          "output_type": "stream",
          "name": "stdout",
          "text": [
            "3.3333333333333335\n"
          ]
        }
      ]
    },
    {
      "cell_type": "code",
      "source": [
        "numero = 10 // 3\n",
        "print(numero)"
      ],
      "metadata": {
        "colab": {
          "base_uri": "https://localhost:8080/"
        },
        "id": "SJLvCbl9i-Sj",
        "outputId": "465bbfcb-9235-48b5-f21a-f385df22b8dd"
      },
      "execution_count": null,
      "outputs": [
        {
          "output_type": "stream",
          "name": "stdout",
          "text": [
            "3\n"
          ]
        }
      ]
    },
    {
      "cell_type": "code",
      "source": [
        "numero = 2 ** 4\n",
        "print(numero)"
      ],
      "metadata": {
        "colab": {
          "base_uri": "https://localhost:8080/"
        },
        "id": "VGwRPux5jK-7",
        "outputId": "1fed4a34-73fa-472a-8feb-c7ea29531d9f"
      },
      "execution_count": null,
      "outputs": [
        {
          "output_type": "stream",
          "name": "stdout",
          "text": [
            "16\n"
          ]
        }
      ]
    },
    {
      "cell_type": "code",
      "source": [
        "numero = 4 % 3\n",
        "print(numero)"
      ],
      "metadata": {
        "colab": {
          "base_uri": "https://localhost:8080/"
        },
        "id": "oLkflWoQjSN7",
        "outputId": "53048941-6e96-4cf1-f97f-24d810b2804d"
      },
      "execution_count": null,
      "outputs": [
        {
          "output_type": "stream",
          "name": "stdout",
          "text": [
            "1\n"
          ]
        }
      ]
    },
    {
      "cell_type": "markdown",
      "source": [
        "### Exemplo de ordem de prioridade"
      ],
      "metadata": {
        "id": "Mq5iqO1tj8jg"
      }
    },
    {
      "cell_type": "code",
      "source": [
        "numero1 = 10 * 2 + 1\n",
        "print(numero1)"
      ],
      "metadata": {
        "colab": {
          "base_uri": "https://localhost:8080/"
        },
        "id": "5CnRU2ncjbY3",
        "outputId": "8f12b4b1-90a7-46b0-d379-3fe15357ae61"
      },
      "execution_count": null,
      "outputs": [
        {
          "output_type": "stream",
          "name": "stdout",
          "text": [
            "21\n"
          ]
        }
      ]
    },
    {
      "cell_type": "code",
      "source": [
        "numero1 = 10 * (2 + 1)\n",
        "print(numero1)"
      ],
      "metadata": {
        "colab": {
          "base_uri": "https://localhost:8080/"
        },
        "id": "gvAXmHe_kK0f",
        "outputId": "729c3e6f-2cff-4a55-b9ea-3f467dedaa0f"
      },
      "execution_count": null,
      "outputs": [
        {
          "output_type": "stream",
          "name": "stdout",
          "text": [
            "30\n"
          ]
        }
      ]
    },
    {
      "cell_type": "code",
      "source": [
        "numero1 = 3 * 3 - 9\n",
        "print(numero1)"
      ],
      "metadata": {
        "colab": {
          "base_uri": "https://localhost:8080/"
        },
        "id": "I7HOdSrvkPem",
        "outputId": "b161bd33-40d8-40d4-9a80-b91225601f87"
      },
      "execution_count": null,
      "outputs": [
        {
          "output_type": "stream",
          "name": "stdout",
          "text": [
            "0\n"
          ]
        }
      ]
    },
    {
      "cell_type": "code",
      "source": [
        "numero1 = 3 * (3 - 9)\n",
        "print(numero1)"
      ],
      "metadata": {
        "colab": {
          "base_uri": "https://localhost:8080/"
        },
        "id": "1gJDYxEDkZe6",
        "outputId": "ac0c0d75-1e21-4265-f115-0e30cb0f57b0"
      },
      "execution_count": null,
      "outputs": [
        {
          "output_type": "stream",
          "name": "stdout",
          "text": [
            "-18\n"
          ]
        }
      ]
    },
    {
      "cell_type": "code",
      "source": [
        "nume1 = 20\n",
        "nume2 = 40\n",
        "nume3 = 60\n",
        "resultado = nume1 + nume2 + nume3\n",
        "print(resultado)"
      ],
      "metadata": {
        "colab": {
          "base_uri": "https://localhost:8080/"
        },
        "id": "38-pBbTgkdsH",
        "outputId": "59d2a99c-5894-4f17-b101-6c7bc6ab1940"
      },
      "execution_count": null,
      "outputs": [
        {
          "output_type": "stream",
          "name": "stdout",
          "text": [
            "120\n"
          ]
        }
      ]
    },
    {
      "cell_type": "code",
      "source": [
        "resultado = resultado * 2\n",
        "print(resultado)"
      ],
      "metadata": {
        "colab": {
          "base_uri": "https://localhost:8080/"
        },
        "id": "okobWwYDkuAL",
        "outputId": "43577aef-7c93-4f0d-a249-abd1db12abd1"
      },
      "execution_count": null,
      "outputs": [
        {
          "output_type": "stream",
          "name": "stdout",
          "text": [
            "240\n"
          ]
        }
      ]
    },
    {
      "cell_type": "code",
      "source": [
        "a = 1\n",
        "a += 1\n",
        "print(a)"
      ],
      "metadata": {
        "colab": {
          "base_uri": "https://localhost:8080/"
        },
        "id": "FmgfvZuUkxeH",
        "outputId": "d411e59b-c040-4a10-b6f0-23ddbb33d65a"
      },
      "execution_count": null,
      "outputs": [
        {
          "output_type": "stream",
          "name": "stdout",
          "text": [
            "2\n"
          ]
        }
      ]
    },
    {
      "cell_type": "markdown",
      "source": [
        "### Atividades\n",
        "1 - Crie um programa que possui duas variáveis, uma recebe o ano em que estamos e a outra o ano em que você nasceu. Em seguida subtraia ambas para receber uma estimativa de quantos anos você tem. Mostre esse valor na saída do programa.\n",
        "\n",
        "2 - Crie um programa que faz a média aritmética entre três números. Estes números devem ser salvo em uma variável. Mostre esse valor na saída do programa.\n",
        "\n",
        "3 - Crie um programa que calcule o IMC (índice de massa corporal).\n",
        "O IMC é dado pelo peso em KG divido pela altura em metros elevado ao quadrado. Salvar esses valores em uma variável. Mostre esse valor na saída do programa.\n",
        "\n",
        "4 - (Desafio) - Você tem um determinado números de ovos de páscoa para dividir entre um determinado número de pessoas (duas variáveis iniciais). Determine quantos ovos ficarao por pessoa e quantos ovos sobrarao pois não puderam ser divido igualmente. Lembre o número de ovos por pessoa é um número inteiro."
      ],
      "metadata": {
        "id": "4r9f0Ru-lBjg"
      }
    },
    {
      "cell_type": "code",
      "source": [
        "# 1 - Crie um programa que possui duas variáveis, uma recebe o ano em que estamos e a outra o ano em que você nasceu.\n",
        "# Em seguida subtraia ambas para receber uma estimativa de quantos anos você tem. Mostre esse valor na saída do programa.\n",
        "\n",
        "ano_atual = 2023\n",
        "ano_nascimento = 1983\n",
        "idade = ano_atual - ano_nascimento\n",
        "print(\"Sua idade é %d\" % (idade))\n"
      ],
      "metadata": {
        "colab": {
          "base_uri": "https://localhost:8080/"
        },
        "id": "AqmbFKc-k5z3",
        "outputId": "171cb246-19a7-44e0-dbd8-3a38c008be72"
      },
      "execution_count": null,
      "outputs": [
        {
          "output_type": "stream",
          "name": "stdout",
          "text": [
            "Sua idade é 40\n"
          ]
        }
      ]
    },
    {
      "cell_type": "code",
      "source": [
        "# 2 - Crie um programa que faz a média aritmética entre três números.\n",
        "# Estes números devem ser salvo em uma variável. Mostre esse valor na saída do programa.\n",
        "\n",
        "numero1 = 5\n",
        "numero2 = 8\n",
        "numero3 = 10\n",
        "media = (numero1 + numero2 + numero3) / 3\n",
        "print(\"Média aritmética é %.2f\" % (media))"
      ],
      "metadata": {
        "colab": {
          "base_uri": "https://localhost:8080/"
        },
        "id": "_-Q_5NHblkUk",
        "outputId": "23983e06-f40e-4241-b617-69dfc3fc2914"
      },
      "execution_count": null,
      "outputs": [
        {
          "output_type": "stream",
          "name": "stdout",
          "text": [
            "Média aritmética é 7.67\n"
          ]
        }
      ]
    },
    {
      "cell_type": "code",
      "source": [
        "# 3 - Crie um programa que calcule o IMC (índice de massa corporal).\n",
        "# O IMC é dado pelo peso em KG divido pela altura em metros elevado ao quadrado.\n",
        "# Salvar esses valores em uma variável. Mostre esse valor na saída do programa.\n",
        "\n",
        "peso = 144\n",
        "altura = 1.91\n",
        "imc = peso // altura ** 2\n",
        "print('Seu IMC é %.2f' % (imc))"
      ],
      "metadata": {
        "colab": {
          "base_uri": "https://localhost:8080/"
        },
        "id": "g9Uc68TRmn7X",
        "outputId": "c9c8e67c-28e7-4067-fb37-b0bd346acf77"
      },
      "execution_count": null,
      "outputs": [
        {
          "output_type": "stream",
          "name": "stdout",
          "text": [
            "Seu IMC é 39.00\n"
          ]
        }
      ]
    },
    {
      "cell_type": "code",
      "source": [
        "# 4 - (Desafio) Você tem um determinado números de ovos de páscoa para dividir entre um determinado número de pessoas (duas variáveis iniciais).\n",
        "# Determine quantos ovos ficarao por pessoa e quantos ovos sobrarao pois não puderam ser divido igualmente.\n",
        "# Lembre o número de ovos por pessoa é um número inteiro.\n",
        "\n",
        "quantidade_ovos = 56\n",
        "quantidade_pessoas = 3\n",
        "print(\"Tenho inicialmente %d ovos para %d pessoas\" % (quantidade_ovos, quantidade_pessoas))\n",
        "\n",
        "total_ovos_por_pessoa =  quantidade_ovos // quantidade_pessoas\n",
        "sobraram_total_ovos = quantidade_ovos % quantidade_pessoas\n",
        "\n",
        "print(\"Cada uma das %d pessoas terá %d ovo(s) \" % (quantidade_pessoas, total_ovos_por_pessoa))\n",
        "print(\"Restou %d ovo(s) que não puderam ser divididos\" % (sobraram_total_ovos))\n"
      ],
      "metadata": {
        "colab": {
          "base_uri": "https://localhost:8080/"
        },
        "id": "eiKVY4GknlCD",
        "outputId": "fe71945b-41ac-4082-8de0-f362a803d681"
      },
      "execution_count": null,
      "outputs": [
        {
          "output_type": "stream",
          "name": "stdout",
          "text": [
            "Tenho inicialmente 56 ovos para 3 pessoas\n",
            "Cada uma das 3 pessoas terá 18 ovo(s) \n",
            "Restou 2 ovo(s) que não puderam ser divididos\n"
          ]
        }
      ]
    },
    {
      "cell_type": "markdown",
      "source": [
        "### Operadores Lógicos\n"
      ],
      "metadata": {
        "id": "L01CNa7A9sJp"
      }
    },
    {
      "cell_type": "code",
      "source": [
        "resultado1 = True and False\n",
        "print(resultado1)"
      ],
      "metadata": {
        "id": "zhi8yEfmpVF3",
        "outputId": "0d1f1d8b-5591-4e55-a6d9-3fc36da5a7cd",
        "colab": {
          "base_uri": "https://localhost:8080/"
        }
      },
      "execution_count": null,
      "outputs": [
        {
          "output_type": "stream",
          "name": "stdout",
          "text": [
            "False\n"
          ]
        }
      ]
    },
    {
      "cell_type": "code",
      "source": [
        "resultado2 = True and True\n",
        "print(resultado1)"
      ],
      "metadata": {
        "id": "bue8i9mX-j1Y",
        "outputId": "6ba5d3e6-04a6-487b-c76d-8d69bbd14d8b",
        "colab": {
          "base_uri": "https://localhost:8080/"
        }
      },
      "execution_count": null,
      "outputs": [
        {
          "output_type": "stream",
          "name": "stdout",
          "text": [
            "False\n"
          ]
        }
      ]
    },
    {
      "cell_type": "code",
      "source": [
        "var1 = True\n",
        "var2 = False\n",
        "var3 = False\n",
        "print(var1 and var2 and var3)"
      ],
      "metadata": {
        "id": "fmmtqsIn-soj",
        "outputId": "35dccffe-c863-4f97-f9ba-6c9289a4e409",
        "colab": {
          "base_uri": "https://localhost:8080/"
        }
      },
      "execution_count": null,
      "outputs": [
        {
          "output_type": "stream",
          "name": "stdout",
          "text": [
            "False\n"
          ]
        }
      ]
    },
    {
      "cell_type": "code",
      "source": [
        "clima_bom = True\n",
        "estou_disposto = True\n",
        "vou_ao_mercado = clima_bom and estou_disposto\n",
        "print(\"Vou ao mercado? \", vou_ao_mercado)"
      ],
      "metadata": {
        "id": "pxH4GMlP-0a0",
        "outputId": "877f07d7-bbfb-4b3d-8d6e-c59917895c67",
        "colab": {
          "base_uri": "https://localhost:8080/"
        }
      },
      "execution_count": null,
      "outputs": [
        {
          "output_type": "stream",
          "name": "stdout",
          "text": [
            "Vou ao mercado?  True\n"
          ]
        }
      ]
    },
    {
      "cell_type": "code",
      "source": [
        "resultado = True or False\n",
        "print(resultado)"
      ],
      "metadata": {
        "id": "gUd2nsHQ_Kfn",
        "outputId": "f0c0b1c4-baae-47cf-fd48-ff1fbac9a405",
        "colab": {
          "base_uri": "https://localhost:8080/"
        }
      },
      "execution_count": null,
      "outputs": [
        {
          "output_type": "stream",
          "name": "stdout",
          "text": [
            "True\n"
          ]
        }
      ]
    },
    {
      "cell_type": "code",
      "source": [
        "resultado = True or True\n",
        "print(resultado)"
      ],
      "metadata": {
        "id": "dA35_YGD_e8D",
        "outputId": "728e83c4-0ab1-460a-cdf9-8da181a2ad8d",
        "colab": {
          "base_uri": "https://localhost:8080/"
        }
      },
      "execution_count": null,
      "outputs": [
        {
          "output_type": "stream",
          "name": "stdout",
          "text": [
            "True\n"
          ]
        }
      ]
    },
    {
      "cell_type": "code",
      "source": [
        "resultado = False or False\n",
        "print(resultado)"
      ],
      "metadata": {
        "id": "rTnYOwlf_gmb",
        "outputId": "08d21a61-ee65-4ecc-b3c0-714aad240f08",
        "colab": {
          "base_uri": "https://localhost:8080/"
        }
      },
      "execution_count": null,
      "outputs": [
        {
          "output_type": "stream",
          "name": "stdout",
          "text": [
            "False\n"
          ]
        }
      ]
    },
    {
      "cell_type": "code",
      "source": [
        "sei_programar = True\n",
        "sei_investir = True\n",
        "ganho_bom_salario = sei_programar or sei_investir\n",
        "print(\"Terei um bom salário? \", ganho_bom_salario)"
      ],
      "metadata": {
        "id": "YDrgwN4y_kSv",
        "outputId": "b2e73794-3528-4146-981a-771fe30ff3a9",
        "colab": {
          "base_uri": "https://localhost:8080/"
        }
      },
      "execution_count": null,
      "outputs": [
        {
          "output_type": "stream",
          "name": "stdout",
          "text": [
            "Terei um bom salário?  True\n"
          ]
        }
      ]
    },
    {
      "cell_type": "code",
      "source": [
        "resultado = True\n",
        "print(not resultado)"
      ],
      "metadata": {
        "id": "TinLQtyg_0gf",
        "outputId": "6ded7440-5e86-490d-e378-6535922bda51",
        "colab": {
          "base_uri": "https://localhost:8080/"
        }
      },
      "execution_count": null,
      "outputs": [
        {
          "output_type": "stream",
          "name": "stdout",
          "text": [
            "False\n"
          ]
        }
      ]
    },
    {
      "cell_type": "code",
      "source": [
        "resultado = False\n",
        "print(not resultado)"
      ],
      "metadata": {
        "id": "FulJBecY_9qi",
        "outputId": "cc4179ed-0e23-49c7-ee4b-d35cec309851",
        "colab": {
          "base_uri": "https://localhost:8080/"
        }
      },
      "execution_count": null,
      "outputs": [
        {
          "output_type": "stream",
          "name": "stdout",
          "text": [
            "True\n"
          ]
        }
      ]
    },
    {
      "cell_type": "code",
      "source": [
        "porta_aberta = True\n",
        "tem_chave = False\n",
        "print(\"Estou tracando? \", not porta_aberta and not tem_chave)"
      ],
      "metadata": {
        "id": "SX5MKMgNAABG",
        "outputId": "26888565-ece5-4512-a703-c4e8636c2466",
        "colab": {
          "base_uri": "https://localhost:8080/"
        }
      },
      "execution_count": null,
      "outputs": [
        {
          "output_type": "stream",
          "name": "stdout",
          "text": [
            "Estou tracando?  False\n"
          ]
        }
      ]
    },
    {
      "cell_type": "code",
      "source": [
        "# Prioridade\n",
        "# NOT, AND, OR\n",
        "\n",
        "bool1 = True or False and True\n",
        "print(bool1)\n",
        "\n",
        "bool2 = True or not False\n",
        "print(bool2)\n",
        "\n",
        "bool3 = True and not (True or False)\n",
        "print(bool3)"
      ],
      "metadata": {
        "id": "5cq2m-rrAUCk",
        "outputId": "00f0c6c9-9b6a-4193-bd46-3d46e371bfe7",
        "colab": {
          "base_uri": "https://localhost:8080/"
        }
      },
      "execution_count": null,
      "outputs": [
        {
          "output_type": "stream",
          "name": "stdout",
          "text": [
            "True\n",
            "True\n",
            "False\n"
          ]
        }
      ]
    },
    {
      "cell_type": "markdown",
      "source": [
        "### Atividades\n",
        "\n",
        "1.   Crie um programa que diga \"se você precisa ir ao mercado\". Você precisa ir ao mercado se \"faltar comida\" ou \"se for sábado\". Mostre na saída do programa o valor lógico, indicando sim ou não.\n",
        "2.   Crie um programa que responda \"se você pode atravessar a rua\" na faixa de pedestres. Você pode atravessar a rua se o \"sinal estiver vermelho\" e \"se não houver nenhum carro vindo da direita\" E \"nem da esquerda\". Altere as variáveis para verificar se o programa esta correto. Mostre na saída do programa o valor lógico.\n",
        "3.   Agora faça a mesma coisa que o exercício anterior, mas desta vez você está com pressa e para atravessar a rua basta que o sinal esteja vermelho \"OU\" que não venha carro da esquerda e direita. Altere as variáveis para verificar a resposta em comparação com ao exercício anterior. Mostre na saída do programa o valor lógico.\n",
        "\n",
        "\n"
      ],
      "metadata": {
        "id": "qRYLIuVVBSC_"
      }
    },
    {
      "cell_type": "code",
      "source": [
        "# 1. Crie um programa que diga \"se você precisa ir ao mercado\".\n",
        "# Você precisa ir ao mercado se \"faltar comida\" ou \"se for sábado\".\n",
        "# Mostre na saída do programa o valor lógico, indicando sim ou não.\n",
        "falta_comida = True\n",
        "sabado = False\n",
        "vou_ao_mercado = falta_comida or sabado\n",
        "print(\"Preciso ir ao mercado? \", vou_ao_mercado)"
      ],
      "metadata": {
        "id": "qA7v-_x0AsrI",
        "outputId": "d31f1406-f53a-44cb-a90b-92f45fbdd1ef",
        "colab": {
          "base_uri": "https://localhost:8080/"
        }
      },
      "execution_count": null,
      "outputs": [
        {
          "output_type": "stream",
          "name": "stdout",
          "text": [
            "Preciso ir ao mercado?  True\n"
          ]
        }
      ]
    },
    {
      "cell_type": "code",
      "source": [
        "# 2. Crie um programa que responda \"se você pode atravessar a rua\" na faixa de pedestres.\n",
        "# Você pode atravessar a rua se o \"sinal estiver vermelho\" e \"se não houver nenhum carro vindo da direita\" e \"nem da esquerda\".\n",
        "# Altere as variáveis para verificar se o programa esta correto. Mostre na saída do programa o valor lógico.\n",
        "\n",
        "sinal_vermelho = True\n",
        "carro_vindo_da_direta = False\n",
        "carro_vindo_da_esquerda = False\n",
        "pode_atravessar = sinal_vermelho and not carro_vindo_da_direta  and  not carro_vindo_da_esquerda\n",
        "print(\"Posso atravessar a rua? \", pode_atravessar)"
      ],
      "metadata": {
        "id": "QHid_--2CEhQ",
        "outputId": "43661757-4972-427f-ae6a-addf08e3a3f9",
        "colab": {
          "base_uri": "https://localhost:8080/"
        }
      },
      "execution_count": null,
      "outputs": [
        {
          "output_type": "stream",
          "name": "stdout",
          "text": [
            "Posso atravessar a rua?  True\n"
          ]
        }
      ]
    },
    {
      "cell_type": "code",
      "source": [
        "# 3. Agora faça a mesma coisa que o exercício anterior, mas desta vez você está com pressa e para atravessar\n",
        "# a rua basta que o sinal esteja vermelho \"OU\" que não venha carro da esquerda e direita.\n",
        "# Altere as variáveis para verificar a resposta em comparação com ao exercício anterior. Mostre na saída do programa o valor lógico.\n",
        "\n",
        "sinal_vermelho = True\n",
        "carro_vindo_da_direta = False\n",
        "carro_vindo_da_esquerda = False\n",
        "atravessar = sinal_vermelho or not carro_vindo_da_direta  or not carro_vindo_da_esquerda\n",
        "print(\"Posso atravessar a rua? \", atravessar)\n"
      ],
      "metadata": {
        "id": "Bl4lDRZHDS9a",
        "outputId": "44275560-0e39-4776-8c33-56e3d2dff34d",
        "colab": {
          "base_uri": "https://localhost:8080/"
        }
      },
      "execution_count": null,
      "outputs": [
        {
          "output_type": "stream",
          "name": "stdout",
          "text": [
            "Posso atravessar a rua?  True\n"
          ]
        }
      ]
    },
    {
      "cell_type": "markdown",
      "source": [
        "### Type e Casting"
      ],
      "metadata": {
        "id": "Mkg-GisSpyRR"
      }
    },
    {
      "cell_type": "code",
      "source": [
        "# Ver o tipo do dado na variávei\n",
        "\n",
        "texto = \"olá\"\n",
        "numero = 2\n",
        "decimal = 1.5\n",
        "booleano = True\n",
        "print(type(texto))\n",
        "print(type(numero))\n",
        "print(type(decimal))\n",
        "print(type(booleano))"
      ],
      "metadata": {
        "id": "cxfC9RmRERe2",
        "outputId": "400128e6-013c-4166-a32c-a0565df49eb5",
        "colab": {
          "base_uri": "https://localhost:8080/"
        }
      },
      "execution_count": null,
      "outputs": [
        {
          "output_type": "stream",
          "name": "stdout",
          "text": [
            "<class 'str'>\n",
            "<class 'int'>\n",
            "<class 'float'>\n",
            "<class 'bool'>\n"
          ]
        }
      ]
    },
    {
      "cell_type": "code",
      "source": [
        "texto1 = \"2\"\n",
        "texto2 = \"1.5\"\n",
        "numero1 = int(texto1)\n",
        "numero2 = float(texto2)\n",
        "print(type(numero1))\n",
        "print(type(numero2))\n",
        "print(numero1 + numero2)"
      ],
      "metadata": {
        "id": "NvWW1MKfqVRJ",
        "outputId": "d1b5cd55-1e90-4640-98ef-fab06482e825",
        "colab": {
          "base_uri": "https://localhost:8080/"
        }
      },
      "execution_count": null,
      "outputs": [
        {
          "output_type": "stream",
          "name": "stdout",
          "text": [
            "<class 'int'>\n",
            "<class 'float'>\n",
            "3.5\n"
          ]
        }
      ]
    },
    {
      "cell_type": "code",
      "source": [
        "num = 21.45646\n",
        "inteira = int(num)\n",
        "print(\"A parte inteira de %f é %d\" % (num, inteira))"
      ],
      "metadata": {
        "id": "mUQagCM5qxlc",
        "outputId": "7e857111-e5de-419a-a2d9-17e0d8779781",
        "colab": {
          "base_uri": "https://localhost:8080/"
        }
      },
      "execution_count": null,
      "outputs": [
        {
          "output_type": "stream",
          "name": "stdout",
          "text": [
            "A parte inteira de 21.456460 é 21\n"
          ]
        }
      ]
    },
    {
      "cell_type": "code",
      "source": [
        "texto = \"O numero é:\"\n",
        "numero = 10.3\n",
        "numero_em_string = str(numero)\n",
        "print(texto, numero_em_string)\n",
        "print(type(numero_em_string))\n"
      ],
      "metadata": {
        "id": "CORryO1UrUPx",
        "outputId": "8abb0c12-9a1a-49fb-f125-4b4ca05298a6",
        "colab": {
          "base_uri": "https://localhost:8080/"
        }
      },
      "execution_count": null,
      "outputs": [
        {
          "output_type": "stream",
          "name": "stdout",
          "text": [
            "O numero é: 10.3\n",
            "<class 'str'>\n"
          ]
        }
      ]
    },
    {
      "cell_type": "code",
      "source": [
        "numero  = 123\n",
        "texto = str(numero)\n",
        "numero_de_digitos = len(texto)\n",
        "print(\"O numero %s tem %d digitos \" % (texto, numero_de_digitos))"
      ],
      "metadata": {
        "id": "3q8TKTKVrpSO",
        "outputId": "4596938e-c22a-4445-a771-11519cba9a8f",
        "colab": {
          "base_uri": "https://localhost:8080/"
        }
      },
      "execution_count": null,
      "outputs": [
        {
          "output_type": "stream",
          "name": "stdout",
          "text": [
            "O numero 123 tem 3 digitos \n"
          ]
        }
      ]
    },
    {
      "cell_type": "code",
      "source": [
        "vazio = None\n",
        "numero_um = 15\n",
        "numero_zero = 0\n",
        "texto = \"Texto\"\n",
        "texto_vazio = \"\"\n",
        "decimal_zero = 0.0\n",
        "decimal = 3.5\n",
        "\n",
        "print(\"Variavel tem valor: \", bool(vazio))\n",
        "\n",
        "print(\"Número tem valor: \", bool(numero_um))\n",
        "print(\"Número tem valor: \", bool(numero_zero))\n",
        "\n",
        "print(\"String tem conteúdo: \", bool(texto))\n",
        "print(\"String tem conteúdo: \", bool(texto_vazio))\n",
        "\n",
        "print(\"Float tem valor: \", bool(decimal_zero))\n",
        "print(\"Float tem valor: \", bool(decimal))\n",
        "\n"
      ],
      "metadata": {
        "id": "3X4UlNQfsEgG",
        "outputId": "fd868a3b-389e-4a46-82f2-c36ed8282b97",
        "colab": {
          "base_uri": "https://localhost:8080/"
        }
      },
      "execution_count": null,
      "outputs": [
        {
          "output_type": "stream",
          "name": "stdout",
          "text": [
            "Variavel tem valor:  False\n",
            "Número tem valor:  True\n",
            "Número tem valor:  False\n",
            "String tem conteúdo:  True\n",
            "String tem conteúdo:  False\n",
            "Float tem valor:  False\n",
            "Float tem valor:  True\n"
          ]
        }
      ]
    },
    {
      "cell_type": "markdown",
      "source": [
        "### Atividade\n",
        "\n",
        "1 - Crie um programa que possui uma variável do \"tipo string\" contendo um número que indique quanto você tem no banco. Em seguida desconte mil deste valor e mostre na saída do programa.\n",
        "\n",
        "2 - Crie um programa que indique se seu saldo bancário está zerado (valor lógico). Declare uma variável para guardar seu saldo bancário.\n",
        "\n",
        "3 - Crie um programa que contenha sua altura, mas deve somente mostrar a parte inteira de sua altura na saída do programa, pois queremos uma estivativa."
      ],
      "metadata": {
        "id": "uuTcqeH_tYiJ"
      }
    },
    {
      "cell_type": "code",
      "source": [
        "# 1 - Crie um programa que possui uma variável do \"tipo string\"\n",
        "# contendo um número que indique quanto você tem no banco.\n",
        "# Em seguida desconte mil deste valor e mostre na saída do programa.\n",
        "\n"
      ],
      "metadata": {
        "id": "sykiGr0eteWO"
      },
      "execution_count": null,
      "outputs": []
    },
    {
      "cell_type": "code",
      "source": [
        "saldo_bancario = \"5000\"\n",
        "saldo_conta = float(saldo_bancario) - 1000\n",
        "print(\"Tenho no banco R$ %.2f\" % (saldo_conta))"
      ],
      "metadata": {
        "id": "RG9P7JdosX0i",
        "colab": {
          "base_uri": "https://localhost:8080/"
        },
        "outputId": "92027c95-5a40-4a7e-e6cc-588ce752999c"
      },
      "execution_count": null,
      "outputs": [
        {
          "output_type": "stream",
          "name": "stdout",
          "text": [
            "Tenho no banco R$ 4000.00\n"
          ]
        }
      ]
    },
    {
      "cell_type": "code",
      "source": [
        "# 2 - Crie um programa que indique se seu saldo bancário está zerado (valor lógico).\n",
        "# Declare uma variável para guardar seu saldo bancário.\n",
        "saldo = 850\n",
        "esta_zerado = not bool(saldo)\n",
        "print(\"Saldo zerado: \", esta_zerado)\n"
      ],
      "metadata": {
        "colab": {
          "base_uri": "https://localhost:8080/"
        },
        "id": "RaOPhnTru-M5",
        "outputId": "0db17105-44a1-4ac9-b7b2-aa7be48b6023"
      },
      "execution_count": null,
      "outputs": [
        {
          "output_type": "stream",
          "name": "stdout",
          "text": [
            "Saldo zerado:  False\n"
          ]
        }
      ]
    },
    {
      "cell_type": "code",
      "source": [
        "# 3 - Crie um programa que contenha sua altura,\n",
        "# mas deve somente mostrar a parte inteira de sua altura na\n",
        "# saída do programa, pois queremos uma estivativa.\n",
        "altura = 1.91\n",
        "altura_inteira = int(altura)\n",
        "print(\"Tenho pelo menos %i metros de altura \" % (altura_inteira))"
      ],
      "metadata": {
        "colab": {
          "base_uri": "https://localhost:8080/"
        },
        "id": "K5-WBGOOwC9I",
        "outputId": "0b78b178-9ca9-4896-c498-82e3a9576f9b"
      },
      "execution_count": null,
      "outputs": [
        {
          "output_type": "stream",
          "name": "stdout",
          "text": [
            "Tenho pelo menos 1 metros de altura \n"
          ]
        }
      ]
    },
    {
      "cell_type": "markdown",
      "source": [
        "### Lendo entradas do usuário Input"
      ],
      "metadata": {
        "id": "6IWZjGec1-e8"
      }
    },
    {
      "cell_type": "code",
      "source": [
        "valor_escrito = input()\n",
        "print(type(valor_escrito))\n",
        "print(valor_escrito)\n"
      ],
      "metadata": {
        "colab": {
          "base_uri": "https://localhost:8080/"
        },
        "id": "WRR8_nhgwkvF",
        "outputId": "4a4e6bbc-88e9-4555-eb7c-e62568918c14"
      },
      "execution_count": null,
      "outputs": [
        {
          "output_type": "stream",
          "name": "stdout",
          "text": [
            "20\n",
            "<class 'str'>\n",
            "20\n"
          ]
        }
      ]
    },
    {
      "cell_type": "code",
      "source": [
        "meu_nome = input()\n",
        "print(\"Eu me chamo %s \" % meu_nome)"
      ],
      "metadata": {
        "colab": {
          "base_uri": "https://localhost:8080/"
        },
        "id": "dn1m6jQD2Xlw",
        "outputId": "a99623ba-230f-4be3-a579-7352ec31c4e2"
      },
      "execution_count": null,
      "outputs": [
        {
          "output_type": "stream",
          "name": "stdout",
          "text": [
            "Victor\n",
            "Eu me chamo Victor \n"
          ]
        }
      ]
    },
    {
      "cell_type": "code",
      "source": [
        "dia = input(\"Insira o dia: \")\n",
        "mes = input(\"Insira o mês: \")\n",
        "ano = input(\"Insira o ano: \")\n",
        "print(\"A data inserida for %s/%s/%s\" % (dia, mes, ano))"
      ],
      "metadata": {
        "colab": {
          "base_uri": "https://localhost:8080/"
        },
        "id": "MCrjzpRe2o9t",
        "outputId": "17f96b51-9313-468f-f2f1-65660fb15cbd"
      },
      "execution_count": null,
      "outputs": [
        {
          "output_type": "stream",
          "name": "stdout",
          "text": [
            "Insira o dia: 11\n",
            "Insira o mês: 12\n",
            "Insira o ano: 2023\n",
            "A data inserida for 11/12/2023\n"
          ]
        }
      ]
    },
    {
      "cell_type": "code",
      "source": [
        "entrada_usuario = input(\"Digita 1 para verdadeiro e 0 para falso: \")\n",
        "valor_inteiro = int(entrada_usuario)\n",
        "valor_logico = bool(valor_inteiro)\n",
        "print(\"Você escolheu: %s \" % valor_logico)\n",
        "print(\"ou ainda, você escolheu: %i \" % (valor_inteiro))"
      ],
      "metadata": {
        "colab": {
          "base_uri": "https://localhost:8080/"
        },
        "id": "D261XjHt27A5",
        "outputId": "26426c84-7714-4581-ad78-afe13cf9a69b"
      },
      "execution_count": null,
      "outputs": [
        {
          "output_type": "stream",
          "name": "stdout",
          "text": [
            "Digita 1 para verdade e 0 para falso: 0\n",
            "Você escolheu: False \n",
            "ou ainda, você escolheu: 0 \n"
          ]
        }
      ]
    },
    {
      "cell_type": "markdown",
      "source": [
        "### Atividade\n",
        "\n",
        "1 - Crie um programa que leia por input dois número e realize a divisao entre ambos. Formate o print para mostrar o cálculo completo.\n",
        "\n",
        "2 - Crie um programa que mostre o dia, mês, ano, hora, minuto e segundos inseridos pelo usuário. Formate o valor."
      ],
      "metadata": {
        "id": "197k8sjI3-jy"
      }
    },
    {
      "cell_type": "code",
      "source": [
        "# 1 - Crie um programa que leia por input dois número e realize a divisao entre ambos.\n",
        "# Formate o print para mostrar o cálculo completo.\n",
        "num1 = input(\"Digite um número: \")\n",
        "num2 = input(\"Digite segundo número: \")\n",
        "resultado = float(num1) / float(num2)\n",
        "print(\"%s dividido por %s é igual %.2f\" % (num1, num2, resultado))\n",
        "\n",
        "\n"
      ],
      "metadata": {
        "colab": {
          "base_uri": "https://localhost:8080/"
        },
        "id": "oy-OYgLK3wWS",
        "outputId": "39863e51-f6f8-4179-bf30-92240ec6e125"
      },
      "execution_count": null,
      "outputs": [
        {
          "output_type": "stream",
          "name": "stdout",
          "text": [
            "Digite um número: 10\n",
            "Digite segundo número: 3\n",
            "10 dividido por 3 é igual 3.33\n"
          ]
        }
      ]
    },
    {
      "cell_type": "code",
      "source": [
        "# 2 - Crie um programa que mostre o dia, mês, ano, hora,\n",
        "# minuto e segundos inseridos pelo usuário. Formate o valor.\n",
        "dia = input(\"Insira dia: \")\n",
        "mes = input(\"Insira mes: \")\n",
        "ano = input(\"Insira ano: \")\n",
        "hora = input(\"Insira hora: \")\n",
        "minuto = input(\"Insira minuto: \")\n",
        "segundo = input(\"Insira segundo: \")\n",
        "data_hora = \"Data: %s/%s/%s %s:%s:%s\" % (dia, mes, ano, hora, minuto, segundo)\n",
        "print(data_hora)\n"
      ],
      "metadata": {
        "colab": {
          "base_uri": "https://localhost:8080/"
        },
        "id": "1OEkaBEZ5U2I",
        "outputId": "64efd228-2882-42c6-8212-7df4a2a01083"
      },
      "execution_count": null,
      "outputs": [
        {
          "output_type": "stream",
          "name": "stdout",
          "text": [
            "Insira dia: 11\n",
            "Insira mes: 12\n",
            "Insira ano: 2023\n",
            "Insira hora: 16\n",
            "Insira minuto: 10\n",
            "Insira segundo: 10\n",
            "Data: 11/12/2023 16:10:10\n"
          ]
        }
      ]
    },
    {
      "cell_type": "markdown",
      "source": [
        "### Operadores de Atribuiaçao e Combinação  de Operadores Lógicos"
      ],
      "metadata": {
        "id": "0KzE1snP80dT"
      }
    },
    {
      "cell_type": "code",
      "source": [
        "numero = 1\n",
        "numero = numero + 1\n",
        "print(numero)"
      ],
      "metadata": {
        "colab": {
          "base_uri": "https://localhost:8080/"
        },
        "id": "WHPYIFgC7pRd",
        "outputId": "7729acb9-537e-4396-aa7f-619e3ae13020"
      },
      "execution_count": null,
      "outputs": [
        {
          "output_type": "stream",
          "name": "stdout",
          "text": [
            "2\n"
          ]
        }
      ]
    },
    {
      "cell_type": "code",
      "source": [
        "numero = 1\n",
        "numero += 1\n",
        "print(numero)"
      ],
      "metadata": {
        "id": "KqHlcT939Ovm",
        "outputId": "bdf09853-03f7-4e8e-917b-44f7c75cd35b",
        "colab": {
          "base_uri": "https://localhost:8080/"
        }
      },
      "execution_count": null,
      "outputs": [
        {
          "output_type": "stream",
          "name": "stdout",
          "text": [
            "2\n"
          ]
        }
      ]
    },
    {
      "cell_type": "code",
      "source": [
        "numero = 10\n",
        "numero = numero / 2\n",
        "print(numero)"
      ],
      "metadata": {
        "id": "9gw-weDl9bx-",
        "outputId": "30f09fe9-b602-4da7-ef2d-923b19929961",
        "colab": {
          "base_uri": "https://localhost:8080/"
        }
      },
      "execution_count": null,
      "outputs": [
        {
          "output_type": "stream",
          "name": "stdout",
          "text": [
            "5.0\n"
          ]
        }
      ]
    },
    {
      "cell_type": "code",
      "source": [
        "numero = 10\n",
        "numero /=  2\n",
        "print(numero)"
      ],
      "metadata": {
        "id": "oE6DDIql9i6j",
        "outputId": "3baf15bd-d607-42d1-b6ee-e8367921c7ad",
        "colab": {
          "base_uri": "https://localhost:8080/"
        }
      },
      "execution_count": null,
      "outputs": [
        {
          "output_type": "stream",
          "name": "stdout",
          "text": [
            "5.0\n"
          ]
        }
      ]
    },
    {
      "cell_type": "code",
      "source": [
        "num = 10\n",
        "booleana = (num == 10)\n",
        "print(booleana)"
      ],
      "metadata": {
        "id": "_bxUxpTp9mO7",
        "outputId": "cccdc2d8-6dda-48ce-fcd1-a7a54b6e19cd",
        "colab": {
          "base_uri": "https://localhost:8080/"
        }
      },
      "execution_count": null,
      "outputs": [
        {
          "output_type": "stream",
          "name": "stdout",
          "text": [
            "True\n"
          ]
        }
      ]
    },
    {
      "cell_type": "code",
      "source": [
        "num = 20\n",
        "booleana = (num != 10)\n",
        "print(booleana)"
      ],
      "metadata": {
        "id": "pXIoutOr95BH",
        "outputId": "287f9888-9621-4611-d06b-aa3f55f09265",
        "colab": {
          "base_uri": "https://localhost:8080/"
        }
      },
      "execution_count": null,
      "outputs": [
        {
          "output_type": "stream",
          "name": "stdout",
          "text": [
            "True\n"
          ]
        }
      ]
    },
    {
      "cell_type": "code",
      "source": [
        "num1 = 10\n",
        "num2 = 20\n",
        "e_maior = num1 > num2\n",
        "print(e_maior)"
      ],
      "metadata": {
        "id": "_JH9kLIT-BtT",
        "outputId": "a3a17afd-e70e-4010-9071-d5f22d95c992",
        "colab": {
          "base_uri": "https://localhost:8080/"
        }
      },
      "execution_count": null,
      "outputs": [
        {
          "output_type": "stream",
          "name": "stdout",
          "text": [
            "False\n"
          ]
        }
      ]
    },
    {
      "cell_type": "code",
      "source": [
        "num1 = 10\n",
        "num2 = 20\n",
        "e_menor = num1 < num2\n",
        "print(e_menor)"
      ],
      "metadata": {
        "id": "LT8F-DEz-Uzn",
        "outputId": "08833727-7f9d-4464-8e35-f79d894553f1",
        "colab": {
          "base_uri": "https://localhost:8080/"
        }
      },
      "execution_count": null,
      "outputs": [
        {
          "output_type": "stream",
          "name": "stdout",
          "text": [
            "True\n"
          ]
        }
      ]
    },
    {
      "cell_type": "code",
      "source": [
        "num1 = 10\n",
        "num2 = 20\n",
        "e_menor_igual = num1 <= num2\n",
        "print(e_menor_igual)"
      ],
      "metadata": {
        "id": "kDsqIn-h-ZrT",
        "outputId": "5ed29c5e-0b6c-45cd-fcfe-3455ebe974dc",
        "colab": {
          "base_uri": "https://localhost:8080/"
        }
      },
      "execution_count": null,
      "outputs": [
        {
          "output_type": "stream",
          "name": "stdout",
          "text": [
            "True\n"
          ]
        }
      ]
    },
    {
      "cell_type": "code",
      "source": [
        "num = 5\n",
        "boolean = num > 0 and num < 10\n",
        "print(boolean)"
      ],
      "metadata": {
        "id": "Tz9LRWNM-e0I",
        "outputId": "2d7b8357-8f91-4512-e55b-6efa9794cfe2",
        "colab": {
          "base_uri": "https://localhost:8080/"
        }
      },
      "execution_count": null,
      "outputs": [
        {
          "output_type": "stream",
          "name": "stdout",
          "text": [
            "True\n"
          ]
        }
      ]
    },
    {
      "cell_type": "code",
      "source": [
        "num = 11\n",
        "boolean = num > 0 and num < 10\n",
        "print(boolean)"
      ],
      "metadata": {
        "id": "MnYg3jZ6-zub",
        "outputId": "60def678-0baa-4ecb-898e-a8c3424db55e",
        "colab": {
          "base_uri": "https://localhost:8080/"
        }
      },
      "execution_count": null,
      "outputs": [
        {
          "output_type": "stream",
          "name": "stdout",
          "text": [
            "False\n"
          ]
        }
      ]
    },
    {
      "cell_type": "code",
      "source": [
        "# ver. se é tipo float e igual a 10.1 ou 20.2\n",
        "num = 10.1\n",
        "boolean = type(num) == float and (num == 10.1 or num == 20.2)\n",
        "print(boolean)"
      ],
      "metadata": {
        "id": "VIn-4KEO-8Xo",
        "outputId": "49de4094-512f-4d87-c8ba-cde308a0926f",
        "colab": {
          "base_uri": "https://localhost:8080/"
        }
      },
      "execution_count": null,
      "outputs": [
        {
          "output_type": "stream",
          "name": "stdout",
          "text": [
            "True\n"
          ]
        }
      ]
    },
    {
      "cell_type": "markdown",
      "source": [
        "### Ativades\n",
        "\n",
        "1 - Crie um programa que responda se você foi aprovado numa prova. Você somente foi aprovado numa prova se sua média for maior ou igual que 7 ou se sua nota no exame for maior ou igual a 5. Leia esses valores por input.\n",
        "\n",
        "2 - Crie um programa que diga se a senha esta correta e portanto você tem acesso ao sistema. A senha devera ser salva no código, e a tentativa deve ser lida por input."
      ],
      "metadata": {
        "id": "xfKY5n6x_qBb"
      }
    },
    {
      "cell_type": "code",
      "source": [
        "# 1 - Crie um programa que responda se você foi aprovado numa prova.\n",
        "# Você somente foi aprovado numa prova se sua média for maior ou igual que 7\n",
        "# ou se sua nota no exame for maior ou igual a 5. Leia esses valores por input.\n",
        "media_input = input(\"Digite sua média nas provas: \")\n",
        "exame_input = input(\"Digite sua nota no exame: \")\n",
        "media_prova = int(media_input)\n",
        "nota_exame = int(exame_input)\n",
        "aprovado = (media_prova >= 7) or (nota_exame >= 5)\n",
        "print(\"Aprovação: %s \" % aprovado)"
      ],
      "metadata": {
        "id": "fvPTOxem_ZDs",
        "outputId": "9e0280fa-fb0e-4426-cfdf-4571d49f1ba2",
        "colab": {
          "base_uri": "https://localhost:8080/"
        }
      },
      "execution_count": null,
      "outputs": [
        {
          "output_type": "stream",
          "name": "stdout",
          "text": [
            "Digite sua média nas provas: 5\n",
            "Digite sua nota no exame: 2\n",
            "Aprovação: False \n"
          ]
        }
      ]
    },
    {
      "cell_type": "code",
      "source": [
        "# 2 - Crie um programa que diga se a senha esta correta e portanto você tem acesso ao sistema.\n",
        "# A senha devera ser salva no código, e a tentativa deve ser lida por input.\n",
        "senha_padrao = \"123456\"\n",
        "senha_usuario = input(\"Digite sua senha para logar\")\n",
        "acesso_ao_sistema = senha_padrao == senha_usuario\n",
        "print(\"Senha está correta? \", acesso_ao_sistema)\n",
        "\n"
      ],
      "metadata": {
        "id": "IlC0xGp-BYkO",
        "outputId": "c179fad3-58d5-4a55-a223-6944b36a5038",
        "colab": {
          "base_uri": "https://localhost:8080/"
        }
      },
      "execution_count": null,
      "outputs": [
        {
          "output_type": "stream",
          "name": "stdout",
          "text": [
            "Digite sua senha para logar1111\n",
            "Senha está correta?  False\n"
          ]
        }
      ]
    },
    {
      "cell_type": "markdown",
      "source": [
        "### Slicing - Operadores sobre string"
      ],
      "metadata": {
        "id": "AHCvj0c5xzRZ"
      }
    },
    {
      "cell_type": "code",
      "source": [
        "texto1 = \"Olá\"\n",
        "texto2 = \",\"\n",
        "texto3 = \"tudo bem?\"\n",
        "texto_completo = texto1 + texto2 + texto3\n",
        "print(texto_completo)"
      ],
      "metadata": {
        "id": "lfoiflevDMKs",
        "outputId": "6d12399f-dca5-4c16-99dd-132b9cf7f349",
        "colab": {
          "base_uri": "https://localhost:8080/"
        }
      },
      "execution_count": 1,
      "outputs": [
        {
          "output_type": "stream",
          "name": "stdout",
          "text": [
            "Olá,tudo bem?\n"
          ]
        }
      ]
    },
    {
      "cell_type": "code",
      "source": [
        "texto1 = \"olá\"\n",
        "texto1 += \" mundo\"\n",
        "print(texto1)"
      ],
      "metadata": {
        "id": "NF4Y9d-bybDs",
        "outputId": "cb8bfd5b-2913-4729-fa7d-27f830220e07",
        "colab": {
          "base_uri": "https://localhost:8080/"
        }
      },
      "execution_count": 2,
      "outputs": [
        {
          "output_type": "stream",
          "name": "stdout",
          "text": [
            "olá mundo\n"
          ]
        }
      ]
    },
    {
      "cell_type": "code",
      "source": [
        "texto = \"Python é bem produtivo,\"\n",
        "texto_repetido = texto * 3\n",
        "print(texto_repetido)"
      ],
      "metadata": {
        "id": "XdFoZFZUyj9u",
        "outputId": "592ddf10-2f06-4d1e-cedb-98fc32665259",
        "colab": {
          "base_uri": "https://localhost:8080/"
        }
      },
      "execution_count": 4,
      "outputs": [
        {
          "output_type": "stream",
          "name": "stdout",
          "text": [
            "Python é bem produtivo,Python é bem produtivo,Python é bem produtivo,\n"
          ]
        }
      ]
    },
    {
      "cell_type": "code",
      "source": [
        "texto = \"exemplo\"\n",
        "print(texto[0])\n",
        "print(texto[1])\n",
        "print(texto[2])"
      ],
      "metadata": {
        "id": "SlXTryHCytq_",
        "outputId": "53c4bae9-a22e-449e-ec5b-7761de6576a0",
        "colab": {
          "base_uri": "https://localhost:8080/"
        }
      },
      "execution_count": 6,
      "outputs": [
        {
          "output_type": "stream",
          "name": "stdout",
          "text": [
            "e\n",
            "x\n",
            "e\n"
          ]
        }
      ]
    },
    {
      "cell_type": "code",
      "source": [
        "texto = \"exemplo\"\n",
        "print(texto[1:3])\n",
        "print(texto[3:])\n",
        "print(texto[:5])"
      ],
      "metadata": {
        "id": "PTfXP1msy3my",
        "outputId": "7d6df4c5-fbbe-4583-865e-1db28945486e",
        "colab": {
          "base_uri": "https://localhost:8080/"
        }
      },
      "execution_count": 10,
      "outputs": [
        {
          "output_type": "stream",
          "name": "stdout",
          "text": [
            "xe\n",
            "mplo\n",
            "exemp\n"
          ]
        }
      ]
    },
    {
      "cell_type": "code",
      "source": [
        "texto = \"carro\"\n",
        "print(texto[-4])\n",
        "print(texto[-4:])\n",
        "print(texto[:-1])\n",
        "print(texto[-5:-2])"
      ],
      "metadata": {
        "id": "s9JAoshczAGv",
        "outputId": "27623835-bb7b-49c4-f104-b44441d2e8f9",
        "colab": {
          "base_uri": "https://localhost:8080/"
        }
      },
      "execution_count": 14,
      "outputs": [
        {
          "output_type": "stream",
          "name": "stdout",
          "text": [
            "a\n",
            "arro\n",
            "carr\n",
            "car\n"
          ]
        }
      ]
    },
    {
      "cell_type": "code",
      "source": [
        "texto = \"metro\"\n",
        "print(texto[::-1])\n",
        "print(texto[3::-1])\n",
        "print(texto[3:1:-1])"
      ],
      "metadata": {
        "id": "eDipE73yzoXn",
        "outputId": "f106dcc9-4ee7-475a-acc2-c6adafd174b1",
        "colab": {
          "base_uri": "https://localhost:8080/"
        }
      },
      "execution_count": 19,
      "outputs": [
        {
          "output_type": "stream",
          "name": "stdout",
          "text": [
            "ortem\n",
            "rtem\n",
            "rt\n"
          ]
        }
      ]
    },
    {
      "cell_type": "code",
      "source": [
        "texto = \"023\"\n",
        "texto = \"1\" + texto[1:]\n",
        "print(texto)"
      ],
      "metadata": {
        "id": "DCuzz7la0KEO",
        "outputId": "9f7ba6dc-e46a-4d50-848f-a15e42b2c94e",
        "colab": {
          "base_uri": "https://localhost:8080/"
        }
      },
      "execution_count": 21,
      "outputs": [
        {
          "output_type": "stream",
          "name": "stdout",
          "text": [
            "123\n"
          ]
        }
      ]
    },
    {
      "cell_type": "code",
      "source": [
        "texto = \"abcdefg\"\n",
        "texto = texto[:3] + texto[4:]\n",
        "print(texto)"
      ],
      "metadata": {
        "id": "EaLxbC4r033p",
        "outputId": "ce86c261-85c9-4e9b-eed7-ca1e1ae47a86",
        "colab": {
          "base_uri": "https://localhost:8080/"
        }
      },
      "execution_count": 24,
      "outputs": [
        {
          "output_type": "stream",
          "name": "stdout",
          "text": [
            "abcefg\n"
          ]
        }
      ]
    },
    {
      "cell_type": "code",
      "source": [
        "texto1 = \"Olá\"\n",
        "texto2 = \"Olá\"\n",
        "igual = texto1 == texto2\n",
        "print(\"Textos são iguais?\", igual)"
      ],
      "metadata": {
        "id": "YSInTJln1Kuz",
        "outputId": "46cab837-6908-496f-c786-22ed030c8038",
        "colab": {
          "base_uri": "https://localhost:8080/"
        }
      },
      "execution_count": 26,
      "outputs": [
        {
          "output_type": "stream",
          "name": "stdout",
          "text": [
            "Textos são iguais? True\n"
          ]
        }
      ]
    },
    {
      "cell_type": "code",
      "source": [
        "texto1 = \"Olá\"\n",
        "texto2 = \"Ol\"\n",
        "igual = texto1 == texto2\n",
        "print(\"Textos são iguais?\", igual)"
      ],
      "metadata": {
        "id": "S66ymO9t1flx",
        "outputId": "ac7c31b7-e74f-4f71-d08b-0f8401f891e7",
        "colab": {
          "base_uri": "https://localhost:8080/"
        }
      },
      "execution_count": 27,
      "outputs": [
        {
          "output_type": "stream",
          "name": "stdout",
          "text": [
            "Textos são iguais? False\n"
          ]
        }
      ]
    },
    {
      "cell_type": "code",
      "source": [
        "print(\"a\" != \"b\")"
      ],
      "metadata": {
        "id": "P-OVaqNg1oxt",
        "outputId": "27d2cba6-167a-4a44-cb35-cac9350be504",
        "colab": {
          "base_uri": "https://localhost:8080/"
        }
      },
      "execution_count": 28,
      "outputs": [
        {
          "output_type": "stream",
          "name": "stdout",
          "text": [
            "True\n"
          ]
        }
      ]
    },
    {
      "cell_type": "code",
      "source": [
        "texto = \"Programação\"\n",
        "print(\"a\" in texto)\n",
        "print(\"e\" in texto)\n",
        "print(\"Programa\" in texto)\n",
        "print(\"Programa\" not in texto)\n",
        "print(\"Vinte\" not in texto)"
      ],
      "metadata": {
        "id": "btcCjQmH1t6J",
        "outputId": "82d156f5-e8d3-4655-dadd-4f978471eb63",
        "colab": {
          "base_uri": "https://localhost:8080/"
        }
      },
      "execution_count": 34,
      "outputs": [
        {
          "output_type": "stream",
          "name": "stdout",
          "text": [
            "True\n",
            "False\n",
            "True\n",
            "False\n",
            "True\n"
          ]
        }
      ]
    },
    {
      "cell_type": "code",
      "source": [
        "tamanho = len(texto)\n",
        "print(tamanho)\n"
      ],
      "metadata": {
        "id": "icl0_-FA148q",
        "outputId": "a86c2dd9-2b2e-47d3-bd31-b2b1e6f061b9",
        "colab": {
          "base_uri": "https://localhost:8080/"
        }
      },
      "execution_count": 35,
      "outputs": [
        {
          "output_type": "stream",
          "name": "stdout",
          "text": [
            "11\n"
          ]
        }
      ]
    },
    {
      "cell_type": "markdown",
      "source": [
        "### Atividades\n",
        "1 - Crie uma única string que contém seu nome e sobrenome, em seguida use o slicing para separar o nome em uma varíavel e o seu sobrenome em outra. Printe esses valores.\n",
        "\n",
        "2 - Leia uma string através do input e retire o ultimo caractere.\n",
        "\n",
        "3 - Faça um programa que leia uma string através do input e diga se ela possui uma vogal.\n",
        "\n",
        "4 - Faça um programa que insira a palavra 'ABC' na primeira posição de uma string lida por input."
      ],
      "metadata": {
        "id": "hUKIHhjI2fWF"
      }
    },
    {
      "cell_type": "code",
      "source": [
        "# 1 - Crie uma única string que contém seu nome e sobrenome,\n",
        "# em seguida use o slicing para separar o nome em uma varíavel\n",
        "# e o seu sobrenome em outra. Printe esses valores.\n",
        "\n",
        "nome_completo = \"Victor Rodrigues\"\n",
        "nome = nome_completo[:6]\n",
        "sobrenome = nome_completo[7:]\n",
        "print(\"Nome:\", nome)\n",
        "print(\"Sobrenome:\", sobrenome)\n"
      ],
      "metadata": {
        "id": "_8S6SODe19ox",
        "outputId": "97429fdc-1f63-41da-ef42-26b7cfad7623",
        "colab": {
          "base_uri": "https://localhost:8080/"
        }
      },
      "execution_count": 36,
      "outputs": [
        {
          "output_type": "stream",
          "name": "stdout",
          "text": [
            "Nome: Victor\n",
            "Sobrenome: Rodrigues\n"
          ]
        }
      ]
    },
    {
      "cell_type": "code",
      "source": [
        "# 2 - Leia uma string através do input e retire o ultimo caractere.\n",
        "texto = input(\"Insira um texto: \")\n",
        "texto = texto[:-1]\n",
        "print(texto)"
      ],
      "metadata": {
        "id": "BFlcMJui3-bo",
        "outputId": "0a92aa91-c78d-45ba-a6cc-8f693b40d231",
        "colab": {
          "base_uri": "https://localhost:8080/"
        }
      },
      "execution_count": 39,
      "outputs": [
        {
          "output_type": "stream",
          "name": "stdout",
          "text": [
            "Insira um textoVictor\n",
            "Victo\n"
          ]
        }
      ]
    },
    {
      "cell_type": "code",
      "source": [
        "# 3 - Faça um programa que leia uma string através do input\n",
        "# e diga se ela possui uma vogal.\n",
        "texto = input(\"Insira um texto: \")\n",
        "possui_vogal = (\"a\" in texto) or (\"e\" in texto) or (\"i\" in texto) or (\"o\" in texto) or (\"u\" in texto)\n",
        "print(\"Possui vogal? \", possui_vogal)\n"
      ],
      "metadata": {
        "id": "wIbJ6r2x4W0F",
        "outputId": "fc5b33dd-e419-4908-fec1-458cb28b4d77",
        "colab": {
          "base_uri": "https://localhost:8080/"
        }
      },
      "execution_count": 52,
      "outputs": [
        {
          "output_type": "stream",
          "name": "stdout",
          "text": [
            "Insira um texto: Victor\n",
            "Possui vogal?  True\n"
          ]
        }
      ]
    },
    {
      "cell_type": "code",
      "source": [
        "# 4 - Faça um programa que insira a palavra 'ABC'\n",
        "# na primeira posição de uma string lida por input.\n",
        "texto_abc = \"ABC\"\n",
        "texto = input(\"Insira um texto: \")\n",
        "texto = texto_abc + texto[0: ]\n",
        "print(texto)"
      ],
      "metadata": {
        "id": "ZsqKugz04wLl",
        "outputId": "629f5dca-0684-43f5-c553-06c93e540259",
        "colab": {
          "base_uri": "https://localhost:8080/"
        }
      },
      "execution_count": 53,
      "outputs": [
        {
          "output_type": "stream",
          "name": "stdout",
          "text": [
            "Insira um texto: victor\n",
            "ABCvictor\n"
          ]
        }
      ]
    },
    {
      "cell_type": "code",
      "source": [
        "print(\"Número Formatado: %.4f\" % (1.123456789))"
      ],
      "metadata": {
        "id": "fRs4mmNF5i3E",
        "outputId": "56896db3-7e6a-4ea6-f5f1-512bf7d28574",
        "colab": {
          "base_uri": "https://localhost:8080/"
        }
      },
      "execution_count": 54,
      "outputs": [
        {
          "output_type": "stream",
          "name": "stdout",
          "text": [
            "Número Formatado: 1.1235\n"
          ]
        }
      ]
    },
    {
      "cell_type": "code",
      "source": [],
      "metadata": {
        "id": "cHOP4_sq8vTn"
      },
      "execution_count": null,
      "outputs": []
    }
  ]
}
