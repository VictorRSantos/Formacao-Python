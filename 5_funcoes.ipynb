{
  "nbformat": 4,
  "nbformat_minor": 0,
  "metadata": {
    "colab": {
      "provenance": [],
      "authorship_tag": "ABX9TyN5YxIdbJj5FIm+qUkgmejn",
      "include_colab_link": true
    },
    "kernelspec": {
      "name": "python3",
      "display_name": "Python 3"
    },
    "language_info": {
      "name": "python"
    }
  },
  "cells": [
    {
      "cell_type": "markdown",
      "metadata": {
        "id": "view-in-github",
        "colab_type": "text"
      },
      "source": [
        "<a href=\"https://colab.research.google.com/github/VictorRSantos/Formacao-Python/blob/main/5_funcoes.ipynb\" target=\"_parent\"><img src=\"https://colab.research.google.com/assets/colab-badge.svg\" alt=\"Open In Colab\"/></a>"
      ]
    },
    {
      "cell_type": "markdown",
      "source": [
        "# Seção 5: Criando e Utilizando Funções\n",
        "\n",
        "\n",
        "*   Blocos de Código Reutilizável\n",
        "\n",
        "\n"
      ],
      "metadata": {
        "id": "Tz3KQ_fJ29YS"
      }
    },
    {
      "cell_type": "markdown",
      "source": [
        "## Funções"
      ],
      "metadata": {
        "id": "qKTawEXp4M_h"
      }
    },
    {
      "cell_type": "code",
      "execution_count": null,
      "metadata": {
        "colab": {
          "base_uri": "https://localhost:8080/"
        },
        "id": "bZ8Fsyiy27vu",
        "outputId": "a0023fd1-ebf0-40b3-a2f9-32836d8c08d7"
      },
      "outputs": [
        {
          "output_type": "stream",
          "name": "stdout",
          "text": [
            "Uma função 10 \n"
          ]
        }
      ],
      "source": [
        "def func():\n",
        "  num = 10\n",
        "  print(\"Uma função %d \" % (num))\n",
        "\n",
        "func()"
      ]
    },
    {
      "cell_type": "code",
      "source": [
        "def func():\n",
        "  pass\n",
        "\n",
        "func()"
      ],
      "metadata": {
        "id": "CTEhEojo4q8f"
      },
      "execution_count": null,
      "outputs": []
    },
    {
      "cell_type": "code",
      "source": [
        "def print_var(numero):\n",
        "  print(numero)\n",
        "\n",
        "print_var(2)\n",
        "print(\"Maça\")"
      ],
      "metadata": {
        "colab": {
          "base_uri": "https://localhost:8080/"
        },
        "id": "uTYUnBSg5Aea",
        "outputId": "48846430-f2ad-4a73-ffbd-018a17893fea"
      },
      "execution_count": null,
      "outputs": [
        {
          "output_type": "stream",
          "name": "stdout",
          "text": [
            "2\n",
            "Maça\n"
          ]
        }
      ]
    },
    {
      "cell_type": "code",
      "source": [
        "def print_soma(num1, num2):\n",
        "  print(num1 + num2)\n",
        "\n",
        "print_soma(1,2)\n",
        "print_soma(3.3, 1.1)\n",
        "print_soma(\"olá \", \"mundo!\")"
      ],
      "metadata": {
        "colab": {
          "base_uri": "https://localhost:8080/"
        },
        "id": "IT1uszvE5Okx",
        "outputId": "e5922865-8b88-4023-a9b2-72b809406d37"
      },
      "execution_count": null,
      "outputs": [
        {
          "output_type": "stream",
          "name": "stdout",
          "text": [
            "3\n",
            "4.4\n",
            "olá mundo!\n"
          ]
        }
      ]
    },
    {
      "cell_type": "code",
      "source": [
        "def func(*args):\n",
        "  print(type(args))\n",
        "  print(\"Argumentos são:\", args)\n",
        "\n",
        "func(1,2,3)\n",
        "func()\n",
        "func(\"Olá\", True, [1,2,3])"
      ],
      "metadata": {
        "colab": {
          "base_uri": "https://localhost:8080/"
        },
        "id": "UUD98h2m5gx2",
        "outputId": "862fff4a-594a-460e-a425-7985730aac9d"
      },
      "execution_count": null,
      "outputs": [
        {
          "output_type": "stream",
          "name": "stdout",
          "text": [
            "<class 'tuple'>\n",
            "Argumentos são: (1, 2, 3)\n",
            "<class 'tuple'>\n",
            "Argumentos são: ()\n",
            "<class 'tuple'>\n",
            "Argumentos são: ('Olá', True, [1, 2, 3])\n"
          ]
        }
      ]
    },
    {
      "cell_type": "code",
      "source": [
        "def print_sub(num1, num2):\n",
        "  print(num1 - num2)\n",
        "\n",
        "print_sub(10,2)\n",
        "print_sub(num2 = 5, num1 = 2)"
      ],
      "metadata": {
        "colab": {
          "base_uri": "https://localhost:8080/"
        },
        "id": "LXVCr6iB6d1K",
        "outputId": "226b2a14-c4f5-4a09-d4e5-5c6503f6004b"
      },
      "execution_count": null,
      "outputs": [
        {
          "output_type": "stream",
          "name": "stdout",
          "text": [
            "8\n",
            "-3\n"
          ]
        }
      ]
    },
    {
      "cell_type": "code",
      "source": [
        "def func(*args, outro):\n",
        "  print(\"Argumentos são:\", args)\n",
        "  print(outro)\n",
        "\n",
        "func(1,2,3, outro=\"1\")\n",
        "func(outro=\"2\")\n",
        "func(\"Olá\", True, [1,2,3], outro=\"3\")"
      ],
      "metadata": {
        "colab": {
          "base_uri": "https://localhost:8080/"
        },
        "id": "9g4w3noN62Zy",
        "outputId": "092971a9-4b25-48fb-c884-86a8c58d3a21"
      },
      "execution_count": null,
      "outputs": [
        {
          "output_type": "stream",
          "name": "stdout",
          "text": [
            "Argumentos são: (1, 2, 3)\n",
            "1\n",
            "Argumentos são: ()\n",
            "2\n",
            "Argumentos são: ('Olá', True, [1, 2, 3])\n",
            "3\n"
          ]
        }
      ]
    },
    {
      "cell_type": "code",
      "source": [
        "def func(valor, nome = \"Teste\"):\n",
        "  print(nome, valor)\n",
        "\n",
        "func(3)\n",
        "func(3, \"Outro\")"
      ],
      "metadata": {
        "id": "dfgLlSGUSKqi",
        "outputId": "feb94bce-aa4f-4d2a-d81d-4a06fd41508d",
        "colab": {
          "base_uri": "https://localhost:8080/"
        }
      },
      "execution_count": null,
      "outputs": [
        {
          "output_type": "stream",
          "name": "stdout",
          "text": [
            "Teste 3\n",
            "Outro 3\n"
          ]
        }
      ]
    },
    {
      "cell_type": "code",
      "source": [
        "def func(**args):\n",
        "  print(type(args))\n",
        "  print(args)\n",
        "  print(args[\"valor\"])\n",
        "\n",
        "func(valor ='10', operacao = 'Soma', resultado = 10)"
      ],
      "metadata": {
        "id": "DEJyxYtGSV50",
        "outputId": "ddfb0611-7a2d-4a1e-afae-987dc09d2aae",
        "colab": {
          "base_uri": "https://localhost:8080/"
        }
      },
      "execution_count": null,
      "outputs": [
        {
          "output_type": "stream",
          "name": "stdout",
          "text": [
            "<class 'dict'>\n",
            "{'valor': '10', 'operacao': 'Soma', 'resultado': 10}\n",
            "10\n"
          ]
        }
      ]
    },
    {
      "cell_type": "code",
      "source": [
        "def printa(x):\n",
        "  print(x)\n",
        "\n",
        "def executa_func(func,x):\n",
        "  func(x)\n",
        "\n",
        "minha_funcao = printa\n",
        "print(type(minha_funcao))\n",
        "\n",
        "executa_func(minha_funcao, 10)"
      ],
      "metadata": {
        "id": "FAxFvaXuS7Es",
        "outputId": "176f8a8b-bc75-4aae-c556-3bc5f4e13bbd",
        "colab": {
          "base_uri": "https://localhost:8080/"
        }
      },
      "execution_count": null,
      "outputs": [
        {
          "output_type": "stream",
          "name": "stdout",
          "text": [
            "<class 'function'>\n",
            "10\n"
          ]
        }
      ]
    },
    {
      "cell_type": "code",
      "source": [
        "# Funções que retorna valores\n",
        "def subtrai(num1, num2):\n",
        "  valor = num1 - num2\n",
        "  return valor\n",
        "\n",
        "subtracao = subtrai(10,3)\n",
        "\n",
        "print(subtracao)"
      ],
      "metadata": {
        "id": "VOG0ascYzZUA",
        "outputId": "0bd56898-4a93-4806-8e87-9f82495a9dda",
        "colab": {
          "base_uri": "https://localhost:8080/"
        }
      },
      "execution_count": null,
      "outputs": [
        {
          "output_type": "stream",
          "name": "stdout",
          "text": [
            "7\n"
          ]
        }
      ]
    },
    {
      "cell_type": "code",
      "source": [
        "# Funções que retorna valores\n",
        "def len_int(numero):\n",
        "  numero_em_texto = str(numero)\n",
        "  return len(numero_em_texto)\n",
        "\n",
        "num1 = 10\n",
        "num2 = 1230\n",
        "\n",
        "tamanho1 = len_int(num1)\n",
        "tamanho2 = len_int(num2)\n",
        "\n",
        "print(\"O número %s tem %d dígitos\" % (num1, tamanho1))\n",
        "print(\"O número %d tem %d dígitos\" % (num2, tamanho2))\n",
        "\n"
      ],
      "metadata": {
        "id": "dRZ0uWOu0aVE",
        "outputId": "37a05ce0-2742-4759-a714-148c5f0b00a0",
        "colab": {
          "base_uri": "https://localhost:8080/"
        }
      },
      "execution_count": null,
      "outputs": [
        {
          "output_type": "stream",
          "name": "stdout",
          "text": [
            "O número 10 tem 2 dígitos\n",
            "O número 1230 tem 4 dígitos\n"
          ]
        }
      ]
    },
    {
      "cell_type": "code",
      "source": [
        "# Funções que retorna valores\n",
        "def retorna_multiplo():\n",
        "  return 1,2\n",
        "\n",
        "valor = retorna_multiplo()\n",
        "print(valor)\n",
        "print(type(valor))"
      ],
      "metadata": {
        "id": "RwYjHvSa1LCt",
        "outputId": "35c698a5-6e2c-48e0-d31e-f59fc9e8596f",
        "colab": {
          "base_uri": "https://localhost:8080/"
        }
      },
      "execution_count": null,
      "outputs": [
        {
          "output_type": "stream",
          "name": "stdout",
          "text": [
            "(1, 2)\n",
            "<class 'tuple'>\n"
          ]
        }
      ]
    },
    {
      "cell_type": "code",
      "source": [
        "# Funções que retorna valores\n",
        "def retorna_multiplo(a,b,c):\n",
        "  a +=a\n",
        "  b +=b\n",
        "  c +=c\n",
        "  return a,b,c\n",
        "\n",
        "x,y,z = retorna_multiplo(1,2,3)\n",
        "print(x,y,z)\n",
        "\n",
        "a = retorna_multiplo(1,2,3)\n",
        "print(a)"
      ],
      "metadata": {
        "id": "fzspsLeT1dIc",
        "outputId": "25819c88-2bd0-41f0-fe0d-3b574cdcb9a9",
        "colab": {
          "base_uri": "https://localhost:8080/"
        }
      },
      "execution_count": null,
      "outputs": [
        {
          "output_type": "stream",
          "name": "stdout",
          "text": [
            "2 4 6\n",
            "(2, 4, 6)\n"
          ]
        }
      ]
    },
    {
      "cell_type": "code",
      "source": [
        "# Funções que retorna valores\n",
        "def func():\n",
        "  print(\"Olá\")\n",
        "  return\n",
        "  print(\"123\")\n",
        "\n",
        "func()"
      ],
      "metadata": {
        "id": "DDJn_ls41-v0",
        "outputId": "3c116d81-e024-44bd-8dbe-be06b584ac56",
        "colab": {
          "base_uri": "https://localhost:8080/"
        }
      },
      "execution_count": null,
      "outputs": [
        {
          "output_type": "stream",
          "name": "stdout",
          "text": [
            "Olá\n"
          ]
        }
      ]
    },
    {
      "cell_type": "code",
      "source": [
        "# Funções que retorna valores\n",
        "def func(x):\n",
        "  if x == \"Olá\":\n",
        "    print(\"Olá\")\n",
        "    return\n",
        "  print(\"123\")\n",
        "  return x\n",
        "\n",
        "print(func(\"X\"))"
      ],
      "metadata": {
        "id": "QRgts5Fn2QpN",
        "outputId": "d30135aa-f0b7-478e-9f97-6a77e31ddd2c",
        "colab": {
          "base_uri": "https://localhost:8080/"
        }
      },
      "execution_count": null,
      "outputs": [
        {
          "output_type": "stream",
          "name": "stdout",
          "text": [
            "123\n",
            "X\n"
          ]
        }
      ]
    },
    {
      "cell_type": "code",
      "source": [
        "#Funções Lambda - Exemplo - 1\n",
        "\n",
        "faz_soma = lambda x : x + 10\n",
        "valor = faz_soma(2)\n",
        "print(valor)"
      ],
      "metadata": {
        "id": "ZsMvQg3F24CV",
        "outputId": "8cd02617-0e0d-45d2-84f7-803315bac7bd",
        "colab": {
          "base_uri": "https://localhost:8080/"
        }
      },
      "execution_count": null,
      "outputs": [
        {
          "output_type": "stream",
          "name": "stdout",
          "text": [
            "12\n"
          ]
        }
      ]
    },
    {
      "cell_type": "code",
      "source": [
        "#Funções Lambda - Exemplo - 2\n",
        "\n",
        "multiplica = lambda x,y : x * y\n",
        "valor = multiplica(2,10)\n",
        "print(valor)"
      ],
      "metadata": {
        "id": "a6vmktac3wfv",
        "outputId": "9b42b62d-c9e6-40d5-a40e-483d13e94188",
        "colab": {
          "base_uri": "https://localhost:8080/"
        }
      },
      "execution_count": null,
      "outputs": [
        {
          "output_type": "stream",
          "name": "stdout",
          "text": [
            "20\n"
          ]
        }
      ]
    },
    {
      "cell_type": "code",
      "source": [
        "#Funções Lambda - Exemplo - 3\n",
        "\n",
        "def multiplica(y):\n",
        "  return lambda x : x * y\n",
        "\n",
        "valor = multiplica(2)\n",
        "resultado = valor(10)\n",
        "\n",
        "print(resultado)\n",
        "\n"
      ],
      "metadata": {
        "id": "gNVTjgZH4B1r",
        "outputId": "ec67cca9-8438-4bb3-aa79-b4b8bde4a79d",
        "colab": {
          "base_uri": "https://localhost:8080/"
        }
      },
      "execution_count": null,
      "outputs": [
        {
          "output_type": "stream",
          "name": "stdout",
          "text": [
            "<function multiplica.<locals>.<lambda> at 0x7c0b3897dfc0>\n",
            "20\n"
          ]
        }
      ]
    },
    {
      "cell_type": "code",
      "source": [
        "# Funções Recursivas Exemplo 1\n",
        "def print_num(num):\n",
        "  print(num)\n",
        "  if num >= 10:\n",
        "    return\n",
        "  print_num(num + 1)\n",
        "\n",
        "print_num(0)"
      ],
      "metadata": {
        "id": "CGjUeZf14l-8",
        "colab": {
          "base_uri": "https://localhost:8080/"
        },
        "outputId": "5c955f5b-f8aa-4080-950a-0313c5efacd3"
      },
      "execution_count": 3,
      "outputs": [
        {
          "output_type": "stream",
          "name": "stdout",
          "text": [
            "0\n",
            "1\n",
            "2\n",
            "3\n",
            "4\n",
            "5\n",
            "6\n",
            "7\n",
            "8\n",
            "9\n",
            "10\n"
          ]
        }
      ]
    },
    {
      "cell_type": "code",
      "source": [
        "# Funções Recursivas Exemplo 2\n",
        "def print_str(texto,indice):\n",
        "  if indice == len(texto):\n",
        "    return\n",
        "  print(texto[indice])\n",
        "  print_str(texto, indice + 1)\n",
        "\n",
        "print_str(\"Python\", 0)"
      ],
      "metadata": {
        "colab": {
          "base_uri": "https://localhost:8080/"
        },
        "id": "IHdlsKBz0PaE",
        "outputId": "02aaf4f3-893b-4949-af02-caa21dda85fb"
      },
      "execution_count": 4,
      "outputs": [
        {
          "output_type": "stream",
          "name": "stdout",
          "text": [
            "P\n",
            "y\n",
            "t\n",
            "h\n",
            "o\n",
            "n\n"
          ]
        }
      ]
    },
    {
      "cell_type": "code",
      "source": [
        "# Funções Recursivas Exemplo 3\n",
        "def fatorial(num):\n",
        "  if num == 1:\n",
        "    return 1\n",
        "  return num * fatorial(num-1)\n",
        "\n",
        "print(fatorial(10))"
      ],
      "metadata": {
        "id": "tL-_kDYW07F4",
        "outputId": "2e682d6a-7e26-4b16-94ad-82444ec35469",
        "colab": {
          "base_uri": "https://localhost:8080/"
        }
      },
      "execution_count": 8,
      "outputs": [
        {
          "output_type": "stream",
          "name": "stdout",
          "text": [
            "3628800\n"
          ]
        }
      ]
    },
    {
      "cell_type": "code",
      "source": [
        "# Funções Aninhadas\n",
        "\n"
      ],
      "metadata": {
        "id": "rVgYMKPc1VOZ"
      },
      "execution_count": null,
      "outputs": []
    }
  ]
}