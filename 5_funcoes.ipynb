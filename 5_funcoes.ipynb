{
  "nbformat": 4,
  "nbformat_minor": 0,
  "metadata": {
    "colab": {
      "provenance": [],
      "authorship_tag": "ABX9TyMm2KHJ0obhEfHoYtt04fTx",
      "include_colab_link": true
    },
    "kernelspec": {
      "name": "python3",
      "display_name": "Python 3"
    },
    "language_info": {
      "name": "python"
    }
  },
  "cells": [
    {
      "cell_type": "markdown",
      "metadata": {
        "id": "view-in-github",
        "colab_type": "text"
      },
      "source": [
        "<a href=\"https://colab.research.google.com/github/VictorRSantos/Formacao-Python/blob/main/5_funcoes.ipynb\" target=\"_parent\"><img src=\"https://colab.research.google.com/assets/colab-badge.svg\" alt=\"Open In Colab\"/></a>"
      ]
    },
    {
      "cell_type": "markdown",
      "source": [
        "# Seção 5: Criando e Utilizando Funções\n",
        "\n",
        "\n",
        "*   Blocos de Código Reutilizável\n",
        "\n",
        "\n"
      ],
      "metadata": {
        "id": "Tz3KQ_fJ29YS"
      }
    },
    {
      "cell_type": "markdown",
      "source": [
        "## Funções"
      ],
      "metadata": {
        "id": "qKTawEXp4M_h"
      }
    },
    {
      "cell_type": "code",
      "execution_count": null,
      "metadata": {
        "colab": {
          "base_uri": "https://localhost:8080/"
        },
        "id": "bZ8Fsyiy27vu",
        "outputId": "a0023fd1-ebf0-40b3-a2f9-32836d8c08d7"
      },
      "outputs": [
        {
          "output_type": "stream",
          "name": "stdout",
          "text": [
            "Uma função 10 \n"
          ]
        }
      ],
      "source": [
        "def func():\n",
        "  num = 10\n",
        "  print(\"Uma função %d \" % (num))\n",
        "\n",
        "func()"
      ]
    },
    {
      "cell_type": "code",
      "source": [
        "def func():\n",
        "  pass\n",
        "\n",
        "func()"
      ],
      "metadata": {
        "id": "CTEhEojo4q8f"
      },
      "execution_count": null,
      "outputs": []
    },
    {
      "cell_type": "code",
      "source": [
        "def print_var(numero):\n",
        "  print(numero)\n",
        "\n",
        "print_var(2)\n",
        "print(\"Maça\")"
      ],
      "metadata": {
        "colab": {
          "base_uri": "https://localhost:8080/"
        },
        "id": "uTYUnBSg5Aea",
        "outputId": "48846430-f2ad-4a73-ffbd-018a17893fea"
      },
      "execution_count": null,
      "outputs": [
        {
          "output_type": "stream",
          "name": "stdout",
          "text": [
            "2\n",
            "Maça\n"
          ]
        }
      ]
    },
    {
      "cell_type": "code",
      "source": [
        "def print_soma(num1, num2):\n",
        "  print(num1 + num2)\n",
        "\n",
        "print_soma(1,2)\n",
        "print_soma(3.3, 1.1)\n",
        "print_soma(\"olá \", \"mundo!\")"
      ],
      "metadata": {
        "colab": {
          "base_uri": "https://localhost:8080/"
        },
        "id": "IT1uszvE5Okx",
        "outputId": "e5922865-8b88-4023-a9b2-72b809406d37"
      },
      "execution_count": null,
      "outputs": [
        {
          "output_type": "stream",
          "name": "stdout",
          "text": [
            "3\n",
            "4.4\n",
            "olá mundo!\n"
          ]
        }
      ]
    },
    {
      "cell_type": "code",
      "source": [
        "def func(*args):\n",
        "  print(type(args))\n",
        "  print(\"Argumentos são:\", args)\n",
        "\n",
        "func(1,2,3)\n",
        "func()\n",
        "func(\"Olá\", True, [1,2,3])"
      ],
      "metadata": {
        "colab": {
          "base_uri": "https://localhost:8080/"
        },
        "id": "UUD98h2m5gx2",
        "outputId": "862fff4a-594a-460e-a425-7985730aac9d"
      },
      "execution_count": null,
      "outputs": [
        {
          "output_type": "stream",
          "name": "stdout",
          "text": [
            "<class 'tuple'>\n",
            "Argumentos são: (1, 2, 3)\n",
            "<class 'tuple'>\n",
            "Argumentos são: ()\n",
            "<class 'tuple'>\n",
            "Argumentos são: ('Olá', True, [1, 2, 3])\n"
          ]
        }
      ]
    },
    {
      "cell_type": "code",
      "source": [
        "def print_sub(num1, num2):\n",
        "  print(num1 - num2)\n",
        "\n",
        "print_sub(10,2)\n",
        "print_sub(num2 = 5, num1 = 2)"
      ],
      "metadata": {
        "colab": {
          "base_uri": "https://localhost:8080/"
        },
        "id": "LXVCr6iB6d1K",
        "outputId": "226b2a14-c4f5-4a09-d4e5-5c6503f6004b"
      },
      "execution_count": null,
      "outputs": [
        {
          "output_type": "stream",
          "name": "stdout",
          "text": [
            "8\n",
            "-3\n"
          ]
        }
      ]
    },
    {
      "cell_type": "code",
      "source": [
        "def func(*args, outro):\n",
        "  print(\"Argumentos são:\", args)\n",
        "  print(outro)\n",
        "\n",
        "func(1,2,3, outro=\"1\")\n",
        "func(outro=\"2\")\n",
        "func(\"Olá\", True, [1,2,3], outro=\"3\")"
      ],
      "metadata": {
        "colab": {
          "base_uri": "https://localhost:8080/"
        },
        "id": "9g4w3noN62Zy",
        "outputId": "092971a9-4b25-48fb-c884-86a8c58d3a21"
      },
      "execution_count": null,
      "outputs": [
        {
          "output_type": "stream",
          "name": "stdout",
          "text": [
            "Argumentos são: (1, 2, 3)\n",
            "1\n",
            "Argumentos são: ()\n",
            "2\n",
            "Argumentos são: ('Olá', True, [1, 2, 3])\n",
            "3\n"
          ]
        }
      ]
    },
    {
      "cell_type": "code",
      "source": [
        "def func(valor, nome = \"Teste\"):\n",
        "  print(nome, valor)\n",
        "\n",
        "func(3)\n",
        "func(3, \"Outro\")"
      ],
      "metadata": {
        "id": "dfgLlSGUSKqi",
        "outputId": "feb94bce-aa4f-4d2a-d81d-4a06fd41508d",
        "colab": {
          "base_uri": "https://localhost:8080/"
        }
      },
      "execution_count": null,
      "outputs": [
        {
          "output_type": "stream",
          "name": "stdout",
          "text": [
            "Teste 3\n",
            "Outro 3\n"
          ]
        }
      ]
    },
    {
      "cell_type": "code",
      "source": [
        "def func(**args):\n",
        "  print(type(args))\n",
        "  print(args)\n",
        "  print(args[\"valor\"])\n",
        "\n",
        "func(valor ='10', operacao = 'Soma', resultado = 10)"
      ],
      "metadata": {
        "id": "DEJyxYtGSV50",
        "outputId": "ddfb0611-7a2d-4a1e-afae-987dc09d2aae",
        "colab": {
          "base_uri": "https://localhost:8080/"
        }
      },
      "execution_count": null,
      "outputs": [
        {
          "output_type": "stream",
          "name": "stdout",
          "text": [
            "<class 'dict'>\n",
            "{'valor': '10', 'operacao': 'Soma', 'resultado': 10}\n",
            "10\n"
          ]
        }
      ]
    },
    {
      "cell_type": "code",
      "source": [
        "def printa(x):\n",
        "  print(x)\n",
        "\n",
        "def executa_func(func,x):\n",
        "  func(x)\n",
        "\n",
        "minha_funcao = printa\n",
        "print(type(minha_funcao))\n",
        "\n",
        "executa_func(minha_funcao, 10)"
      ],
      "metadata": {
        "id": "FAxFvaXuS7Es",
        "outputId": "176f8a8b-bc75-4aae-c556-3bc5f4e13bbd",
        "colab": {
          "base_uri": "https://localhost:8080/"
        }
      },
      "execution_count": null,
      "outputs": [
        {
          "output_type": "stream",
          "name": "stdout",
          "text": [
            "<class 'function'>\n",
            "10\n"
          ]
        }
      ]
    },
    {
      "cell_type": "code",
      "source": [
        "# Funções que retorna valores\n",
        "def subtrai(num1, num2):\n",
        "  valor = num1 - num2\n",
        "  return valor\n",
        "\n",
        "subtracao = subtrai(10,3)\n",
        "\n",
        "print(subtracao)"
      ],
      "metadata": {
        "id": "VOG0ascYzZUA",
        "outputId": "0bd56898-4a93-4806-8e87-9f82495a9dda",
        "colab": {
          "base_uri": "https://localhost:8080/"
        }
      },
      "execution_count": null,
      "outputs": [
        {
          "output_type": "stream",
          "name": "stdout",
          "text": [
            "7\n"
          ]
        }
      ]
    },
    {
      "cell_type": "code",
      "source": [
        "# Funções que retorna valores\n",
        "def len_int(numero):\n",
        "  numero_em_texto = str(numero)\n",
        "  return len(numero_em_texto)\n",
        "\n",
        "num1 = 10\n",
        "num2 = 1230\n",
        "\n",
        "tamanho1 = len_int(num1)\n",
        "tamanho2 = len_int(num2)\n",
        "\n",
        "print(\"O número %s tem %d dígitos\" % (num1, tamanho1))\n",
        "print(\"O número %d tem %d dígitos\" % (num2, tamanho2))\n",
        "\n"
      ],
      "metadata": {
        "id": "dRZ0uWOu0aVE",
        "outputId": "37a05ce0-2742-4759-a714-148c5f0b00a0",
        "colab": {
          "base_uri": "https://localhost:8080/"
        }
      },
      "execution_count": null,
      "outputs": [
        {
          "output_type": "stream",
          "name": "stdout",
          "text": [
            "O número 10 tem 2 dígitos\n",
            "O número 1230 tem 4 dígitos\n"
          ]
        }
      ]
    },
    {
      "cell_type": "code",
      "source": [
        "# Funções que retorna valores\n",
        "def retorna_multiplo():\n",
        "  return 1,2\n",
        "\n",
        "valor = retorna_multiplo()\n",
        "print(valor)\n",
        "print(type(valor))"
      ],
      "metadata": {
        "id": "RwYjHvSa1LCt",
        "outputId": "35c698a5-6e2c-48e0-d31e-f59fc9e8596f",
        "colab": {
          "base_uri": "https://localhost:8080/"
        }
      },
      "execution_count": null,
      "outputs": [
        {
          "output_type": "stream",
          "name": "stdout",
          "text": [
            "(1, 2)\n",
            "<class 'tuple'>\n"
          ]
        }
      ]
    },
    {
      "cell_type": "code",
      "source": [
        "# Funções que retorna valores\n",
        "def retorna_multiplo(a,b,c):\n",
        "  a +=a\n",
        "  b +=b\n",
        "  c +=c\n",
        "  return a,b,c\n",
        "\n",
        "x,y,z = retorna_multiplo(1,2,3)\n",
        "print(x,y,z)\n",
        "\n",
        "a = retorna_multiplo(1,2,3)\n",
        "print(a)"
      ],
      "metadata": {
        "id": "fzspsLeT1dIc",
        "outputId": "25819c88-2bd0-41f0-fe0d-3b574cdcb9a9",
        "colab": {
          "base_uri": "https://localhost:8080/"
        }
      },
      "execution_count": null,
      "outputs": [
        {
          "output_type": "stream",
          "name": "stdout",
          "text": [
            "2 4 6\n",
            "(2, 4, 6)\n"
          ]
        }
      ]
    },
    {
      "cell_type": "code",
      "source": [
        "# Funções que retorna valores\n",
        "def func():\n",
        "  print(\"Olá\")\n",
        "  return\n",
        "  print(\"123\")\n",
        "\n",
        "func()"
      ],
      "metadata": {
        "id": "DDJn_ls41-v0",
        "outputId": "3c116d81-e024-44bd-8dbe-be06b584ac56",
        "colab": {
          "base_uri": "https://localhost:8080/"
        }
      },
      "execution_count": null,
      "outputs": [
        {
          "output_type": "stream",
          "name": "stdout",
          "text": [
            "Olá\n"
          ]
        }
      ]
    },
    {
      "cell_type": "code",
      "source": [
        "# Funções que retorna valores\n",
        "def func(x):\n",
        "  if x == \"Olá\":\n",
        "    print(\"Olá\")\n",
        "    return\n",
        "  print(\"123\")\n",
        "  return x\n",
        "\n",
        "print(func(\"X\"))"
      ],
      "metadata": {
        "id": "QRgts5Fn2QpN",
        "outputId": "d30135aa-f0b7-478e-9f97-6a77e31ddd2c",
        "colab": {
          "base_uri": "https://localhost:8080/"
        }
      },
      "execution_count": null,
      "outputs": [
        {
          "output_type": "stream",
          "name": "stdout",
          "text": [
            "123\n",
            "X\n"
          ]
        }
      ]
    },
    {
      "cell_type": "code",
      "source": [
        "#Funções Lambda - Exemplo - 1\n",
        "\n",
        "faz_soma = lambda x : x + 10\n",
        "valor = faz_soma(2)\n",
        "print(valor)"
      ],
      "metadata": {
        "id": "ZsMvQg3F24CV",
        "outputId": "8cd02617-0e0d-45d2-84f7-803315bac7bd",
        "colab": {
          "base_uri": "https://localhost:8080/"
        }
      },
      "execution_count": null,
      "outputs": [
        {
          "output_type": "stream",
          "name": "stdout",
          "text": [
            "12\n"
          ]
        }
      ]
    },
    {
      "cell_type": "code",
      "source": [
        "#Funções Lambda - Exemplo - 2\n",
        "\n",
        "multiplica = lambda x,y : x * y\n",
        "valor = multiplica(2,10)\n",
        "print(valor)"
      ],
      "metadata": {
        "id": "a6vmktac3wfv",
        "outputId": "9b42b62d-c9e6-40d5-a40e-483d13e94188",
        "colab": {
          "base_uri": "https://localhost:8080/"
        }
      },
      "execution_count": null,
      "outputs": [
        {
          "output_type": "stream",
          "name": "stdout",
          "text": [
            "20\n"
          ]
        }
      ]
    },
    {
      "cell_type": "code",
      "source": [
        "#Funções Lambda - Exemplo - 3\n",
        "\n",
        "def multiplica(y):\n",
        "  return lambda x : x * y\n",
        "\n",
        "valor = multiplica(2)\n",
        "resultado = valor(10)\n",
        "\n",
        "print(resultado)\n",
        "\n"
      ],
      "metadata": {
        "id": "gNVTjgZH4B1r",
        "outputId": "ec67cca9-8438-4bb3-aa79-b4b8bde4a79d",
        "colab": {
          "base_uri": "https://localhost:8080/"
        }
      },
      "execution_count": null,
      "outputs": [
        {
          "output_type": "stream",
          "name": "stdout",
          "text": [
            "<function multiplica.<locals>.<lambda> at 0x7c0b3897dfc0>\n",
            "20\n"
          ]
        }
      ]
    },
    {
      "cell_type": "code",
      "source": [
        "# Funções Recursivas Exemplo 1\n",
        "def print_num(num):\n",
        "  print(num)\n",
        "  if num >= 10:\n",
        "    return\n",
        "  print_num(num + 1)\n",
        "\n",
        "print_num(0)"
      ],
      "metadata": {
        "id": "CGjUeZf14l-8",
        "colab": {
          "base_uri": "https://localhost:8080/"
        },
        "outputId": "5c955f5b-f8aa-4080-950a-0313c5efacd3"
      },
      "execution_count": null,
      "outputs": [
        {
          "output_type": "stream",
          "name": "stdout",
          "text": [
            "0\n",
            "1\n",
            "2\n",
            "3\n",
            "4\n",
            "5\n",
            "6\n",
            "7\n",
            "8\n",
            "9\n",
            "10\n"
          ]
        }
      ]
    },
    {
      "cell_type": "code",
      "source": [
        "# Funções Recursivas Exemplo 2\n",
        "def print_str(texto,indice):\n",
        "  if indice == len(texto):\n",
        "    return\n",
        "  print(texto[indice])\n",
        "  print_str(texto, indice + 1)\n",
        "\n",
        "print_str(\"Python\", 0)"
      ],
      "metadata": {
        "colab": {
          "base_uri": "https://localhost:8080/"
        },
        "id": "IHdlsKBz0PaE",
        "outputId": "02aaf4f3-893b-4949-af02-caa21dda85fb"
      },
      "execution_count": null,
      "outputs": [
        {
          "output_type": "stream",
          "name": "stdout",
          "text": [
            "P\n",
            "y\n",
            "t\n",
            "h\n",
            "o\n",
            "n\n"
          ]
        }
      ]
    },
    {
      "cell_type": "code",
      "source": [
        "# Funções Recursivas Exemplo 3\n",
        "def fatorial(num):\n",
        "  if num == 1:\n",
        "    return 1\n",
        "  return num * fatorial(num-1)\n",
        "\n",
        "print(fatorial(10))"
      ],
      "metadata": {
        "id": "tL-_kDYW07F4",
        "outputId": "2e682d6a-7e26-4b16-94ad-82444ec35469",
        "colab": {
          "base_uri": "https://localhost:8080/"
        }
      },
      "execution_count": null,
      "outputs": [
        {
          "output_type": "stream",
          "name": "stdout",
          "text": [
            "3628800\n"
          ]
        }
      ]
    },
    {
      "cell_type": "code",
      "source": [
        "# Funções Aninhadas\n",
        "def pai():\n",
        "  def filho():\n",
        "    print(\"sou filho\")\n",
        "  filho()\n",
        "pai()"
      ],
      "metadata": {
        "id": "rVgYMKPc1VOZ",
        "outputId": "cfd1416a-f4a4-4a2f-85fe-97390953ad6d",
        "colab": {
          "base_uri": "https://localhost:8080/"
        }
      },
      "execution_count": null,
      "outputs": [
        {
          "output_type": "stream",
          "name": "stdout",
          "text": [
            "sou filho\n"
          ]
        }
      ]
    },
    {
      "cell_type": "code",
      "source": [
        "def calculadora(num1, num2, op):\n",
        "  def soma(a,b):\n",
        "    return a +  b\n",
        "  def subtrai(a, b):\n",
        "    return a - b\n",
        "  if (op =='+'):\n",
        "    return soma(num1, num2)\n",
        "  elif (op=='-'):\n",
        "    return subtrai(num1, num2)\n",
        "\n",
        "print(calculadora(2,1,'+'))\n",
        "print(calculadora(2,1,'-'))"
      ],
      "metadata": {
        "id": "Ypx06f3g2wxP",
        "outputId": "ca346140-2972-4e75-d280-d0d8affbcf0a",
        "colab": {
          "base_uri": "https://localhost:8080/"
        }
      },
      "execution_count": null,
      "outputs": [
        {
          "output_type": "stream",
          "name": "stdout",
          "text": [
            "3\n",
            "1\n"
          ]
        }
      ]
    },
    {
      "cell_type": "code",
      "source": [
        "def pega_func_print():\n",
        "  def print_var(var):\n",
        "    print(var)\n",
        "  return print_var\n",
        "\n",
        "print_me = pega_func_print()\n",
        "\n",
        "print_me(10)\n",
        "print(type(print_me))"
      ],
      "metadata": {
        "id": "gjhUrORJ31eF",
        "outputId": "11533e1a-a73f-4526-edc7-5ad655debd80",
        "colab": {
          "base_uri": "https://localhost:8080/"
        }
      },
      "execution_count": null,
      "outputs": [
        {
          "output_type": "stream",
          "name": "stdout",
          "text": [
            "10\n",
            "<class 'function'>\n"
          ]
        }
      ]
    },
    {
      "cell_type": "code",
      "source": [
        "#Decorator\n",
        "def DeixaMaisculo(func):\n",
        "  def inner_func():\n",
        "    return func().upper()\n",
        "  return inner_func\n",
        "\n",
        "@DeixaMaisculo\n",
        "def retorna_string():\n",
        "  return \"string de teste\"\n",
        "\n",
        "valor = retorna_string()\n",
        "print(valor)\n"
      ],
      "metadata": {
        "id": "TjYaGgv44jVa",
        "outputId": "d76ebd8d-7beb-41d6-ef78-086d2e47e2af",
        "colab": {
          "base_uri": "https://localhost:8080/"
        }
      },
      "execution_count": null,
      "outputs": [
        {
          "output_type": "stream",
          "name": "stdout",
          "text": [
            "STRING DE TESTE\n"
          ]
        }
      ]
    },
    {
      "cell_type": "code",
      "source": [
        "def DeixaMaisculo(func):\n",
        "  def inner_func(str1, str2):\n",
        "    return func(str1,str2).upper()\n",
        "  return inner_func\n",
        "\n",
        "@DeixaMaisculo\n",
        "def concatena_string(str1, str2):\n",
        "  return str1 + str2\n",
        "\n",
        "valor = concatena_string(\"teste\",\"abc\")\n",
        "\n",
        "print(valor)"
      ],
      "metadata": {
        "id": "VBHwR6Vv5dOt",
        "outputId": "71275fec-b4ce-42aa-d10d-f7cd15adf890",
        "colab": {
          "base_uri": "https://localhost:8080/"
        }
      },
      "execution_count": null,
      "outputs": [
        {
          "output_type": "stream",
          "name": "stdout",
          "text": [
            "TESTEABC\n"
          ]
        }
      ]
    },
    {
      "cell_type": "code",
      "source": [
        "# Multiplos decoradores\n",
        "def DeixaMaisculo(func):\n",
        "  def inner_func(texto):\n",
        "    return func(texto).upper()\n",
        "  return inner_func\n",
        "\n",
        "def InsereParenteses(func):\n",
        "  def inner_func(texto):\n",
        "    return '(' + func(texto) + ')'\n",
        "  return inner_func\n",
        "\n",
        "@DeixaMaisculo\n",
        "@InsereParenteses\n",
        "def formata_string(texto):\n",
        "  return texto\n",
        "\n",
        "print(formata_string(\"Olá este texto será formatado!\"))\n",
        "\n",
        "\n"
      ],
      "metadata": {
        "id": "MuDL5Xwx6eHJ",
        "outputId": "e3d1cb12-3da9-4dbc-8be5-ebafd3fbe4b6",
        "colab": {
          "base_uri": "https://localhost:8080/"
        }
      },
      "execution_count": null,
      "outputs": [
        {
          "output_type": "stream",
          "name": "stdout",
          "text": [
            "(OLÁ ESTE TEXTO SERÁ FORMATADO!)\n"
          ]
        }
      ]
    },
    {
      "cell_type": "markdown",
      "source": [
        "# Atividades"
      ],
      "metadata": {
        "id": "tHn4YORf7iZ3"
      }
    },
    {
      "cell_type": "code",
      "source": [
        "# 1-Crie uma função chamada \"e_negativo\" que receba um número, retorna um booleano \"True\"\n",
        "# se o número for negativo, caso contrário retorna \"False\"\n",
        "\n",
        "def e_negativo(num):\n",
        "  return num < 0\n",
        "\n",
        "print(\"Negativio:\", e_negativo(-1))\n",
        "print(\"Positivo:\", e_negativo(1))"
      ],
      "metadata": {
        "id": "i8qRKjw77cdL",
        "outputId": "170ad866-455a-47bb-d51d-f9c2fcca288c",
        "colab": {
          "base_uri": "https://localhost:8080/"
        }
      },
      "execution_count": null,
      "outputs": [
        {
          "output_type": "stream",
          "name": "stdout",
          "text": [
            "Negativio: True\n",
            "Positivo: False\n"
          ]
        }
      ]
    },
    {
      "cell_type": "code",
      "source": [
        "# 2-Crie uma função que receba um array de números(int, ou float) e retorne sua soma\n",
        "def soma_valores_array(valores):\n",
        "  return sum(valores)\n",
        "\n",
        "numeros = [10,2.5,5]\n",
        "soma = soma_valores_array(numeros)\n",
        "print(soma)\n",
        "\n",
        "# Outra forma\n",
        "def soma_array(arr):\n",
        "  soma = 0\n",
        "  for i in arr:\n",
        "    soma += i\n",
        "  return soma\n",
        "\n",
        "print(soma_array([10,20,30]))\n"
      ],
      "metadata": {
        "id": "wofMOrou8D7a",
        "outputId": "20289718-45fd-491b-cad4-8d2b6c2d48d7",
        "colab": {
          "base_uri": "https://localhost:8080/"
        }
      },
      "execution_count": null,
      "outputs": [
        {
          "output_type": "stream",
          "name": "stdout",
          "text": [
            "17.5\n",
            "60\n"
          ]
        }
      ]
    },
    {
      "cell_type": "code",
      "source": [
        "# 3-Crie uma função que receba uma string e que conte e retorne o número de vogais destas string\n",
        "def contar_vogais(texto):\n",
        "  vogais = \"aeiouAEIOU\"\n",
        "  cotador = 0\n",
        "  for letra in texto:\n",
        "    if letra in vogais:\n",
        "      cotador+=1\n",
        "\n",
        "  return cotador\n",
        "\n",
        "texto = \"Victor\"\n",
        "print(contar_vogais(texto))\n",
        "\n",
        "\n",
        "# Outra forma\n",
        "def conta_vogais(texto):\n",
        "  vogais = 0\n",
        "  arr_vogais = ('a','e','i','o','u','A','E','I','O','U')\n",
        "  for i in texto:\n",
        "    if i in arr_vogais:\n",
        "      vogais += 1\n",
        "  return vogais\n",
        "\n",
        "print(conta_vogais(\"Eu sei\"))\n"
      ],
      "metadata": {
        "id": "FvoTMeI68Nrz",
        "outputId": "59251f53-788e-4202-abdc-b58c3db7c413",
        "colab": {
          "base_uri": "https://localhost:8080/"
        }
      },
      "execution_count": null,
      "outputs": [
        {
          "output_type": "stream",
          "name": "stdout",
          "text": [
            "2\n",
            "4\n"
          ]
        }
      ]
    },
    {
      "cell_type": "code",
      "source": [
        "# 4-Crie uma função que retorne o último caractere de uma string recebida\n",
        "def ultimo_caractere(texto):\n",
        "  if texto:\n",
        "    return texto[-1]\n",
        "  return None\n",
        "\n",
        "resultado = ultimo_caractere(\"Victor\")\n",
        "print(resultado)\n",
        "\n",
        "# Outra forma\n",
        "def pega_ultimo(texto):\n",
        "  return texto[len(texto)-1]\n",
        "\n",
        "print(pega_ultimo(\"Python\"))\n"
      ],
      "metadata": {
        "id": "xA34QOTd8ZTA",
        "outputId": "e7f17d05-c913-4c4b-fc48-3e7793ff2e7e",
        "colab": {
          "base_uri": "https://localhost:8080/"
        }
      },
      "execution_count": null,
      "outputs": [
        {
          "output_type": "stream",
          "name": "stdout",
          "text": [
            "r\n",
            "n\n"
          ]
        }
      ]
    },
    {
      "cell_type": "code",
      "source": [
        "# 5-Crie uma função que receba dois números e uma string dizendo se deve realizar a soma ou subtração do número\n",
        "def calculadora(num1, num2, acao):\n",
        "  if acao == \"+\":\n",
        "    return num1 + num2\n",
        "  elif acao == \"-\":\n",
        "    return num1 - num2\n",
        "\n",
        "print(\"Soma:\", calculadora(10, 5, '+'))\n",
        "print(\"Subtração:\", calculadora(10, 5, '-'))\n"
      ],
      "metadata": {
        "id": "Yc1GLTta8g_T",
        "outputId": "4ccd749b-b83b-4912-ddb8-e4ef518b988d",
        "colab": {
          "base_uri": "https://localhost:8080/"
        }
      },
      "execution_count": null,
      "outputs": [
        {
          "output_type": "stream",
          "name": "stdout",
          "text": [
            "Soma: 15\n",
            "Subtração: 5\n"
          ]
        }
      ]
    },
    {
      "cell_type": "code",
      "source": [
        "# 6-Crie uma função que receba uma lista de elementos e um valor qualquer.\n",
        "# Em seguida retorne um booleano dizendo se o valor foi encontrado ou não na lista\n",
        "\n",
        "def valor_encontrado(lista, texto):\n",
        "  if lista:\n",
        "    for i in lista:\n",
        "      if texto == i:\n",
        "        return texto == i\n",
        "    return False\n",
        "print(valor_encontrado([\"Olá\",10, \"Teste\", 50], 50))\n",
        "print(valor_encontrado([\"Olá\",10, \"Teste\", 50], \"Olá\"))\n",
        "print(valor_encontrado([\"Olá\",10, \"Teste\", 50], 100))\n",
        "\n",
        "# Outro exemplo\n",
        "print()\n",
        "print(\"Outro Exemplo\\n--------------\")\n",
        "\n",
        "def encontra(array, item):\n",
        "  if array:\n",
        "    for i in array:\n",
        "      if item == i:\n",
        "        return True\n",
        "    return False\n",
        "\n",
        "arr = [1,'3', True, 'Olá', 7.1]\n",
        "print(encontra(arr, \"abc\"))\n",
        "print(encontra(arr, \"Olá\"))\n",
        "print(encontra(arr, \"3\"))\n",
        "print(encontra(arr, False))\n",
        "print(encontra(arr, True))\n"
      ],
      "metadata": {
        "id": "XPqi6A_n8vAY",
        "outputId": "f1a15e42-5496-4b51-f826-ad9027b56434",
        "colab": {
          "base_uri": "https://localhost:8080/"
        }
      },
      "execution_count": 23,
      "outputs": [
        {
          "output_type": "stream",
          "name": "stdout",
          "text": [
            "True\n",
            "True\n",
            "False\n",
            "\n",
            "Outro Exemplo\n",
            "--------------\n",
            "False\n",
            "True\n",
            "True\n",
            "False\n",
            "True\n"
          ]
        }
      ]
    },
    {
      "cell_type": "code",
      "source": [
        "# 7- Crie uma função que receba uma lista de elementos e um valor qualquer.\n",
        "# Em seguida retorne um booleano dizendo se o valor foi encontrado ou não e também\n",
        "# a posição onde foi encontrado\n",
        "def valor_encontrado(lista, texto):\n",
        "  if lista:\n",
        "    for i in lista:\n",
        "      if texto == i:\n",
        "        posicao = lista.index(texto)\n",
        "        return True, posicao\n",
        "    return False, None\n",
        "\n",
        "resultado, posicao = valor_encontrado([\"Olá\", 10, \"Teste\", 50], 50)\n",
        "print(f\"Encontrado: {resultado}, Posição: {posicao}\")\n",
        "\n",
        "resultado, posicao = valor_encontrado([\"Olá\", 10, \"Teste\", 50], \"Olá\")\n",
        "print(f\"Encontrado: {resultado}, Posição: {posicao}\")\n",
        "\n",
        "resultado, posicao = valor_encontrado([\"Olá\", 10, \"Teste\", 50], 0)\n",
        "print(f\"Encontrado: {resultado}, Posição: {posicao}\")\n",
        "\n",
        "# Outro exemplo\n",
        "print()\n",
        "print(\"Outro Exemplo\\n--------------\")\n",
        "\n",
        "def encontra_indice(array, item):\n",
        "  for i in range(0, len(array)):\n",
        "    if(array[i] == item):\n",
        "      return True, i\n",
        "  return False, -1\n",
        "\n",
        "arr = [1,'3', True, 'Olá', 7.1]\n",
        "print(encontra_indice(arr, \"abc\"))\n",
        "print(encontra_indice(arr, \"Olá\"))\n",
        "print(encontra_indice(arr, \"3\"))\n",
        "print(encontra_indice(arr, False))\n",
        "print(encontra_indice(arr, True))"
      ],
      "metadata": {
        "id": "oGBELKa7H7fS",
        "outputId": "abf3c071-a049-42e2-a448-089c9db2ad10",
        "colab": {
          "base_uri": "https://localhost:8080/"
        }
      },
      "execution_count": 26,
      "outputs": [
        {
          "output_type": "stream",
          "name": "stdout",
          "text": [
            "Encontrado: True, Posição: 3\n",
            "Encontrado: True, Posição: 0\n",
            "Encontrado: False, Posição: None\n",
            "\n",
            "Outro Exemplo\n",
            "--------------\n",
            "(False, -1)\n",
            "(True, 3)\n",
            "(True, 1)\n",
            "(False, -1)\n",
            "(True, 0)\n"
          ]
        }
      ]
    },
    {
      "cell_type": "code",
      "source": [
        "# 8 - Crie uma função que recebe um número arbitrario como parâmetro.\n",
        "# Em seguida diga qual o tipo de cada parâmetro.\n",
        "def mostra_tipo(*args):\n",
        "  for item in args:\n",
        "    print(type(item))\n",
        "\n",
        "\n",
        "mostra_tipo(1,4.8,\"texto\", True)\n"
      ],
      "metadata": {
        "id": "QG1M_J7tVsN0",
        "outputId": "cc92da68-aa50-4c0b-c9df-dd710258b4a3",
        "colab": {
          "base_uri": "https://localhost:8080/"
        }
      },
      "execution_count": 30,
      "outputs": [
        {
          "output_type": "stream",
          "name": "stdout",
          "text": [
            "<class 'int'>\n",
            "<class 'float'>\n",
            "<class 'str'>\n",
            "<class 'bool'>\n"
          ]
        }
      ]
    },
    {
      "cell_type": "code",
      "source": [
        "# 9 - Crie uma função que receba uma string, mas que possua um decorator para transforma-la\n",
        "# em uma citação, ou seja você deve retorna strings entre aspas duplas, além disso transforme todos\n",
        "# os caracteres para minúscula usando a função lower()\n",
        "\n",
        "def citacao(func):\n",
        "  def func_inner(texto):\n",
        "    return f\"\"\"{func(texto.lower())}\"\"\"\n",
        "  return func_inner\n",
        "\n",
        "@citacao\n",
        "def transforma_string(texto):\n",
        "  return texto\n",
        "\n",
        "print(\"E disse jão: \", transforma_string(\"Só os sábios sabem!\"))"
      ],
      "metadata": {
        "id": "vAPKlEhtbh7y",
        "outputId": "5e4480c6-0865-4b4f-8755-62b36b0e025e",
        "colab": {
          "base_uri": "https://localhost:8080/"
        }
      },
      "execution_count": 42,
      "outputs": [
        {
          "output_type": "stream",
          "name": "stdout",
          "text": [
            "E disse jão:  só os sábios sabem!\n"
          ]
        }
      ]
    },
    {
      "cell_type": "code",
      "source": [
        "# 10 - Crie uma função recursiva que itere os números de 0 até 10 e printe o resultado\n",
        "# de sua divisão com o número três.\n",
        "def printa_div_3(num):\n",
        "  if num == 11:\n",
        "    return\n",
        "  print(num // 3)\n",
        "  printa_div_3(num+1)\n",
        "\n",
        "printa_div_3(0)"
      ],
      "metadata": {
        "id": "2mLXz0ENcCqO",
        "outputId": "694f03a5-e270-4a85-c2a2-b6768101d98c",
        "colab": {
          "base_uri": "https://localhost:8080/"
        }
      },
      "execution_count": 1,
      "outputs": [
        {
          "output_type": "stream",
          "name": "stdout",
          "text": [
            "0\n",
            "0\n",
            "0\n",
            "1\n",
            "1\n",
            "1\n",
            "2\n",
            "2\n",
            "2\n",
            "3\n",
            "3\n"
          ]
        }
      ]
    }
  ]
}