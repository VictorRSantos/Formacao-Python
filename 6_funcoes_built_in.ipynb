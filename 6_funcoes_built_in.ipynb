{
  "nbformat": 4,
  "nbformat_minor": 0,
  "metadata": {
    "colab": {
      "provenance": [],
      "authorship_tag": "ABX9TyMNxYNnJKfmk5P34MEy8+ai",
      "include_colab_link": true
    },
    "kernelspec": {
      "name": "python3",
      "display_name": "Python 3"
    },
    "language_info": {
      "name": "python"
    }
  },
  "cells": [
    {
      "cell_type": "markdown",
      "metadata": {
        "id": "view-in-github",
        "colab_type": "text"
      },
      "source": [
        "<a href=\"https://colab.research.google.com/github/VictorRSantos/Formacao-Python/blob/main/6_funcoes_built_in.ipynb\" target=\"_parent\"><img src=\"https://colab.research.google.com/assets/colab-badge.svg\" alt=\"Open In Colab\"/></a>"
      ]
    },
    {
      "cell_type": "markdown",
      "source": [
        "# Seção 6: Funções Built-in\n",
        "\n",
        "\n",
        "\n",
        "\n",
        "\n",
        "\n",
        "\n"
      ],
      "metadata": {
        "id": "RNvU_sqTN5Cr"
      }
    },
    {
      "cell_type": "markdown",
      "source": [
        "Funções Matemáticas"
      ],
      "metadata": {
        "id": "Uh4IAcyIOpze"
      }
    },
    {
      "cell_type": "code",
      "source": [
        "# Valor absoluto\n",
        "\n",
        "num1 = -10\n",
        "num2 = 10\n",
        "print(abs(num1))\n",
        "print(abs(num2))\n",
        "print(abs(num1) + abs(num2))"
      ],
      "metadata": {
        "colab": {
          "base_uri": "https://localhost:8080/"
        },
        "id": "ohwHfDLGN_Ps",
        "outputId": "79d21aea-25aa-4c6f-dfa9-ab086ff83a06"
      },
      "execution_count": null,
      "outputs": [
        {
          "output_type": "stream",
          "name": "stdout",
          "text": [
            "10\n",
            "10\n",
            "20\n"
          ]
        }
      ]
    },
    {
      "cell_type": "code",
      "source": [
        "maior_valor = max(10,20,30)\n",
        "print(maior_valor)"
      ],
      "metadata": {
        "colab": {
          "base_uri": "https://localhost:8080/"
        },
        "id": "vU-_Eh5oPcdL",
        "outputId": "b7bd47a9-b89d-4c8b-f962-ea161e145bba"
      },
      "execution_count": null,
      "outputs": [
        {
          "output_type": "stream",
          "name": "stdout",
          "text": [
            "30\n"
          ]
        }
      ]
    },
    {
      "cell_type": "code",
      "source": [
        "lista = [-20,1,2.3,4,4]\n",
        "print(max(lista))\n",
        "\n",
        "lista = [-20,1,2.3,4,4]\n",
        "print(min(lista))"
      ],
      "metadata": {
        "colab": {
          "base_uri": "https://localhost:8080/"
        },
        "id": "jciGChe5PovQ",
        "outputId": "d5dd539d-f044-4ccb-ac50-ba993583ae6e"
      },
      "execution_count": null,
      "outputs": [
        {
          "output_type": "stream",
          "name": "stdout",
          "text": [
            "4\n",
            "-20\n"
          ]
        }
      ]
    },
    {
      "cell_type": "code",
      "source": [
        "x = 2\n",
        "y = 3\n",
        "print(pow(x,y))"
      ],
      "metadata": {
        "colab": {
          "base_uri": "https://localhost:8080/"
        },
        "id": "hMaW7V82P3wR",
        "outputId": "118fa69d-733b-4b55-c104-4968184e3291"
      },
      "execution_count": null,
      "outputs": [
        {
          "output_type": "stream",
          "name": "stdout",
          "text": [
            "8\n"
          ]
        }
      ]
    },
    {
      "cell_type": "code",
      "source": [
        "import math\n",
        "print(math.sqrt(25))"
      ],
      "metadata": {
        "colab": {
          "base_uri": "https://localhost:8080/"
        },
        "id": "aYRa8C5xP_r-",
        "outputId": "25a88091-0430-4ac8-a28c-51cc3eda8c2e"
      },
      "execution_count": null,
      "outputs": [
        {
          "output_type": "stream",
          "name": "stdout",
          "text": [
            "5.0\n"
          ]
        }
      ]
    },
    {
      "cell_type": "code",
      "source": [
        "print(round(2.4566,1))\n",
        "print(round(2.4566,2))\n",
        "print(round(2.4566,3))"
      ],
      "metadata": {
        "colab": {
          "base_uri": "https://localhost:8080/"
        },
        "id": "xbFVZX7HQN9H",
        "outputId": "2f1264c0-2c41-4e79-dd4f-0c2ddc054be0"
      },
      "execution_count": null,
      "outputs": [
        {
          "output_type": "stream",
          "name": "stdout",
          "text": [
            "2.5\n",
            "2.46\n",
            "2.457\n"
          ]
        }
      ]
    },
    {
      "cell_type": "code",
      "source": [
        "from math import floor, ceil\n",
        "\n",
        "print(floor(2.4566)) # Arredonda o valor para baixo\n",
        "print(ceil(2.4566))# Arredonda o valor para cima"
      ],
      "metadata": {
        "colab": {
          "base_uri": "https://localhost:8080/"
        },
        "id": "7kC_IvZzQY6F",
        "outputId": "06259ea1-5dfc-4cb5-95cc-b1f61d5081ad"
      },
      "execution_count": null,
      "outputs": [
        {
          "output_type": "stream",
          "name": "stdout",
          "text": [
            "2\n",
            "3\n"
          ]
        }
      ]
    },
    {
      "cell_type": "code",
      "source": [
        "print(divmod(10,4))"
      ],
      "metadata": {
        "colab": {
          "base_uri": "https://localhost:8080/"
        },
        "id": "3RxNAFefQuZ8",
        "outputId": "b65c1c04-b8c9-46ee-e461-2daf031f1abc"
      },
      "execution_count": null,
      "outputs": [
        {
          "output_type": "stream",
          "name": "stdout",
          "text": [
            "(2, 2)\n"
          ]
        }
      ]
    },
    {
      "cell_type": "markdown",
      "source": [
        "Caracteres para números e números para caracteres"
      ],
      "metadata": {
        "id": "orMENtiHOI2i"
      }
    },
    {
      "cell_type": "code",
      "source": [
        "numero = 70\n",
        "caractere = chr(numero)\n",
        "print(f\"O número {numero} é mapeado para o caractere {caractere}\")"
      ],
      "metadata": {
        "colab": {
          "base_uri": "https://localhost:8080/"
        },
        "id": "PYNY-TyKV7Ia",
        "outputId": "41ad1db7-fca5-43f5-b86f-39afebeec92e"
      },
      "execution_count": null,
      "outputs": [
        {
          "output_type": "stream",
          "name": "stdout",
          "text": [
            "O número 70 é mapeado para o caractere F\n"
          ]
        }
      ]
    },
    {
      "cell_type": "code",
      "source": [
        "# mostrar os numeros dos caracteres\n",
        "for i in range(65,100):\n",
        "  caractere = chr(i)\n",
        "  print(f\"{i} - {caractere}\")"
      ],
      "metadata": {
        "colab": {
          "base_uri": "https://localhost:8080/"
        },
        "id": "MY1tGqjpZtwZ",
        "outputId": "7e94bf3c-2eee-4846-ca41-4862f6b35fcf"
      },
      "execution_count": null,
      "outputs": [
        {
          "output_type": "stream",
          "name": "stdout",
          "text": [
            "65 - A\n",
            "66 - B\n",
            "67 - C\n",
            "68 - D\n",
            "69 - E\n",
            "70 - F\n",
            "71 - G\n",
            "72 - H\n",
            "73 - I\n",
            "74 - J\n",
            "75 - K\n",
            "76 - L\n",
            "77 - M\n",
            "78 - N\n",
            "79 - O\n",
            "80 - P\n",
            "81 - Q\n",
            "82 - R\n",
            "83 - S\n",
            "84 - T\n",
            "85 - U\n",
            "86 - V\n",
            "87 - W\n",
            "88 - X\n",
            "89 - Y\n",
            "90 - Z\n",
            "91 - [\n",
            "92 - \\\n",
            "93 - ]\n",
            "94 - ^\n",
            "95 - _\n",
            "96 - `\n",
            "97 - a\n",
            "98 - b\n",
            "99 - c\n"
          ]
        }
      ]
    },
    {
      "cell_type": "code",
      "source": [
        "caractere = \"F\"\n",
        "numero = ord(caractere)\n",
        "print(f\"O caractere {caractere} se mapeia para o número {numero}\")"
      ],
      "metadata": {
        "colab": {
          "base_uri": "https://localhost:8080/"
        },
        "id": "YtQWZh7NaWwt",
        "outputId": "d4052c42-b327-40e5-8403-2d1bd76e7ab9"
      },
      "execution_count": null,
      "outputs": [
        {
          "output_type": "stream",
          "name": "stdout",
          "text": [
            "O caractere F se mapeia para o número 70\n"
          ]
        }
      ]
    },
    {
      "cell_type": "markdown",
      "source": [
        "Funções de Texto"
      ],
      "metadata": {
        "id": "cjjEx-QXatcf"
      }
    },
    {
      "cell_type": "code",
      "source": [
        "#Primeira letra maiuscula\n",
        "texto = \"ola, tudo bem?\"\n",
        "print(texto.capitalize())"
      ],
      "metadata": {
        "colab": {
          "base_uri": "https://localhost:8080/"
        },
        "id": "Lq-AjBjFa6Wo",
        "outputId": "0ad4bf89-62bb-4c5b-b39b-e4ea8bae2dc5"
      },
      "execution_count": null,
      "outputs": [
        {
          "output_type": "stream",
          "name": "stdout",
          "text": [
            "Ola, tudo bem?\n"
          ]
        }
      ]
    },
    {
      "cell_type": "code",
      "source": [
        "#Tudo para maiuscula\n",
        "print(texto.upper())"
      ],
      "metadata": {
        "colab": {
          "base_uri": "https://localhost:8080/"
        },
        "id": "2zo8dicycULN",
        "outputId": "8c20d422-67c6-44ae-aa5c-b6f57ebc558a"
      },
      "execution_count": null,
      "outputs": [
        {
          "output_type": "stream",
          "name": "stdout",
          "text": [
            "OLA, TUDO BEM?\n"
          ]
        }
      ]
    },
    {
      "cell_type": "code",
      "source": [
        "#Tudo para minuscula\n",
        "print(texto.lower())"
      ],
      "metadata": {
        "colab": {
          "base_uri": "https://localhost:8080/"
        },
        "id": "Moft_QNiddD4",
        "outputId": "f7300015-ab6b-40fe-c391-ed3ff40ff20d"
      },
      "execution_count": null,
      "outputs": [
        {
          "output_type": "stream",
          "name": "stdout",
          "text": [
            "ola, tudo bem?\n"
          ]
        }
      ]
    },
    {
      "cell_type": "code",
      "source": [
        "#Inverter de formatação\n",
        "texto = \"Ola, Tudo Bem?\"\n",
        "print(texto.swapcase())"
      ],
      "metadata": {
        "colab": {
          "base_uri": "https://localhost:8080/"
        },
        "id": "DHc8ABwmdgxS",
        "outputId": "c01fa1be-1b97-4ab6-dc8a-a1b3fb3ab6a2"
      },
      "execution_count": null,
      "outputs": [
        {
          "output_type": "stream",
          "name": "stdout",
          "text": [
            "oLA, tUDO bEM?\n"
          ]
        }
      ]
    },
    {
      "cell_type": "code",
      "source": [
        "#Transforma primeira letra de cada palavra em maiusculo\n",
        "texto = \"eu sou um ótimo programador python\"\n",
        "print(texto.title())"
      ],
      "metadata": {
        "colab": {
          "base_uri": "https://localhost:8080/"
        },
        "id": "-b5jWq0_dj3E",
        "outputId": "1395730d-bdd4-478c-ffed-59efe63c5bfa"
      },
      "execution_count": null,
      "outputs": [
        {
          "output_type": "stream",
          "name": "stdout",
          "text": [
            "Eu Sou Um Ótimo Programador Python\n"
          ]
        }
      ]
    },
    {
      "cell_type": "code",
      "source": [
        "# Centralizar texto\n",
        "texto = \"1234567\"\n",
        "print(texto.center(9))\n",
        "print(texto.center(14))\n",
        "print(texto.center(14,'-'))"
      ],
      "metadata": {
        "colab": {
          "base_uri": "https://localhost:8080/"
        },
        "id": "exY245Eadncq",
        "outputId": "894416be-ccd1-4f4a-b905-07bb7d3b51d5"
      },
      "execution_count": null,
      "outputs": [
        {
          "output_type": "stream",
          "name": "stdout",
          "text": [
            " 1234567 \n",
            "   1234567    \n",
            "---1234567----\n"
          ]
        }
      ]
    },
    {
      "cell_type": "code",
      "source": [
        "# Justificar texto\n",
        "texto = \"1234567\"\n",
        "# direita\n",
        "print(texto.rjust(9))\n",
        "# esquerda\n",
        "print(texto.ljust(9))"
      ],
      "metadata": {
        "colab": {
          "base_uri": "https://localhost:8080/"
        },
        "id": "FZokErOkd50T",
        "outputId": "6aa60a70-7424-40a2-98ac-64e332bc0d81"
      },
      "execution_count": null,
      "outputs": [
        {
          "output_type": "stream",
          "name": "stdout",
          "text": [
            "  1234567\n",
            "1234567  \n"
          ]
        }
      ]
    },
    {
      "cell_type": "code",
      "source": [
        "# Contar ocorrencia de uma letra\n",
        "texto = \"12121212\"\n",
        "print(texto.count(\"121\"))"
      ],
      "metadata": {
        "colab": {
          "base_uri": "https://localhost:8080/"
        },
        "id": "E7NMxhXpeMxA",
        "outputId": "221e0327-f2d1-4cef-d4d8-78a0ef677a22"
      },
      "execution_count": null,
      "outputs": [
        {
          "output_type": "stream",
          "name": "stdout",
          "text": [
            "2\n"
          ]
        }
      ]
    },
    {
      "cell_type": "code",
      "source": [
        "texto = \"121212\"\n",
        "print(texto.startswith(\"12\"))\n",
        "print(texto.endswith(\"12\"))"
      ],
      "metadata": {
        "colab": {
          "base_uri": "https://localhost:8080/"
        },
        "id": "75kIEMCWee-y",
        "outputId": "55cc167b-8737-4123-b529-d77d1247c569"
      },
      "execution_count": null,
      "outputs": [
        {
          "output_type": "stream",
          "name": "stdout",
          "text": [
            "True\n",
            "True\n"
          ]
        }
      ]
    },
    {
      "cell_type": "code",
      "source": [
        "# Retorna o indice do texto\n",
        "texto = \"me encontra 20 10 5\"\n",
        "pos = texto.find(\"10\")\n",
        "print(pos)\n",
        "pos = texto.find(\"4\")\n",
        "print(pos)\n"
      ],
      "metadata": {
        "colab": {
          "base_uri": "https://localhost:8080/"
        },
        "id": "UnG02_XCeqtZ",
        "outputId": "1d4d05b7-6388-4d25-9396-8646e7cca712"
      },
      "execution_count": null,
      "outputs": [
        {
          "output_type": "stream",
          "name": "stdout",
          "text": [
            "15\n",
            "-1\n"
          ]
        }
      ]
    },
    {
      "cell_type": "code",
      "source": [
        "# Encontrar texto pelo o indice\n",
        "texto = \"me encontra 20 10 5\"\n",
        "pos = texto.index(\"10\")\n",
        "print(pos)\n",
        "pos = texto.index(\"4\") # gera erro\n",
        "print(pos)"
      ],
      "metadata": {
        "colab": {
          "base_uri": "https://localhost:8080/",
          "height": 220
        },
        "id": "5ddOLzjYfEoS",
        "outputId": "fdadf0d6-5397-4a38-a62b-f03ff64418fe"
      },
      "execution_count": null,
      "outputs": [
        {
          "output_type": "stream",
          "name": "stdout",
          "text": [
            "15\n"
          ]
        },
        {
          "output_type": "error",
          "ename": "ValueError",
          "evalue": "substring not found",
          "traceback": [
            "\u001b[0;31m---------------------------------------------------------------------------\u001b[0m",
            "\u001b[0;31mValueError\u001b[0m                                Traceback (most recent call last)",
            "\u001b[0;32m<ipython-input-48-ecc94d13dceb>\u001b[0m in \u001b[0;36m<cell line: 5>\u001b[0;34m()\u001b[0m\n\u001b[1;32m      3\u001b[0m \u001b[0mpos\u001b[0m \u001b[0;34m=\u001b[0m \u001b[0mtexto\u001b[0m\u001b[0;34m.\u001b[0m\u001b[0mindex\u001b[0m\u001b[0;34m(\u001b[0m\u001b[0;34m\"10\"\u001b[0m\u001b[0;34m)\u001b[0m\u001b[0;34m\u001b[0m\u001b[0;34m\u001b[0m\u001b[0m\n\u001b[1;32m      4\u001b[0m \u001b[0mprint\u001b[0m\u001b[0;34m(\u001b[0m\u001b[0mpos\u001b[0m\u001b[0;34m)\u001b[0m\u001b[0;34m\u001b[0m\u001b[0;34m\u001b[0m\u001b[0m\n\u001b[0;32m----> 5\u001b[0;31m \u001b[0mpos\u001b[0m \u001b[0;34m=\u001b[0m \u001b[0mtexto\u001b[0m\u001b[0;34m.\u001b[0m\u001b[0mindex\u001b[0m\u001b[0;34m(\u001b[0m\u001b[0;34m\"4\"\u001b[0m\u001b[0;34m)\u001b[0m \u001b[0;31m# gera erro\u001b[0m\u001b[0;34m\u001b[0m\u001b[0;34m\u001b[0m\u001b[0m\n\u001b[0m\u001b[1;32m      6\u001b[0m \u001b[0mprint\u001b[0m\u001b[0;34m(\u001b[0m\u001b[0mpos\u001b[0m\u001b[0;34m)\u001b[0m\u001b[0;34m\u001b[0m\u001b[0;34m\u001b[0m\u001b[0m\n",
            "\u001b[0;31mValueError\u001b[0m: substring not found"
          ]
        }
      ]
    },
    {
      "cell_type": "code",
      "source": [
        "# Substituir Texto\n",
        "texto = \"Ol@ eu sou ful@n@\"\n",
        "novo_texto = texto.replace(\"@\",\"a\")\n",
        "print(novo_texto)"
      ],
      "metadata": {
        "colab": {
          "base_uri": "https://localhost:8080/"
        },
        "id": "Kp1jXGNQfYR1",
        "outputId": "9f7b105d-cc78-42c2-9f98-99926e4c2cdf"
      },
      "execution_count": null,
      "outputs": [
        {
          "output_type": "stream",
          "name": "stdout",
          "text": [
            "Ola eu sou fulana\n"
          ]
        }
      ]
    },
    {
      "cell_type": "code",
      "source": [
        "texto = \"10,20,30\"\n",
        "print(texto.split(\",\"))"
      ],
      "metadata": {
        "colab": {
          "base_uri": "https://localhost:8080/"
        },
        "id": "kwpqSSoHfwRa",
        "outputId": "0f61b7e1-a9ec-4f63-fa1a-4a975a7e0c64"
      },
      "execution_count": null,
      "outputs": [
        {
          "output_type": "stream",
          "name": "stdout",
          "text": [
            "['10', '20', '30']\n"
          ]
        }
      ]
    },
    {
      "cell_type": "code",
      "source": [
        "texto = \"Olá, bom dia\\n este é um curso de python\\n seja bem vindo\"\n",
        "print(texto.splitlines())"
      ],
      "metadata": {
        "colab": {
          "base_uri": "https://localhost:8080/"
        },
        "id": "vcTcUkQHf5sp",
        "outputId": "3d07713b-18d3-4e95-dc12-ea151ec2ddc5"
      },
      "execution_count": null,
      "outputs": [
        {
          "output_type": "stream",
          "name": "stdout",
          "text": [
            "['Olá, bom dia', ' este é um curso de python', ' seja bem vindo']\n"
          ]
        }
      ]
    },
    {
      "cell_type": "code",
      "source": [
        "# Identificar padrões no texto\n",
        "print(\"abcdE3\".isalpha())"
      ],
      "metadata": {
        "colab": {
          "base_uri": "https://localhost:8080/"
        },
        "id": "bEdO7j6mgIgS",
        "outputId": "f269c656-86d8-4f9b-ad46-5a769d1ed9e2"
      },
      "execution_count": null,
      "outputs": [
        {
          "output_type": "stream",
          "name": "stdout",
          "text": [
            "False\n"
          ]
        }
      ]
    },
    {
      "cell_type": "code",
      "source": [
        "# Identificar padrões no texto\n",
        "print(\"abcdE3\".isalnum())\n",
        "print(\"abc,dE3\".isalnum())"
      ],
      "metadata": {
        "colab": {
          "base_uri": "https://localhost:8080/"
        },
        "id": "GMqAgnAngYV8",
        "outputId": "514ae374-7fda-412b-b5f2-06df93b25844"
      },
      "execution_count": null,
      "outputs": [
        {
          "output_type": "stream",
          "name": "stdout",
          "text": [
            "True\n",
            "False\n"
          ]
        }
      ]
    },
    {
      "cell_type": "code",
      "source": [
        "# Identificar string é composta por números\n",
        "print(\"123.3\".isdecimal())\n",
        "print(\"123\".isdecimal())\n",
        "print(\"123a\".isdecimal())"
      ],
      "metadata": {
        "colab": {
          "base_uri": "https://localhost:8080/"
        },
        "id": "9zqC--vwgino",
        "outputId": "30842926-7460-4fcf-ad31-94ffb3feb481"
      },
      "execution_count": null,
      "outputs": [
        {
          "output_type": "stream",
          "name": "stdout",
          "text": [
            "False\n",
            "True\n",
            "False\n"
          ]
        }
      ]
    },
    {
      "cell_type": "code",
      "source": [
        "# Identificar string é composta por caracteres em branco\n",
        "print(\"123\".isspace())\n",
        "print(\"1  \".isspace())\n",
        "print(\"    \".isspace())"
      ],
      "metadata": {
        "colab": {
          "base_uri": "https://localhost:8080/"
        },
        "id": "zV2bFNNzglE5",
        "outputId": "fb5edec6-0ba5-4d93-9615-065626fa1f88"
      },
      "execution_count": null,
      "outputs": [
        {
          "output_type": "stream",
          "name": "stdout",
          "text": [
            "False\n",
            "False\n",
            "True\n"
          ]
        }
      ]
    },
    {
      "cell_type": "code",
      "source": [
        "# Identificar se o texto é tudo maiusculo e minusculo\n",
        "print(\"abc\".islower())\n",
        "print(\"ABC\".isupper())"
      ],
      "metadata": {
        "colab": {
          "base_uri": "https://localhost:8080/"
        },
        "id": "M11NU2d4hBbr",
        "outputId": "b29dcfda-e60a-4178-f22f-32224ef22a7d"
      },
      "execution_count": null,
      "outputs": [
        {
          "output_type": "stream",
          "name": "stdout",
          "text": [
            "True\n",
            "True\n"
          ]
        }
      ]
    },
    {
      "cell_type": "markdown",
      "source": [
        "Funções para Listas"
      ],
      "metadata": {
        "id": "5HpxWo_6a008"
      }
    },
    {
      "cell_type": "code",
      "source": [
        "# Ordernar uma coleção\n",
        "lista = [5,10,2,1,5,10]\n",
        "lista.sort()\n",
        "print(lista)"
      ],
      "metadata": {
        "colab": {
          "base_uri": "https://localhost:8080/"
        },
        "id": "d4Xb8-yEh4yE",
        "outputId": "b50733a7-1b28-4b26-e099-11d19504885b"
      },
      "execution_count": null,
      "outputs": [
        {
          "output_type": "stream",
          "name": "stdout",
          "text": [
            "[1, 2, 5, 5, 10, 10]\n"
          ]
        }
      ]
    },
    {
      "cell_type": "code",
      "source": [
        "# Ordernar texto\n",
        "lista = [\"a\",\"b\",\"x\",\"ab\",\"d\",\"c\"]\n",
        "lista.sort()\n",
        "print(lista)"
      ],
      "metadata": {
        "colab": {
          "base_uri": "https://localhost:8080/"
        },
        "id": "NeUR0snfiHMv",
        "outputId": "79e4b344-87b1-4555-fab8-cb75225e03d9"
      },
      "execution_count": null,
      "outputs": [
        {
          "output_type": "stream",
          "name": "stdout",
          "text": [
            "['a', 'ab', 'b', 'c', 'd', 'x']\n"
          ]
        }
      ]
    },
    {
      "cell_type": "code",
      "source": [
        "# decrescente\n",
        "lista = [5,10,2,1,5,10]\n",
        "lista.sort(reverse=True)\n",
        "print(lista)"
      ],
      "metadata": {
        "colab": {
          "base_uri": "https://localhost:8080/"
        },
        "id": "xGsVMYWviUo1",
        "outputId": "f540dbba-6149-4425-dfe0-03fa01421917"
      },
      "execution_count": null,
      "outputs": [
        {
          "output_type": "stream",
          "name": "stdout",
          "text": [
            "[10, 10, 5, 5, 2, 1]\n"
          ]
        }
      ]
    },
    {
      "cell_type": "code",
      "source": [
        "def sort_por_tamanho(item):\n",
        "  return len(item)\n",
        "\n",
        "lista = [\"abcd\",\"a\",\"ab\",\"abc\"]\n",
        "\n",
        "lista.sort(key=sort_por_tamanho)\n",
        "print(lista)"
      ],
      "metadata": {
        "colab": {
          "base_uri": "https://localhost:8080/"
        },
        "id": "iKk4KrKOinCz",
        "outputId": "352e991f-42e1-432c-bc83-a7a5a6645142"
      },
      "execution_count": null,
      "outputs": [
        {
          "output_type": "stream",
          "name": "stdout",
          "text": [
            "['a', 'ab', 'abc', 'abcd']\n"
          ]
        }
      ]
    },
    {
      "cell_type": "code",
      "source": [
        "lista = [5,10,2,1,5,10]\n",
        "lista.reverse()\n",
        "print(lista)"
      ],
      "metadata": {
        "colab": {
          "base_uri": "https://localhost:8080/"
        },
        "id": "-n9JhU3fjY6I",
        "outputId": "8fd5b1c9-be76-4149-f4e0-62cd47e0e4ba"
      },
      "execution_count": null,
      "outputs": [
        {
          "output_type": "stream",
          "name": "stdout",
          "text": [
            "[10, 5, 1, 2, 10, 5]\n"
          ]
        }
      ]
    },
    {
      "cell_type": "code",
      "source": [
        "produtos = [\n",
        "    [\"carro\",\"R$ 100.000\"],\n",
        "    [\"cadeira\", \"R$ 1000\"],\n",
        "    [\"moto\", \"R$ 40000\"],\n",
        "    [\"geraladeira\", \"R$ 2000\"],\n",
        "    [\"armario\", \"R$ 1500\"]\n",
        "]\n",
        "\n",
        "\n",
        "for produto, valor in produtos:\n",
        "  print(produto, valor)"
      ],
      "metadata": {
        "colab": {
          "base_uri": "https://localhost:8080/"
        },
        "id": "fRK1TXdIjf3m",
        "outputId": "1b56ea83-ae58-40d7-ef33-0207a455d71a"
      },
      "execution_count": null,
      "outputs": [
        {
          "output_type": "stream",
          "name": "stdout",
          "text": [
            "carro R$ 100.000\n",
            "cadeira R$ 1000\n",
            "moto R$ 40000\n",
            "geraladeira R$ 2000\n",
            "armario R$ 1500\n"
          ]
        }
      ]
    },
    {
      "cell_type": "code",
      "source": [
        "nomes = ('José','Carlos','João')\n",
        "dicionario = dict.fromkeys(nomes,10)\n",
        "print(dicionario)"
      ],
      "metadata": {
        "colab": {
          "base_uri": "https://localhost:8080/"
        },
        "id": "7RSWTsbukb5j",
        "outputId": "ae00873e-0972-4c94-ebfa-23d6a60c0294"
      },
      "execution_count": null,
      "outputs": [
        {
          "output_type": "stream",
          "name": "stdout",
          "text": [
            "{'José': 10, 'Carlos': 10, 'João': 10}\n"
          ]
        }
      ]
    },
    {
      "cell_type": "markdown",
      "source": [],
      "metadata": {
        "id": "M-9xBR44fHFZ"
      }
    },
    {
      "cell_type": "markdown",
      "source": [
        "### Funções Data e Hora"
      ],
      "metadata": {
        "id": "u2eZ-g8VfCaS"
      }
    },
    {
      "cell_type": "code",
      "source": [
        "# Funções data e hora\n",
        "import datetime\n",
        "\n",
        "data_completa = datetime.datetime.now()\n",
        "\n",
        "# Pegar data\n",
        "data = data_completa.date()\n",
        "\n",
        "# Pegar Hora\n",
        "hora = data_completa.time()\n",
        "\n",
        "print(data_completa)\n",
        "print(data)\n",
        "print(hora)\n",
        "\n",
        "\n",
        "print(\"\\n=========================================\\n\")\n",
        "\n",
        "print(f\"Dia {data_completa.day}\")\n",
        "print(f\"Mês {data_completa.month}\")\n",
        "print(f\"Ano {data_completa.year}\")\n",
        "print(f\"Hora {data_completa.hour}\")\n",
        "print(f\"Minutos {data_completa.minute}\")\n",
        "print(f\"Segundos {data_completa.second}\")\n",
        "\n",
        "print(\"\\n=======Criar uma data especifica=========\\n\")\n",
        "\n",
        "data = datetime.date(2000,9,30)\n",
        "print(f\"Data {data}\")\n",
        "# Passar parametro de forma nomeada\n",
        "data = datetime.date(day=30, month=9, year=2000)\n",
        "print(f\"ano-mês-dia {data}\")\n",
        "print(type(data))\n",
        "\n",
        "print(\"\\n===============Time====================\\n\")\n",
        "\n",
        "hora = datetime.time(10,30,20)\n",
        "data = datetime.datetime(2000,9,30,10,30,20)\n",
        "print(f\"Hora {hora}\")\n",
        "print(f\"Data e Hora {data}\")\n",
        "\n",
        "print(\"\\n===============Formatação====================\\n\")\n",
        "print(\" y - Ano\\n m - Mês\\n d - Dia\\n H - Hora\\n M - Minutos\\n S - Segundos\")\n",
        "\n",
        "atual = datetime.datetime.now()\n",
        "current_time = atual.strftime(\"%y/%m/%d - %H:%M:%S\")\n",
        "print(current_time)\n",
        "\n",
        "print(\"\\n===============Outras Formatação====================\\n\")\n",
        "print(\" A - dia da semana\\n a - dia da semana abreviado\\n B - nome do mês\\n b - nome do mês abreviado\\n I - hora formato 12 horas\\n P - AM PM\")\n",
        "data = datetime.datetime(2000,9,30,10,30,20)\n",
        "\n",
        "print(data.strftime(\"Dia: %A - %a\"))\n",
        "print(data.strftime(\"Mês: %B - %b\"))\n",
        "print(data.strftime(\"Hora: %H - %I\"))\n",
        "print(data.strftime(\"Hora: %I - %P\"))"
      ],
      "metadata": {
        "colab": {
          "base_uri": "https://localhost:8080/"
        },
        "id": "kpYWG1KTYgRw",
        "outputId": "a40f424a-b1cc-46df-e2ad-a89ea6014da0"
      },
      "execution_count": null,
      "outputs": [
        {
          "output_type": "stream",
          "name": "stdout",
          "text": [
            "2025-02-24 01:06:21.188738\n",
            "2025-02-24\n",
            "01:06:21.188738\n",
            "\n",
            "=========================================\n",
            "\n",
            "Dia 24\n",
            "Mês 2\n",
            "Ano 2025\n",
            "Hora 1\n",
            "Minutos 6\n",
            "Segundos 21\n",
            "\n",
            "=======Criar uma data especifica=========\n",
            "\n",
            "Data 2000-09-30\n",
            "ano-mês-dia 2000-09-30\n",
            "<class 'datetime.date'>\n",
            "\n",
            "===============Time====================\n",
            "\n",
            "Hora 10:30:20\n",
            "Data e Hora 2000-09-30 10:30:20\n",
            "\n",
            "===============Formatação====================\n",
            "\n",
            " y - Ano\n",
            " m - Mês\n",
            " d - Dia\n",
            " H - Hora\n",
            " M - Minutos\n",
            " S - Segundos\n",
            "25/02/24 - 01:06:21\n",
            "\n",
            "===============Outras Formatação====================\n",
            "\n",
            " A - dia da semana\n",
            " a - dia da semana abreviado\n",
            " B - nome do mês\n",
            " b - nome do mês abreviado\n",
            " I - hora formato 12 horas\n",
            " P - AM PM\n",
            "Dia: Saturday - Sat\n",
            "Mês: September - Sep\n",
            "Hora: 10 - 10\n",
            "Hora: 10 - am\n"
          ]
        }
      ]
    },
    {
      "cell_type": "markdown",
      "source": [
        "### Manipulando Datas e Horas"
      ],
      "metadata": {
        "id": "69VT7Y7_fVcL"
      }
    },
    {
      "cell_type": "code",
      "source": [
        "import datetime\n",
        "\n",
        "data_um = datetime.datetime(2020,10,20)\n",
        "data_dois = datetime.datetime(2020,11,20)\n",
        "diferenca = data_dois - data_um\n",
        "print(diferenca)\n",
        "print(type(diferenca))"
      ],
      "metadata": {
        "id": "nfEFsXKrfilK",
        "outputId": "ef2d1b74-1033-49c0-b78b-efece3750129",
        "colab": {
          "base_uri": "https://localhost:8080/"
        }
      },
      "execution_count": null,
      "outputs": [
        {
          "output_type": "stream",
          "name": "stdout",
          "text": [
            "31 days, 0:00:00\n",
            "<class 'datetime.timedelta'>\n"
          ]
        }
      ]
    },
    {
      "cell_type": "code",
      "source": [
        "# Pegar horario atual e adicionar semanas e imprimir os resultados\n",
        "from datetime import datetime, timedelta\n",
        "\n",
        "data_atual = datetime.now()\n",
        "data_futura_um = data_atual + timedelta(weeks = 4)\n",
        "data_futura_dois = data_atual + timedelta(days = 30)\n",
        "data_futura_tres = data_atual + timedelta(hours = 12)\n",
        "data_futura_quarto = data_atual + timedelta(minutes = 60)\n",
        "\n",
        "print(f\"Data atual: {data_atual}\")\n",
        "print(f\"Mais quatro semanas: {data_futura_um}\")\n",
        "print(f\"Mais 30 dias: {data_futura_dois}\")\n",
        "print(f\"Mais 12 horas: {data_futura_tres}\")\n",
        "print(f\"Mais 60 minutos: {data_futura_quarto}\")"
      ],
      "metadata": {
        "id": "1oOjtda9gM0N",
        "outputId": "8cd5530a-abea-481d-a978-38cff1584d5c",
        "colab": {
          "base_uri": "https://localhost:8080/"
        }
      },
      "execution_count": null,
      "outputs": [
        {
          "output_type": "stream",
          "name": "stdout",
          "text": [
            "Data atual: 2025-02-24 01:16:33.274969\n",
            "Mais quatro semanas: 2025-03-24 01:16:33.274969\n",
            "Mais 30 dias: 2025-03-26 01:16:33.274969\n",
            "Mais 12 horas: 2025-02-24 13:16:33.274969\n",
            "Mais 60 minutos: 2025-02-24 02:16:33.274969\n"
          ]
        }
      ]
    },
    {
      "cell_type": "code",
      "source": [
        "# Calcular data e hora sem a função timedelta\n",
        "import datetime\n",
        "data_2000 = datetime.datetime(2000, 1, 1, 0,0,0)\n",
        "data_agora = datetime.datetime.now()\n",
        "diferenca = data_agora - data_2000\n",
        "print(f\"Desde o ano 2000 passou {diferenca.days} dias\")\n",
        "print(f\"Desde o ano 2000 passou {diferenca.seconds} segundos\")\n",
        "print(f\"Desde o ano 2000 passou {diferenca.microseconds} microsegundos\")\n",
        "\n",
        "# Quantos anos se passaram\n",
        "anos = int(diferenca.days/365)\n",
        "meses = anos * 12\n",
        "\n",
        "print(f\"Desde o ano 2000 passou {anos} anos\")\n",
        "print(f\"Desde o ano 2000 passou {meses} meses\")"
      ],
      "metadata": {
        "id": "jQPFncZuhl5M",
        "outputId": "a2ffff1c-71cf-4726-ab1a-ecad4a792418",
        "colab": {
          "base_uri": "https://localhost:8080/"
        }
      },
      "execution_count": null,
      "outputs": [
        {
          "output_type": "stream",
          "name": "stdout",
          "text": [
            "Desde o ano 2000 passou 9186 dias\n",
            "Desde o ano 2000 passou 4971 segundos\n",
            "Desde o ano 2000 passou 514953 microsegundos\n",
            "Desde o ano 2000 passou 25 anos\n",
            "Desde o ano 2000 passou 300 meses\n"
          ]
        }
      ]
    },
    {
      "cell_type": "markdown",
      "source": [
        "### Lendo Entradas de Datas"
      ],
      "metadata": {
        "id": "bR7ZXQJGjOqe"
      }
    },
    {
      "cell_type": "code",
      "source": [
        "import datetime\n",
        "data_txt = input(\"Digite a data no formato dia/mês/ano:\")\n",
        "datetime = datetime.datetime.strptime(data_txt, \"%d/%m/%Y\")\n",
        "print(datetime)\n",
        "print(type(datetime))"
      ],
      "metadata": {
        "id": "6EqBR16djUyR",
        "outputId": "c88dc8ee-db27-4940-f8e8-6d0471d7ad25",
        "colab": {
          "base_uri": "https://localhost:8080/"
        }
      },
      "execution_count": null,
      "outputs": [
        {
          "output_type": "stream",
          "name": "stdout",
          "text": [
            "Digite a data no formato dia/mês/ano:10/05/2000\n",
            "2000-05-10 00:00:00\n",
            "<class 'datetime.datetime'>\n"
          ]
        }
      ]
    },
    {
      "cell_type": "markdown",
      "source": [
        "### Atividades\n"
      ],
      "metadata": {
        "id": "q5j0-c-nk0Is"
      }
    },
    {
      "cell_type": "code",
      "source": [
        "# 1 - Crie uma função que retorne a subtração de dois elementos, mas que\n",
        "# considere o valor absoluto deste valores\n",
        "def subtracao(num1, num2):\n",
        "  resultado = (abs(num1) - abs(num2))\n",
        "  return resultado\n",
        "\n",
        "print(f\"Resultado:{subtracao(10, 20)}\")\n"
      ],
      "metadata": {
        "id": "KeM_Hrhzk2sp",
        "colab": {
          "base_uri": "https://localhost:8080/"
        },
        "outputId": "f2293ac9-35f6-4251-8081-b95cc687ffd1"
      },
      "execution_count": null,
      "outputs": [
        {
          "output_type": "stream",
          "name": "stdout",
          "text": [
            "Resultado:-10\n"
          ]
        }
      ]
    },
    {
      "cell_type": "code",
      "source": [
        "# 2 - Sem usar \"IFs\", crie uma função que receba dois números e\n",
        "# retorne a soma dos mesmos, mas o valor retornado não pode passar de 10000 e deve ser sempre maior que 0.\n",
        "def soma(num1, num2):\n",
        "  soma = num1 + num2\n",
        "  soma = min(10000, soma)\n",
        "  soma = max(0, soma)\n",
        "  return soma\n",
        "\n",
        "\n",
        "print(f\"Soma:{soma(20, 20)}\")\n",
        "print(f\"Soma:{soma(5000, 6000)}\")\n",
        "print(f\"Soma:{soma(10, -20)}\")\n"
      ],
      "metadata": {
        "id": "0Z402Hz7lRUR",
        "colab": {
          "base_uri": "https://localhost:8080/"
        },
        "outputId": "c85a39ae-9a35-465d-a512-27ed8e0aff32"
      },
      "execution_count": null,
      "outputs": [
        {
          "output_type": "stream",
          "name": "stdout",
          "text": [
            "Soma:40\n",
            "Soma:10000\n",
            "Soma:0\n"
          ]
        }
      ]
    },
    {
      "cell_type": "code",
      "source": [
        "# 3 - (Desafio) - Crie uma função que receba argumentos de tamanho arbitrário;\n",
        "# Todos esses argumentos serão números. Em seguida retorne o menor número entre todos os recebidos\n",
        "\n",
        "def menor(*numeros):\n",
        "  menor = numeros[0]\n",
        "  for i in numeros:\n",
        "    menor = min(i, menor)\n",
        "  return menor\n",
        "\n",
        "print(f\"Resultado: {menor(10,20,30,10000,20000)}\")"
      ],
      "metadata": {
        "id": "BgHfnVmJln0t",
        "colab": {
          "base_uri": "https://localhost:8080/"
        },
        "outputId": "b453beb0-f72f-445b-9df2-b08540235cd1"
      },
      "execution_count": null,
      "outputs": [
        {
          "output_type": "stream",
          "name": "stdout",
          "text": [
            "Resultado: 10\n"
          ]
        }
      ]
    },
    {
      "cell_type": "code",
      "source": [
        "# 4 - Crie uma função que calcule a formula de Bhaskara, encontrado o X.\n",
        "# Os coeficientes a,b e c devem ser lidos por input.\n",
        "import math\n",
        "\n",
        "a = float(input(\"Digite o coeficiente a:\"))\n",
        "b = float(input(\"Digite o coeficiente b:\"))\n",
        "c = float(input(\"Digite o coeficiente c:\"))\n",
        "\n",
        "x1 = (-b + math.sqrt(pow(b, 2) -4 * a * c)) / (2 * a)\n",
        "x2 = (-b - math.sqrt(pow(b, 2) -4 * a * c)) / (2 * a)\n",
        "print(f\"A solução encontrada é {x1} e {x2}\")\n"
      ],
      "metadata": {
        "id": "3FDpy08nl-hu",
        "colab": {
          "base_uri": "https://localhost:8080/"
        },
        "outputId": "6e0d87ae-5dfc-4102-f21e-599d9927663d"
      },
      "execution_count": null,
      "outputs": [
        {
          "output_type": "stream",
          "name": "stdout",
          "text": [
            "Digite o coeficiente a:2\n",
            "Digite o coeficiente b:9\n",
            "Digite o coeficiente c:10\n",
            "A solução encontrada é -2.0 e -2.5\n"
          ]
        }
      ]
    },
    {
      "cell_type": "code",
      "source": [
        "# 5 - Crie uma função que receba uma string, e para cada letra minúscula\n",
        "# a transforme em uma letra maiúscula e vice versa\n",
        "def troca(texto):\n",
        "  return texto.swapcase()\n",
        "\n",
        "print(troca(\"Olá MunDO\"))"
      ],
      "metadata": {
        "id": "UcRFOBZNmQr1",
        "colab": {
          "base_uri": "https://localhost:8080/"
        },
        "outputId": "9924e317-0258-4af4-d728-005c065f158f"
      },
      "execution_count": null,
      "outputs": [
        {
          "output_type": "stream",
          "name": "stdout",
          "text": [
            "oLÁ mUNdo\n"
          ]
        }
      ]
    }
  ]
}