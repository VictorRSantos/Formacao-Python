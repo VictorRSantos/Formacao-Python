{
  "nbformat": 4,
  "nbformat_minor": 0,
  "metadata": {
    "colab": {
      "provenance": [],
      "authorship_tag": "ABX9TyMplT67aIrhPpmZ2l/vhpzd",
      "include_colab_link": true
    },
    "kernelspec": {
      "name": "python3",
      "display_name": "Python 3"
    },
    "language_info": {
      "name": "python"
    }
  },
  "cells": [
    {
      "cell_type": "markdown",
      "metadata": {
        "id": "view-in-github",
        "colab_type": "text"
      },
      "source": [
        "<a href=\"https://colab.research.google.com/github/VictorRSantos/Formacao-Python/blob/main/6_funcoes_built_in.ipynb\" target=\"_parent\"><img src=\"https://colab.research.google.com/assets/colab-badge.svg\" alt=\"Open In Colab\"/></a>"
      ]
    },
    {
      "cell_type": "markdown",
      "source": [
        "# Seção 6: Funções Built-in\n",
        "\n",
        "\n",
        "\n",
        "\n",
        "\n",
        "\n",
        "\n"
      ],
      "metadata": {
        "id": "RNvU_sqTN5Cr"
      }
    },
    {
      "cell_type": "markdown",
      "source": [
        "### Funções Matemáticas"
      ],
      "metadata": {
        "id": "Uh4IAcyIOpze"
      }
    },
    {
      "cell_type": "code",
      "source": [
        "# Valor absoluto\n",
        "\n",
        "num1 = -10\n",
        "num2 = 10\n",
        "print(abs(num1))\n",
        "print(abs(num2))\n",
        "print(abs(num1) + abs(num2))"
      ],
      "metadata": {
        "colab": {
          "base_uri": "https://localhost:8080/"
        },
        "id": "ohwHfDLGN_Ps",
        "outputId": "79d21aea-25aa-4c6f-dfa9-ab086ff83a06"
      },
      "execution_count": 4,
      "outputs": [
        {
          "output_type": "stream",
          "name": "stdout",
          "text": [
            "10\n",
            "10\n",
            "20\n"
          ]
        }
      ]
    },
    {
      "cell_type": "code",
      "source": [
        "maior_valor = max(10,20,30)\n",
        "print(maior_valor)"
      ],
      "metadata": {
        "colab": {
          "base_uri": "https://localhost:8080/"
        },
        "id": "vU-_Eh5oPcdL",
        "outputId": "b7bd47a9-b89d-4c8b-f962-ea161e145bba"
      },
      "execution_count": 8,
      "outputs": [
        {
          "output_type": "stream",
          "name": "stdout",
          "text": [
            "30\n"
          ]
        }
      ]
    },
    {
      "cell_type": "code",
      "source": [
        "lista = [-20,1,2.3,4,4]\n",
        "print(max(lista))\n",
        "\n",
        "lista = [-20,1,2.3,4,4]\n",
        "print(min(lista))"
      ],
      "metadata": {
        "colab": {
          "base_uri": "https://localhost:8080/"
        },
        "id": "jciGChe5PovQ",
        "outputId": "d5dd539d-f044-4ccb-ac50-ba993583ae6e"
      },
      "execution_count": 10,
      "outputs": [
        {
          "output_type": "stream",
          "name": "stdout",
          "text": [
            "4\n",
            "-20\n"
          ]
        }
      ]
    },
    {
      "cell_type": "code",
      "source": [
        "x = 2\n",
        "y = 3\n",
        "print(pow(x,y))"
      ],
      "metadata": {
        "colab": {
          "base_uri": "https://localhost:8080/"
        },
        "id": "hMaW7V82P3wR",
        "outputId": "118fa69d-733b-4b55-c104-4968184e3291"
      },
      "execution_count": 11,
      "outputs": [
        {
          "output_type": "stream",
          "name": "stdout",
          "text": [
            "8\n"
          ]
        }
      ]
    },
    {
      "cell_type": "code",
      "source": [
        "import math\n",
        "print(math.sqrt(25))"
      ],
      "metadata": {
        "colab": {
          "base_uri": "https://localhost:8080/"
        },
        "id": "aYRa8C5xP_r-",
        "outputId": "25a88091-0430-4ac8-a28c-51cc3eda8c2e"
      },
      "execution_count": 12,
      "outputs": [
        {
          "output_type": "stream",
          "name": "stdout",
          "text": [
            "5.0\n"
          ]
        }
      ]
    },
    {
      "cell_type": "code",
      "source": [
        "print(round(2.4566,1))\n",
        "print(round(2.4566,2))\n",
        "print(round(2.4566,3))"
      ],
      "metadata": {
        "colab": {
          "base_uri": "https://localhost:8080/"
        },
        "id": "xbFVZX7HQN9H",
        "outputId": "2f1264c0-2c41-4e79-dd4f-0c2ddc054be0"
      },
      "execution_count": 15,
      "outputs": [
        {
          "output_type": "stream",
          "name": "stdout",
          "text": [
            "2.5\n",
            "2.46\n",
            "2.457\n"
          ]
        }
      ]
    },
    {
      "cell_type": "code",
      "source": [
        "from math import floor, ceil\n",
        "\n",
        "print(floor(2.4566)) # Arredonda o valor para baixo\n",
        "print(ceil(2.4566))# Arredonda o valor para cima"
      ],
      "metadata": {
        "colab": {
          "base_uri": "https://localhost:8080/"
        },
        "id": "7kC_IvZzQY6F",
        "outputId": "06259ea1-5dfc-4cb5-95cc-b1f61d5081ad"
      },
      "execution_count": 17,
      "outputs": [
        {
          "output_type": "stream",
          "name": "stdout",
          "text": [
            "2\n",
            "3\n"
          ]
        }
      ]
    },
    {
      "cell_type": "code",
      "source": [
        "print(divmod(10,4))"
      ],
      "metadata": {
        "colab": {
          "base_uri": "https://localhost:8080/"
        },
        "id": "3RxNAFefQuZ8",
        "outputId": "b65c1c04-b8c9-46ee-e461-2daf031f1abc"
      },
      "execution_count": 18,
      "outputs": [
        {
          "output_type": "stream",
          "name": "stdout",
          "text": [
            "(2, 2)\n"
          ]
        }
      ]
    },
    {
      "cell_type": "markdown",
      "source": [
        "### Caracteres para números e números para caracteres"
      ],
      "metadata": {
        "id": "orMENtiHOI2i"
      }
    }
  ]
}