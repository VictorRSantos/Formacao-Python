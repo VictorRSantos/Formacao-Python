{
  "nbformat": 4,
  "nbformat_minor": 0,
  "metadata": {
    "colab": {
      "provenance": [],
      "authorship_tag": "ABX9TyP/Dl/3fthURg8XI3Hbo8xT",
      "include_colab_link": true
    },
    "kernelspec": {
      "name": "python3",
      "display_name": "Python 3"
    },
    "language_info": {
      "name": "python"
    }
  },
  "cells": [
    {
      "cell_type": "markdown",
      "metadata": {
        "id": "view-in-github",
        "colab_type": "text"
      },
      "source": [
        "<a href=\"https://colab.research.google.com/github/VictorRSantos/Formacao-Python/blob/main/Listas.ipynb\" target=\"_parent\"><img src=\"https://colab.research.google.com/assets/colab-badge.svg\" alt=\"Open In Colab\"/></a>"
      ]
    },
    {
      "cell_type": "markdown",
      "source": [
        "### Listas\n",
        "\n",
        "- List\n",
        "  - Vetores dinâmicos. Pode ser modificado com adição ou remoção.\n",
        "  - Ordernada.\n",
        "\n",
        "- Set\n",
        "  - Lista não ordenada, sem elementos duplicados.\n",
        "  - Pode adicionar elementos, mas não modificar elementos existentes.\n",
        "  - Não é possível acessar elemento pelo índice\n",
        "\n",
        "- Tuple\n",
        "  - Uma lista imutável\n",
        "  - Lista de valores que tem sempre o mesmo número de itens e não pode ser modificada.\n",
        "  - Ordenada\n",
        "\n",
        "- Dictionary\n",
        "  - Lista com chave/valor\n",
        "  - Permite modificações, mas não permite valores duplicados para as chaves.\n",
        "\n"
      ],
      "metadata": {
        "id": "UorCI8Vy9CIP"
      }
    },
    {
      "cell_type": "code",
      "execution_count": null,
      "metadata": {
        "id": "Z3pq9bmR9A5n"
      },
      "outputs": [],
      "source": []
    }
  ]
}