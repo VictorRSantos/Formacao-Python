{
  "nbformat": 4,
  "nbformat_minor": 0,
  "metadata": {
    "colab": {
      "provenance": [],
      "include_colab_link": true
    },
    "kernelspec": {
      "name": "python3",
      "display_name": "Python 3"
    },
    "language_info": {
      "name": "python"
    }
  },
  "cells": [
    {
      "cell_type": "markdown",
      "metadata": {
        "id": "view-in-github",
        "colab_type": "text"
      },
      "source": [
        "<a href=\"https://colab.research.google.com/github/VictorRSantos/Formacao-Python/blob/main/4_listas.ipynb\" target=\"_parent\"><img src=\"https://colab.research.google.com/assets/colab-badge.svg\" alt=\"Open In Colab\"/></a>"
      ]
    },
    {
      "cell_type": "markdown",
      "source": [
        "### Listas\n",
        "\n",
        "- List\n",
        "  - Vetores dinâmicos. Pode ser modificado com adição ou remoção.\n",
        "  - Ordernada.\n",
        "\n",
        "- Set\n",
        "  - Lista não ordenada, sem elementos duplicados.\n",
        "  - Pode adicionar elementos, mas não modificar elementos existentes.\n",
        "  - Não é possível acessar elemento pelo índice\n",
        "\n",
        "- Tuple\n",
        "  - Uma lista imutável\n",
        "  - Lista de valores que tem sempre o mesmo número de itens e não pode ser modificada.\n",
        "  - Ordenada\n",
        "\n",
        "- Dictionary\n",
        "  - Lista com chave/valor\n",
        "  - Permite modificações, mas não permite valores duplicados para as chaves.\n",
        "\n"
      ],
      "metadata": {
        "id": "UorCI8Vy9CIP"
      }
    },
    {
      "cell_type": "code",
      "execution_count": null,
      "metadata": {
        "id": "Z3pq9bmR9A5n",
        "colab": {
          "base_uri": "https://localhost:8080/"
        },
        "outputId": "014ea5b7-62e7-48fe-db7e-91b8a646d69c"
      },
      "outputs": [
        {
          "output_type": "stream",
          "name": "stdout",
          "text": [
            "[]\n",
            "[1, 2, 3]\n",
            "[56.3, -2.2, 0.5]\n",
            "['A', 'B', 'C']\n",
            "[2, 2.3, 'ABC']\n"
          ]
        }
      ],
      "source": [
        "array = []\n",
        "array = list()\n",
        "\n",
        "array_numeros = [1,2,3]\n",
        "array_floats = [56.3, -2.2, 0.5]\n",
        "array_str = [\"A\",\"B\",\"C\"]\n",
        "array_misto = [2,2.3,\"ABC\"]\n",
        "print(array)\n",
        "print(array_numeros)\n",
        "print(array_floats)\n",
        "print(array_str)\n",
        "print(array_misto)"
      ]
    },
    {
      "cell_type": "code",
      "source": [
        "color = [1,2,\n",
        "         3,\n",
        "         4,5]\n",
        "print(color)\n"
      ],
      "metadata": {
        "colab": {
          "base_uri": "https://localhost:8080/"
        },
        "id": "LzCfXTnWZ6fj",
        "outputId": "36ec7702-75ee-45d0-9c9e-05a2cbc26e32"
      },
      "execution_count": null,
      "outputs": [
        {
          "output_type": "stream",
          "name": "stdout",
          "text": [
            "[1, 2, 3, 4, 5]\n"
          ]
        }
      ]
    },
    {
      "cell_type": "code",
      "source": [
        "array = list([1,2,3])\n",
        "print(array)\n",
        "primeiro_elemento = array[0]\n",
        "print(primeiro_elemento)\n",
        "array[0] = 20\n",
        "primeiro_elemento = array[0]\n",
        "print(primeiro_elemento)\n",
        "print(array[-1])\n",
        "print(array)"
      ],
      "metadata": {
        "colab": {
          "base_uri": "https://localhost:8080/"
        },
        "id": "Areoj-yDaDv8",
        "outputId": "9e72d08b-9af3-469c-e386-9030fc200062"
      },
      "execution_count": null,
      "outputs": [
        {
          "output_type": "stream",
          "name": "stdout",
          "text": [
            "[1, 2, 3]\n",
            "1\n",
            "20\n",
            "3\n",
            "[20, 2, 3]\n"
          ]
        }
      ]
    },
    {
      "cell_type": "code",
      "source": [
        "array = [1, \"texto\", 3]\n",
        "print(array[1:3])"
      ],
      "metadata": {
        "colab": {
          "base_uri": "https://localhost:8080/"
        },
        "id": "6IIGfF0TaJbo",
        "outputId": "ec40f972-961a-4f6e-a656-cc9e9f6a133a"
      },
      "execution_count": 1,
      "outputs": [
        {
          "output_type": "stream",
          "name": "stdout",
          "text": [
            "['texto', 3]\n"
          ]
        }
      ]
    },
    {
      "cell_type": "code",
      "source": [
        "array = [10,2,3]\n",
        "print(array)\n",
        "array.append(2)\n",
        "print(array)\n",
        "array.insert(2,\"4\")\n",
        "print(array)"
      ],
      "metadata": {
        "id": "TayUy1nCJ8zh",
        "outputId": "7ba2ad39-a24f-4a7f-d138-9c29c7f7bfd1",
        "colab": {
          "base_uri": "https://localhost:8080/"
        }
      },
      "execution_count": 3,
      "outputs": [
        {
          "output_type": "stream",
          "name": "stdout",
          "text": [
            "[10, 2, 3]\n",
            "[10, 2, 3, 2]\n",
            "[10, 2, '4', 3, 2]\n"
          ]
        }
      ]
    },
    {
      "cell_type": "code",
      "source": [
        "array = [10,2,3,20,\"3\"]\n",
        "print(array)\n",
        "array.remove(10)\n",
        "print(array)\n",
        "array.pop(2)\n",
        "print(array)"
      ],
      "metadata": {
        "id": "RiOwduBUK281",
        "outputId": "cd3fabd4-1d4b-4b63-cdb2-a714b4a6c177",
        "colab": {
          "base_uri": "https://localhost:8080/"
        }
      },
      "execution_count": 8,
      "outputs": [
        {
          "output_type": "stream",
          "name": "stdout",
          "text": [
            "[10, 2, 3, 20, '3']\n",
            "[2, 3, 20, '3']\n",
            "[2, 3, '3']\n"
          ]
        }
      ]
    },
    {
      "cell_type": "code",
      "source": [
        "print(len(array))"
      ],
      "metadata": {
        "id": "EUh9tX-2LlQC",
        "outputId": "674c31fa-9830-4359-ee52-089b557e224c",
        "colab": {
          "base_uri": "https://localhost:8080/"
        }
      },
      "execution_count": 10,
      "outputs": [
        {
          "output_type": "stream",
          "name": "stdout",
          "text": [
            "3\n"
          ]
        }
      ]
    },
    {
      "cell_type": "code",
      "source": [
        "array.clear()\n",
        "print(array)"
      ],
      "metadata": {
        "id": "PBEvO5X2Lq7Z",
        "outputId": "067b1eb0-8769-49f0-8ddf-3b8112e833a3",
        "colab": {
          "base_uri": "https://localhost:8080/"
        }
      },
      "execution_count": 11,
      "outputs": [
        {
          "output_type": "stream",
          "name": "stdout",
          "text": [
            "[]\n"
          ]
        }
      ]
    },
    {
      "cell_type": "code",
      "source": [
        "array = [1, 'teste', 1.3, True]\n",
        "print(1 in array)\n",
        "print(False not in array)"
      ],
      "metadata": {
        "id": "BqPmciVDLv6Z",
        "outputId": "17b56374-32f1-4dad-d939-2d6be4e95839",
        "colab": {
          "base_uri": "https://localhost:8080/"
        }
      },
      "execution_count": 13,
      "outputs": [
        {
          "output_type": "stream",
          "name": "stdout",
          "text": [
            "True\n",
            "True\n"
          ]
        }
      ]
    },
    {
      "cell_type": "code",
      "source": [
        "lista = [5,6,7,2,3,4,7]\n",
        "teste = lista.count(7)\n",
        "print(teste)"
      ],
      "metadata": {
        "id": "gdQh4TaKMFfh",
        "outputId": "96afbd25-680c-4707-c9b7-0443977c2507",
        "colab": {
          "base_uri": "https://localhost:8080/"
        }
      },
      "execution_count": 15,
      "outputs": [
        {
          "output_type": "stream",
          "name": "stdout",
          "text": [
            "2\n"
          ]
        }
      ]
    },
    {
      "cell_type": "code",
      "source": [
        "lista = [5,6,7,2,3,4,7]\n",
        "pos = lista.index(5)\n",
        "print(pos)"
      ],
      "metadata": {
        "id": "G9Jroc5QMhOF",
        "outputId": "2f5eea37-bccf-43a0-bc3c-99885bafd0d3",
        "colab": {
          "base_uri": "https://localhost:8080/"
        }
      },
      "execution_count": 18,
      "outputs": [
        {
          "output_type": "stream",
          "name": "stdout",
          "text": [
            "0\n"
          ]
        }
      ]
    }
  ]
}