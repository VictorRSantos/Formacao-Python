{
  "nbformat": 4,
  "nbformat_minor": 0,
  "metadata": {
    "colab": {
      "provenance": [],
      "collapsed_sections": [
        "d4F1IPKi1mq1"
      ],
      "toc_visible": true,
      "include_colab_link": true
    },
    "kernelspec": {
      "name": "python3",
      "display_name": "Python 3"
    },
    "language_info": {
      "name": "python"
    }
  },
  "cells": [
    {
      "cell_type": "markdown",
      "metadata": {
        "id": "view-in-github",
        "colab_type": "text"
      },
      "source": [
        "<a href=\"https://colab.research.google.com/github/VictorRSantos/Formacao-Python/blob/main/4_listas.ipynb\" target=\"_parent\"><img src=\"https://colab.research.google.com/assets/colab-badge.svg\" alt=\"Open In Colab\"/></a>"
      ]
    },
    {
      "cell_type": "markdown",
      "source": [
        "### Listas\n",
        "\n",
        "- List\n",
        "  - Vetores dinâmicos. Pode ser modificado com adição ou remoção.\n",
        "  - Ordernada.\n",
        "\n",
        "- Set\n",
        "  - Lista não ordenada, sem elementos duplicados.\n",
        "  - Pode adicionar elementos, mas não modificar elementos existentes.\n",
        "  - Não é possível acessar elemento pelo índice\n",
        "\n",
        "- Tuple\n",
        "  - Uma lista imutável\n",
        "  - Lista de valores que tem sempre o mesmo número de itens e não pode ser modificada.\n",
        "  - Ordenada\n",
        "\n",
        "- Dictionary\n",
        "  - Lista com chave/valor\n",
        "  - Permite modificações, mas não permite valores duplicados para as chaves.\n",
        "\n"
      ],
      "metadata": {
        "id": "UorCI8Vy9CIP"
      }
    },
    {
      "cell_type": "code",
      "execution_count": null,
      "metadata": {
        "id": "Z3pq9bmR9A5n",
        "colab": {
          "base_uri": "https://localhost:8080/"
        },
        "outputId": "014ea5b7-62e7-48fe-db7e-91b8a646d69c"
      },
      "outputs": [
        {
          "output_type": "stream",
          "name": "stdout",
          "text": [
            "[]\n",
            "[1, 2, 3]\n",
            "[56.3, -2.2, 0.5]\n",
            "['A', 'B', 'C']\n",
            "[2, 2.3, 'ABC']\n"
          ]
        }
      ],
      "source": [
        "array = []\n",
        "array = list()\n",
        "\n",
        "array_numeros = [1,2,3]\n",
        "array_floats = [56.3, -2.2, 0.5]\n",
        "array_str = [\"A\",\"B\",\"C\"]\n",
        "array_misto = [2,2.3,\"ABC\"]\n",
        "print(array)\n",
        "print(array_numeros)\n",
        "print(array_floats)\n",
        "print(array_str)\n",
        "print(array_misto)"
      ]
    },
    {
      "cell_type": "code",
      "source": [
        "color = [1,2,\n",
        "         3,\n",
        "         4,5]\n",
        "print(color)\n"
      ],
      "metadata": {
        "colab": {
          "base_uri": "https://localhost:8080/"
        },
        "id": "LzCfXTnWZ6fj",
        "outputId": "36ec7702-75ee-45d0-9c9e-05a2cbc26e32"
      },
      "execution_count": null,
      "outputs": [
        {
          "output_type": "stream",
          "name": "stdout",
          "text": [
            "[1, 2, 3, 4, 5]\n"
          ]
        }
      ]
    },
    {
      "cell_type": "code",
      "source": [
        "array = list([1,2,3])\n",
        "print(array)\n",
        "primeiro_elemento = array[0]\n",
        "print(primeiro_elemento)\n",
        "array[0] = 20\n",
        "primeiro_elemento = array[0]\n",
        "print(primeiro_elemento)\n",
        "print(array[-1])\n",
        "print(array)"
      ],
      "metadata": {
        "colab": {
          "base_uri": "https://localhost:8080/"
        },
        "id": "Areoj-yDaDv8",
        "outputId": "9e72d08b-9af3-469c-e386-9030fc200062"
      },
      "execution_count": null,
      "outputs": [
        {
          "output_type": "stream",
          "name": "stdout",
          "text": [
            "[1, 2, 3]\n",
            "1\n",
            "20\n",
            "3\n",
            "[20, 2, 3]\n"
          ]
        }
      ]
    },
    {
      "cell_type": "code",
      "source": [
        "array = [1, \"texto\", 3]\n",
        "print(array[1:3])"
      ],
      "metadata": {
        "colab": {
          "base_uri": "https://localhost:8080/"
        },
        "id": "6IIGfF0TaJbo",
        "outputId": "ec40f972-961a-4f6e-a656-cc9e9f6a133a"
      },
      "execution_count": null,
      "outputs": [
        {
          "output_type": "stream",
          "name": "stdout",
          "text": [
            "['texto', 3]\n"
          ]
        }
      ]
    },
    {
      "cell_type": "code",
      "source": [
        "array = [10,2,3]\n",
        "print(array)\n",
        "array.append(2)\n",
        "print(array)\n",
        "array.insert(2,\"4\")\n",
        "print(array)"
      ],
      "metadata": {
        "id": "TayUy1nCJ8zh",
        "outputId": "7ba2ad39-a24f-4a7f-d138-9c29c7f7bfd1",
        "colab": {
          "base_uri": "https://localhost:8080/"
        }
      },
      "execution_count": null,
      "outputs": [
        {
          "output_type": "stream",
          "name": "stdout",
          "text": [
            "[10, 2, 3]\n",
            "[10, 2, 3, 2]\n",
            "[10, 2, '4', 3, 2]\n"
          ]
        }
      ]
    },
    {
      "cell_type": "code",
      "source": [
        "array = [10,2,3,20,\"3\"]\n",
        "print(array)\n",
        "array.remove(10)\n",
        "print(array)\n",
        "array.pop(2)\n",
        "print(array)"
      ],
      "metadata": {
        "id": "RiOwduBUK281",
        "outputId": "cd3fabd4-1d4b-4b63-cdb2-a714b4a6c177",
        "colab": {
          "base_uri": "https://localhost:8080/"
        }
      },
      "execution_count": null,
      "outputs": [
        {
          "output_type": "stream",
          "name": "stdout",
          "text": [
            "[10, 2, 3, 20, '3']\n",
            "[2, 3, 20, '3']\n",
            "[2, 3, '3']\n"
          ]
        }
      ]
    },
    {
      "cell_type": "code",
      "source": [
        "print(len(array))"
      ],
      "metadata": {
        "id": "EUh9tX-2LlQC",
        "outputId": "674c31fa-9830-4359-ee52-089b557e224c",
        "colab": {
          "base_uri": "https://localhost:8080/"
        }
      },
      "execution_count": null,
      "outputs": [
        {
          "output_type": "stream",
          "name": "stdout",
          "text": [
            "3\n"
          ]
        }
      ]
    },
    {
      "cell_type": "code",
      "source": [
        "array.clear()\n",
        "print(array)"
      ],
      "metadata": {
        "id": "PBEvO5X2Lq7Z",
        "outputId": "067b1eb0-8769-49f0-8ddf-3b8112e833a3",
        "colab": {
          "base_uri": "https://localhost:8080/"
        }
      },
      "execution_count": null,
      "outputs": [
        {
          "output_type": "stream",
          "name": "stdout",
          "text": [
            "[]\n"
          ]
        }
      ]
    },
    {
      "cell_type": "code",
      "source": [
        "array = [1, 'teste', 1.3, True]\n",
        "print(1 in array)\n",
        "print(False not in array)"
      ],
      "metadata": {
        "id": "BqPmciVDLv6Z",
        "outputId": "17b56374-32f1-4dad-d939-2d6be4e95839",
        "colab": {
          "base_uri": "https://localhost:8080/"
        }
      },
      "execution_count": null,
      "outputs": [
        {
          "output_type": "stream",
          "name": "stdout",
          "text": [
            "True\n",
            "True\n"
          ]
        }
      ]
    },
    {
      "cell_type": "code",
      "source": [
        "lista = [5,6,7,2,3,4,7]\n",
        "teste = lista.count(7)\n",
        "print(teste)"
      ],
      "metadata": {
        "id": "gdQh4TaKMFfh",
        "outputId": "96afbd25-680c-4707-c9b7-0443977c2507",
        "colab": {
          "base_uri": "https://localhost:8080/"
        }
      },
      "execution_count": null,
      "outputs": [
        {
          "output_type": "stream",
          "name": "stdout",
          "text": [
            "2\n"
          ]
        }
      ]
    },
    {
      "cell_type": "code",
      "source": [
        "lista = [5,6,7,2,3,4,7]\n",
        "pos = lista.index(5)\n",
        "print(pos)"
      ],
      "metadata": {
        "id": "G9Jroc5QMhOF",
        "outputId": "4a3c1b26-f494-4031-f2e4-625d304c459c",
        "colab": {
          "base_uri": "https://localhost:8080/"
        }
      },
      "execution_count": null,
      "outputs": [
        {
          "output_type": "stream",
          "name": "stdout",
          "text": [
            "0\n"
          ]
        }
      ]
    },
    {
      "cell_type": "code",
      "source": [
        "array1 = [1,2,3]\n",
        "array2 = [3,4,5]\n",
        "soma = array1 + array2\n",
        "print(soma)"
      ],
      "metadata": {
        "id": "tTXjyYeUpZtn",
        "outputId": "ad97a6e0-9942-4d68-9ea7-012e58960c62",
        "colab": {
          "base_uri": "https://localhost:8080/"
        }
      },
      "execution_count": null,
      "outputs": [
        {
          "output_type": "stream",
          "name": "stdout",
          "text": [
            "[1, 2, 3, 3, 4, 5]\n"
          ]
        }
      ]
    },
    {
      "cell_type": "code",
      "source": [
        "array1 = [1,2,3]\n",
        "mult = array1 * 3\n",
        "print(mult)"
      ],
      "metadata": {
        "id": "9aLAFi83pErK",
        "outputId": "a9b95f4a-3ca7-453f-b2bb-ffd6d5372844",
        "colab": {
          "base_uri": "https://localhost:8080/"
        }
      },
      "execution_count": null,
      "outputs": [
        {
          "output_type": "stream",
          "name": "stdout",
          "text": [
            "[1, 2, 3, 1, 2, 3, 1, 2, 3]\n"
          ]
        }
      ]
    },
    {
      "cell_type": "code",
      "source": [
        "numeros = [\"um\",\"dois\",\"três\"]\n",
        "x,y,z = numeros\n",
        "print(x)\n",
        "print(y)\n",
        "print(z)"
      ],
      "metadata": {
        "id": "Wgr9CC7Pp2fm",
        "outputId": "a9d501fd-d901-4cc1-b39c-2a6dc42ac1c0",
        "colab": {
          "base_uri": "https://localhost:8080/"
        }
      },
      "execution_count": null,
      "outputs": [
        {
          "output_type": "stream",
          "name": "stdout",
          "text": [
            "um\n",
            "dois\n",
            "três\n"
          ]
        }
      ]
    },
    {
      "cell_type": "code",
      "source": [
        "numeros = [\"um\",\"dois\",\"três\"]\n",
        "x,y,_ = numeros\n",
        "print(x)\n",
        "print(y)\n"
      ],
      "metadata": {
        "id": "WyE4IWw0qOfV",
        "outputId": "a8ce2660-21fb-4284-aa82-42afe80f12b6",
        "colab": {
          "base_uri": "https://localhost:8080/"
        }
      },
      "execution_count": null,
      "outputs": [
        {
          "output_type": "stream",
          "name": "stdout",
          "text": [
            "um\n",
            "dois\n"
          ]
        }
      ]
    },
    {
      "cell_type": "code",
      "source": [
        "# Percorrer uma lista\n",
        "cores = [\"azul\",\"preto\",\"amarelo\"]\n",
        "for x in cores:\n",
        "  print(x)\n"
      ],
      "metadata": {
        "id": "taGlpvXLqYTx",
        "outputId": "f9cc2e0c-8157-4ee6-bf25-12b23c11addd",
        "colab": {
          "base_uri": "https://localhost:8080/"
        }
      },
      "execution_count": null,
      "outputs": [
        {
          "output_type": "stream",
          "name": "stdout",
          "text": [
            "azul\n",
            "preto\n",
            "amarelo\n"
          ]
        }
      ]
    },
    {
      "cell_type": "code",
      "source": [
        "# Percorrer uma lista pelo indice\n",
        "cores = [\"azul\",\"preto\",\"amarelo\"]\n",
        "for i in range(0, len(cores)):\n",
        "  print(cores[i])\n"
      ],
      "metadata": {
        "id": "i3OGiix7qujt",
        "outputId": "911e0e68-c21b-4b1d-da89-7d519b4c3e94",
        "colab": {
          "base_uri": "https://localhost:8080/"
        }
      },
      "execution_count": null,
      "outputs": [
        {
          "output_type": "stream",
          "name": "stdout",
          "text": [
            "azul\n",
            "preto\n",
            "amarelo\n"
          ]
        }
      ]
    },
    {
      "cell_type": "code",
      "source": [
        "# Percorrer uma lista pelo indice\n",
        "cores = [\"azul\",\"preto\",\"amarelo\"]\n",
        "indice = 0\n",
        "while (indice < len(cores)):\n",
        "  print(cores[indice])\n",
        "  indice += 1"
      ],
      "metadata": {
        "id": "jpjlrV2ArrBq",
        "outputId": "aa8964e3-1702-42f1-859f-eb2d3e87554c",
        "colab": {
          "base_uri": "https://localhost:8080/"
        }
      },
      "execution_count": null,
      "outputs": [
        {
          "output_type": "stream",
          "name": "stdout",
          "text": [
            "azul\n",
            "preto\n",
            "amarelo\n"
          ]
        }
      ]
    },
    {
      "cell_type": "code",
      "source": [
        "lista = [[1,2,3],[4,5,6]]\n",
        "primeira_lista = lista[0]\n",
        "segunda_lista = lista[1]\n",
        "print(primeira_lista)\n",
        "print(segunda_lista)\n",
        "primeiro_elemento_primeira_lista = lista[0][0]\n",
        "print(primeiro_elemento_primeira_lista)\n",
        "segundo_elemento_segunda_lista = lista[1][1]\n",
        "print(segundo_elemento_segunda_lista)"
      ],
      "metadata": {
        "id": "Ukml5VuAr7MB",
        "outputId": "55e0b472-79df-4031-8b11-1736bbe0563d",
        "colab": {
          "base_uri": "https://localhost:8080/"
        }
      },
      "execution_count": null,
      "outputs": [
        {
          "output_type": "stream",
          "name": "stdout",
          "text": [
            "[1, 2, 3]\n",
            "[4, 5, 6]\n",
            "1\n",
            "5\n"
          ]
        }
      ]
    },
    {
      "cell_type": "markdown",
      "source": [
        "## Set"
      ],
      "metadata": {
        "id": "f3-RbODz7dOO"
      }
    },
    {
      "cell_type": "code",
      "source": [
        "lista_set = {}\n",
        "lista2_set = {1,2,3}\n",
        "lista3_set = set({1,2,3})\n",
        "print(lista_set)\n",
        "print(lista2_set)\n",
        "print(lista3_set)"
      ],
      "metadata": {
        "id": "13RcbqmK7a7w",
        "outputId": "a77c70e0-9f2d-452a-d8f6-6ccb54219bc1",
        "colab": {
          "base_uri": "https://localhost:8080/"
        }
      },
      "execution_count": null,
      "outputs": [
        {
          "output_type": "stream",
          "name": "stdout",
          "text": [
            "{}\n",
            "{1, 2, 3}\n",
            "{1, 2, 3}\n"
          ]
        }
      ]
    },
    {
      "cell_type": "code",
      "source": [
        "# Quando vamos acessar o valor pela posição da erro.\n",
        "lista2_set = {1,2,3}\n",
        "lista2_set[0]"
      ],
      "metadata": {
        "id": "WUSfTeZN7q6P",
        "outputId": "69a6a532-dd7a-4627-8074-2f7fab664631",
        "colab": {
          "base_uri": "https://localhost:8080/",
          "height": 176
        }
      },
      "execution_count": null,
      "outputs": [
        {
          "output_type": "error",
          "ename": "TypeError",
          "evalue": "'set' object is not subscriptable",
          "traceback": [
            "\u001b[0;31m---------------------------------------------------------------------------\u001b[0m",
            "\u001b[0;31mTypeError\u001b[0m                                 Traceback (most recent call last)",
            "\u001b[0;32m<ipython-input-4-7060a8f6fb6d>\u001b[0m in \u001b[0;36m<cell line: 3>\u001b[0;34m()\u001b[0m\n\u001b[1;32m      1\u001b[0m \u001b[0;31m# Quando vamos acessar o valor pela posição da erro.\u001b[0m\u001b[0;34m\u001b[0m\u001b[0;34m\u001b[0m\u001b[0m\n\u001b[1;32m      2\u001b[0m \u001b[0mlista2_set\u001b[0m \u001b[0;34m=\u001b[0m \u001b[0;34m{\u001b[0m\u001b[0;36m1\u001b[0m\u001b[0;34m,\u001b[0m\u001b[0;36m2\u001b[0m\u001b[0;34m,\u001b[0m\u001b[0;36m3\u001b[0m\u001b[0;34m}\u001b[0m\u001b[0;34m\u001b[0m\u001b[0;34m\u001b[0m\u001b[0m\n\u001b[0;32m----> 3\u001b[0;31m \u001b[0mlista2_set\u001b[0m\u001b[0;34m[\u001b[0m\u001b[0;36m0\u001b[0m\u001b[0;34m]\u001b[0m\u001b[0;34m\u001b[0m\u001b[0;34m\u001b[0m\u001b[0m\n\u001b[0m",
            "\u001b[0;31mTypeError\u001b[0m: 'set' object is not subscriptable"
          ]
        }
      ]
    },
    {
      "cell_type": "code",
      "source": [
        "# Quando vamos modificar o valor pela posição da erro.\n",
        "lista2_set = {1,2,3}\n",
        "lista2_set[0] = 2"
      ],
      "metadata": {
        "id": "qfeR-UQf8E8m",
        "outputId": "b028a2ec-914b-480e-986e-68e057518be6",
        "colab": {
          "base_uri": "https://localhost:8080/",
          "height": 176
        }
      },
      "execution_count": null,
      "outputs": [
        {
          "output_type": "error",
          "ename": "TypeError",
          "evalue": "'set' object does not support item assignment",
          "traceback": [
            "\u001b[0;31m---------------------------------------------------------------------------\u001b[0m",
            "\u001b[0;31mTypeError\u001b[0m                                 Traceback (most recent call last)",
            "\u001b[0;32m<ipython-input-5-1152d7536cd1>\u001b[0m in \u001b[0;36m<cell line: 3>\u001b[0;34m()\u001b[0m\n\u001b[1;32m      1\u001b[0m \u001b[0;31m# Quando vamos modificar o valor pela posição da erro.\u001b[0m\u001b[0;34m\u001b[0m\u001b[0;34m\u001b[0m\u001b[0m\n\u001b[1;32m      2\u001b[0m \u001b[0mlista2_set\u001b[0m \u001b[0;34m=\u001b[0m \u001b[0;34m{\u001b[0m\u001b[0;36m1\u001b[0m\u001b[0;34m,\u001b[0m\u001b[0;36m2\u001b[0m\u001b[0;34m,\u001b[0m\u001b[0;36m3\u001b[0m\u001b[0;34m}\u001b[0m\u001b[0;34m\u001b[0m\u001b[0;34m\u001b[0m\u001b[0m\n\u001b[0;32m----> 3\u001b[0;31m \u001b[0mlista2_set\u001b[0m\u001b[0;34m[\u001b[0m\u001b[0;36m0\u001b[0m\u001b[0;34m]\u001b[0m \u001b[0;34m=\u001b[0m \u001b[0;36m2\u001b[0m\u001b[0;34m\u001b[0m\u001b[0;34m\u001b[0m\u001b[0m\n\u001b[0m",
            "\u001b[0;31mTypeError\u001b[0m: 'set' object does not support item assignment"
          ]
        }
      ]
    },
    {
      "cell_type": "code",
      "source": [
        "lista_set = {1,2,3}\n",
        "lista_set.add(5)\n",
        "print(lista_set)\n",
        "lista_set.remove(1)\n",
        "print(lista_set)"
      ],
      "metadata": {
        "id": "oiyE12BC8OU1",
        "outputId": "8c18971b-5b0f-4733-c925-9315648753f6",
        "colab": {
          "base_uri": "https://localhost:8080/"
        }
      },
      "execution_count": null,
      "outputs": [
        {
          "output_type": "stream",
          "name": "stdout",
          "text": [
            "{1, 2, 3, 5}\n",
            "{2, 3, 5}\n"
          ]
        }
      ]
    },
    {
      "cell_type": "code",
      "source": [
        "# Set - não permite valores duplicados\n",
        "lista_set = {1,2,3,4,2}\n",
        "print(lista_set)"
      ],
      "metadata": {
        "id": "9dqiu9pv8VlL",
        "outputId": "bf8f0fbb-4de9-4a68-fd14-15c0d0d78342",
        "colab": {
          "base_uri": "https://localhost:8080/"
        }
      },
      "execution_count": null,
      "outputs": [
        {
          "output_type": "stream",
          "name": "stdout",
          "text": [
            "{1, 2, 3, 4}\n"
          ]
        }
      ]
    },
    {
      "cell_type": "code",
      "source": [
        "lista_set = {1,2,3,4}\n",
        "print(lista_set)\n",
        "lista_set.clear()\n",
        "print(lista_set)"
      ],
      "metadata": {
        "id": "BbQNvtP-9WDu",
        "outputId": "1c74f4dc-b8f2-45f6-82bf-eb19454b23ac",
        "colab": {
          "base_uri": "https://localhost:8080/"
        }
      },
      "execution_count": null,
      "outputs": [
        {
          "output_type": "stream",
          "name": "stdout",
          "text": [
            "{1, 2, 3, 4}\n",
            "set()\n"
          ]
        }
      ]
    },
    {
      "cell_type": "code",
      "source": [
        "lista_set ={1,2,3,4}\n",
        "print(len(lista_set))"
      ],
      "metadata": {
        "id": "LfWwLuZb9fe3",
        "outputId": "2d84209b-c54d-4c7f-f59d-8be5c8c08db6",
        "colab": {
          "base_uri": "https://localhost:8080/"
        }
      },
      "execution_count": null,
      "outputs": [
        {
          "output_type": "stream",
          "name": "stdout",
          "text": [
            "4\n"
          ]
        }
      ]
    },
    {
      "cell_type": "code",
      "source": [
        "lista_set = {1,2,3,4}\n",
        "print(1 in lista_set)\n",
        "print(5 in lista_set)"
      ],
      "metadata": {
        "id": "cQeTXH4t9mRy",
        "outputId": "ab3a18f1-34b9-4006-b067-5172fa4a9e1a",
        "colab": {
          "base_uri": "https://localhost:8080/"
        }
      },
      "execution_count": null,
      "outputs": [
        {
          "output_type": "stream",
          "name": "stdout",
          "text": [
            "True\n",
            "False\n"
          ]
        }
      ]
    },
    {
      "cell_type": "code",
      "source": [
        "lista_set = {1,2,3,'4', True, 6.1}\n",
        "for item in lista_set:\n",
        "  print(item)"
      ],
      "metadata": {
        "id": "cLH8ypRf92ta",
        "outputId": "3180a884-56b8-4f15-e2af-960d4aaaa6b5",
        "colab": {
          "base_uri": "https://localhost:8080/"
        }
      },
      "execution_count": null,
      "outputs": [
        {
          "output_type": "stream",
          "name": "stdout",
          "text": [
            "1\n",
            "2\n",
            "3\n",
            "4\n",
            "6.1\n"
          ]
        }
      ]
    },
    {
      "cell_type": "code",
      "source": [
        "# Junção de Sets\n",
        "set1 = {1,2,3}\n",
        "set2 = {1,2,3,4}\n",
        "set_unido = set1.union(set2)\n",
        "print(set_unido)"
      ],
      "metadata": {
        "id": "LwFp4a54-x_V",
        "outputId": "1d6d44dc-d17b-42a4-8550-15a3906d50f4",
        "colab": {
          "base_uri": "https://localhost:8080/"
        }
      },
      "execution_count": null,
      "outputs": [
        {
          "output_type": "stream",
          "name": "stdout",
          "text": [
            "{1, 2, 3, 4}\n"
          ]
        }
      ]
    },
    {
      "cell_type": "code",
      "source": [
        "set1 = {1,2,3}\n",
        "set2 = {1,2,3,4}\n",
        "set_inser = set1.intersection(set2)\n",
        "print(set_inser)"
      ],
      "metadata": {
        "id": "HQmqZY3f_hQp",
        "outputId": "59cd52fc-8589-4a5b-bed2-055d9b341138",
        "colab": {
          "base_uri": "https://localhost:8080/"
        }
      },
      "execution_count": null,
      "outputs": [
        {
          "output_type": "stream",
          "name": "stdout",
          "text": [
            "{1, 2, 3}\n"
          ]
        }
      ]
    },
    {
      "cell_type": "code",
      "source": [
        "set1 = {1,2,3}\n",
        "set2 = {1,2,3,4}\n",
        "set_dif = set2.difference(set1)\n",
        "print(set_dif)"
      ],
      "metadata": {
        "id": "Bcf9gRKGACEm",
        "outputId": "fab9934c-34f0-4429-8f8d-143de65ebf93",
        "colab": {
          "base_uri": "https://localhost:8080/"
        }
      },
      "execution_count": null,
      "outputs": [
        {
          "output_type": "stream",
          "name": "stdout",
          "text": [
            "{4}\n"
          ]
        }
      ]
    },
    {
      "cell_type": "markdown",
      "source": [
        "## Tuple\n",
        "\n",
        "Tuple é uma lista que não pode ser modificado, não pode ter nenhum tipo de alteração. Uma Tuple tem um número fixo de elemetos, não pode nem adicionar nem remover depois que você declarar."
      ],
      "metadata": {
        "id": "d4F1IPKi1mq1"
      }
    },
    {
      "cell_type": "code",
      "source": [
        "doces = tuple(('chocolate','bombom','paçoca'))\n",
        "print(doces)"
      ],
      "metadata": {
        "id": "uIysukGRASml",
        "outputId": "d594bec8-7a71-42c0-f796-526b26b64377",
        "colab": {
          "base_uri": "https://localhost:8080/"
        }
      },
      "execution_count": null,
      "outputs": [
        {
          "output_type": "stream",
          "name": "stdout",
          "text": [
            "('chocolate', 'bombom', 'paçoca')\n"
          ]
        }
      ]
    },
    {
      "cell_type": "code",
      "source": [
        "doces = ('chocolate','bombom','paçoca')\n",
        "print(doces)"
      ],
      "metadata": {
        "id": "FvHSD3Qn2eVe",
        "outputId": "66859b1a-e327-4abd-d64c-4fc5f607f30a",
        "colab": {
          "base_uri": "https://localhost:8080/"
        }
      },
      "execution_count": null,
      "outputs": [
        {
          "output_type": "stream",
          "name": "stdout",
          "text": [
            "('chocolate', 'bombom', 'paçoca')\n"
          ]
        }
      ]
    },
    {
      "cell_type": "code",
      "source": [
        "nums = ('1','2','3')\n",
        "print(len(nums))"
      ],
      "metadata": {
        "id": "C8hObZq22wq6",
        "outputId": "de8b00d6-1d93-4395-9689-333f5d743dae",
        "colab": {
          "base_uri": "https://localhost:8080/"
        }
      },
      "execution_count": null,
      "outputs": [
        {
          "output_type": "stream",
          "name": "stdout",
          "text": [
            "3\n"
          ]
        }
      ]
    },
    {
      "cell_type": "code",
      "source": [
        "nums = ('1','2','3')\n",
        "print(nums[2])"
      ],
      "metadata": {
        "id": "lH9UBdSm25C2",
        "outputId": "986790c4-ad43-4d50-8b86-d512ff1107ed",
        "colab": {
          "base_uri": "https://localhost:8080/"
        }
      },
      "execution_count": null,
      "outputs": [
        {
          "output_type": "stream",
          "name": "stdout",
          "text": [
            "3\n"
          ]
        }
      ]
    },
    {
      "cell_type": "code",
      "source": [
        "nums = (1,2,3,4,5,6,7.8)\n",
        "sub_tupla = nums[2:4]\n",
        "print(sub_tupla)"
      ],
      "metadata": {
        "id": "FWeXK_Wi28Pr",
        "outputId": "828b52e1-5959-4b80-8238-00143ffe2374",
        "colab": {
          "base_uri": "https://localhost:8080/"
        }
      },
      "execution_count": null,
      "outputs": [
        {
          "output_type": "stream",
          "name": "stdout",
          "text": [
            "(3, 4)\n"
          ]
        }
      ]
    },
    {
      "cell_type": "code",
      "source": [
        "nums = (1,2,3,4,5,6,7.8)\n",
        "print(4 in nums)\n",
        "print(9 in nums)"
      ],
      "metadata": {
        "id": "PaMEuqkS3IUr",
        "outputId": "863e59db-6157-40a7-a4ae-7428ca20b498",
        "colab": {
          "base_uri": "https://localhost:8080/"
        }
      },
      "execution_count": null,
      "outputs": [
        {
          "output_type": "stream",
          "name": "stdout",
          "text": [
            "True\n",
            "False\n"
          ]
        }
      ]
    },
    {
      "cell_type": "code",
      "source": [
        "# erro\n",
        "tupla = tuple((10,20,40))\n",
        "tupla[0] = 20"
      ],
      "metadata": {
        "id": "EO-yMdpD3dc3",
        "outputId": "d43a1787-8426-4f09-951f-a096d77ae9ff",
        "colab": {
          "base_uri": "https://localhost:8080/",
          "height": 176
        }
      },
      "execution_count": null,
      "outputs": [
        {
          "output_type": "error",
          "ename": "TypeError",
          "evalue": "'tuple' object does not support item assignment",
          "traceback": [
            "\u001b[0;31m---------------------------------------------------------------------------\u001b[0m",
            "\u001b[0;31mTypeError\u001b[0m                                 Traceback (most recent call last)",
            "\u001b[0;32m<ipython-input-12-93e8716333a2>\u001b[0m in \u001b[0;36m<cell line: 3>\u001b[0;34m()\u001b[0m\n\u001b[1;32m      1\u001b[0m \u001b[0;31m# erro\u001b[0m\u001b[0;34m\u001b[0m\u001b[0;34m\u001b[0m\u001b[0m\n\u001b[1;32m      2\u001b[0m \u001b[0mtupla\u001b[0m \u001b[0;34m=\u001b[0m \u001b[0mtuple\u001b[0m\u001b[0;34m(\u001b[0m\u001b[0;34m(\u001b[0m\u001b[0;36m10\u001b[0m\u001b[0;34m,\u001b[0m\u001b[0;36m20\u001b[0m\u001b[0;34m,\u001b[0m\u001b[0;36m40\u001b[0m\u001b[0;34m)\u001b[0m\u001b[0;34m)\u001b[0m\u001b[0;34m\u001b[0m\u001b[0;34m\u001b[0m\u001b[0m\n\u001b[0;32m----> 3\u001b[0;31m \u001b[0mtupla\u001b[0m\u001b[0;34m[\u001b[0m\u001b[0;36m0\u001b[0m\u001b[0;34m]\u001b[0m \u001b[0;34m=\u001b[0m \u001b[0;36m20\u001b[0m\u001b[0;34m\u001b[0m\u001b[0;34m\u001b[0m\u001b[0m\n\u001b[0m",
            "\u001b[0;31mTypeError\u001b[0m: 'tuple' object does not support item assignment"
          ]
        }
      ]
    },
    {
      "cell_type": "code",
      "source": [
        "tupla = (6,7,8,9,10,6,6)\n",
        "print(tupla.count(6))"
      ],
      "metadata": {
        "id": "3ov-8sPS3214",
        "outputId": "e5f0234c-ec6c-45b9-f4aa-48097fcda2e2",
        "colab": {
          "base_uri": "https://localhost:8080/"
        }
      },
      "execution_count": null,
      "outputs": [
        {
          "output_type": "stream",
          "name": "stdout",
          "text": [
            "3\n"
          ]
        }
      ]
    },
    {
      "cell_type": "code",
      "source": [
        "tupla =(5, '3', True, 7234)\n",
        "pos = tupla.index('3')\n",
        "print(pos)"
      ],
      "metadata": {
        "id": "pC1eEkul4DNs",
        "outputId": "324b54eb-9404-4c99-c970-b267562380b3",
        "colab": {
          "base_uri": "https://localhost:8080/"
        }
      },
      "execution_count": null,
      "outputs": [
        {
          "output_type": "stream",
          "name": "stdout",
          "text": [
            "1\n"
          ]
        }
      ]
    },
    {
      "cell_type": "code",
      "source": [
        "tupla =(5, '3', True, 7234)\n",
        "for x in tupla:\n",
        "  print(x)"
      ],
      "metadata": {
        "id": "EHvHnDcw4PfL",
        "outputId": "3d2c1aa6-8659-44de-ed9a-536cd2265961",
        "colab": {
          "base_uri": "https://localhost:8080/"
        }
      },
      "execution_count": null,
      "outputs": [
        {
          "output_type": "stream",
          "name": "stdout",
          "text": [
            "5\n",
            "3\n",
            "True\n",
            "7234\n"
          ]
        }
      ]
    },
    {
      "cell_type": "code",
      "source": [
        "tupla = (5, '3', True, 7234)\n",
        "for x in range(0, len(tupla)):\n",
        "  print(tupla[x])"
      ],
      "metadata": {
        "id": "UTEVaqVp4ZDr",
        "outputId": "21207fac-7b1e-485e-c158-cb495e28bd55",
        "colab": {
          "base_uri": "https://localhost:8080/"
        }
      },
      "execution_count": null,
      "outputs": [
        {
          "output_type": "stream",
          "name": "stdout",
          "text": [
            "5\n",
            "3\n",
            "True\n",
            "7234\n"
          ]
        }
      ]
    },
    {
      "cell_type": "code",
      "source": [
        "tupla = (5, '3', True, 7234)\n",
        "indice = 0\n",
        "while(indice < len(tupla)):\n",
        "  print(tupla[indice])\n",
        "  indice += 1"
      ],
      "metadata": {
        "id": "qwG-OBZC4jfY",
        "outputId": "8a0ef25b-3cdf-4383-c4df-e266d3a97b3e",
        "colab": {
          "base_uri": "https://localhost:8080/"
        }
      },
      "execution_count": null,
      "outputs": [
        {
          "output_type": "stream",
          "name": "stdout",
          "text": [
            "5\n",
            "3\n",
            "True\n",
            "7234\n"
          ]
        }
      ]
    },
    {
      "cell_type": "code",
      "source": [
        "# Fazendo Cast da tupla para lista\n",
        "numeros_set = (1,2,3)\n",
        "numeros_lista = list(numeros_set)\n",
        "numeros_lista[0] = 12\n",
        "numeros_lista.append(\"Fim\")\n",
        "numeros_set = tuple(numeros_lista)\n",
        "print(numeros_set)"
      ],
      "metadata": {
        "id": "3Mdr4eY34yRp",
        "outputId": "41a4d84f-522b-4ab9-a59e-1b6223dbeb59",
        "colab": {
          "base_uri": "https://localhost:8080/"
        }
      },
      "execution_count": null,
      "outputs": [
        {
          "output_type": "stream",
          "name": "stdout",
          "text": [
            "(12, 2, 3, 'Fim')\n"
          ]
        }
      ]
    },
    {
      "cell_type": "markdown",
      "source": [
        "# Dictionaries"
      ],
      "metadata": {
        "id": "Tnt4lig6ZAI6"
      }
    },
    {
      "cell_type": "code",
      "source": [
        "idades = {'ana':10, 'maria':20, 'João':34, 'Fernando' : 'indefinido'}\n",
        "print(idades)"
      ],
      "metadata": {
        "id": "gDYx6FPM5jEx",
        "colab": {
          "base_uri": "https://localhost:8080/"
        },
        "outputId": "787a8360-0e9b-40c2-8c05-0a129af6131b"
      },
      "execution_count": null,
      "outputs": [
        {
          "output_type": "stream",
          "name": "stdout",
          "text": [
            "{'ana': 10, 'maria': 20, 'João': 34, 'Fernando': 'indefinido'}\n"
          ]
        }
      ]
    },
    {
      "cell_type": "code",
      "source": [
        "nome_numeros = {7.1:'sete virgula um', 9.8:'nove virgula oito', 10.43:'dez virgula quarenta e três'}\n",
        "print(nome_numeros)"
      ],
      "metadata": {
        "colab": {
          "base_uri": "https://localhost:8080/"
        },
        "id": "yjKIfM5lZ5Sl",
        "outputId": "be0539f4-50ed-436b-d9c6-953d46b25903"
      },
      "execution_count": null,
      "outputs": [
        {
          "output_type": "stream",
          "name": "stdout",
          "text": [
            "{7.1: 'sete virgula um', 9.8: 'nove virgula oito', 10.43: 'dez virgula quarenta e três'}\n"
          ]
        }
      ]
    },
    {
      "cell_type": "code",
      "source": [
        "idades = {'ana':10, 'maria':20, 'joão':34, 'fernando' : 'indefinido'}\n",
        "print(idades['ana'])\n",
        "print(idades['fernando'])\n",
        "\n",
        "print(idades.get('fernando'))\n"
      ],
      "metadata": {
        "colab": {
          "base_uri": "https://localhost:8080/"
        },
        "id": "tH4ESGigaSgA",
        "outputId": "c0f3179f-6f44-4420-c2ff-f49ef292f74b"
      },
      "execution_count": null,
      "outputs": [
        {
          "output_type": "stream",
          "name": "stdout",
          "text": [
            "10\n",
            "indefinido\n",
            "indefinido\n"
          ]
        }
      ]
    },
    {
      "cell_type": "code",
      "source": [
        "nome_numeros = {\n",
        "    7.1:'sete virgula um',\n",
        "    9.8:'nove virgula oito',\n",
        "    10.43:'dez virgula quarenta e três'\n",
        "    }\n",
        "\n",
        "print(nome_numeros[7.1])\n",
        "print(nome_numeros.get(10.43))\n"
      ],
      "metadata": {
        "colab": {
          "base_uri": "https://localhost:8080/"
        },
        "id": "d4JNoKLnad41",
        "outputId": "188df975-d42b-44f3-a2c2-607ccdfc240e"
      },
      "execution_count": null,
      "outputs": [
        {
          "output_type": "stream",
          "name": "stdout",
          "text": [
            "sete virgula um\n",
            "dez virgula quarenta e três\n"
          ]
        }
      ]
    },
    {
      "cell_type": "code",
      "source": [
        "idades = {'ana':10, 'maria':20, 'joão':34, 'fernando' : 'indefinido'}\n",
        "print('ana' in idades)\n",
        "print('roberto' not in idades)"
      ],
      "metadata": {
        "colab": {
          "base_uri": "https://localhost:8080/"
        },
        "id": "QD3PNuBdbK0Z",
        "outputId": "26aee72f-3df2-4d01-9e80-111bf9f99fde"
      },
      "execution_count": null,
      "outputs": [
        {
          "output_type": "stream",
          "name": "stdout",
          "text": [
            "True\n",
            "True\n"
          ]
        }
      ]
    },
    {
      "cell_type": "code",
      "source": [
        "idades = {'ana':10, 'maria':20, 'joão':34, 'fernando' : 'indefinido'}\n",
        "idades['maria'] = 30\n",
        "print(idades)\n",
        "idades.update({'joão':40})\n",
        "print(idades)"
      ],
      "metadata": {
        "colab": {
          "base_uri": "https://localhost:8080/"
        },
        "id": "zmiO656XbTgN",
        "outputId": "455c603f-78b0-4e01-b7a9-de55b10814cf"
      },
      "execution_count": null,
      "outputs": [
        {
          "output_type": "stream",
          "name": "stdout",
          "text": [
            "{'ana': 10, 'maria': 30, 'joão': 34, 'fernando': 'indefinido'}\n",
            "{'ana': 10, 'maria': 30, 'joão': 40, 'fernando': 'indefinido'}\n"
          ]
        }
      ]
    },
    {
      "cell_type": "code",
      "source": [
        "#Inserir e remover valores\n",
        "idades = {'ana':10, 'maria':20, 'joão':34, 'fernando' : 'indefinido'}\n",
        "idades['marcos'] = 90\n",
        "idades.pop('ana')\n",
        "print(idades)\n",
        "idades.popitem() #remove o ultimo\n",
        "print(idades)"
      ],
      "metadata": {
        "colab": {
          "base_uri": "https://localhost:8080/"
        },
        "id": "CEDtCk3nbi-y",
        "outputId": "725f44e3-bb67-4145-9efb-2c39bdbf91c6"
      },
      "execution_count": null,
      "outputs": [
        {
          "output_type": "stream",
          "name": "stdout",
          "text": [
            "{'maria': 20, 'joão': 34, 'fernando': 'indefinido', 'marcos': 90}\n",
            "\n",
            "{'maria': 20, 'joão': 34, 'fernando': 'indefinido'}\n"
          ]
        }
      ]
    },
    {
      "cell_type": "code",
      "source": [
        "# Converter dicionario para tupla\n",
        "idades = {'ana':10, 'maria':20, 'joão':34, 'fernando' : 'indefinido'}\n",
        "lista = idades.items()\n",
        "print(lista, end='\\n\\n')\n",
        "for item in lista:\n",
        "  print(item[0], item[1])\n"
      ],
      "metadata": {
        "colab": {
          "base_uri": "https://localhost:8080/"
        },
        "id": "_1Z2A6rhdbyb",
        "outputId": "5456faa8-f0df-427f-b0e9-5e1c4570bbaa"
      },
      "execution_count": null,
      "outputs": [
        {
          "output_type": "stream",
          "name": "stdout",
          "text": [
            "dict_items([('ana', 10), ('maria', 20), ('joão', 34), ('fernando', 'indefinido')])\n",
            "\n",
            "ana 10\n",
            "maria 20\n",
            "joão 34\n",
            "fernando indefinido\n"
          ]
        }
      ]
    },
    {
      "cell_type": "code",
      "source": [
        "# Separar a chave do valor\n",
        "idades = {'ana':10, 'maria':20, 'joão':34, 'fernando' : 'indefinido'}\n",
        "\n",
        "chaves = idades.keys()\n",
        "valores = idades.values()\n",
        "\n",
        "for item in chaves:\n",
        "  print(item)\n",
        "print(\"--------\")\n",
        "\n",
        "for item in valores:\n",
        "  print(item)"
      ],
      "metadata": {
        "colab": {
          "base_uri": "https://localhost:8080/"
        },
        "id": "feY_Qr6AeHVj",
        "outputId": "e54836dd-fa03-4c28-974f-a2006c2387eb"
      },
      "execution_count": null,
      "outputs": [
        {
          "output_type": "stream",
          "name": "stdout",
          "text": [
            "ana\n",
            "maria\n",
            "joão\n",
            "fernando\n",
            "--------\n",
            "10\n",
            "20\n",
            "34\n",
            "indefinido\n"
          ]
        }
      ]
    },
    {
      "cell_type": "code",
      "source": [
        "idades = {'ana':10, 'maria':20, 'joão':34, 'fernando' : 20}\n",
        "\n",
        "lista_nome = list(idades.values())\n",
        "pessoas_com_20_anos = lista_nome.count(20)\n",
        "print(pessoas_com_20_anos)"
      ],
      "metadata": {
        "colab": {
          "base_uri": "https://localhost:8080/"
        },
        "id": "I6pMHJSoepRs",
        "outputId": "75119b66-02ec-4f97-b436-5547b795fb24"
      },
      "execution_count": null,
      "outputs": [
        {
          "output_type": "stream",
          "name": "stdout",
          "text": [
            "2\n"
          ]
        }
      ]
    },
    {
      "cell_type": "code",
      "source": [
        "# Limpar a lista\n",
        "idades = {'ana':10, 'maria':20, 'joão':34, 'fernando' : 'indefinido'}\n",
        "idades.clear()\n",
        "print(idades)\n"
      ],
      "metadata": {
        "colab": {
          "base_uri": "https://localhost:8080/"
        },
        "id": "n1RRGpUTfA3s",
        "outputId": "4e545251-b336-4035-aa21-d78a51fc6a74"
      },
      "execution_count": null,
      "outputs": [
        {
          "output_type": "stream",
          "name": "stdout",
          "text": [
            "{}\n"
          ]
        }
      ]
    },
    {
      "cell_type": "code",
      "source": [
        "# Dicionario aninhados\n",
        "dados_maria = {\n",
        "    'sexo':'feminino',\n",
        "    'cpf':'12345678910',\n",
        "    'rg':'3555525222'\n",
        "}\n",
        "\n",
        "dados_joao = {\n",
        "    'sexo':'masculino',\n",
        "    'cpf':'10987654321',\n",
        "    'rg':'31111111111'\n",
        "}\n",
        "\n",
        "dados_ana = {\n",
        "    'sexo':'feminino',\n",
        "    'cpf':'44455566699',\n",
        "    'rg':'114445556'\n",
        "}\n",
        "\n",
        "dados_por_nome ={\n",
        "    'ana': dados_ana,\n",
        "    'maria':dados_maria,\n",
        "    'joao':dados_joao\n",
        "}\n",
        "\n",
        "print(dados_por_nome['maria']['cpf'])\n",
        "print(dados_por_nome['joao']['sexo'])"
      ],
      "metadata": {
        "colab": {
          "base_uri": "https://localhost:8080/"
        },
        "id": "aUAqrYTqfJX_",
        "outputId": "2a3aba29-ac2c-4547-891c-aab0b6344718"
      },
      "execution_count": null,
      "outputs": [
        {
          "output_type": "stream",
          "name": "stdout",
          "text": [
            "12345678910\n",
            "masculino\n"
          ]
        }
      ]
    },
    {
      "cell_type": "code",
      "source": [
        "dados_por_nome ={\n",
        "    'ana':{\n",
        "        'sexo':'feminino',\n",
        "        'cpf':'44455566699',\n",
        "        'rg':'114445556'\n",
        "    },\n",
        "    'maria':{\n",
        "        'sexo':'feminino',\n",
        "        'cpf':'12345678910',\n",
        "        'rg':'3555525222'\n",
        "    },\n",
        "    'joao':{\n",
        "        'sexo':'masculino',\n",
        "        'cpf':'10987654321',\n",
        "        'rg':'31111111111'\n",
        "    }\n",
        "}\n",
        "\n",
        "print(dados_por_nome)"
      ],
      "metadata": {
        "colab": {
          "base_uri": "https://localhost:8080/"
        },
        "id": "owjn6O7vgN8M",
        "outputId": "b5c15c98-3315-4bc0-81cb-d36a40b8845c"
      },
      "execution_count": null,
      "outputs": [
        {
          "output_type": "stream",
          "name": "stdout",
          "text": [
            "{'ana': {'sexo': 'feminino', 'cpf': '44455566699', 'rg': '114445556'}, 'maria': {'sexo': 'feminino', 'cpf': '12345678910', 'rg': '3555525222'}, 'joao': {'sexo': 'masculino', 'cpf': '10987654321', 'rg': '31111111111'}}\n"
          ]
        }
      ]
    },
    {
      "cell_type": "markdown",
      "source": [
        "# List Comprehensions"
      ],
      "metadata": {
        "id": "onCHafgzBT39"
      }
    },
    {
      "cell_type": "code",
      "source": [
        "lista = [x for x in range(0,10)]\n",
        "print(lista)\n"
      ],
      "metadata": {
        "colab": {
          "base_uri": "https://localhost:8080/"
        },
        "id": "M0ZRt05-BZ9y",
        "outputId": "c2514d68-2807-420d-8e61-d4c55d359016"
      },
      "execution_count": 2,
      "outputs": [
        {
          "output_type": "stream",
          "name": "stdout",
          "text": [
            "[0, 1, 2, 3, 4, 5, 6, 7, 8, 9]\n"
          ]
        }
      ]
    },
    {
      "cell_type": "code",
      "source": [
        "lista = ['1', 'zero', 'Quatro']\n",
        "lista = [x for x in lista]\n",
        "print(lista)"
      ],
      "metadata": {
        "colab": {
          "base_uri": "https://localhost:8080/"
        },
        "id": "0_JTiT_SBvOY",
        "outputId": "1199a7d1-acc6-47d6-d9fb-95c01579ec31"
      },
      "execution_count": 4,
      "outputs": [
        {
          "output_type": "stream",
          "name": "stdout",
          "text": [
            "['1', 'zero', 'Quatro']\n"
          ]
        }
      ]
    },
    {
      "cell_type": "code",
      "source": [
        "lista = [x for x in range(1,11) if x % 2 == 0]\n",
        "print(lista)"
      ],
      "metadata": {
        "colab": {
          "base_uri": "https://localhost:8080/"
        },
        "id": "3hHGmOXMB-TX",
        "outputId": "8ffa63e4-00ba-4120-d18d-19ba4d2634cb"
      },
      "execution_count": 8,
      "outputs": [
        {
          "output_type": "stream",
          "name": "stdout",
          "text": [
            "[2, 4, 6, 8, 10]\n"
          ]
        }
      ]
    },
    {
      "cell_type": "code",
      "source": [
        "lista_aux  = [1,5,9]\n",
        "lista = [x for x in range(1,11) if x not in lista_aux]\n",
        "print(lista)"
      ],
      "metadata": {
        "colab": {
          "base_uri": "https://localhost:8080/"
        },
        "id": "4WrGA50QCaiD",
        "outputId": "686be1bc-c769-41ee-857a-d0db11ec8d5c"
      },
      "execution_count": 12,
      "outputs": [
        {
          "output_type": "stream",
          "name": "stdout",
          "text": [
            "[2, 3, 4, 6, 7, 8, 10]\n"
          ]
        }
      ]
    },
    {
      "cell_type": "code",
      "source": [
        "lista = [x for x in range(-10, 10) if x < 10 if x >= 0]\n",
        "print(lista)\n",
        "\n",
        "lista = [x for x in range(-10, 20) if x <= 10 if x >= 0]\n",
        "print(lista)"
      ],
      "metadata": {
        "colab": {
          "base_uri": "https://localhost:8080/"
        },
        "id": "d2KI6Y69DDGX",
        "outputId": "eb72ce5b-9015-4188-b187-a39049243408"
      },
      "execution_count": 17,
      "outputs": [
        {
          "output_type": "stream",
          "name": "stdout",
          "text": [
            "[0, 1, 2, 3, 4, 5, 6, 7, 8, 9]\n",
            "[0, 1, 2, 3, 4, 5, 6, 7, 8, 9, 10]\n"
          ]
        }
      ]
    },
    {
      "cell_type": "code",
      "source": [
        "lista = [x*2 for x in range(0,11)]\n",
        "print(lista)"
      ],
      "metadata": {
        "colab": {
          "base_uri": "https://localhost:8080/"
        },
        "id": "DBR6IB6MDQl_",
        "outputId": "6b78ff24-9263-43d5-9df1-58e90f434a86"
      },
      "execution_count": 20,
      "outputs": [
        {
          "output_type": "stream",
          "name": "stdout",
          "text": [
            "[0, 2, 4, 6, 8, 10, 12, 14, 16, 18, 20]\n"
          ]
        }
      ]
    },
    {
      "cell_type": "code",
      "source": [
        "#Converter os valores para o tipo string\n",
        "lista = [str(x) for x in range(0,21)]\n",
        "print(lista)\n",
        "\n",
        "# acessando pelo indice\n",
        "lista = [str(x)[0] for x in range(0,21)]\n",
        "print(lista)"
      ],
      "metadata": {
        "colab": {
          "base_uri": "https://localhost:8080/"
        },
        "id": "DDC9-aYgDpcA",
        "outputId": "39439ea3-de88-4146-af89-f8d1ece99275"
      },
      "execution_count": 27,
      "outputs": [
        {
          "output_type": "stream",
          "name": "stdout",
          "text": [
            "['0', '1', '2', '3', '4', '5', '6', '7', '8', '9', '10', '11', '12', '13', '14', '15', '16', '17', '18', '19', '20']\n",
            "['0', '1', '2', '3', '4', '5', '6', '7', '8', '9', '1', '1', '1', '1', '1', '1', '1', '1', '1', '1', '2']\n"
          ]
        }
      ]
    },
    {
      "cell_type": "code",
      "source": [
        "lista = ['negativo' if x < 0 else 'positivo' for x in range(-3, 4)]\n",
        "print(lista)"
      ],
      "metadata": {
        "colab": {
          "base_uri": "https://localhost:8080/"
        },
        "id": "hot2A-dsEE9I",
        "outputId": "3a505515-a437-4707-e436-1b273467ec92"
      },
      "execution_count": 29,
      "outputs": [
        {
          "output_type": "stream",
          "name": "stdout",
          "text": [
            "['negativo', 'negativo', 'negativo', 'positivo', 'positivo', 'positivo', 'positivo']\n"
          ]
        }
      ]
    },
    {
      "cell_type": "code",
      "source": [
        "# Par/impar\n",
        "lista = [str(x) + ' par' if x % 2 == 0 else str(x) +' impar' for x in range(2,11)]\n",
        "print(lista)"
      ],
      "metadata": {
        "colab": {
          "base_uri": "https://localhost:8080/"
        },
        "id": "8l-fs1__EcwE",
        "outputId": "0aa922eb-c451-4d20-e37e-5891c3bd65f2"
      },
      "execution_count": 33,
      "outputs": [
        {
          "output_type": "stream",
          "name": "stdout",
          "text": [
            "['2 par', '3 impar', '4 par', '5 impar', '6 par', '7 impar', '8 par', '9 impar', '10 par']\n"
          ]
        }
      ]
    },
    {
      "cell_type": "code",
      "source": [
        "# aplicando filtro com função lambda\n",
        "lista = [1,2,3,4,5,6,7,8,9]\n",
        "lista = list(filter(lambda x : x % 2 == 0, lista))\n",
        "print(lista)"
      ],
      "metadata": {
        "colab": {
          "base_uri": "https://localhost:8080/"
        },
        "id": "WemwZjFQE5BY",
        "outputId": "676c562d-0df0-42e9-921e-afaf97772755"
      },
      "execution_count": 36,
      "outputs": [
        {
          "output_type": "stream",
          "name": "stdout",
          "text": [
            "[2, 4, 6, 8]\n"
          ]
        }
      ]
    },
    {
      "cell_type": "code",
      "source": [
        "lista = [ [x for x in range(1,5)] for y in range(1,5) ]\n",
        "print(lista)"
      ],
      "metadata": {
        "colab": {
          "base_uri": "https://localhost:8080/"
        },
        "id": "Ywq5I-NsFdDV",
        "outputId": "dd3d0dd7-7b79-43ce-a319-1b3879c69948"
      },
      "execution_count": 39,
      "outputs": [
        {
          "output_type": "stream",
          "name": "stdout",
          "text": [
            "[[1, 2, 3, 4], [1, 2, 3, 4], [1, 2, 3, 4], [1, 2, 3, 4]]\n"
          ]
        }
      ]
    },
    {
      "cell_type": "code",
      "source": [
        "lista = [ [str(x) + str(y) for x in range(1,5)] for y in range(1,5) ]\n",
        "lista"
      ],
      "metadata": {
        "colab": {
          "base_uri": "https://localhost:8080/"
        },
        "id": "eFR2FNkFF6cF",
        "outputId": "cf5baf6e-e4d1-48f2-b6d2-add6a8858ae9"
      },
      "execution_count": 42,
      "outputs": [
        {
          "output_type": "execute_result",
          "data": {
            "text/plain": [
              "[['11', '21', '31', '41'],\n",
              " ['12', '22', '32', '42'],\n",
              " ['13', '23', '33', '43'],\n",
              " ['14', '24', '34', '44']]"
            ]
          },
          "metadata": {},
          "execution_count": 42
        }
      ]
    },
    {
      "cell_type": "code",
      "source": [
        "[[str(x) + '*' + str(y) + '=' + str(x*y) for x in range(2,4) for y in range(1,11)]]\n"
      ],
      "metadata": {
        "colab": {
          "base_uri": "https://localhost:8080/"
        },
        "id": "3mb24eqaGIP8",
        "outputId": "df7608f8-d0bd-4b22-accd-c6343d4c3b19"
      },
      "execution_count": 53,
      "outputs": [
        {
          "output_type": "execute_result",
          "data": {
            "text/plain": [
              "[['2*1=2',\n",
              "  '2*2=4',\n",
              "  '2*3=6',\n",
              "  '2*4=8',\n",
              "  '2*5=10',\n",
              "  '2*6=12',\n",
              "  '2*7=14',\n",
              "  '2*8=16',\n",
              "  '2*9=18',\n",
              "  '2*10=20',\n",
              "  '3*1=3',\n",
              "  '3*2=6',\n",
              "  '3*3=9',\n",
              "  '3*4=12',\n",
              "  '3*5=15',\n",
              "  '3*6=18',\n",
              "  '3*7=21',\n",
              "  '3*8=24',\n",
              "  '3*9=27',\n",
              "  '3*10=30']]"
            ]
          },
          "metadata": {},
          "execution_count": 53
        }
      ]
    },
    {
      "cell_type": "markdown",
      "source": [
        "# Atividades"
      ],
      "metadata": {
        "id": "DbD4jMBZI1Lv"
      }
    },
    {
      "cell_type": "code",
      "source": [
        "# 1-Crie uma lista com os seguintes números 1,10,6,7,8,10. Em seguida printe a soma destes números\n",
        "lista = [1,10,6,7,9,10]\n",
        "print(sum(lista))\n",
        "\n",
        "# ou\n",
        "soma = 0\n",
        "for num in lista:\n",
        "  soma+=num\n",
        "\n",
        "print(soma)\n"
      ],
      "metadata": {
        "colab": {
          "base_uri": "https://localhost:8080/"
        },
        "id": "h9He8OFBI0sa",
        "outputId": "c5d84c96-ae5c-4b51-b68c-36e78a5adeb4"
      },
      "execution_count": 58,
      "outputs": [
        {
          "output_type": "stream",
          "name": "stdout",
          "text": [
            "43\n",
            "43\n"
          ]
        }
      ]
    },
    {
      "cell_type": "code",
      "source": [
        "# 2-Cria uma lista e preencha ela com valores de 1 a 100. Em seguida print esses valores.\n",
        "lista = [x for x in range(1,101)]\n",
        "print(lista)\n",
        "\n",
        "# ou\n",
        "\n",
        "lista2 = []\n",
        "for i in range(1,101):\n",
        "  lista2.append(i)\n",
        "\n",
        "print(lista2)\n"
      ],
      "metadata": {
        "colab": {
          "base_uri": "https://localhost:8080/"
        },
        "id": "iHfQNKzfJtFC",
        "outputId": "e6025320-aa69-401f-c380-14415ab34b75"
      },
      "execution_count": 87,
      "outputs": [
        {
          "output_type": "stream",
          "name": "stdout",
          "text": [
            "[1, 2, 3, 4, 5, 6, 7, 8, 9, 10, 11, 12, 13, 14, 15, 16, 17, 18, 19, 20, 21, 22, 23, 24, 25, 26, 27, 28, 29, 30, 31, 32, 33, 34, 35, 36, 37, 38, 39, 40, 41, 42, 43, 44, 45, 46, 47, 48, 49, 50, 51, 52, 53, 54, 55, 56, 57, 58, 59, 60, 61, 62, 63, 64, 65, 66, 67, 68, 69, 70, 71, 72, 73, 74, 75, 76, 77, 78, 79, 80, 81, 82, 83, 84, 85, 86, 87, 88, 89, 90, 91, 92, 93, 94, 95, 96, 97, 98, 99, 100]\n",
            "[1, 2, 3, 4, 5, 6, 7, 8, 9, 10, 11, 12, 13, 14, 15, 16, 17, 18, 19, 20, 21, 22, 23, 24, 25, 26, 27, 28, 29, 30, 31, 32, 33, 34, 35, 36, 37, 38, 39, 40, 41, 42, 43, 44, 45, 46, 47, 48, 49, 50, 51, 52, 53, 54, 55, 56, 57, 58, 59, 60, 61, 62, 63, 64, 65, 66, 67, 68, 69, 70, 71, 72, 73, 74, 75, 76, 77, 78, 79, 80, 81, 82, 83, 84, 85, 86, 87, 88, 89, 90, 91, 92, 93, 94, 95, 96, 97, 98, 99, 100]\n"
          ]
        }
      ]
    },
    {
      "cell_type": "code",
      "source": [
        "# 3 - Crie duas listas com os seguintes valores 30,4,43,52,65,-10\n",
        "# e 43,2,4,76,32,65,3. Agora faça a junção dessas listas, mas se houverem valores\n",
        "# repetidos entre ambas eles não podem repetir na lista unida\n",
        "lista_um =  [30,4,43,52,65,-10]\n",
        "lista_dois =[43,2,4,76,32,65,3]\n",
        "\n",
        "lista_unida = list(set(lista_um + lista_dois))\n",
        "\n",
        "print(lista_unida)\n",
        "\n",
        "# ou\n",
        "\n",
        "lista_um =  {30,4,43,52,65,-10}\n",
        "lista_dois = {43,2,4,76,32,65,3}\n",
        "nova_lista_unida = lista_um.union(lista_dois)\n",
        "\n",
        "print(nova_lista_unida)\n",
        "\n",
        "# utilizar a biblioteca collection\n",
        "#from collections import OrderedDict\n",
        "\n",
        "# Unir as listas mantendo a ordem original e sem duplicatas\n",
        "#lista_unida = list(OrderedDict.fromkeys(lista_um + lista_dois))\n",
        "\n",
        "#print(lista_unida)\n"
      ],
      "metadata": {
        "colab": {
          "base_uri": "https://localhost:8080/"
        },
        "id": "iJuokgPJKaVG",
        "outputId": "9ad20aa4-258e-4dec-b52c-bdd5e695aa80"
      },
      "execution_count": 89,
      "outputs": [
        {
          "output_type": "stream",
          "name": "stdout",
          "text": [
            "[32, 65, 2, 3, 4, 43, 76, 52, -10, 30]\n",
            "{32, 65, 2, 3, 4, 43, 76, 52, -10, 30}\n"
          ]
        }
      ]
    },
    {
      "cell_type": "code",
      "source": [
        "# 4 - Crie uma lista contendo o nome de todos os meses do ano.\n",
        "# Em seguida receba por input o mês(número) em que você nasceu e\n",
        "# mostre qual nome do mês que você nasceu\n",
        "\n",
        "meses = ['Janeiro', 'Fevereiro', 'Março', 'Abril', 'Maio', 'Junho', 'Julho', 'Agosto', 'Setembro','Outubro','Novembro','Dezembro']\n",
        "\n",
        "mes_aniversario = int(input('Digite o mês do seu aniversario ?\\nMês:'))\n",
        "\n",
        "if 1 <= mes_aniversario <= 12:\n",
        "  print(f\"Você nasceu em {meses[mes_aniversario - 1]}.\")\n",
        "\n"
      ],
      "metadata": {
        "colab": {
          "base_uri": "https://localhost:8080/"
        },
        "id": "hkE-W-4oOXaj",
        "outputId": "6c6ac37a-3368-45cc-d6b1-b09ab7b00d4c"
      },
      "execution_count": 79,
      "outputs": [
        {
          "output_type": "stream",
          "name": "stdout",
          "text": [
            "Digite o mês do seu aniversario ?\n",
            "Mês:1\n",
            "Você nasceu em Janeiro.\n"
          ]
        }
      ]
    },
    {
      "cell_type": "code",
      "source": [
        "# 5 - Crie um lista contendo todos dias(numero) do mês em que você nasceu.\n",
        "# Em seguida recebe por input o dia (número) em que você nasceu e remova desta lista\n",
        "# Ao final mostre o conteúdo da lista.\n",
        "dias = [x for x in range(1,31)]\n",
        "\n",
        "dia_nascimento = int(input('Digite dia do seu nascimento ? \\nDia: '))\n",
        "\n",
        "dias.remove(dia_nascimento)\n",
        "\n",
        "print(dias)\n"
      ],
      "metadata": {
        "colab": {
          "base_uri": "https://localhost:8080/"
        },
        "id": "NqeqYVthWoBq",
        "outputId": "74f6c02a-a5ce-4c16-ffdf-fb3ab5543487"
      },
      "execution_count": 91,
      "outputs": [
        {
          "output_type": "stream",
          "name": "stdout",
          "text": [
            "Digite dia do seu nascimento ? \n",
            "Dia: 15\n",
            "[1, 2, 3, 4, 5, 6, 7, 8, 9, 10, 11, 12, 13, 14, 16, 17, 18, 19, 20, 21, 22, 23, 24, 25, 26, 27, 28, 29, 30]\n"
          ]
        }
      ]
    }
  ]
}